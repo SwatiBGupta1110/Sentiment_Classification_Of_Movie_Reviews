{
  "cells": [
    {
      "cell_type": "markdown",
      "metadata": {
        "id": "f2S8I2ny-ovS"
      },
      "source": [
        "# **Sentiment Classification**\n",
        "\n",
        "In this notebook, we will be investigating NLP methods for distinguishing positive and negative reviews written about movies.\n",
        "\n",
        "The initial cells include code for importing data and setting up the environment. This notebook follows a question and answering format, where we first present a question and then attempt to provide an answer for it.\n",
        "\n",
        "In this notebook, we will utilize the movie_reviews dataset from NLTK, which is a well-known toolkit for natural language processing. This dataset consists of 2,000 movie reviews that have been categorized into two classes: positive and negative. Each review is labeled according to the sentiment conveyed in the text.\n",
        "\n",
        "The movie_reviews dataset is widely employed in sentiment analysis and text classification tasks. It offers a balanced selection of reviews covering various movie genres, presenting a diverse range of opinions and perspectives.\n",
        "\n",
        "By utilizing this dataset, we can train and evaluate machine learning models specifically designed for sentiment analysis in the domain of movie reviews. The goal is to classify the sentiment of the reviews as either positive or negative.\n",
        "\n",
        "Throughout this notebook, we will leverage the movie_reviews dataset to perform sentiment classification on movie reviews, utilizing the power of NLTK for natural language processing tasks."
      ]
    },
    {
      "cell_type": "code",
      "execution_count": null,
      "metadata": {
        "id": "nk8JTP88A8vs",
        "colab": {
          "base_uri": "https://localhost:8080/"
        },
        "outputId": "148e84f0-317c-47d5-c956-d1c8698b7721"
      },
      "outputs": [
        {
          "output_type": "stream",
          "name": "stderr",
          "text": [
            "[nltk_data] Downloading package punkt to /root/nltk_data...\n",
            "[nltk_data]   Package punkt is already up-to-date!\n",
            "[nltk_data] Downloading package stopwords to /root/nltk_data...\n",
            "[nltk_data]   Package stopwords is already up-to-date!\n",
            "[nltk_data] Downloading package movie_reviews to /root/nltk_data...\n",
            "[nltk_data]   Package movie_reviews is already up-to-date!\n"
          ]
        }
      ],
      "source": [
        "#preliminary imports\n",
        "\n",
        "#set up nltk\n",
        "import nltk\n",
        "nltk.download('punkt')\n",
        "nltk.download('stopwords')\n",
        "nltk.download('movie_reviews')\n",
        "from nltk.corpus import stopwords\n",
        "from nltk.tokenize import word_tokenize\n",
        "from nltk.corpus import movie_reviews\n",
        "\n",
        "#for setting up training and testing data\n",
        "import random\n",
        "\n",
        "#useful other tools\n",
        "import re\n",
        "import pandas as pd\n",
        "import matplotlib.pyplot as plt\n",
        "%matplotlib inline\n",
        "from itertools import zip_longest\n",
        "from nltk.probability import FreqDist\n",
        "from nltk.classify.api import ClassifierI\n"
      ]
    },
    {
      "cell_type": "code",
      "execution_count": null,
      "metadata": {
        "id": "BHBkzAccCVaZ"
      },
      "outputs": [],
      "source": [
        "def split_data(data, ratio=0.7): # when the second argument is not given, it defaults to 0.7\n",
        "    \"\"\"\n",
        "    Given corpus generator and ratio:\n",
        "     - partitions the corpus into training data and test data, where the proportion in train is ratio,\n",
        "\n",
        "    :param data: A corpus generator.\n",
        "    :param ratio: The proportion of training documents (default 0.7)\n",
        "    :return: a pair (tuple) of lists where the first element of the\n",
        "            pair is a list of the training data and the second is a list of the test data.\n",
        "    \"\"\"\n",
        "\n",
        "    data = list(data)\n",
        "    n = len(data)\n",
        "    train_indices = random.sample(range(n), int(n * ratio))\n",
        "    test_indices = list(set(range(n)) - set(train_indices))\n",
        "    train = [data[i] for i in train_indices]\n",
        "    test = [data[i] for i in test_indices]\n",
        "    return (train, test)\n",
        "\n",
        "\n",
        "def get_train_test_data():\n",
        "\n",
        "    #get ids of positive and negative movie reviews\n",
        "    pos_review_ids=movie_reviews.fileids('pos')\n",
        "    neg_review_ids=movie_reviews.fileids('neg')\n",
        "\n",
        "    #split positive and negative data into training and testing sets\n",
        "    pos_train_ids, pos_test_ids = split_data(pos_review_ids)\n",
        "    neg_train_ids, neg_test_ids = split_data(neg_review_ids)\n",
        "    #add labels to the data and concatenate\n",
        "    training = [(movie_reviews.words(f),'pos') for f in pos_train_ids]+[(movie_reviews.words(f),'neg') for f in neg_train_ids]\n",
        "    testing = [(movie_reviews.words(f),'pos') for f in pos_test_ids]+[(movie_reviews.words(f),'neg') for f in neg_test_ids]\n",
        "\n",
        "    return training, testing"
      ]
    },
    {
      "cell_type": "markdown",
      "metadata": {
        "id": "1N3LWwBYICPP"
      },
      "source": [
        "When you have run the cell below, your unique training and testing samples will be stored in `training_data` and `testing_data`"
      ]
    },
    {
      "cell_type": "code",
      "execution_count": null,
      "metadata": {
        "id": "HJLegkdPFUJA",
        "colab": {
          "base_uri": "https://localhost:8080/"
        },
        "outputId": "ea232046-96bf-4d76-98f5-ea643e6c977c"
      },
      "outputs": [
        {
          "output_type": "stream",
          "name": "stdout",
          "text": [
            "The amount of training data is 1400\n",
            "The amount of testing data is 600\n",
            "The representation of a single data item is below\n",
            "(['denzel', 'washington', 'is', 'among', 'the', 'many', ...], 'pos')\n"
          ]
        }
      ],
      "source": [
        "random.seed(260830)\n",
        "training_data,testing_data=get_train_test_data()\n",
        "print(\"The amount of training data is {}\".format(len(training_data)))\n",
        "print(\"The amount of testing data is {}\".format(len(testing_data)))\n",
        "print(\"The representation of a single data item is below\")\n",
        "print(training_data[0]) # Checking the type of data training data returns"
      ]
    },
    {
      "cell_type": "code",
      "source": [
        "print(\"Training data\",training_data)\n",
        "print(\"Testing data\",testing_data)"
      ],
      "metadata": {
        "colab": {
          "base_uri": "https://localhost:8080/"
        },
        "id": "5EbRtZ6DMGEv",
        "outputId": "31514e29-03aa-41f7-d612-8b87bccd97b0"
      },
      "execution_count": null,
      "outputs": [
        {
          "output_type": "stream",
          "name": "stdout",
          "text": [
            "Training data [(['denzel', 'washington', 'is', 'among', 'the', 'many', ...], 'pos'), (['it', 'is', 'simply', 'amazing', 'how', '\"', 'the', ...], 'pos'), (['after', 'having', 'heard', 'so', 'many', 'critics', ...], 'pos'), (['wow', '!', 'what', 'a', 'movie', '.', 'it', \"'\", 's', ...], 'pos'), (['richard', 'gere', 'can', 'be', 'a', 'commanding', ...], 'pos'), (['while', 'screen', 'adaptations', 'of', 'john', ...], 'pos'), (['meet', 'joe', 'black', '(', 'reviewed', 'on', 'nov', ...], 'pos'), (['scream', '2', 'isn', \"'\", 't', 'quite', 'as', ...], 'pos'), (['i', 'know', 'it', 'already', 'opened', 'in', ...], 'pos'), (['the', 'trailers', 'and', 'the', 'beginning', 'of', ...], 'pos'), (['susan', 'granger', \"'\", 's', 'review', 'of', '\"', ...], 'pos'), (['after', 'bloody', 'clashes', 'and', 'independence', ...], 'pos'), (['when', 'i', 'saw', 'the', 'trailer', 'for', '\"', ...], 'pos'), (['capsule', ':', 'the', 'world', 'will', 'come', 'to', ...], 'pos'), (['based', 'on', 'the', 'relatively', 'unknown', '(', ...], 'pos'), (['now', ',', 'lets', 'first', 'look', 'into', 'the', ...], 'pos'), (['after', 'sixteen', 'years', 'francis', 'ford', ...], 'pos'), (['making', 'his', 'directorial', 'debut', ',', 'actor', ...], 'pos'), (['assume', 'nothing', '.', 'the', 'phrase', 'is', ...], 'pos'), (['in', 'tim', 'burton', \"'\", 's', '`', 'sleepy', ...], 'pos'), (['this', 'is', 'a', 'film', 'about', 'secrets', ',', ...], 'pos'), (['based', 'on', 'the', 'boris', 'karloff', \"'\", 's', ...], 'pos'), (['\"', 'desperate', 'measures', '\"', 'was', 'something', ...], 'pos'), (['\"', 'well', 'this', 'is', 'not', 'mission', ':', ...], 'pos'), (['jake', 'kasdan', ',', 'son', 'of', 'one', 'of', ...], 'pos'), (['while', 'watching', 'boiler', 'room', ',', 'i', ...], 'pos'), (['after', 'the', 'average', 'mouse', 'hunt', ',', ...], 'pos'), (['getting', 'it', 'right', 'is', 'a', 'far', 'far', ...], 'pos'), (['what', 'do', 'you', 'get', 'when', 'you', 'combine', ...], 'pos'), (['ingredients', ':', 'pouring', 'rain', ',', 'small', ...], 'pos'), (['all', 'great', 'things', 'come', 'to', 'an', 'end', ...], 'pos'), (['\"', 'you', \"'\", 've', 'got', 'mail', '\"', 'is', ...], 'pos'), (['once', 'again', ',', 'the', 'battle', 'is', ...], 'pos'), (['ultra', 'low', 'budget', 'but', 'extremely', ...], 'pos'), (['natural', 'born', 'killers', 'is', 'really', 'a', ...], 'pos'), (['here', 'is', 'a', 'film', 'that', 'is', 'so', ...], 'pos'), (['unzipped', 'is', 'a', 'cinematic', 'portrait', 'of', ...], 'pos'), (['bruce', 'lee', 'was', 'a', 'bigger', '-', 'than', ...], 'pos'), (['\"', 'the', 'tailor', 'of', 'panama', '\"', 'is', 'a', ...], 'pos'), (['aggressive', ',', 'bleak', ',', 'and', 'unrelenting', ...], 'pos'), (['the', 'heartbreak', 'kid', '(', 'reviewed', 'on', ...], 'pos'), (['it', 'has', 'been', '20', 'years', 'since', 'a', ...], 'pos'), (['when', 'quentin', 'tarantino', 'made', '\"', 'pulp', ...], 'pos'), (['the', 'makers', 'of', 'jurassic', 'park', '&', 'the', ...], 'pos'), (['when', 'i', 'first', 'heard', 'that', 'kevin', ...], 'pos'), (['for', 'more', 'than', 'a', 'decade', ',', 'anjelica', ...], 'pos'), (['jack', 'nicholson', 'has', 'a', 'funny', 'way', 'of', ...], 'pos'), (['james', 'l', '.', 'brooks', ',', 'one', 'of', 'the', ...], 'pos'), (['trekkies', ',', 'roger', 'nygard', \"'\", 's', ...], 'pos'), (['robert', 'benton', 'has', 'assembled', 'a', ...], 'pos'), (['synopsis', ':', 'an', 'attractive', 'mute', 'makeup', ...], 'pos'), (['anyone', 'who', 'saw', 'alan', 'rickman', \"'\", 's', ...], 'pos'), (['synopsis', ':', 'in', 'phantom', 'menace', 'the', ...], 'pos'), (['once', 'upon', 'a', 'time', 'a', 'solitary', 'ogre', ...], 'pos'), (['the', 'laserman', ':', 'somehow', 'the', 'title', ...], 'pos'), (['i', 'think', 'the', 'first', 'thing', 'this', ...], 'pos'), (['with', 'the', 'success', 'of', 'the', 'surprise', ...], 'pos'), (['jonathan', 'demme', \"'\", 's', '_beloved_', ',', ...], 'pos'), (['note', ':', 'some', 'may', 'consider', 'portions', ...], 'pos'), (['to', 'me', ',', 'nicolas', 'cage', 'sounds', 'like', ...], 'pos'), (['hedwig', '(', 'john', 'cameron', 'mitchell', ')', ...], 'pos'), (['the', 'event', 'of', 'events', 'is', 'upon', 'us', ...], 'pos'), (['bowfinger', 'is', 'a', 'good', 'movie', 'about', ...], 'pos'), (['originally', 'entitled', 'dancing', 'about', ...], 'pos'), (['the', '\"', 'italian', 'hitchcock', '\"', 'and', ...], 'pos'), (['as', 'african', 'american', 'detective', 'vergil', ...], 'pos'), (['i', \"'\", 'm', 'not', 'quite', 'sure', 'how', 'best', ...], 'pos'), (['the', 'promotion', 'for', 'fear', 'and', 'loathing', ...], 'pos'), (['one', 'of', 'the', 'most', 'popular', 'subplots', ...], 'pos'), (['stendhal', \"'\", 's', 'syndrome', ':', 'a', ...], 'pos'), (['in', ',', '\"', 'the', 'muse', '\"', 'albert', ...], 'pos'), (['i', \"'\", 'm', 'not', 'really', 'sure', 'what', 'to', ...], 'pos'), (['i', 'had', 'a', 'chance', 'to', 'see', 'a', 'sneak', ...], 'pos'), (['the', 'american', 'action', 'film', 'has', 'been', ...], 'pos'), (['for', 'the', 'first', 'reel', 'of', 'girls', 'town', ...], 'pos'), (['in', '\"', 'the', 'sweet', 'hereafter', ',', '\"', ...], 'pos'), (['call', 'it', 'touched', 'by', 'a', 'demon', '.', ...], 'pos'), (['leonardo', 'decaprio', '(', 'what', \"'\", 's', ...], 'pos'), (['steven', 'spielberg', \"'\", 's', '\"', 'amistad', ',', ...], 'pos'), (['being', 'the', 'self', '-', 'proclaimed', ...], 'pos'), (['all', 'those', 'who', 'were', 'offended', 'by', ...], 'pos'), (['like', 'the', 'great', 'musical', 'pieces', 'of', ...], 'pos'), (['ingredients', ':', 'little', 'orphan', 'boy', ',', ...], 'pos'), (['\"', 'you', 'leave', 'little', 'notes', 'on', 'my', ...], 'pos'), (['in', 'one', 'of', 'my', 'many', 'videos', 'i', ...], 'pos'), (['people', 'who', 'enjoy', 'science', 'fiction', 'are', ...], 'pos'), (['it', \"'\", 's', 'been', 'a', 'good', 'long', 'while', ...], 'pos'), (['cinema', 'has', 'been', 'around', 'for', 'about', ...], 'pos'), (['jamaica', 'is', 'a', 'hot', 'vacation', 'spot', '.', ...], 'pos'), (['my', 'summer', 'was', 'recently', 'saved', 'by', ...], 'pos'), (['i', 'love', 'this', 'movie', ',', 'and', 'i', \"'\", ...], 'pos'), (['meteor', 'threat', 'set', 'to', 'blow', 'away', ...], 'pos'), (['i', 'have', 'seen', 'several', '(', 'but', 'not', ...], 'pos'), (['plot', ':', 'a', 'big', '-', 'time', 'momma', \"'\", ...], 'pos'), (['plot', ':', 'a', 'peculiar', 'french', 'girl', ...], 'pos'), (['i', 'have', 'to', 'say', 'it', '.', 'tim', 'burton', ...], 'pos'), (['niagara', 'niagara', '(', 'r', ')', 'bob', 'gosse', ...], 'pos'), (['warren', 'beatty', \"'\", 's', '\"', 'bulworth', '\"', ...], 'pos'), (['aliens', '!', '!', 'well', ',', 'that', 'is', 'what', ...], 'pos'), (['gere', ',', 'willis', ',', 'poitier', 'chase', ...], 'pos'), (['jackie', 'brown', 'entered', 'theaters', 'with', ...], 'pos'), (['a', 'welcome', 'cinematic', 'trend', 'over', 'the', ...], 'pos'), (['no', 'humans', 'were', 'harmed', ',', 'tested', 'or', ...], 'pos'), (['until', 'i', 'saw', 'the', 'night', 'of', 'the', ...], 'pos'), (['apollo', '13', 'is', 'simply', 'one', 'of', 'the', ...], 'pos'), (['note', ':', 'some', 'may', 'consider', 'portions', ...], 'pos'), (['scream', '2', 'has', 'a', 'titillating', 'little', ...], 'pos'), (['the', 'police', 'negotiator', 'is', 'the', 'person', ...], 'pos'), (['back', 'in', '1998', 'dreamworks', 'unveiled', ...], 'pos'), (['george', 'little', '(', 'jonathan', 'lipnicki', ')', ...], 'pos'), (['synopsis', ':', 'shrek', '(', 'myers', ')', 'is', ...], 'pos'), (['razor', 'blade', 'smile', 'running', 'as', 'part', ...], 'pos'), (['studio', 'expectations', 'must', 'not', 'have', ...], 'pos'), (['pulp', 'fiction', ',', 'quentin', 'tarantino', \"'\", ...], 'pos'), (['shakespeare', '.', 'you', 'hardly', 'understood', ...], 'pos'), (['seen', 'april', '16', ',', '1999', 'at', '10', 'p', ...], 'pos'), (['[', 'note', ':', 'after', 'claiming', 'otherwise', ...], 'pos'), (['anna', 'and', 'the', 'king', 'strides', 'onto', ...], 'pos'), (['i', 'want', 'to', 'correct', 'what', 'i', 'wrote', ...], 'pos'), (['\"', 'the', 'fugitive', '\"', 'is', 'probably', 'one', ...], 'pos'), (['\"', 'the', 'deep', 'end', '\"', 'uses', 'a', 'color', ...], 'pos'), (['\"', 'the', 'blair', 'witch', 'project', '\"', 'was', ...], 'pos'), (['synopsis', ':', 'rumored', 'to', 'be', 'about', 'a', ...], 'pos'), (['kevin', 'smith', 'is', 'like', 'a', 'big', 'kid', ...], 'pos'), (['susan', 'granger', \"'\", 's', 'review', 'of', '\"', ...], 'pos'), (['before', 'even', 'seeing', 'a', 'single', 'frame', ...], 'pos'), (['\"', 'seven', '\"', 'is', 'one', 'of', 'the', 'best', ...], 'pos'), (['accepting', 'his', 'oscar', 'as', 'producer', 'of', ...], 'pos'), (['no', 'filmmaker', 'deconstructs', 'a', 'story', 'as', ...], 'pos'), (['you', 'don', \"'\", 't', 'want', 'to', 'be', 'like', ...], 'pos'), (['ingredients', ':', 'down', '-', 'on', '-', 'his', ...], 'pos'), (['in', 'may', 'of', '1977', ',', 'just', '2', 'years', ...], 'pos'), (['the', 'soldiers', 'of', 'three', 'kings', 'have', ...], 'pos'), (['i', \"'\", 'll', 'be', 'the', 'first', 'to', 'admit', ...], 'pos'), (['it', \"'\", 's', 'ironic', 'that', 'the', 'best', ...], 'pos'), (['in', 'many', 'ways', ',', '\"', 'twotg', '\"', 'does', ...], 'pos'), (['you', \"'\", 've', 'probably', 'heard', 'the', 'one', ...], 'pos'), (['>', 'from', 'the', 'commercials', ',', 'this', ...], 'pos'), (['the', 'happy', 'bastard', \"'\", 's', 'quick', 'movie', ...], 'pos'), (['allen', ',', 'star', 'of', 'many', 'a', 'brian', ...], 'pos'), (['the', 'happy', 'bastard', \"'\", 's', '30', '-', ...], 'pos'), (['much', 'ballyhoo', 'has', 'been', 'made', 'over', ...], 'pos'), (['review', ':', 'ghost', 'dog', ':', 'the', 'way', ...], 'pos'), (['of', 'circumcision', ',', 'psychic', 'wounds', 'and', ...], 'pos'), (['i', 'wish', 'i', 'could', 'say', 'that', 'there', ...], 'pos'), (['this', 'film', 'is', 'based', 'on', 'the', 'campy', ...], 'pos'), (['the', 'long', 'and', 'illustrious', 'career', 'of', ...], 'pos'), (['so', 'many', 'students', 'strive', 'to', 'get', ...], 'pos'), (['capsule', ':', 'bleak', 'and', 'point', '-', 'blank', ...], 'pos'), (['probably', 'the', 'most', 'popular', 'and', ...], 'pos'), (['\"', 'jaws', '\"', 'is', 'a', 'rare', 'film', 'that', ...], 'pos'), (['when', 'jim', 'henson', 'passed', 'away', ',', 'he', ...], 'pos'), (['the', 'happy', 'bastard', \"'\", 's', '30', '-', ...], 'pos'), (['synopsis', ':', 'private', 'detective', 'tom', ...], 'pos'), (['if', 'the', 'current', 'trends', 'of', 'hollywood', ...], 'pos'), (['one', 'of', 'the', 'best', 'things', 'about', 'my', ...], 'pos'), (['some', 'movies', 'have', 'such', 'an', 'impact', ...], 'pos'), (['the', 'premise', 'is', 'simple', ',', 'if', 'not', ...], 'pos'), (['bruce', 'willis', 'and', 'sixth', 'sense', ...], 'pos'), (['the', 'muppet', 'movie', 'is', 'the', 'first', ',', ...], 'pos'), (['kirk', 'douglas', 'is', 'one', 'of', 'those', 'rare', ...], 'pos'), (['fritz', 'lang', \"'\", 's', 'first', 'american', ...], 'pos'), (['dreamworks', 'pictures', 'presents', 'a', 'jinks', ...], 'pos'), (['every', 'year', ',', 'hollywood', 'crowns', 'a', ...], 'pos'), (['even', 'if', 'i', 'did', 'not', 'know', 'that', ...], 'pos'), (['susan', 'granger', \"'\", 's', 'review', 'of', '\"', ...], 'pos'), (['for', 'a', 'movie', 'about', 'disco', '-', 'era', ...], 'pos'), (['not', 'too', 'many', 'people', 'know', 'who', ...], 'pos'), (['us', 'critic', '-', 'type', 'people', 'are', ...], 'pos'), (['swashbuckling', 'adventure', 'that', 'can', 'be', ...], 'pos'), (['upon', 'arriving', 'at', 'the', 'theater', 'during', ...], 'pos'), (['are', 'we', 'victims', 'of', 'fate', 'in', 'life', ...], 'pos'), (['i', 'must', 'admit', 'that', 'i', 'was', 'a', 'tad', ...], 'pos'), (['by', 'now', 'i', 'figured', 'i', \"'\", 'd', 'seen', ...], 'pos'), (['mike', 'myers', ',', 'you', 'certainly', 'did', ...], 'pos'), (['when', 'i', 'first', 'heard', 'that', 'disney', \"'\", ...], 'pos'), (['to', 'paraphrase', 'a', 'song', 'title', 'from', ...], 'pos'), (['alchemy', 'is', 'steeped', 'in', 'shades', 'of', ...], 'pos'), (['a', 'standoff', '.', 'a', 'man', 'holds', 'a', ...], 'pos'), (['billed', 'as', 'a', '\"', 'feminist', 'sex', ...], 'pos'), (['earlier', 'this', 'year', ',', 'the', 'movie', ...], 'pos'), (['bob', 'the', 'happy', 'bastard', \"'\", 's', 'quickie', ...], 'pos'), (['a', 'frequent', 'error', 'is', 'the', ...], 'pos'), (['plot', ':', 'a', 'group', 'of', 'asbestos', ...], 'pos'), (['first', ',', 'i', 'am', 'not', 'a', 'big', 'fan', ...], 'pos'), (['titantic', ',', 'writer', 'and', 'director', 'james', ...], 'pos'), (['titanic', 'is', ',', 'without', 'a', 'doubt', ',', ...], 'pos'), (['magnolia', 'left', 'me', 'relling', 'from', 'the', ...], 'pos'), (['the', '\"', 'submarine', '\"', 'genre', 'of', 'movies', ...], 'pos'), (['no', ',', 'it', 'is', 'not', 'a', 'bad', 'film', ',', ...], 'pos'), (['more', 'than', 'forty', 'years', 'ago', ',', 'the', ...], 'pos'), (['director', 'jan', 'de', 'bont', 'certainly', 'knows', ...], 'pos'), (['the', 'postman', 'delivers', 'but', 'not', 'first', ...], 'pos'), (['\"', 'the', 'faculty', ',', '\"', 'the', 'heavily', ...], 'pos'), (['kolya', 'is', 'one', 'of', 'the', 'richest', 'films', ...], 'pos'), (['ok', ',', 'i', 'admit', 'i', 'had', 'a', 'bad', ...], 'pos'), (['note', ':', 'some', 'may', 'consider', 'portions', ...], 'pos'), (['this', 'christmas', ',', 'little', 'ralphie', ...], 'pos'), (['i', 'have', 'to', 'admit', 'that', 'i', 'disliked', ...], 'pos'), (['one', 'of', 'the', 'last', 'entries', 'in', 'the', ...], 'pos'), (['there', 'is', 'nothing', 'like', 'american', ...], 'pos'), (['there', \"'\", 's', 'an', 'old', 'saying', 'that', ...], 'pos'), (['dark', 'city', 'is', 'such', 'a', 'rare', 'treat', ...], 'pos'), (['i', 'have', 'a', 'soft', 'spot', 'in', 'my', 'heart', ...], 'pos'), (['john', 'sayles', \"'\", '\"', 'men', 'with', 'guns', ...], 'pos'), (['one', 'of', 'the', 'biggest', 'cliches', 'of', 'any', ...], 'pos'), (['it', 'stands', 'as', 'a', 'moment', 'one', 'will', ...], 'pos'), (['in', 'a', 'flashback', ',', 'the', 'teenage', 'girl', ...], 'pos'), (['matthew', 'broderick', 'and', 'high', 'school', ...], 'pos'), (['the', 'happy', 'bastard', \"'\", 's', '30', '-', ...], 'pos'), (['armageddon', ',', 'in', 'itself', ',', 'symbolizes', ...], 'pos'), (['in', 'my', 'reviews', 'i', 'try', 'to', 'make', ...], 'pos'), (['you', 'know', 'you', \"'\", 're', 'in', 'for', 'a', ...], 'pos'), (['bob', 'the', 'happy', 'bastard', \"'\", 's', 'quickie', ...], 'pos'), (['\"', 'when', 'it', \"'\", 's', 'cold', ',', 'molecules', ...], 'pos'), (['luckily', ',', 'some', 'people', 'got', 'starship', ...], 'pos'), (['truman', '(', '\"', 'true', '-', 'man', '\"', ')', ...], 'pos'), (['susan', 'granger', \"'\", 's', 'review', 'of', '\"', ...], 'pos'), (['in', '1987', 'the', 'stock', 'market', 'crashed', ...], 'pos'), (['i', \"'\", 've', 'never', 'been', 'a', 'member', 'of', ...], 'pos'), (['\"', 'when', 'will', 'the', 'devil', 'take', 'me', ...], 'pos'), (['edward', 'zwick', \"'\", 's', '\"', 'the', 'siege', '\"', ...], 'pos'), (['director', ':', 'penelope', 'spheeris', '(', ...], 'pos'), (['october', 'sky', 'is', 'a', 'rare', 'oddity', 'in', ...], 'pos'), (['every', 'once', 'in', 'a', 'while', ',', 'a', 'film', ...], 'pos'), (['richard', 'linklater', \"'\", 's', '\"', 'slacker', ',', ...], 'pos'), (['the', 'start', 'of', 'this', 'movie', 'reminded', ...], 'pos'), (['in', 'the', 'opening', 'shot', 'of', 'midnight', ...], 'pos'), (['ingredients', ':', 'neophyte', 'lawyer', ',', ...], 'pos'), (['[', 'note', 'that', 'followups', 'are', 'directed', ...], 'pos'), (['\"', 'if', 'there', \"'\", 's', 'a', 'beast', 'in', ...], 'pos'), (['with', 'more', 'and', 'more', 'television', 'shows', ...], 'pos'), (['the', 'uncompromising', 'nudity', 'bared', ...], 'pos'), (['hilarious', ',', 'ultra', '-', 'low', 'budget', ...], 'pos'), (['ralph', 'fiennes', 'is', 'carving', 'out', 'a', ...], 'pos'), (['in', 'arguably', 'the', 'most', 'anticipated', ...], 'pos'), (['just', 'in', 'time', 'for', 'halloween', 'and', ...], 'pos'), (['it', 'is', 'often', 'said', 'by', 'his', 'fans', ...], 'pos'), (['a', 'wonderful', 'little', 'movie', 'that', 'is', ...], 'pos'), (['\"', 'being', 'john', 'malkovich', '\"', 'is', 'the', ...], 'pos'), (['american', 'pie', 'acknowledges', 'a', 'cold', ',', ...], 'pos'), (['when', 'i', 'first', 'heard', 'of', 'contact', ',', ...], 'pos'), (['\"', 'the', 'endurance', ':', 'shackleton', \"'\", 's', ...], 'pos'), (['underrated', 'movies', 'are', 'a', 'common', ...], 'pos'), (['this', 'sometimes', '-', 'tedious', 'and', 'often', ...], 'pos'), (['i', 'was', 'born', 'in', '1970', ',', 'which', ...], 'pos'), (['after', 'the', 'press', 'screening', 'of', '\"', ...], 'pos'), (['while', 'alex', 'browning', '(', 'devon', 'sawa', ...], 'pos'), (['\"', 'no', 'man', 'is', 'an', 'island', ',', '\"', ...], 'pos'), (['john', 'cusack', 'is', 'the', 'kind', 'of', 'actor', ...], 'pos'), (['why', 'do', 'people', 'hate', 'the', 'spice', ...], 'pos'), (['synopsis', ':', 'upper', 'middle', 'class', ',', ...], 'pos'), (['an', 'indian', 'runner', 'was', 'more', 'than', 'a', ...], 'pos'), (['\"', 'the', 'end', 'of', 'the', 'affair', '\"', 'is', ...], 'pos'), (['if', 'there', 'is', 'one', 'thing', 'that', ...], 'pos'), (['oh', 'god', 'how', 'many', 'john', 'grisham', ...], 'pos'), (['the', 'bond', 'series', 'is', 'an', 'island', 'in', ...], 'pos'), (['at', 'one', 'point', 'during', 'brian', 'de', ...], 'pos'), (['mimi', 'leder', 'is', 'probably', 'best', 'known', ...], 'pos'), (['the', 'central', 'focus', 'of', 'michael', ...], 'pos'), (['marie', '(', 'charlotte', 'rampling', ',', '\"', ...], 'pos'), (['you', \"'\", 've', 'got', 'mail', 'works', 'alot', ...], 'pos'), (['the', 'word', \"'\", 'rest', \"'\", 'in', 'the', 'title', ...], 'pos'), (['the', 'booming', 'introduction', 'music', 'finishes', ...], 'pos'), (['films', 'adapted', 'from', 'comic', 'books', 'have', ...], 'pos'), (['modern', 'audiences', 'are', 'more', 'likely', 'to', ...], 'pos'), (['time', 'bandits', ',', 'from', 'director', 'terry', ...], 'pos'), (['a', 'fully', 'loaded', 'entertainment', 'review', ...], 'pos'), (['quaid', 'stars', 'as', 'a', 'man', 'who', 'has', ...], 'pos'), (['some', 'of', 'my', 'friends', 'who', 'went', 'to', ...], 'pos'), (['if', 'you', \"'\", 're', 'the', 'type', 'of', 'person', ...], 'pos'), (['i', 'was', 'originally', 'going', 'to', 'give', ...], 'pos'), (['frequency', 'n', '.', ',', 'the', 'number', 'of', ...], 'pos'), (['\"', 'you', \"'\", 'll', 'go', 'ape', 'over', 'tarzan', ...], 'pos'), (['it', \"'\", 's', 'a', 'fact', 'that', 'a', 'good', ...], 'pos'), (['warning', ':', 'contains', 'what', 'the', 'matrix', ...], 'pos'), (['contact', 'is', 'the', '1997', 'movie', 'i', \"'\", ...], 'pos'), (['melvin', 'udall', 'is', 'a', 'heartless', 'man', '.', ...], 'pos'), (['in', '\"', 'magic', 'town', '\"', ',', 'jimmy', ...], 'pos'), (['\"', 'living', 'out', 'loud', ',', '\"', 'is', 'the', ...], 'pos'), (['along', 'his', 'carreer', ',', 'mel', 'gibson', ...], 'pos'), (['capsule', ':', 'suprisingly', 'more', 'of', 'a', ...], 'pos'), (['in', 'some', 'regards', ',', 'making', 'a', 'movie', ...], 'pos'), (['near', 'the', 'end', 'of', 'frank', 'capra', \"'\", ...], 'pos'), (['driving', 'miss', 'daisy', 'takes', 'its', 'sweet', ...], 'pos'), (['do', 'you', 'want', 'to', 'know', 'the', 'truth', ...], 'pos'), (['the', 'rich', 'man', \"'\", 's', 'wife', 'is', 'one', ...], 'pos'), (['richard', 'gere', 'is', 'not', 'one', 'of', 'my', ...], 'pos'), (['call', '911', 'for', 'the', 'cliche', 'police', 'if', ...], 'pos'), (['zero', 'effect', 'gets', 'its', 'title', 'from', ...], 'pos'), (['i', 'recall', 'the', 'trials', 'and', 'tribulations', ...], 'pos'), (['there', 'must', 'be', 'some', 'unwritten', 'rule', ...], 'pos'), (['\"', 'a', 'breed', 'apart', '\"', 'casts', 'rutger', ...], 'pos'), (['\"', 'good', 'will', 'hunting', '\"', 'is', 'two', ...], 'pos'), (['it', 'must', 'be', 'some', 'sort', 'of', 'warped', ...], 'pos'), (['a', 'group', 'of', 'high', 'school', 'kids', 'mix', ...], 'pos'), (['every', 'once', 'in', 'a', 'while', 'you', 'see', ...], 'pos'), (['eight', 'years', 'after', 'its', 'release', ',', ...], 'pos'), (['there', \"'\", 's', 'a', 'moment', 'in', 'schindler', ...], 'pos'), (['if', 'you', 'had', 'a', 'chance', 'to', 'create', ...], 'pos'), (['every', 'once', 'in', 'a', 'while', 'a', 'movie', ...], 'pos'), (['john', 'von', 'neumann', ',', 'progenitor', 'of', ...], 'pos'), (['there', 'is', 'a', 'striking', 'scene', 'early', ...], 'pos'), (['in', 'these', 'days', 'of', 'overlong', 'movies', ...], 'pos'), (['urban', 'legend', 'surprised', 'me', '.', 'based', ...], 'pos'), (['this', 'summer', ',', 'one', 'of', 'the', 'most', ...], 'pos'), (['recently', 'i', 'read', '4', 'reviews', 'of', ...], 'pos'), (['it', 'was', 'easy', 'to', 'fear', 'the', 'worst', ...], 'pos'), (['field', 'of', 'dreams', 'almost', 'defies', ...], 'pos'), (['every', 'year', '--', 'every', 'year', 'at', 'the', ...], 'pos'), (['by', 'phil', 'curtolo', 'mel', 'gibson', '(', ...], 'pos'), (['david', 'cronenberg', 'presents', 'us', 'with', ...], 'pos'), (['towards', 'the', 'middle', 'of', '\"', 'the', 'sweet', ...], 'pos'), (['`', 'oh', 'behave', '!', 'felicity', 'shagwell', ...], 'pos'), (['mary', 'norton', \"'\", 's', 'children', \"'\", 's', ...], 'pos'), (['martin', 'scorsese', \"'\", 's', 'triumphant', ...], 'pos'), (['i', 'know', 'what', 'i', 'would', 'do', 'with', '$', ...], 'pos'), (['i', 'think', 'that', 'any', 'competent', 'member', ...], 'pos'), (['a', 'big', 'surprise', 'to', 'me', '.', 'the', ...], 'pos'), (['set', 'in', 'the', 'wild', 'west', ',', 'this', ...], 'pos'), (['notting', 'hill', \"'\", 's', 'trailer', 'is', 'awful', ...], 'pos'), (['is', 'jimmy', 'stewart', 'the', 'greatest', 'actor', ...], 'pos'), (['moviemaking', 'is', 'a', 'lot', 'like', 'being', ...], 'pos'), (['this', '\"', 'dumb', '\"', 'cowboy', 'blondie', 'who', ...], 'pos'), (['virtual', 'reality', 'is', 'a', 'topic', 'that', ...], 'pos'), (['big', 'courtroom', 'thrillers', 'have', 'always', ...], 'pos'), (['contact', '(', 'pg', ')', 'there', \"'\", 's', 'a', ...], 'pos'), (['produced', 'by', 'robert', 'lantos', '&', 'stephen', ...], 'pos'), (['it', 'is', 'always', 'refreshing', 'to', 'see', 'a', ...], 'pos'), (['did', 'you', 'ever', 'wonder', 'if', 'dennis', ...], 'pos'), (['errol', 'morris', ',', 'critically', 'acclaimed', ...], 'pos'), (['you', \"'\", 've', 'got', 'mail', 'is', 'a', 'timely', ...], 'pos'), (['airplane', '!', 'is', 'considered', 'among', 'many', ...], 'pos'), (['no', ',', 'i', 'did', 'not', 'read', 'the', 'novel', ...], 'pos'), (['synopsis', ':', 'as', 'a', 'response', 'to', ...], 'pos'), (['this', 'has', 'been', 'an', 'extraordinary', 'year', ...], 'pos'), (['let', \"'\", 's', 'face', 'it', ':', 'since', ...], 'pos'), (['this', 'reviewer', 'is', 'ignorant', 'of', 'what', ...], 'pos'), (['plot', ':', 'a', 'dude', 'and', 'his', 'brother', ...], 'pos'), (['historical', 'epic', 'as', 'a', 'genre', 'was', ...], 'pos'), (['sometimes', 'you', 'just', 'have', 'to', 'tip', ...], 'pos'), (['this', 'sunday', 'afternoon', 'i', 'had', 'the', ...], 'pos'), (['well', 'i', \"'\", 'll', 'be', 'damned', '.', '.', '.', ...], 'pos'), (['most', 'movies', 'seem', 'to', 'release', 'a', ...], 'pos'), (['it', \"'\", 's', 'not', 'often', 'that', 'i', 'laugh', ...], 'pos'), (['*', '*', '*', '*', '*', '*', 'minor', 'plot', ...], 'pos'), (['steven', 'spielberg', 'is', 'now', 'considered', ...], 'pos'), (['the', 'dream', 'team', 'is', 'a', 'thoroughly', ...], 'pos'), (['ingredients', ':', 'lost', 'parrot', 'trying', 'to', ...], 'pos'), (['vannesa', 'kensington', ':', '`', 'austin', ',', ...], 'pos'), (['robert', 'redford', 'is', 'very', 'good', 'at', ...], 'pos'), (['close', 'your', 'eyes', 'for', 'a', 'moment', ',', ...], 'pos'), (['while', 'it', 'was', 'part', 'of', 'former', ...], 'pos'), (['as', 'any', 'sociologist', 'will', 'attest', ',', ...], 'pos'), (['note', ':', 'some', 'may', 'consider', 'portions', ...], 'pos'), (['whenever', 'writer', '/', 'director', 'robert', ...], 'pos'), (['wild', 'things', 'is', 'a', 'suspenseful', ...], 'pos'), (['this', 'has', 'some', 'major', 'spoilers', 'for', ...], 'pos'), (['dora', '(', 'fernanda', 'montenegro', ')', 'sits', ...], 'pos'), (['eyes', 'wide', 'shut', 'isn', \"'\", 't', 'the', ...], 'pos'), (['\"', 'a', 'private', 'matter', '\"', 'is', 'based', ...], 'pos'), (['catherine', 'deane', '(', 'jennifer', 'lopez', ')', ...], 'pos'), (['if', 'he', 'doesn', '=', '92t', 'watch', 'out', ',', ...], 'pos'), (['originally', 'titled', \"'\", 'don', \"'\", 't', 'lose', ...], 'pos'), (['according', 'to', 'hollywood', 'movies', 'made', ...], 'pos'), (['ladies', 'and', 'gentlemen', ',', '1997', \"'\", 's', ...], 'pos'), (['synopsis', ':', 'retiring', 'detective', 'jerry', ...], 'pos'), (['in', 'brief', ':', 'best', 'bleak', 'comedy', 'film', ...], 'pos'), (['james', 'cmaeron', \"'\", 's', 'breakthrough', ...], 'pos'), (['the', 'ring', 'is', 'probably', 'one', 'of', 'the', ...], 'pos'), (['there', 'seem', 'to', 'be', 'two', 'reactions', 'to', ...], 'pos'), (['`', 'run', 'lola', 'run', \"'\", ',', 'a', 'german', ...], 'pos'), (['are', 'you', 'tired', 'of', 'all', 'the', 'hot', ...], 'pos'), (['\"', 'sometimes', 'the', \"'\", 'green', 'mile', \"'\", ...], 'pos'), (['it', \"'\", 's', 'an', 'interesting', 'premise', '.', ...], 'pos'), (['kadosh', 'means', 'sacred', 'in', 'hebrew', '.', ...], 'pos'), (['tbwp', 'is', 'probably', 'the', 'single', 'most', ...], 'pos'), (['plot', ':', 'a', 'human', 'space', 'astronaut', ...], 'pos'), (['when', 'i', 'left', 'the', 'theater', 'after', ...], 'pos'), (['the', 'rocky', 'horror', 'picture', 'show', \"'\", ...], 'pos'), (['trees', 'lounge', 'is', 'the', 'directoral', 'debut', ...], 'pos'), (['`', 'strange', 'days', \"'\", 'chronicles', 'the', ...], 'pos'), (['\"', 'footloose', '\"', 'has', 'only', 'one', 'goal', ...], 'pos'), (['note', ':', 'some', 'may', 'consider', 'portions', ...], 'pos'), (['upon', 'taking', 'a', 'seat', 'at', 'the', 'theater', ...], 'pos'), (['logical', 'time', 'travel', 'movies', 'are', 'a', ...], 'pos'), (['director', 'dominic', 'sena', '(', 'who', 'made', ...], 'pos'), (['go', \"'\", 's', 'is', 'a', 'gloriously', 'slick', ...], 'pos'), (['\"', 'love', 'is', 'the', 'devil', '\"', 'is', 'a', ...], 'pos'), (['reflecting', 'on', '\"', 'bedazzled', ',', '\"', 'a', ...], 'pos'), (['known', 'as', 'the', 'most', 'successful', ',', ...], 'pos'), (['in', '1998', ',', 'director', 'brett', 'ratner', ...], 'pos'), (['finding', 'the', 'courage', 'to', 'face', 'life', ...], 'pos'), (['john', 'carpenter', 'directed', 'this', 'stylish', ...], 'pos'), (['the', 'disney', 'studios', 'has', 'its', 'formula', ...], 'pos'), (['the', 'grandfather', 'of', 'italian', 'horror', ...], 'pos'), (['call', 'me', 'crazy', ',', 'but', 'i', 'don', \"'\", ...], 'pos'), (['in', 'wonder', 'boys', 'michael', 'douglas', 'plays', ...], 'pos'), (['not', 'since', 'oliver', 'stone', \"'\", 's', ...], 'pos'), (['everyone', \"'\", 's', 'heard', 'about', 'this', ...], 'pos'), (['note', ':', 'some', 'may', 'consider', 'portions', ...], 'pos'), (['quentin', 'tarantino', 'seems', 'to', 'have', 'a', ...], 'pos'), (['after', 'a', 'stylistic', 'detour', 'with', 'mrs', ...], 'pos'), (['alien', '3', 'is', 'the', 'only', 'alien', 'film', ...], 'pos'), (['i', 'was', 'anxious', 'to', 'see', 'this', 'for', ...], 'pos'), (['my', 'filmcritic', '.', 'com', 'colleague', 'norm', ...], 'pos'), (['imagine', 'this', '.', 'you', \"'\", 're', 'given', ...], 'pos'), (['i', 'was', 'fortunate', 'enough', 'to', 'attend', ...], 'pos'), (['what', \"'\", 's', 'shocking', 'about', '\"', 'carlito', ...], 'pos'), (['i', 'rented', '\"', 'brokedown', 'palace', '\"', ...], 'pos'), (['cinematically', 'speaking', ',', 'gordon', 'parks', ...], 'pos'), (['when', 'i', 'first', 'saw', 'the', 'previews', 'for', ...], 'pos'), (['the', 'relaxed', 'dude', 'rides', 'a', 'roller', ...], 'pos'), (['jay', 'and', 'silent', 'bob', 'strike', 'back', ...], 'pos'), (['the', 'long', 'kiss', 'goodnight', '(', 'r', ')', ...], 'pos'), (['synopsis', ':', 'bobby', 'garfield', '(', 'yelchin', ...], 'pos'), (['another', \"'\", 'independent', 'film', \"'\", ',', ...], 'pos'), (['seen', 'at', 'the', '21st', 'portland', ...], 'pos'), (['one', 'never', 'quite', 'knows', 'what', 'one', 'is', ...], 'pos'), (['on', 'seeing', 'the', 'outrageous', 'previews', ...], 'pos'), (['after', 'a', 'rather', 'disappointing', '\"', 'mary', ...], 'pos'), (['mpaa', ':', 'not', 'rated', '(', 'though', 'i', ...], 'pos'), (['there', 'exists', 'a', 'litany', 'of', 'differences', ...], 'pos'), (['bruce', 'barth', \"'\", 's', 'mellow', 'piano', ...], 'pos'), (['review', ':', 'a', 'dog', 'of', 'flanders', 'is', ...], 'pos'), (['labelling', 'is', 'sometimes', 'everything', '.', ...], 'pos'), (['there', \"'\", 's', 'a', 'thin', 'line', 'between', ...], 'pos'), (['voices', '.', '.', '.', '.', '.', 'trey', 'parker', ...], 'pos'), (['the', 'last', 'steve', 'martin', 'film', 'i', 'saw', ...], 'pos'), (['it', \"'\", 's', 'terribly', 'unfortunate', 'that', ...], 'pos'), (['it', \"'\", 's', 'been', 'a', 'long', 'time', 'since', ...], 'pos'), (['what', 'surprises', 'me', 'most', 'about', 'the', ...], 'pos'), (['for', 'this', 'review', 'and', 'more', ',', 'visit', ...], 'pos'), (['it', \"'\", 's', 'rather', 'strange', 'too', 'have', ...], 'pos'), (['corey', 'yuen', \"'\", 's', 'latest', 'film', ',', '\"', ...], 'pos'), (['the', 'first', 'thing', 'you', 'notice', 'about', ...], 'pos'), (['plot', ':', 'good', 'ol', \"'\", 'texan', 'kid', ...], 'pos'), (['as', 'a', 'revolutionary', 'war', 'hero', 'in', ...], 'pos'), (['i', 'find', 'most', 'of', 'television', 'so', ...], 'pos'), (['\"', 'last', 'night', '\"', 'could', 'have', 'an', '\"', ...], 'pos'), (['star', 'wars', ':', 'episode', 'i', '-', 'the', ...], 'pos'), (['vampire', 'films', ',', 'as', 'well', 'as', 'other', ...], 'pos'), (['bill', 'condon', \"'\", 's', '\"', 'gods', 'and', ...], 'pos'), (['apparently', ',', 'director', 'tony', 'kaye', 'had', ...], 'pos'), (['not', 'since', 'attending', 'an', 'ingmar', ...], 'pos'), (['for', 'example', ',', 'in', 'happy', 'gilmore', ',', ...], 'pos'), (['disaster', 'films', 'have', 'a', 'tendency', 'to', ...], 'pos'), (['just', 'how', 'inseparable', 'is', 'the', 'team', ...], 'pos'), (['it', 'must', 'be', 'tough', 'to', 'be', 'a', 'mob', ...], 'pos'), (['you', 'don', \"'\", 't', 'have', 'to', 'know', 'poker', ...], 'pos'), (['a', 'couple', 'of', 'months', 'ago', ',', 'when', ...], 'pos'), (['>', 'from', 'the', 'man', 'who', 'presented', 'us', ...], 'pos'), (['(', 'dimension', 'films', ',', '\"', 'scream', '2', ...], 'pos'), (['it', 'is', 'easy', 'to', 'see', 'why', 'the', 'late', ...], 'pos'), (['one', 'year', 'has', 'passed', 'since', 'the', ...], 'pos'), (['\"', 'stuart', 'little', '\"', 'is', 'one', 'of', ...], 'pos'), (['a', 'lot', 'of', 'times', 'a', 'three', '-', 'star', ...], 'pos'), (['just', 'look', 'back', 'two', 'years', 'ago', 'at', ...], 'pos'), (['taking', 'a', 'few', 'tips', 'from', 'the', 'pulp', ...], 'pos'), (['i', 'had', 'been', 'expecting', 'more', 'of', 'this', ...], 'pos'), (['expectation', 'rating', ':', 'a', 'bit', 'worse', ...], 'pos'), (['warren', 'beatty', 'returns', 'to', 'the', 'screens', ...], 'pos'), (['maybe', 'the', 'most', 'important', 'thing', 'about', ...], 'pos'), (['\"', 'the', 'celebration', '\"', 'is', 'one', 'of', ...], 'pos'), (['warning', ':', 'if', 'you', 'actually', 'wish', 'to', ...], 'pos'), (['i', 'relish', 'those', 'rare', 'opportunities', ...], 'pos'), (['seen', 'august', '8', ',', '1998', 'at', '6', 'p', ...], 'pos'), (['the', 'heist', 'of', 'a', 'flawless', ',', '84', ...], 'pos'), (['i', 'didn', \"'\", 't', 'realize', 'how', 'apt', 'the', ...], 'pos'), (['plot', ':', 'odin', 'is', 'a', 'great', 'high', ...], 'pos'), (['don', \"'\", 't', 'let', 'the', 'following', 'quirks', ...], 'pos'), (['with', 'three', 'pre', '-', 'to', 'mid', '-', 'teen', ...], 'pos'), (['satirical', 'films', 'usually', 'fall', 'into', ...], 'pos'), (['capsule', ':', 'the', 'director', 'of', 'cure', ...], 'pos'), (['one', 'of', 'the', 'funniest', 'carry', 'on', ...], 'pos'), (['warning', '!', ':', 'may', 'contain', 'some', 'mild', ...], 'pos'), (['no', 'film', 'in', 'recent', 'has', 'left', 'me', ...], 'pos'), (['waiting', 'at', 'the', 'train', 'station', 'near', ...], 'pos'), (['if', 'you', 'thought', 'baz', 'luhrmann', \"'\", 's', ...], 'pos'), (['one', 'of', 'the', 'more', 'unusual', 'and', ...], 'pos'), (['ingredients', ':', 'man', 'with', 'amnesia', 'who', ...], 'pos'), (['as', 'the', 'small', 'boats', 'rock', 'slowly', ...], 'pos'), (['eric', 'rohmer', \"'\", 's', '\"', 'pauline', 'at', ...], 'pos'), (['few', 'films', 'in', '1999', 'have', 'divided', ...], 'pos'), (['although', 'many', 'people', 'have', 'compared', ...], 'pos'), (['for', 'those', 'who', 'associate', 'italian', ...], 'pos'), (['with', 'the', 'exception', 'of', 'their', ...], 'pos'), (['susan', 'granger', \"'\", 's', 'review', 'of', '\"', ...], 'pos'), (['i', \"'\", 'm', 'not', 'quite', 'sure', 'what', 'to', ...], 'pos'), (['summary', 'five', 'liberal', 'iowa', 'graduate', ...], 'pos'), (['one', 'of', 'the', 'best', 'movies', 'i', \"'\", 've', ...], 'pos'), (['the', 'film', '\"', 'magnolia', '\"', 'can', 'be', ...], 'pos'), (['\"', 'rebel', 'without', 'a', 'cause', '\"', 'is', ...], 'pos'), (['an', 'energetic', ',', 'visually', 'stunning', ',', ...], 'pos'), (['men', 'in', 'black', 'is', 'an', 'explosive', 'mix', ...], 'pos'), (['vampire', 'lore', 'and', 'legend', 'has', 'always', ...], 'pos'), (['usually', 'when', 'a', 'blockbuster', 'comes', 'out', ...], 'pos'), (['what', 'if', 'one', 'of', 'our', 'cities', 'became', ...], 'pos'), (['star', 'wars', ':', 'episode', '1', '-', 'the', ...], 'pos'), (['now', 'that', '\"', 'boogie', 'nights', '\"', 'has', ...], 'pos'), (['every', 'now', 'and', 'then', 'a', 'movie', 'comes', ...], 'pos'), (['it', 'was', 'with', 'great', 'trepidation', 'that', ...], 'pos'), (['jerry', 'springer', 'has', 'got', 'nothing', 'on', ...], 'pos'), (['i', 'can', 'already', 'feel', 'the', 'hate', ...], 'pos'), (['available', 'in', 'an', 'all', 'new', 'video', ...], 'pos'), (['america', 'has', 'finally', 'gotten', 'what', 'it', ...], 'pos'), (['pollock', 'starring', 'ed', 'harris', ',', 'marcia', ...], 'pos'), (['apocalypse', 'now', ',', 'based', 'on', 'the', ...], 'pos'), (['what', 'is', 'a', 'scary', 'movie', 'anyhow', '?', ...], 'pos'), (['at', 'first', 'glance', ',', 'three', 'kings', ...], 'pos'), (['i', 'rented', 'this', 'movie', 'with', 'very', ...], 'pos'), (['it', \"'\", 's', 'tough', 'to', 'really', 'say', ...], 'pos'), (['in', 'december', 'of', '1996', ',', 'a', 'little', ...], 'pos'), (['the', 'thirteenth', 'floor', ',', 'the', 'third', ...], 'pos'), (['notice', ':', 'this', 'is', 'a', 'review', 'and', ...], 'pos'), (['linda', 'fiorentino', 'disappeared', 'off', 'the', ...], 'pos'), (['i', 'hate', 'to', 'burst', 'your', 'bubble', ',', ...], 'pos'), (['written', 'by', 'mark', 'rosenthal', 'and', ...], 'pos'), (['in', 'present', 'day', 'hanoi', ',', 'three', ...], 'pos'), (['let', \"'\", 's', 'say', 'you', 'live', 'at', 'the', ...], 'pos'), (['in', '_daylight_', ',', 'sylvester', 'stallone', ...], 'pos'), (['let', 'me', 'open', 'this', 'one', 'with', 'a', ...], 'pos'), (['the', 'party', 'is', 'one', 'of', 'those', 'classic', ...], 'pos'), (['eddie', 'murphy', 'has', 'had', 'his', 'share', 'of', ...], 'pos'), (['\"', 'six', 'days', ',', 'seven', 'nights', '\"', 'is', ...], 'pos'), (['sick', ':', 'the', 'life', 'and', 'death', 'of', ...], 'pos'), (['i', 'am', 'starting', 'to', 'write', 'this', ...], 'pos'), (['capsule', ':', 'a', 'rock', 'and', 'roll', 'fable', ...], 'pos'), (['in', 'intolerance', ',', 'd', '.', 'w', '.', ...], 'pos'), (['i', 'don', \"'\", 't', 'know', 'how', 'many', 'other', ...], 'pos'), (['the', 'sweet', 'hereafter', 'could', 'serve', 'as', ...], 'pos'), (['ingredients', ':', 'london', 'gal', ',', 'fate', ',', ...], 'pos'), (['james', 'jones', ',', 'one', 'of', 'the', 'major', ...], 'pos'), (['everyone', 'knows', 'someone', 'like', 'giles', 'de', ...], 'pos'), (['if', 'you', 'want', 'some', 'hearty', 'laughs', ',', ...], 'pos'), (['plot', ':', 'during', 'a', '10', '-', 'week', 'span', ...], 'pos'), (['\"', '.', '.', 'it', \"'\", 's', 'certainly', 'more', ...], 'pos'), (['the', 'andromeda', 'strain', 'is', 'the', 'greatest', ...], 'pos'), (['a', 'miracle', 'of', 'filmmaking', ',', '\"', 'some', ...], 'pos'), (['gordon', 'fleming', '(', 'peter', 'mullan', ')', ...], 'pos'), (['some', 'critics', ',', 'including', 'siskel', '&', ...], 'pos'), (['it', 'may', 'seem', 'weird', 'to', 'begin', 'a', ...], 'pos'), (['plot', ':', 'derek', 'zoolander', 'is', 'a', 'male', ...], 'pos'), (['warning', ':', 'this', 'review', 'contains', 'some', ...], 'pos'), (['i', 'was', 'pleasantly', 'surprised', 'by', 'this', ...], 'pos'), (['my', 'fellow', 'americans', 'is', 'a', 'movie', ...], 'pos'), (['hollywood', 'has', 'really', 'done', 'the', 'whole', ...], 'pos'), (['garry', 'shandling', 'makes', 'his', 'long', ...], 'pos'), (['the', 'truman', 'show', '(', 'paramount', 'pictures', ...], 'pos'), (['i', 'remember', 'making', 'a', 'pact', ',', 'right', ...], 'pos'), (['when', 'andy', 'leaves', 'for', 'cowboy', 'camp', ...], 'pos'), (['meet', 'joe', 'black', 'is', 'your', 'classic', ...], 'pos'), (['the', 'full', 'monty', 'is', 'a', 'whole', 'lot', ...], 'pos'), (['capsule', ':', 'this', 'is', 'a', 'film', 'that', ...], 'pos'), (['a', 'fully', 'loaded', 'entertainment', 'review', ...], 'pos'), (['i', \"'\", 've', 'noticed', 'something', 'lately', ...], 'pos'), (['bruce', 'willis', 'is', 'a', 'type', '-', 'casted', ...], 'pos'), (['the', 'only', 'historical', 'figure', 'that', 'has', ...], 'pos'), (['\"', 'gattaca', '\"', 'represents', 'a', 'solid', ...], 'pos'), (['you', \"'\", 'd', 'think', 'it', 'would', 'be', 'easy', ...], 'pos'), (['clint', 'eastwood', ',', 'in', 'his', 'ripe', 'old', ...], 'pos'), (['there', 'are', 'some', 'works', 'of', 'art', 'that', ...], 'pos'), (['every', 'once', 'in', 'a', 'while', ',', 'when', ...], 'pos'), (['you', 'may', 'not', 'have', 'heard', 'of', 'lucas', ...], 'pos'), (['capsule', ':', 'a', 'short', 'punchy', 'action', ...], 'pos'), (['plot', ':', 'jet', 'li', 'is', 'a', 'chinese', 'cop', ...], 'pos'), (['charlie', 'sheen', 'stars', 'as', 'zane', ',', 'a', ...], 'pos'), (['usually', 'when', 'one', 'is', 'debating', 'who', ...], 'pos'), (['screen', 'story', 'by', 'kevin', 'yagher', 'and', ...], 'pos'), (['no', ',', 'it', 'is', 'not', 'a', 'bad', 'film', ',', ...], 'pos'), (['directed', 'by', ':', 'pixote', 'hunt', ',', ...], 'pos'), (['one', 'of', 'my', 'colleagues', 'was', 'surprised', ...], 'pos'), (['near', 'the', 'end', 'of', '1996', ',', 'analysts', ...], 'pos'), (['in', '1994', ',', 'an', 'insider', \"'\", 's', 'look', ...], 'pos'), (['metro', 'i', \"'\", 've', 'seen', 'san', 'francisco', ...], 'pos'), (['with', 'a', 'team', 'of', '200', 'graphic', ...], 'pos'), (['on', 're', '-', 'watching', 'italian', 'writer', '/', ...], 'pos'), (['with', 'the', 'abundance', 'of', 'trite', ',', ...], 'pos'), (['in', '1995', ',', 'brian', 'singer', 'and', ...], 'pos'), (['the', 'release', 'of', 'dolores', 'claiborne', ...], 'pos'), (['earth', 'is', 'a', 'harsh', ',', 'unconsoling', ...], 'pos'), (['steve', 'soderbergh', \"'\", 's', '\"', 'sex', ',', ...], 'pos'), (['many', 'people', 'will', 'not', 'find', 'much', 'to', ...], 'pos'), (['in', 'the', 'company', 'of', 'men', 'made', 'a', ...], 'pos'), (['the', 'latest', 'epos', 'from', 'lars', 'is', 'a', ...], 'pos'), (['the', 'most', 'common', '(', 'and', 'in', 'many', ...], 'pos'), (['robert', 'altman', \"'\", 's', 'cookie', \"'\", 's', ...], 'pos'), (['film', 'adaptation', 'of', 'hunter', 's', '.', ...], 'pos'), (['i', 'suppose', 'an', 'argument', 'could', 'be', ...], 'pos'), (['the', 'deer', 'hunter', ',', 'directed', 'by', ...], 'pos'), (['the', '1990s', 'produced', 'two', 'brilliant', ...], 'pos'), (['when', 'i', 'was', 'growing', 'up', 'in', '1970s', ...], 'pos'), (['\"', 'take', 'a', 'number', ',', 'fill', 'out', 'a', ...], 'pos'), (['the', 'seasoned', 'capt', '.', 'dudley', 'smith', ...], 'pos'), (['books', 'could', 'be', ',', 'and', 'indeed', 'have', ...], 'pos'), (['in', 'my', 'review', 'of', 'there', \"'\", 's', ...], 'pos'), (['with', 'many', 'big', '-', 'budget', 'science', ...], 'pos'), (['a', 'common', 'complaint', 'amongst', 'film', ...], 'pos'), (['larry', 'flynt', 'is', 'a', 'self', 'proclaimed', ...], 'pos'), (['city', 'of', 'angels', 'is', 'the', 'kind', 'of', ...], 'pos'), (['seen', 'september', '13', ',', '1998', 'at', '4', ...], 'pos'), (['\"', 'remember', 'what', 'the', 'mpaa', 'says', ':', ...], 'pos'), (['jean', '-', 'luc', 'picard', '(', 'patrick', ...], 'pos'), (['damn', 'those', 'trailers', '.', 'had', 'it', 'not', ...], 'pos'), (['trailing', 'the', 'success', 'of', 'brit', 'humour', ...], 'pos'), (['jacques', 'tati', \"'\", 's', '1953', 'classic', '\"', ...], 'pos'), (['of', 'all', 'the', 'films', 'i', \"'\", 've', 'come', ...], 'pos'), (['in', 'the', 'wake', 'of', 'the', 'smashing', ...], 'pos'), (['note', ':', 'ordinarily', ',', 'moviereviews', '.', ...], 'pos'), (['--', 'comedy', ',', 'rated', 'pg', ',', 'runs', ...], 'pos'), (['who', 'would', 'have', 'thought', '?', 'jim', ...], 'pos'), (['i', 'remember', 'hearing', 'about', 'this', 'film', ...], 'pos'), (['\"', 'the', 'fighting', 'sullivans', '\"', 'contains', ...], 'pos'), (['a', 'costume', 'drama', 'set', 'in', 'the', '1500s', ...], 'pos'), (['as', 'a', 'devout', 'atheist', 'and', 'an', 'avowed', ...], 'pos'), (['confession', 'time', ':', 'i', 'have', 'never', ',', ...], 'pos'), (['national', 'lampoon', \"'\", 's', 'animal', 'house', ...], 'pos'), (['insane', '(', 'but', 'inspired', ')', 'musical', ...], 'pos'), (['director', 'david', 'fincher', 'has', 'such', 'an', ...], 'pos'), (['one', 'can', 'not', 'observe', 'a', 'star', 'trek', ...], 'pos'), (['buffalo', '?', '66', 'is', 'a', 'very', 'rarely', ...], 'pos'), (['let', 'me', 'start', 'off', 'by', 'saying', 'that', ...], 'pos'), (['the', 'happy', 'bastard', \"'\", 's', 'quick', 'movie', ...], 'pos'), (['let', \"'\", 's', 'face', 'it', ':', 'the', '$', '100', ...], 'pos'), (['have', 'you', 'ever', 'wondered', 'if', 'death', ...], 'pos'), (['i', 'had', 'lost', 'all', 'faith', 'in', 'pg', '-', ...], 'pos'), (['look', 'back', 'at', 'all', 'the', 'times', 'in', ...], 'pos'), (['i', \"'\", 'm', 'an', 'avid', 'fan', 'of', 'the', '\"', ...], 'pos'), (['as', 'feel', '-', 'good', 'formulaic', 'as', 'it', ...], 'pos'), (['after', 'being', 'hypnotized', ',', 'a', 'man', ...], 'pos'), (['plot', ':', 'a', 'bunch', 'of', 'bad', 'guys', ...], 'pos'), (['after', 'the', 'simple', 'looking', 'little', ...], 'pos'), (['melvin', 'van', 'peebles', \"'\", '\"', 'sweet', ...], 'pos'), (['with', 'his', 'last', 'two', 'films', '-', 'shine', ...], 'pos'), (['though', 'it', 'is', 'a', 'fine', 'piece', 'of', ...], 'pos'), (['most', 'sequels', 'don', \"'\", 't', 'do', 'what', ...], 'pos'), (['disney', \"'\", 's', '35th', 'animated', 'feature', ...], 'pos'), (['here', \"'\", 's', 'a', 'word', 'analogy', ':', ...], 'pos'), (['i', 'want', 'to', 'correct', 'what', 'i', 'wrote', ...], 'pos'), (['that', 'thing', 'you', 'do', '!', ',', 'from', ...], 'pos'), (['the', 'dramatic', 'comedy', 'cousins', 'has', 'all', ...], 'pos'), (['martin', 'scorsese', \"'\", 's', 'kundun', ',', ...], 'pos'), (['a', 'cinematic', 'version', 'of', 'one', 'of', ...], 'pos'), (['`', 'we', 'run', 'tings', '.', 'tings', 'don', \"'\", ...], 'pos'), (['david', 'lynch', \"'\", 's', '\"', 'blue', 'velvet', ...], 'pos'), (['the', 'thought', '-', 'provoking', 'question', 'of', ...], 'pos'), (['since', 'their', 'film', 'debut', 'in', '1984', ...], 'pos'), (['robocop', 'is', 'an', 'intelligent', 'science', ...], 'pos'), (['mars', 'attacks', '!', '(', '1996', ')', '-', 'c', ...], 'pos'), (['on', 'the', 'basis', 'of', 'this', 'film', 'alone', ...], 'pos'), (['there', \"'\", 's', 'something', 'about', 'ben', ...], 'pos'), (['when', 'bulworth', 'ended', ',', 'i', 'allowed', ...], 'pos'), (['review', '-', 'peter', 'jackson', \"'\", 's', 'the', ...], 'pos'), (['seen', 'december', '28', ',', '1997', 'at', '8', ':', ...], 'pos'), (['tempe', 'mills', 'cinema', ',', 'az', '--', 'this', ...], 'pos'), (['harmless', ',', 'silly', 'and', 'fun', 'comedy', ...], 'pos'), (['sometimes', 'i', 'find', '19th', 'century', ...], 'pos'), (['the', 'saint', 'was', 'actually', 'a', 'little', ...], 'pos'), ([\"'\", 'pleasantville', \"'\", '(', '1998', ')', 'taps', ...], 'pos'), (['what', 'do', 'you', 'get', 'when', 'you', 'slap', ...], 'pos'), (['what', 'is', 'freedom', '?', 'how', 'does', 'one', ...], 'pos'), (['that', \"'\", 's', 'the', 'question', 'i', 'asked', ...], 'pos'), (['it', 'was', 'only', 'a', 'matter', 'of', 'time', ...], 'pos'), (['blade', 'is', 'the', 'movie', 'that', 'shows', ...], 'pos'), (['naturally', ',', 'at', 'the', 'core', 'of', 'leon', ...], 'pos'), (['warning', ':', 'anyone', 'offended', 'by', 'blatant', ...], 'pos'), (['copyright', '1996', 'graeme', 'huggan', 'carry', ...], 'pos'), (['roman', 'emperor', 'marcus', 'aurelius', '(', ...], 'pos'), (['\"', 'when', 'you', 'get', 'out', 'of', 'jail', ',', ...], 'pos'), (['making', 'a', 'sequel', 'to', 'a', 'widely', ...], 'pos'), (['why', 'do', 'so', 'many', 'children', \"'\", 's', ...], 'pos'), (['david', 'mamet', 'has', 'long', 'been', 'my', ...], 'pos'), (['i', 'can', 'sum', 'up', 'first', 'strike', 'in', ...], 'pos'), (['the', 'story', 'of', 'us', ',', 'a', 'rob', 'reiner', ...], 'pos'), (['a', 'sci', 'fi', '/', 'comedy', 'starring', 'jack', ...], 'pos'), (['i', 'must', 'say', 'from', 'the', 'outset', 'that', ...], 'pos'), (['50', \"'\", 's', '`', 'aliens', 'vs', '.', 'earth', ...], 'pos'), (['with', 'the', 'release', 'of', 'gattaca', ',', 'i', ...], 'pos'), (['any', 'movie', 'about', 'the', 'underground', ...], 'pos'), (['synopsis', ':', 'committed', 'to', 'an', 'asylum', ...], 'pos'), (['steve', 'martin', 'took', 'an', 'extended', ...], 'pos'), (['seen', 'february', '15', ',', '1998', 'on', 'home', ...], 'pos'), (['bruce', 'willis', 'stars', 'as', 'malcolm', ',', ...], 'pos'), (['a', 'bleak', 'look', 'at', 'how', 'the', 'boston', ...], 'pos'), (['nosferatu', 'the', 'vampyre', '(', 'germany', '1979', ...], 'pos'), (['the', 'calendar', 'year', 'has', 'not', 'even', ...], 'pos'), (['as', 'i', 'walked', 'out', 'of', 'crouching', ...], 'pos'), (['after', 'watching', '\"', 'rat', 'race', '\"', 'last', ...], 'pos'), (['\"', 'dangerous', 'beauty', '\"', 'is', 'a', 'really', ...], 'pos'), (['note', ':', 'some', 'may', 'consider', 'portions', ...], 'pos'), (['before', 'you', 'read', 'my', 'review', ',', 'you', ...], 'pos'), (['set', 'in', 'the', 'late', '80', \"'\", 's', 'at', ...], 'pos'), (['tibet', 'has', 'entered', 'the', 'american', ...], 'pos'), (['like', 'the', 'wonderful', '1990', 'drama', ',', '\"', ...], 'pos'), (['only', 'a', 'year', 'after', 'the', 'initial', ...], 'pos'), ([\"'\", 'lake', 'placid', \"'\", 'is', 'definately', 'not', ...], 'pos'), (['so', 'here', 'is', 'the', 'second', 'of', '1999', ...], 'pos'), (['with', 'storytelling', 'this', 'compelling', ',', ...], 'pos'), (['sometimes', 'a', 'movie', 'comes', 'along', 'that', ...], 'pos'), (['billy', 'bob', 'thornton', ',', 'who', 'had', 'a', ...], 'pos'), (['synopsis', ':', 'wealthy', 'cuban', 'landowner', ...], 'neg'), (['the', 'tagline', 'for', 'this', 'film', 'is', ':', ...], 'neg'), (['there', \"'\", 's', 'only', 'one', 'presidential', ...], 'neg'), (['\"', 'saving', 'silverman', '\"', 'is', 'a', 'good', ...], 'neg'), (['according', 'to', 'the', 'publicity', 'material', ...], 'neg'), (['capsule', ':', 'five', 'friends', 'at', 'a', 'stag', ...], 'neg'), (['this', 'is', 'an', 'adaptation', 'of', 'h', '.', 'g', ...], 'neg'), (['let', 'me', 'just', 'start', 'this', 'review', 'off', ...], 'neg'), (['movie', 'concepts', 'are', 'often', 'pitched', 'to', ...], 'neg'), (['synopsis', ':', 'back', '-', 'up', 'quarterback', ...], 'neg'), (['director', 'andrew', 'davis', 'reworks', 'his', ...], 'neg'), (['\"', 'snake', 'eyes', '\"', 'is', 'the', 'most', ...], 'neg'), (['i', 'don', \"'\", 't', 'appreciate', 'it', 'when', 'a', ...], 'neg'), (['maybe', 'this', 'mission', 'should', 'have', 'been', ...], 'neg'), (['a', 'backdrop', 'of', 'new', 'year', \"'\", 's', 'eve', ...], 'neg'), (['brian', 'de', 'palma', ',', 'the', 'director', 'who', ...], 'neg'), (['beware', 'of', 'movies', 'with', 'the', 'director', ...], 'neg'), (['battlefield', 'earth', 'is', 'the', 'worst', 'film', ...], 'neg'), (['\"', 'what', \"'\", 's', 'your', 'favorite', 'new', ...], 'neg'), (['my', 'opinion', 'on', 'a', 'film', 'can', 'be', ...], 'neg'), (['vegas', 'vacation', 'is', 'the', 'fourth', 'film', ...], 'neg'), (['kids', 'today', ',', 'they', 'don', \"'\", 't', 'just', ...], 'neg'), (['brian', 'de', 'palma', \"'\", 's', 'snake', 'eyes', ...], 'neg'), (['old', 'soldiers', 'never', 'die', ',', 'they', ...], 'neg'), (['capsule', ':', 'annoyingly', 'unentertaining', ',', ...], 'neg'), (['ok', ',', 'i', 'admit', 'it', '--', 'i', 'find', ...], 'neg'), (['august', 'and', 'september', 'are', 'a', 'wasteland', ...], 'neg'), (['\"', 'the', '44', 'caliber', 'killer', 'has', ...], 'neg'), (['in', 'double', 'jeopardy', ',', 'the', 'stakes', ...], 'neg'), (['i', 'cried', 'during', '_babe_', '.', 'i', 'admit', ...], 'neg'), (['\"', 'goodbye', ',', 'lover', '\"', 'sat', 'on', 'the', ...], 'neg'), (['a', 'cop', 'with', 'a', 'troubled', 'personal', ...], 'neg'), (['by', 'phil', 'curtolo', '\"', 'madonna', '-', ...], 'neg'), (['the', 'general', \"'\", 's', 'daughter', 'is', 'a', ...], 'neg'), (['plot', ':', 'a', 'down', '-', 'and', '-', 'out', ...], 'neg'), (['burnt', 'money', 'is', 'the', 'perfect', 'festival', ...], 'neg'), (['rated', ':', 'r', 'for', 'strong', 'violence', ',', ...], 'neg'), (['working', 'in', 'the', 'motion', 'picture', ...], 'neg'), (['here', \"'\", 's', 'something', 'to', 'chew', 'on', ...], 'neg'), (['this', 'is', 'my', 'first', 'review', 'that', 'i', ...], 'neg'), (['as', 'a', 'hot', '-', 'shot', 'defense', 'attorney', ...], 'neg'), (['an', '80', '-', 'year', 'old', 'woman', 'jumps', ...], 'neg'), (['you', 'know', 'the', 'plot', ':', 'a', 'dimwit', ...], 'neg'), (['this', 'film', 'is', 'extraordinarily', 'horrendous', ...], 'neg'), (['for', 'a', 'movie', 'with', 'such', 'deep', ...], 'neg'), (['plot', ':', 'token', 'director', 'alan', 'smithee', ...], 'neg'), (['as', 'far', 'as', '\"', 'mystery', 'men', '\"', 'is', ...], 'neg'), (['it', \"'\", 's', 'tough', 'to', 'be', 'an', 'aspiring', ...], 'neg'), (['from', 'dusk', 'till', 'dawn', '(', 'director', '/', ...], 'neg'), (['every', 'now', 'and', 'then', ',', 'reviewers', ...], 'neg'), (['i', 'wish', 'more', 'films', 'would', 'take', 'on', ...], 'neg'), (['man', ',', 'this', 'was', 'one', 'wierd', 'movie', ...], 'neg'), (['\"', 'mercury', 'rising', '\"', 'has', 'numerous', ...], 'neg'), (['plunkett', '&', 'macleane', 'marks', 'the', ...], 'neg'), (['i', 'came', 'to', 'an', 'epiphany', 'while', ...], 'neg'), (['several', 'days', 'after', 'having', 'seen', 'this', ...], 'neg'), (['this', 'season', 'needs', 'another', 'serial', ...], 'neg'), (['all', 'right', ',', 'all', 'right', ',', 'we', 'get', ...], 'neg'), ([\"'\", 'traffic', 'violation', \"'\", 'dr', '.', 'daniel', ...], 'neg'), (['martial', 'arts', 'master', 'steven', 'seagal', '(', ...], 'neg'), (['`', 'the', 'bachelor', \"'\", 'is', 'one', 'of', 'the', ...], 'neg'), (['the', 'one', 'question', 'that', 'eats', 'at', 'me', ...], 'neg'), (['1989', \"'\", 's', '\"', 'major', 'league', '\"', 'was', ...], 'neg'), (['i', 'didn', \"'\", 't', 'come', 'into', 'city', 'of', ...], 'neg'), (['synopsis', ':', 'the', 'president', 'of', 'a', ...], 'neg'), (['the', 'best', 'thing', 'about', ',', '\"', 'lake', ...], 'neg'), (['funny', 'how', 'your', 'expectations', 'can', 'be', ...], 'neg'), (['\"', 'houston', '.', 'we', 'have', 'a', 'serious', ...], 'neg'), (['synopsis', ':', 'a', 'novelist', 'struggling', ...], 'neg'), (['capsule', ':', 'in', '2176', 'on', 'the', 'planet', ...], 'neg'), (['\"', 'i', 'would', 'appreciate', 'it', 'if', 'you', ...], 'neg'), (['the', 'great', 'actor', 'james', 'woods', 'once', ...], 'neg'), (['there', 'have', 'been', 'merchant', '-', 'ivory', ...], 'neg'), (['by', 'starring', 'in', 'amy', 'heckerling', \"'\", 's', ...], 'neg'), (['since', 'director', 'steven', 'zaillian', ...], 'neg'), (['ugh', '.', 'that', 'about', 'sums', 'this', 'movie', ...], 'neg'), (['adam', 'sandler', 'turns', 'up', 'the', 'charm', ...], 'neg'), (['synopsis', ':', 'a', 'maniac', ',', 'crazed', 'by', ...], 'neg'), (['this', 'movie', 'stinks', '!', 'although', 'it', ...], 'neg'), (['the', 'makers', 'of', 'spawn', 'have', 'created', ...], 'neg'), (['the', 'general', \"'\", 's', 'daughter', 'will', ...], 'neg'), (['some', 'movies', 'ask', 'you', 'to', 'leave', 'your', ...], 'neg'), (['of', 'course', 'i', 'knew', 'this', 'going', 'in', ...], 'neg'), (['are', 'you', 'like', 'me', '?', 'do', 'you', 'get', ...], 'neg'), (['who', 'knew', 'that', 'in', '16', 'years', 'eddie', ...], 'neg'), (['david', 'schwimmer', '(', 'from', 'the', ...], 'neg'), (['the', '\"', 'fab', '4', '\"', 'of', 'ronald', 'reagan', ...], 'neg'), (['in', 'times', 'of', 'crisis', 'people', 'are', ...], 'neg'), (['capsule', ':', 'a', 'ham', '-', 'handed', 'and', ...], 'neg'), (['if', 'only', 'austin', 'powers', ':', 'the', 'spy', ...], 'neg'), (['in', 'french', ',', 'the', 'phrase', '\"', 'film', ...], 'neg'), (['\"', 'holy', 'man', '\"', 'boasts', 'a', 'sweet', ',', ...], 'neg'), (['apparently', ',', 'when', 'crap', 'calls', ',', ...], 'neg'), (['five', 'girls', 'spend', 'a', 'day', 'in', 'a', ...], 'neg'), (['aspiring', 'broadway', 'composer', 'robert', '(', ...], 'neg'), (['the', 'plot', 'of', 'big', 'momma', \"'\", 's', ...], 'neg'), (['hollywood', 'never', 'fails', 'to', 'astound', 'me', ...], 'neg'), (['michael', 'robbins', \"'\", 'hardball', 'is', 'quite', ...], 'neg'), (['you', 'know', 'something', ',', 'christmas', 'is', ...], 'neg'), (['hello', 'kids', '.', 'today', 'the', 'movie', ...], 'neg'), (['the', 'classic', 'story', '&', 'the', 'production', ...], 'neg'), (['capsule', ':', 'the', 'running', 'gag', 'pair', 'of', ...], 'neg'), (['it', \"'\", 's', 'actually', 'not', 'so', 'bad', ...], 'neg'), (['certainly', 'no', 'one', 'would', 'rent', 'ed', ...], 'neg'), (['\"', 'there', 'will', 'be', 'another', ',', '\"', ...], 'neg'), (['the', 'formula', 'is', 'simple', '.', 'trap', 'a', ...], 'neg'), (['i', \"'\", 've', 'got', 'to', 'admit', 'it', '.', '.', ...], 'neg'), (['the', 'scene', 'at', 'the', 'end', 'of', '1989', \"'\", ...], 'neg'), (['supposedly', 'based', 'on', 'a', 'true', 'story', ...], 'neg'), (['roger', 'ebert', 'asks', 'in', 'his', 'review', 'of', ...], 'neg'), (['once', 'upon', 'a', 'time', 'jean', '-', 'claude', ...], 'neg'), (['one', 'night', ',', 'during', 'a', 'torrential', ...], 'neg'), (['best', 'remembered', 'for', 'his', 'understated', ...], 'neg'), (['if', 'you', 'have', 'ever', 'seen', 'fox', 'tv', \"'\", ...], 'neg'), (['it', 'seems', 'that', 'i', \"'\", 've', 'stopped', ...], 'neg'), (['by', 'trying', 'to', 'satisfy', 'every', 'kind', ...], 'neg'), (['arriving', 'in', 'a', 'barrage', 'of', 'hype', ',', ...], 'neg'), (['synopsis', ':', 'al', 'simmons', ',', 'top', '-', ...], 'neg'), (['at', 'first', 'glance', ',', 'i', 'thought', 'that', ...], 'neg'), (['movies', 'can', 'do', 'the', 'two', 'big', 'es', ...], 'neg'), (['synopsis', ':', 'nice', 'girl', 'susanne', 'has', ...], 'neg'), (['can', 'you', 'say', '\"', 'dated', '\"', '?', 'you', ...], 'neg'), (['stars', ':', 'armand', 'assante', '(', 'mike', ...], 'neg'), (['one', 'of', 'the', 'contributors', 'to', 'the', ...], 'neg'), (['i', 'want', 'to', 'be', 'involved', 'in', 'show', ...], 'neg'), (['_dirty_work_', 'has', 'a', 'premise', 'of', ...], 'neg'), (['after', 'seeing', 'blaze', 'and', 'driving', 'miss', ...], 'neg'), (['various', 'films', 'seen', 'at', 'the', 'seattle', ...], 'neg'), (['the', 'new', 'austin', 'powers', 'film', 'continues', ...], 'neg'), (['it', \"'\", 's', 'a', 'good', 'thing', 'most', ...], 'neg'), (['warning', ':', 'spoilers', 'are', 'included', 'in', ...], 'neg'), (['a', 'few', 'months', 'before', 'the', 'release', ...], 'neg'), (['movies', 'based', 'on', 'video', 'games', ',', ...], 'neg'), (['a', 'hotshot', 'lawyer', 'gets', 'an', 'obviously', ...], 'neg'), (['wolfgang', 'petersen', \"'\", 's', 'latest', ',', ...], 'neg'), (['this', 'is', 'the', 'worst', 'movie', 'i', \"'\", 've', ...], 'neg'), (['david', 'spade', 'has', 'a', 'snide', ',', ...], 'neg'), (['this', 'well', '-', 'conceived', 'but', 'ultra', ...], 'neg'), (['susan', 'granger', \"'\", 's', 'review', 'of', '\"', ...], 'neg'), (['for', 'timing', 'reasons', 'having', 'to', 'do', ...], 'neg'), (['\"', 'jack', 'frost', ',', '\"', 'is', 'one', 'of', ...], 'neg'), (['depending', 'on', 'your', 'degree', 'of', ...], 'neg'), (['arye', 'cross', 'and', 'courteney', 'cox', 'star', ...], 'neg'), (['warner', 'brothers', ';', 'rated', 'pg', '-', '13', ...], 'neg'), (['weighed', 'down', 'by', 'tired', 'plot', 'lines', ...], 'neg'), (['a', 'big', 'house', '.', 'a', 'big', 'director', ',', ...], 'neg'), (['the', 'high', 'school', 'comedy', 'seems', 'to', ...], 'neg'), (['cashing', 'in', 'on', 'the', 'success', 'of', ...], 'neg'), (['when', 'the', 'mediums', 'in', 'question', 'are', ...], 'neg'), (['surrounded', 'by', 'hype', ',', 'high', 'hopes', ',', ...], 'neg'), (['plot', ':', 'a', 'rich', 'psychiatrist', 'with', 'a', ...], 'neg'), (['\"', 'lake', 'placid', '\"', 'marks', 'yet', 'another', ...], 'neg'), (['attention', 'moviegoers', ':', 'you', 'are', 'about', ...], 'neg'), (['woody', 'allen', 'is', 'one', 'of', 'the', 'most', ...], 'neg'), (['written', 'by', 'alex', 'cox', ',', 'tod', 'davies', ...], 'neg'), (['writing', 'a', 'screenplay', 'for', 'a', 'thriller', ...], 'neg'), (['steve', 'martin', 'shines', 'but', 'sgt', '.', ...], 'neg'), (['the', 'catch', 'phrase', 'for', 'disney', \"'\", 's', ...], 'neg'), (['pre', '-', 'review', 'note', ':', 'seeing', 'as', ...], 'neg'), (['ladies', 'and', 'gentlemen', ',', 'payback', 'is', ...], 'neg'), (['in', '\"', 'the', '13th', 'warrior', ',', '\"', 'arab', ...], 'neg'), (['it', 'seems', 'like', 'i', \"'\", 'm', 'reviewing', ...], 'neg'), (['it', 'seemed', 'like', 'the', 'perfect', 'concept', ...], 'neg'), (['five', 'years', 'after', 'his', 'directorial', ...], 'neg'), (['darren', '(', 'jason', 'biggs', ')', ',', 'wayne', ...], 'neg'), (['\"', 'easely', 'one', 'of', 'the', 'worst', 'films', ...], 'neg'), (['ready', 'to', 'rumble', 'is', 'not', 'a', ...], 'neg'), (['sometimes', 'a', 'stellar', 'cast', 'can', ...], 'neg'), (['8mm', 'is', 'not', 'going', 'to', 'enlighten', ...], 'neg'), (['synopsis', ':', 'two', 'con', 'artists', 'find', ...], 'neg'), (['billy', 'crystal', 'reappears', 'in', 'yet', ...], 'neg'), (['i', 'have', 'a', 'great', 'idea', 'for', 'a', ...], 'neg'), (['there', 'isn', \"'\", 't', 'much', 'good', 'about', ...], 'neg'), (['`', 'the', 'skulls', \"'\", 'is', 'a', 'laughably', ...], 'neg'), (['writers', ':', 'dennis', 'feldman', 'and', ...], 'neg'), (['whether', 'or', 'not', 'i', 'would', 'be', ...], 'neg'), (['i', 'have', 'a', 'confession', '.', 'even', 'though', ...], 'neg'), (['battlefield', 'long', ',', 'boring', 'and', 'just', ...], 'neg'), (['susan', 'granger', \"'\", 's', 'review', 'of', '\"', ...], 'neg'), (['after', 'enduring', 'mariah', 'carey', \"'\", 's', ...], 'neg'), (['i', 'had', 'an', 'epiphany', 'today', '.', 'it', ...], 'neg'), (['there', 'may', 'not', 'be', 'a', 'critic', 'alive', ...], 'neg'), (['*', '*', '*', 'warning', '-', 'the', 'following', ...], 'neg'), (['there', \"'\", 's', 'a', 'good', ',', 'and', 'timely', ...], 'neg'), (['the', 'crown', 'jewel', 'of', '1970', \"'\", 's', ...], 'neg'), (['instinct', 'is', 'the', 'kind', 'of', 'movie', ...], 'neg'), (['walt', 'disney', 'studios', 'may', 'have', 'finally', ...], 'neg'), (['well', 'if', 'you', 'are', 'up', 'for', 'stellar', ...], 'neg'), (['capsule', ':', 'one', 'of', 'the', 'ten', 'worst', ...], 'neg'), (['underwater', 'science', 'fiction', 'stays', ...], 'neg'), (['synopsis', ':', 'cro', '-', 'magnon', 'ayla', ...], 'neg'), (['nostalgia', 'for', 'the', '70s', 'continues', ',', ...], 'neg'), (['and', 'now', 'the', 'high', '-', 'flying', 'hong', ...], 'neg'), (['synopsis', ':', 'a', 'mentally', 'unstable', 'man', ...], 'neg'), (['the', 'thirteenth', 'floor', 'is', 'a', 'bland', ',', ...], 'neg'), (['the', 'comet', '-', 'disaster', 'flick', 'is', 'a', ...], 'neg'), (['i', \"'\", 've', 'always', 'been', 'a', 'kevin', ...], 'neg'), (['there', 'are', 'scenes', 'in', '\"', 'the', 'big', ...], 'neg'), (['we', 'could', 'paraphrase', 'michelle', 'pfieffer', ...], 'neg'), (['capsule', ':', 'liebes', 'meets', 'tod', '.', 'this', ...], 'neg'), (['it', \"'\", 's', 'almost', 'amusing', 'to', 'watch', ...], 'neg'), (['bad', 'movies', 'described', 'as', '\"', 'a', 'swift', ...], 'neg'), (['i', 'wish', 'i', 'could', 'have', 'been', 'in', ...], 'neg'), (['mighty', 'joe', 'young', 'blunders', 'about', 'for', ...], 'neg'), (['\"', 'payback', ',', '\"', 'brian', 'helgeland', \"'\", ...], 'neg'), (['synopsis', ':', 'sullen', 'julie', 'james', ',', ...], 'neg'), (['fit', 'for', 'a', 'ghoul', \"'\", 's', 'night', 'out', ...], 'neg'), (['this', 'movie', 'is', 'written', 'by', 'the', 'man', ...], 'neg'), (['say', ',', 'tell', 'me', 'if', 'you', \"'\", 've', ...], 'neg'), (['contrary', 'to', 'popular', 'belief', ',', 'not', ...], 'neg'), (['when', 'respecting', 'a', 'director', ',', 'you', ...], 'neg'), (['\"', 'knock', 'off', '\"', 'is', 'exactly', 'that', ...], 'neg'), (['the', 'haunting', ',', 'a', 'film', 'so', ...], 'neg'), (['first', 'impressions', ':', 'critically', ',', 'a', ...], 'neg'), (['it', \"'\", 's', 'time', 'to', 'take', 'cover', '.', ...], 'neg'), (['i', 'read', 'the', 'new', 'yorker', 'magazine', ...], 'neg'), (['and', 'i', 'thought', '\"', 'stigmata', '\"', 'would', ...], 'neg'), (['that', 'is', ',', 'unless', 'you', \"'\", 're', 'one', ...], 'neg'), (['summer', 'movies', 'are', ',', 'by', 'nature', ',', ...], 'neg'), (['so', 'much', 'for', 'sweet', 'returns', '.', 'after', ...], 'neg'), (['isn', \"'\", 't', 'it', 'the', 'ultimate', 'sign', ...], 'neg'), (['america', 'loves', 'convenience', '.', 'after', ...], 'neg'), (['i', 'wish', 'i', 'could', 'accurately', 'describe', ...], 'neg'), (['\"', 'have', 'you', 'ever', 'heard', 'the', 'one', ...], 'neg'), (['everything', 'about', 'this', 'ninth', 'trek', ...], 'neg'), (['drew', 'barrymore', 'is', 'beginning', 'to', ...], 'neg'), (['\"', 'love', 'to', 'kill', '\"', 'starts', 'off', ...], 'neg'), (['susan', 'granger', \"'\", 's', 'review', 'of', '\"', ...], 'neg'), (['m', ':', 'i', '-', '2', ',', 'the', 'sequel', 'to', ...], 'neg'), (['what', \"'\", 's', 'to', 'like', 'about', 'the', ...], 'neg'), (['ever', 'feel', 'you', \"'\", 're', 'spending', 'your', ...], 'neg'), (['disney', \"'\", 's', '\"', 'air', 'bud', '\"', 'tells', ...], 'neg'), (['when', 'robert', 'forster', 'found', 'himself', ...], 'neg'), (['director', 'doug', 'ellin', \"'\", 's', 'kissing', 'a', ...], 'neg'), (['well', ',', 'as', 'i', 'check', 'my', 'score', ...], 'neg'), (['the', 'most', 'absurd', 'remake', 'of', '1998', '?', ...], 'neg'), (['an', 'american', 'werewolf', 'in', 'london', 'is', ...], 'neg'), (['in', 'our', 'time', '.', 'in', 'our', 'modern', ...], 'neg'), (['robin', 'williams', ',', 'this', 'time', 'without', ...], 'neg'), (['it', 'used', 'to', 'be', 'that', 'not', 'just', ...], 'neg'), (['susan', 'granger', \"'\", 's', 'review', 'of', '\"', ...], 'neg'), (['when', 'i', 'watch', 'a', 'movie', 'like', 'mike', ...], 'neg'), (['inspired', 'by', 'the', '1958', 'film', 'house', ...], 'neg'), (['for', 'his', 'directoral', 'debut', ',', 'gary', ...], 'neg'), (['john', 'carpenter', 'makes', 'b', '-', 'movies', '.', ...], 'neg'), (['deuce', 'bigalow', '(', 'rob', 'schneider', ')', ...], 'neg'), (['have', 'you', 'ever', 'been', 'in', 'an', ...], 'neg'), (['\"', 'return', 'to', 'horror', 'high', ',', '\"', ...], 'neg'), (['capsule', ':', 'not', 'as', 'bad', 'a', 'sequel', ...], 'neg'), (['synopsis', ':', 'when', 'a', 'meteorite', ...], 'neg'), (['i', \"'\", 'm', 'not', 'sure', 'who', 'the', 'genius', ...], 'neg'), (['one', 'of', 'the', 'most', 'respected', 'names', ...], 'neg'), (['there', 'was', 'probably', 'a', 'good', 'reason', ...], 'neg'), (['1', '.', 'he', 'doesn', \"'\", 't', 'have', 'a', ...], 'neg'), (['mugshot', '(', 'director', '/', 'writer', '/', ...], 'neg'), (['the', 'marvelous', 'british', 'actor', 'derek', ...], 'neg'), (['okay', ',', 'okay', '.', 'maybe', 'i', 'wasn', \"'\", ...], 'neg'), (['american', 'pie', '2', 'is', 'filled', 'with', ...], 'neg'), (['arnold', 'schwarzenegger', 'has', 'been', 'an', ...], 'neg'), (['susan', 'granger', \"'\", 's', 'review', 'of', '\"', ...], 'neg'), (['all', 'through', 'its', 'production', 'and', 'into', ...], 'neg'), (['how', 'do', 'films', 'like', 'mouse', 'hunt', 'get', ...], 'neg'), (['coinciding', 'with', 'the', 'emerging', 'popularity', ...], 'neg'), (['this', 'review', 'contains', 'spoilers', ',', 'but', ...], 'neg'), (['there', 'are', 'some', 'pretty', 'impressive', ...], 'neg'), (['retelling', 'the', 'classic', 'story', 'of', 'joan', ...], 'neg'), (['the', 'film', 'may', 'be', 'called', 'mercury', ...], 'neg'), (['around', 'the', 'end', 'of', '1998', ',', 'a', ...], 'neg'), (['in', 'my', 'opinion', ',', 'a', 'movie', 'reviewer', ...], 'neg'), (['this', 'movie', 'about', 'two', 'dysfunctional', ...], 'neg'), (['dr', 'dolittle', '(', '20th', 'century', 'fox', ')', ...], 'neg'), (['i', 'have', 'little', 'against', 'remakes', 'and', ...], 'neg'), (['capsule', ':', 'godawful', '\"', 'comedy', '\"', ...], 'neg'), (['years', 'ago', ',', 'robin', 'williams', 'made', ...], 'neg'), (['the', 'happy', 'bastard', \"'\", 's', 'quick', 'movie', ...], 'neg'), (['warning', ':', 'may', 'contain', 'slight', 'mild', ...], 'neg'), (['call', 'it', 'a', 'road', 'trip', 'for', 'the', ...], 'neg'), (['hong', 'kong', 'cinema', 'has', 'been', 'going', ...], 'neg'), (['some', 'talented', 'actresses', 'are', 'blessed', ...], 'neg'), (['carry', 'on', 'at', 'your', 'convenience', 'is', ...], 'neg'), (['movies', 'like', 'six', 'days', ',', 'seven', ...], 'neg'), (['the', 'lives', 'of', 'older', 'people', 'in', 'the', ...], 'neg'), (['chris', 'tucker', 'is', 'one', 'of', 'those', 'guys', ...], 'neg'), (['over', '40', 'years', 'ago', ',', 'a', 'japanese', ...], 'neg'), (['capsule', ':', 'this', 'super', '-', 'light', ...], 'neg'), (['while', 'watching', 'loser', ',', 'it', 'occurred', ...], 'neg'), (['jackie', 'chan', 'kicks', 'his', 'way', 'into', ...], 'neg'), (['note', ':', 'some', 'may', 'consider', 'portions', ...], 'neg'), (['i', \"'\", 'm', 'going', 'to', 'start', 'this', ...], 'neg'), (['i', 'am', 'continually', 'amazed', 'at', 'movies', ...], 'neg'), (['part', 'buddy', 'comedy', ',', 'part', 'fish', '-', ...], 'neg'), (['there', 'should', 'be', 'a', 'requirement', 'that', ...], 'neg'), (['walken', 'stars', 'as', 'a', 'mobster', 'who', 'is', ...], 'neg'), (['renowned', 'hong', 'kong', 'action', 'director', ...], 'neg'), (['romeo', 'is', 'bleeding', 'wants', 'to', 'carry', ...], 'neg'), (['it', \"'\", 's', 'amazing', 'how', 'a', 'comedian', ...], 'neg'), (['the', 'word', 'to', 'describe', 'sharon', 'stone', ...], 'neg'), (['the', 'corruptor', 'is', 'a', 'big', 'silly', 'mess', ...], 'neg'), (['back', 'in', 'february', 'at', 'the', 'monthly', ...], 'neg'), (['did', 'i', 'do', 'something', 'bad', '?', 'i', ...], 'neg'), (['deserves', 'recognition', 'for', ':', 'making', ...], 'neg'), (['capsule', ':', 'the', 'weakest', 'and', 'least', ...], 'neg'), (['an', 'attempt', 'at', 'florida', 'film', 'noir', ',', ...], 'neg'), (['house', 'on', 'haunted', 'hill', '(', '1999', ')', ...], 'neg'), (['1990s', 'would', 'remembered', 'as', 'the', 'era', ...], 'neg'), (['8mm', ',', 'written', 'by', 'seven', 'scribe', ...], 'neg'), (['all', 'feature', 'film', 'directors', 'who', 'cut', ...], 'neg'), (['i', \"'\", 'm', 'a', 'dedicated', 'fan', 'of', ...], 'neg'), (['_soldier_', 'is', 'hands', 'down', 'one', 'of', ...], 'neg'), (['well', 'lets', 'see', '.', '.', '.', 'i', \"'\", 'm', ...], 'neg'), (['the', 'art', 'of', 'woo', 'attempts', 'to', 'be', ...], 'neg'), (['to', 'watch', '`', 'battlefield', 'earth', \"'\", 'is', ...], 'neg'), (['according', 'to', 'popular', 'film', 'opinion', ',', ...], 'neg'), (['\"', 'spawn', '\"', 'may', 'be', 'somewhat', 'of', ...], 'neg'), (['wyatt', 'earp', 'details', 'thirty', '-', 'five', ...], 'neg'), (['even', 'the', 'best', 'comic', 'actor', 'is', 'at', ...], 'neg'), (['she', 'was', 'the', 'femme', 'in', '\"', 'la', ...], 'neg'), (['renee', 'zellweger', 'stars', 'as', 'sonia', ',', ...], 'neg'), (['one', 'of', 'the', 'most', 'blatantly', 'obvious', ...], 'neg'), (['well', 'i', 'guess', 'it', \"'\", 's', 'that', 'time', ...], 'neg'), (['hey', ',', 'i', \"'\", 've', 'got', 'a', 'great', ...], 'neg'), (['the', 'last', 'of', 'vampire', '-', 'films', ...], 'neg'), (['\"', 'we', 'are', 'grateful', 'that', 'we', 'have', ...], 'neg'), (['claire', 'danes', ',', 'giovanni', 'ribisi', ',', ...], 'neg'), (['plot', ':', 'a', 'young', 'french', 'boy', 'sees', ...], 'neg'), (['you', 'don', \"'\", 't', 'look', 'at', 'a', 'ren', '?', ...], 'neg'), (['i', 'was', 'recently', 'told', 'that', 'in', 'china', ...], 'neg'), (['the', 'year', 'is', 'barely', 'a', 'week', 'old', ...], 'neg'), (['before', 'the', 'remake', 'of', 'psycho', 'appears', ...], 'neg'), (['in', 'the', 'mid', '-', '1980s', ',', 'following', ...], 'neg'), (['upon', 'first', 'viewing', 'of', 'this', 'movie', ...], 'neg'), (['deceiver', 'is', 'a', 'plot', 'twist', 'in', ...], 'neg'), (['the', 'original', 'babe', 'gets', 'my', 'vote', 'as', ...], 'neg'), (['the', 'obvious', 'reason', 'for', 'producing', 'a', ...], 'neg'), (['synopsis', ':', 'blond', 'criminal', 'psychologist', ...], 'neg'), (['in', '\"', 'the', 'astronaut', \"'\", 's', 'wife', ',', ...], 'neg'), (['whenever', 'u', '.', 's', '.', 'government', ...], 'neg'), (['some', 'movies', 'require', 'you', 'to', 'turn', ...], 'neg'), (['this', 'film', 'is', 'worth', 'seeing', 'for', ...], 'neg'), (['running', 'time', 'approximately', '1hr', '40mins', ...], 'neg'), (['ever', 'watch', 'a', 'very', 'young', 'child', 'try', ...], 'neg'), (['ah', ',', 'and', '1999', 'was', 'going', 'along', ...], 'neg'), (['note', ':', 'some', 'may', 'consider', 'portions', ...], 'neg'), (['when', 'i', 'first', 'saw', 'the', 'preview', 'for', ...], 'neg'), (['anna', 'and', 'the', 'king', 'is', 'at', 'least', ...], 'neg'), (['movies', 'don', \"'\", 't', 'come', 'much', 'more', ...], 'neg'), (['preposterous', 'religious', 'action', 'film', '(', ...], 'neg'), (['susan', 'granger', \"'\", 's', 'review', 'of', '\"', ...], 'neg'), (['this', 'was', 'the', 'last', 'carry', 'on', 'movie', ...], 'neg'), (['\"', 'flubber', '\"', 'is', 'the', 'second', 'best', ...], 'neg'), (['sylvester', 'stallone', 'has', 'made', 'some', ...], 'neg'), (['at', 'the', 'end', 'of', 'an', 'action', 'scene', ...], 'neg'), (['it', 'should', 'have', 'been', 'a', 'classic', '.', ...], 'neg'), (['my', 'son', 'and', 'i', 'share', 'a', 'perverse', ...], 'neg'), (['welcome', 'to', 'your', 'oh', '-', 'so', 'typical', ...], 'neg'), (['(', 'dreamworks', 'skg', ')', 'running', 'time', ':', ...], 'neg'), (['a', 'month', 'ago', 'i', 'wrote', 'that', 'speed', ...], 'neg'), (['if', 'snake', 'eyes', 'were', 'a', 'dog', ',', 'you', ...], 'neg'), (['long', 'ago', ',', 'films', 'were', 'constructed', ...], 'neg'), (['one', 'of', 'my', 'favorite', 'songs', 'by', 'the', ...], 'neg'), (['perhaps', 'best', 'remembered', 'as', 'the', ...], 'neg'), (['way', 'of', 'the', 'gun', 'is', 'brimming', 'with', ...], 'neg'), (['after', 'the', 'recent', 'animated', 'debacles', ...], 'neg'), (['if', 'you', \"'\", 're', 'debating', 'whether', 'or', ...], 'neg'), (['what', 'would', 'you', 'do', 'if', 'no', 'one', ...], 'neg'), (['if', 'there', 'were', 'a', 'subject', 'just', ...], 'neg'), (['you', 'always', 'have', 'to', 'be', 'careful', ...], 'neg'), (['like', 'a', 'good', 'action', 'film', 'should', ',', ...], 'neg'), (['\"', 'mission', 'to', 'mars', '\"', 'is', 'one', 'of', ...], 'neg'), (['disillusioned', 'and', 'trying', 'to', 'find', 'the', ...], 'neg'), (['topless', 'women', 'talk', 'about', 'their', 'lives', ...], 'neg'), (['the', 'first', 'in', 'a', 'very', 'long', 'list', ...], 'neg'), (['deserves', 'recognition', 'for', ':', 'achieving', ...], 'neg'), (['lauded', 'as', 'a', 'genius', 'by', 'many', ',', ...], 'neg'), (['tomb', 'raider', '.', 'fun', '?', 'exciting', '?', ...], 'neg'), (['starship', 'troopers', 'is', 'a', 'bad', 'movie', ...], 'neg'), (['this', 'is', 'the', 'movie', 'that', 'could', ...], 'neg'), (['lucas', 'was', 'wise', 'to', 'start', 'his', 'star', ...], 'neg'), (['at', 'the', 'outset', 'of', 'swordfish', ',', 'john', ...], 'neg'), (['based', 'on', 'the', 'novel', 'set', 'in', '1914', ...], 'neg'), (['if', 'you', \"'\", 've', 'seen', 'the', 'trailers', ...], 'neg'), (['plot', ':', 'lara', 'croft', 'is', 'british', ',', ...], 'neg'), (['this', 'is', 'the', 'kind', 'of', 'movie', 'that', ...], 'neg'), (['for', 'a', 'good', 'ten', 'years', 'or', 'so', ',', ...], 'neg'), (['plot', ':', 'set', 'in', 'the', 'future', ',', 'a', ...], 'neg'), (['gord', 'brody', '(', 'tom', 'green', ')', 'is', 'an', ...], 'neg'), (['gordie', 'boggs', '(', 'arquette', ',', 'aptly', ...], 'neg'), (['alexandre', 'dumas', 'meets', 'hong', 'kong', ...], 'neg'), (['phaedra', 'cinema', ',', 'the', 'distributor', 'of', ...], 'neg'), (['synopsis', ':', 'valerie', ',', 'a', 'high', ...], 'neg'), (['if', 'you', \"'\", 've', 'been', 'following', ...], 'neg'), (['*', '*', '*', 'the', 'following', 'review', ...], 'neg'), (['in', 'a', 'typical', 'cinematic', 'high', 'school', ...], 'neg'), (['words', 'i', 'thought', 'i', \"'\", 'd', 'never', ...], 'neg'), (['the', 'premise', 'of', 'turbulence', 'is', 'i', \"'\", ...], 'neg'), (['don', \"'\", 't', 'let', 'this', 'movie', 'fool', ...], 'neg'), (['these', 'days', 'the', 'lack', 'of', 'originality', ...], 'neg'), (['i', 'can', 'imagine', 'how', 'good', 'krippendorf', ...], 'neg'), (['staring', ',', 'george', 'clooney', ',', 'arnold', ...], 'neg'), (['filmmakers', 'will', 'use', 'all', 'manner', 'of', ...], 'neg'), (['\"', 'the', 'world', 'on', 'land', '--', 'it', \"'\", ...], 'neg'), (['as', 'we', 'see', 'the', 'terrible', 'events', ...], 'neg'), (['the', 'army', 'comedy', 'genre', 'has', 'never', ...], 'neg'), (['what', 'makes', 'reindeer', 'games', 'even', 'more', ...], 'neg'), (['godzilla', 'is', 'the', 'ultimate', 'culmination', ...], 'neg'), (['i', \"'\", 've', 'never', 'written', 'a', 'review', ...], 'neg'), (['where', 'do', 'i', 'begin', '?', 'okay', ',', 'how', ...], 'neg'), (['if', 'there', \"'\", 's', 'one', 'thing', 'i', 'just', ...], 'neg'), (['\"', 'desperate', 'measures', '\"', 'is', 'a', ...], 'neg'), (['when', 'it', 'comes', 'to', 'the', 'average', ...], 'neg'), (['after', '1993', \"'\", 's', '\"', 'falling', 'down', ...], 'neg'), (['\"', 'shagadellic', '!', '\"', ',', '\"', 'groovy', ',', ...], 'neg'), (['\"', 'ladybugs', '\"', 'is', 'a', 'typical', 'comedy', ...], 'neg'), (['\"', 'party', 'camp', ',', '\"', 'is', 'one', 'of', ...], 'neg'), (['my', 'first', 'press', 'screening', 'of', '1998', ...], 'neg'), (['call', '\"', 'hush', '\"', '\"', 'stop', 'or', 'my', ...], 'neg'), (['if', 'anyone', 'had', 'been', 'able', 'in', '1983', ...], 'neg'), (['it', \"'\", 's', 'a', 'shame', 'the', 'execution', ...], 'neg'), (['the', '13th', 'warrior', 'reeks', 'so', 'badly', ...], 'neg'), (['you', \"'\", 'd', 'think', 'that', 'after', 'awhile', ...], 'neg'), (['not', 'so', 'long', 'ago', ',', 'men', 'by', 'the', ...], 'neg'), (['it', \"'\", 's', 'a', 'rare', 'treat', 'when', 'a', ...], 'neg'), (['the', 'blues', 'brothers', 'was', 'a', 'wonderful', ...], 'neg'), (['plot', ':', 'something', 'about', 'a', 'bunch', 'of', ...], 'neg'), (['susan', 'granger', \"'\", 's', 'review', 'of', '\"', ...], 'neg'), (['apparantly', 'money', 'talks', '.', '.', '.', 'and', ...], 'neg'), (['i', 'suppose', 'it', \"'\", 's', 'unfair', 'to', ...], 'neg'), (['in', '1989', ',', 'tim', 'burton', 'took', 'the', ...], 'neg'), (['whether', 'you', 'like', 'the', 'beatles', 'or', ...], 'neg'), (['out', 'of', 'sight', 'director', 'steven', ...], 'neg'), (['i', 'wonder', 'if', 'budget', 'is', 'at', 'all', 'a', ...], 'neg'), (['talk', 'about', 'beating', 'a', 'dead', 'horse', '!', ...], 'neg'), (['\"', '.', '.', '.', 'because', 'i', \"'\", 'm', 'a', ...], 'neg'), (['annie', 'wilson', '(', 'cate', 'blanchett', ')', ',', ...], 'neg'), (['a', 'couple', 'of', 'criminals', '(', 'mario', 'van', ...], 'neg'), (['movie', 'reviewers', 'have', 'an', 'obligation', ...], 'neg'), (['about', 'an', 'hour', 'or', 'so', 'into', '\"', 'the', ...], 'neg'), (['i', 'won', '\\x12', 't', 'even', 'pretend', 'that', ...], 'neg'), (['i', 'saw', 'this', 'film', 'on', 'christmas', 'day', ...], 'neg'), (['well', ',', 'here', \"'\", 's', 'a', 'distasteful', ...], 'neg'), (['the', 'first', 'image', 'in', '\"', 'final', ...], 'neg'), (['what', 'a', 'contrast', '!', 'in', 'the', 'space', ...], 'neg'), (['i', \"'\", 'm', 'currently', 'accepting', 'all', ...], 'neg'), (['when', 'you', \"'\", 've', 'run', 'out', 'of', 'old', ...], 'neg'), (['terrence', 'malick', 'made', 'an', 'excellent', '90', ...], 'neg'), (['i', \"'\", 'm', 'not', 'sure', 'i', 'should', 'be', ...], 'neg'), (['retrospective', ':', 'city', 'of', 'the', 'living', ...], 'neg'), (['die', 'hard', '2', 'is', 'an', 'altogether', ...], 'neg'), (['if', 'anything', ',', '\"', 'stigmata', '\"', 'should', ...], 'neg'), (['poster', 'boy', 'for', 'co', '-', 'dependency', ...], 'neg'), (['remember', 'back', 'in', 'the', 'mid', '1990s', ...], 'neg'), (['susan', 'granger', \"'\", 's', 'review', 'of', '\"', ...], 'neg'), (['the', 'event', 'horizon', 'is', 'the', 'boundary', ...], 'neg'), (['in', 'the', 'year', '2029', ',', 'captain', 'leo', ...], 'neg'), (['\"', 'quest', 'for', 'camelot', '\"', 'is', 'warner', ...], 'neg'), (['post', '-', 'chasing', 'amy', ',', 'a', 'slew', 'of', ...], 'neg'), (['you', 'should', 'have', 'heard', 'the', 'old', ...], 'neg'), (['recently', 'one', 'night', 'a', 'young', 'director', ...], 'neg'), (['vampires', 'starts', 'out', 'almost', 'in', 'the', ...], 'neg'), (['jean', '-', 'claude', 'van', 'damme', 'movies', ...], 'neg'), (['the', 'most', 'interesting', 'part', 'of', '\"', ...], 'neg'), (['everyone', 'knows', 'that', 'old', 'rule', ',', \"'\", ...], 'neg'), (['when', 'walt', 'disney', 'pictures', 'announced', ...], 'neg'), (['an', '18', '-', 'foot', '-', 'high', ',', '43', '-', ...], 'neg'), (['back', 'in', '1980s', ',', 'chuck', 'norris', 'used', ...], 'neg'), (['in', 'the', 'interest', 'of', 'being', 'generous', ...], 'neg'), (['\"', 'you', 'damn', 'dirty', 'apes', '!', '\"', 'that', ...], 'neg'), (['i', 'have', 'never', 'been', 'so', 'confused', ...], 'neg'), (['this', 'is', 'the', 'worst', 'movie', 'i', \"'\", 've', ...], 'neg'), (['it', 'seemed', 'like', 'the', 'perfect', 'concept', ...], 'neg'), (['well', 'arnold', 'has', 'completed', 'the', ...], 'neg'), (['\"', 'meg', 'ryan', 'is', 'irresistible', 'in', 'the', ...], 'neg'), (['stephen', ',', 'please', 'post', 'if', 'appropriate', ...], 'neg'), (['a', 'big', ',', 'busy', 'boxing', 'satire', 'with', ...], 'neg'), (['\"', 'marie', 'couldn', \"'\", 't', 'talk', ',', '\"', ...], 'neg'), (['dr', '.', 'alan', 'grant', '(', 'sam', 'neill', ',', ...], 'neg'), (['if', 'i', 'were', 'to', 'plot', 'a', 'graph', 'of', ...], 'neg'), (['adam', 'sandler', 'isn', \"'\", 't', 'known', 'for', ...], 'neg'), (['a', 'silly', 'film', 'that', 'tries', 'to', 'be', ...], 'neg'), (['dead', '-', 'bang', ',', 'an', 'action', 'thriller', ...], 'neg'), (['among', 'multitude', 'of', 'erotic', 'thrillers', ...], 'neg'), (['in', '\"', 'gia', '\"', ',', 'angelina', 'jolie', ...], 'neg'), (['you', 'would', 'think', 'that', 'this', 'film', \"'\", ...], 'neg'), (['how', 'do', 'you', 'judge', 'a', 'film', 'that', ...], 'neg'), (['yet', 'another', 'brainless', 'teen', 'flick', ',', ...], 'neg'), (['bats', 'is', 'this', 'year', \"'\", 's', 'camp', ...], 'neg'), (['i', 'had', 'been', 'looking', 'forward', 'to', ...], 'neg'), (['i', 'know', 'there', 'were', 'times', 'during', ...], 'neg'), (['plot', ':', 'upon', 'the', 'realization', 'that', ...], 'neg'), ([\"'\", 'bicentennial', 'man', \"'\", 'is', 'a', 'family', ...], 'neg'), (['it', \"'\", 's', 'been', 'hours', 'since', 'i', ...], 'neg'), (['the', 'rich', 'legacy', 'of', 'cinema', 'has', ...], 'neg'), (['bob', 'the', 'happy', 'bastard', \"'\", 's', 'quickie', ...], 'neg'), (['synopsis', ':', 'original', '\"', 'jurassic', 'park', ...], 'neg'), (['disconnect', 'the', 'phone', 'line', '.', 'don', \"'\", ...], 'neg'), (['\"', 'first', 'rule', 'of', 'fight', 'club', 'is', ...], 'neg'), (['when', 'a', 'film', 'is', 'produced', 'on', 'a', ...], 'neg'), (['how', 'could', 'a', 'g', '-', 'rated', 'disney', ...], 'neg'), (['this', 'movie', 'is', 'based', 'off', 'the', ...], 'neg'), (['the', 'ads', 'make', '\"', 'hanging', 'up', '\"', ...], 'neg'), (['edward', 'burns', 'tackles', 'his', 'third', ...], 'neg'), (['delicatessen', '(', 'directors', ':', 'marc', 'caro', ...], 'neg'), (['it', 'was', 'with', 'a', 'huge', 'lack', 'of', ...], 'neg'), (['louie', 'is', 'a', 'trumpeter', 'swan', 'with', 'no', ...], 'neg'), (['\"', 'book', '\"', 'should', 'have', 'remained', 'in', ...], 'neg'), (['capsule', ':', 'a', 'science', 'fiction', 'allegory', ...], 'neg'), (['come', 'on', 'hollywood', ',', 'surprise', 'me', '.', ...], 'neg'), (['perhaps', 'if', 'the', 'impostors', 'didn', \"'\", 't', ...], 'neg'), (['in', 'china', 'in', '1982', 'i', 'turned', 'the', ...], 'neg'), (['there', 'is', 'a', 'scene', 'in', 'patch', 'adams', ...], 'neg'), (['the', 'happy', 'bastard', \"'\", 's', 'quick', 'movie', ...], 'neg'), (['ahh', 'yes', '.', 'the', 'teenage', 'romance', '.', ...], 'neg'), (['jessica', 'lange', 'is', 'one', 'of', 'the', 'most', ...], 'neg'), (['a', 'new', 'entry', 'in', 'the', '\"', 'revisionist', ...], 'neg'), (['here', \"'\", 's', 'a', 'concept', '--', 'jean', '-', ...], 'neg'), (['mr', '.', 'bean', ',', 'a', 'bumbling', 'security', ...], 'neg'), (['\"', 'mandingo', '\"', 'has', 'traditionally', 'been', ...], 'neg'), (['synopsis', ':', 'a', 'man', 'whose', 'lover', ',', ...], 'neg'), (['\"', 'come', 'on', ',', 'silent', 'bob', '!', 'we', ...], 'neg'), (['9', ':', 'its', 'pathetic', 'attempt', 'at', '\"', ...], 'neg'), (['i', 'can', \"'\", 't', 'recall', 'a', 'previous', ...], 'neg'), (['*', '*', '*', 'be', 'warned', '.', '.', '.', 'the', ...], 'neg'), (['this', 'is', 'the', 'first', 'film', 'in', 'what', ...], 'neg'), (['*', '*', '*', 'the', 'following', 'review', ...], 'neg'), (['synopsis', ':', 'melissa', ',', 'a', 'mentally', '-', ...], 'neg'), (['there', 'are', 'two', 'things', 'the', 'american', ...], 'neg'), (['\"', 'something', 'is', 'fishy', 'in', 'the', 'state', ...], 'neg'), (['the', 'tagline', 'for', 'this', 'film', 'is', ':', ...], 'neg'), (['these', 'days', ',', 'people', 'have', 'rather', ...], 'neg'), (['it', 'is', 'movies', 'like', 'these', 'that', 'make', ...], 'neg'), (['based', 'on', 'the', '1960s', 'tv', 'series', 'that', ...], 'neg'), (['you', 'think', 'that', 'these', 'people', 'only', ...], 'neg'), (['the', 'king', 'and', 'i', ',', 'a', 'warner', ...], 'neg'), (['\"', 'idle', 'hands', '\"', 'is', 'distasteful', ',', ...], 'neg'), (['\"', 'the', '13th', 'warrior', '\"', 'comes', 'at', ...], 'neg'), (['as', 'forgetful', 'as', 'some', 'people', 'may', ...], 'neg'), (['synopsis', ':', 'big', '-', 'breasted', 'and', 'dim', ...], 'neg'), (['jet', 'li', 'busted', 'onto', 'the', 'american', ...], 'neg'), (['the', 'spy', 'game', 'is', 'up', '.', 'you', 'can', ...], 'neg'), (['seen', 'may', '2', ',', '1998', 'at', '3', ':', '40', ...], 'neg'), (['\"', 'nothing', 'more', 'than', 'a', 'high', 'budget', ...], 'neg'), (['your', 'first', 'clue', 'that', 'something', 'isn', ...], 'neg'), (['starring', 'arnold', 'schwarzenegger', ';', 'danny', ...], 'neg'), (['one', 'of', 'the', 'first', 'films', 'of', '1999', ...], 'neg'), (['a', 'sensuous', 'romantic', 'comedy', ',', 'about', ...], 'neg'), (['i', 'went', 'to', 'blair', 'witch', 'project', '2', ...], 'neg'), (['\"', 'practical', 'magic', ',', '\"', 'is', 'a', ...], 'neg'), (['late', 'in', 'down', 'to', 'you', ',', 'the', 'lead', ...], 'neg'), (['the', 'previews', 'for', 'the', 'movie', 'are', ...], 'neg'), (['it', \"'\", 's', 'a', 'sad', 'state', 'of', 'affairs', ...], 'neg'), (['by', 'the', 'time', 'dennis', 'quaid', ',', 'the', ...], 'neg'), (['some', 'movies', \"'\", 'pre', '-', 'release', 'buzz', ...], 'neg'), (['\"', 'what', 'is', 'this', ',', 'a', 'homicide', 'or', ...], 'neg'), (['i', \"'\", 'll', 'be', 'the', 'first', 'to', 'admit', ...], 'neg'), (['the', 'ads', 'for', '\"', 'batman', 'and', 'robin', ...], 'neg'), (['i', 'remember', 'really', 'enjoying', 'this', ...], 'neg'), (['alexander', 'dumas', \"'\", 'the', 'three', ...], 'neg'), (['spoiled', 'rich', 'kid', 'kelley', 'morse', '(', ...], 'neg'), (['the', 'only', 'thing', 'worse', 'than', 'watching', ...], 'neg'), (['the', 'realm', 'of', 'science', 'fiction', 'has', ...], 'neg'), (['seen', 'at', ':', 'amc', 'old', 'pasadena', '8', ',', ...], 'neg'), (['the', 'swirling', 'sick', 'feeling', 'hit', 'me', ...], 'neg'), (['the', 'premise', 'of', 'this', 'movie', 'is', ',', ...], 'neg'), (['in', 'life', ',', 'eddie', 'murphy', 'and', 'martin', ...], 'neg'), (['a', 'number', 'of', 'critics', 'have', 'decided', ...], 'neg'), (['\"', 'battlefield', 'earth', '\"', 'is', 'the', 'best', ...], 'neg'), (['okay', ',', 'i', 'just', 'don', \"'\", 't', 'know', ...], 'neg'), (['to', 'put', 'it', 'bluntly', ',', 'ed', 'wood', ...], 'neg'), (['plot', ':', 'a', 'rich', 'guy', 'who', 'doesn', \"'\", ...], 'neg'), (['godzilla', 'is', 'a', 'nuclear', 'freak', '.', 'he', ...], 'neg'), (['an', 'affluent', 'horse', 'breeder', \"'\", 's', ...], 'neg'), (['humanities', 'quest', 'for', 'knowledge', 'never', ...], 'neg'), (['the', 'camera', 'zooms', 'in', 'incredibly', 'close', ...], 'neg'), (['the', 'most', 'interesting', 'thing', 'about', ...], 'neg'), (['janeane', 'garofalo', 'in', 'a', 'romantic', ...], 'neg'), (['starring', 'kiefer', 'sutherland', ';', 'reese', ...], 'neg'), (['a', 'film', 'that', 'means', 'well', ',', 'but', ...], 'neg'), (['mulholland', 'drive', 'did', 'very', 'well', 'at', ...], 'neg'), (['joe', 'versus', 'the', 'volcano', 'is', 'really', ...], 'neg'), (['look', '!', 'the', 'new', 'version', 'of', '\"', ...], 'neg'), (['much', 'ado', 'about', 'nothing', '.', 'ah', ',', ...], 'neg'), (['the', 'law', 'of', 'crowd', 'pleasing', 'romantic', ...], 'neg'), (['warren', 'beatty', ',', 'diane', 'keaton', ',', ...], 'neg'), (['i', 'admit', 'it', '.', 'i', 'thought', 'arnold', ...], 'neg'), (['you', 'know', ',', 'i', 'never', 'really', ...], 'neg'), (['sydney', 'lumet', 'is', 'the', 'director', 'whose', ...], 'neg'), (['this', 'is', 'your', 'definitive', '\"', 'hollywood', ...], 'neg'), (['the', 'second', 'serial', '-', 'killer', 'thriller', ...], 'neg'), (['if', 'you', 'don', \"'\", 't', 'think', 'kevin', ...], 'neg'), (['when', 'a', 'pair', 'of', 'films', 'from', 'the', ...], 'neg'), (['\"', 'american', 'pie', '\"', 'alums', 'jason', ...], 'neg'), (['when', 'considering', 'david', 'fincher', \"'\", 's', ...], 'neg'), (['starring', 'ben', 'stiller', ',', 'elizabeth', ...], 'neg'), (['starting', 'with', 'the', 'little', 'mermaid', 'and', ...], 'neg'), (['what', 'were', 'they', 'thinking', '?', 'nostalgia', ...], 'neg'), (['\"', 'virus', '\"', 'is', 'the', 'type', 'of', ...], 'neg'), (['adam', 'sandler', 'vehicles', 'are', 'never', ...], 'neg'), (['i', 'have', 'never', 'seen', 'a', 'man', 'so', 'in', ...], 'neg'), (['wow', ',', 'a', 'film', 'without', 'any', ...], 'neg'), (['54', 'is', 'dull', ',', 'perfunctory', ',', ...], 'neg'), (['if', 'i', 'were', 'one', 'of', 'those', 'arrogant', ...], 'neg'), (['talk', 'about', 'a', 'movie', 'that', 'seemed', ...], 'neg'), (['there', 'was', 'a', 'time', 'when', 'john', ...], 'neg'), (['okay', ',', 'bear', 'with', 'me', 'y', \"'\", 'all', ...], 'neg'), (['paul', 'verhoeven', ',', 'the', 'dutch', 'auteur', ...], 'neg'), (['i', 'never', 'understood', 'what', 'the', 'clich', ...], 'neg'), (['violence', 'is', 'bad', '.', 'violence', 'is', ...], 'neg'), (['everybody', 'in', 'this', 'film', \"'\", 's', ...], 'neg'), (['when', 'i', 'was', 'nine', ',', 'i', 'started', ...], 'neg'), (['the', 'happy', 'bastard', \"'\", 's', 'quick', 'movie', ...], 'neg'), (['my', 'first', 'exposure', 'to', 'the', 'nightmare', ...], 'neg'), (['as', 'you', 'should', 'know', ',', 'this', 'summer', ...], 'neg'), (['there', 'have', 'been', 'bad', 'films', 'in', ...], 'neg'), (['often', 'similar', 'to', 'a', 'little', 'boy', ...], 'neg'), (['the', 'stereotypical', 'american', 'male', 'has', ...], 'neg'), (['tri', '-', 'star', ';', 'rated', 'r', '(', ...], 'neg'), (['\"', 'some', 'houses', 'are', 'born', 'bad', ',', '\"', ...], 'neg'), (['starring', 'shawnee', 'smith', ';', 'donovan', ...], 'neg'), (['\"', 'with', 'all', 'that', 'education', ',', 'you', ...], 'neg'), (['this', 'is', 'not', 'a', 'simple', 'plan', 'about', ...], 'neg'), (['this', 'independent', 'film', 'written', 'and', ...], 'neg'), (['what', 'are', 'we', 'going', 'to', 'do', 'with', ...], 'neg'), (['guilt', '.', 'guilt', 'is', 'something', 'i', 'felt', ...], 'neg'), (['the', 'real', 'blonde', '(', 'r', ')', 'a', 'woman', ...], 'neg'), (['\"', 'it', 'was', 'not', 'scary', '.', '\"', 'these', ...], 'neg'), (['phil', '(', 'radmar', 'jao', ')', 'has', 'a', ...], 'neg'), (['from', 'a', 'major', 'league', 'baseball', 'radio', ...], 'neg'), (['would', 'you', 'believe', '--', 'in', 'real', 'life', ...], 'neg'), (['confucius', 'once', 'said', ',', '\"', 'governing', ...], 'neg'), (['while', 'i', 'am', 'not', 'fond', 'of', 'any', ...], 'neg'), (['capsule', ':', 'john', 'the', 'baptist', 'is', ...], 'neg'), (['director', 'luis', 'mandoki', \"'\", 's', 'last', ...], 'neg'), (['this', 'is', 'a', 'film', 'that', 'i', 'was', ...], 'neg'), (['because', 'no', 'one', 'demanded', 'it', ':', ...], 'neg'), (['robin', 'williams', 'is', 'a', 'comedic', 'genus', ...], 'neg'), (['tommy', 'lee', 'jones', 'chases', 'an', 'innocent', ...], 'neg'), (['you', 'know', 'that', 'a', 'movie', 'has', 'issues', ...], 'neg'), (['\"', 'deep', 'rising', '\"', 'gives', 'you', 'that', ...], 'neg'), (['my', 'giant', 'is', 'two', 'movies', 'for', 'the', ...], 'neg'), (['they', 'should', 'have', 'stuck', 'to', 'the', ...], 'neg'), (['i', 'don', \"'\", 't', 'expect', 'much', 'from', ...], 'neg'), (['despite', 'its', 'exceedingly', 'well', '-', 'done', ...], 'neg'), (['everything', 'in', 'the', 'phantom', 'you', 'have', ...], 'neg'), (['don', \"'\", 't', 'get', 'me', 'wrong', '--', 'i', ...], 'neg'), (['in', 'the', 'finale', 'of', 'disney', \"'\", 's', '\"', ...], 'neg'), (['for', 'better', 'or', 'worse', ',', 'the', ...], 'neg'), (['the', 'tagline', 'on', 'random', 'hearts', 'reads', ...], 'neg'), (['keep', 'cool', ',', 'a', 'chinese', 'film', ...], 'neg'), (['so', ',', 'it', \"'\", 's', 'thirty', 'years', 'later', ...], 'neg'), (['susan', 'granger', \"'\", 's', 'review', 'of', '\"', ...], 'neg'), (['another', 'formula', \"'\", 'feel', 'good', \"'\", ...], 'neg'), (['remember', 'tom', 'cruise', 'and', 'brian', 'brown', ...], 'neg'), (['overblown', 'remake', 'of', 'the', '1963', 'robert', ...], 'neg'), (['michael', 'crichton', 'has', 'had', 'a', 'long', ...], 'neg'), (['i', 'think', 'maybe', 'it', \"'\", 's', 'time', 'for', ...], 'neg'), (['capsule', ':', 'dumb', 'dud', 'of', 'an', 'entry', ...], 'neg'), (['steve', 'martin', 'is', 'one', 'of', 'the', ...], 'neg'), (['gun', 'wielding', 'arnold', 'schwarzenegger', 'has', ...], 'neg'), (['i', 'am', 'a', 'steven', 'seagal', 'fan', '.', 'i', ...], 'neg'), (['when', 'i', 'arrived', 'in', 'paris', 'in', 'june', ...], 'neg'), (['take', 'two', 'old', 'and', 'dying', 'men', ',', 'a', ...], 'neg'), (['capsule', ':', 'lesbianism', 'examined', 'in', 'the', ...], 'neg'), (['writer', '/', 'director', 'lawrence', 'kasdan', ...], 'neg'), (['synopsis', ':', 'lifelong', 'friends', 'rafe', '(', ...], 'neg'), (['hav', 'plenty', ',', 'as', 'we', 'are', 'told', 'in', ...], 'neg'), (['it', \"'\", 's', 'probably', 'inevitable', 'that', ...], 'neg'), (['when', 'critics', 'attack', 'seemingly', 'well', '-', ...], 'neg'), (['forget', 'get', 'carter', '.', 'instead', '.', '.', ...], 'neg'), (['warner', 'brothers', 'has', 'scored', 'another', ...], 'neg'), (['*', '*', 'the', 'following', 'review', 'contains', ...], 'neg'), (['the', 'u', '.', 's', '.', 'army', 'utilizes', 'a', ...], 'neg'), (['capsule', ':', 'silly', 'and', 'inane', 'adaptation', ...], 'neg'), (['starring', 'william', 'baldwin', ';', 'cindy', ...], 'neg'), (['bruce', 'willis', 'needs', 'to', 'stay', 'away', ...], 'neg'), (['i', 'think', 'we', 'should', ',', 'as', ...], 'neg'), (['i', \"'\", 'm', 'giving', 'this', 'stinker', '.', ...], 'neg'), (['it', 'is', 'with', 'some', 'sad', 'irony', 'that', ...], 'neg'), (['one', 'of', 'the', 'indicator', 'of', 'badness', ...], 'neg'), (['tim', 'robbins', 'and', 'martin', 'lawernce', 'team', ...], 'neg'), (['the', 'job', 'of', 'the', 'film', 'critic', 'is', ...], 'neg'), (['i', 'think', 'of', 'i', 'know', 'what', 'you', 'did', ...], 'neg'), (['after', 'the', 'huge', 'success', 'of', '\"', 'the', ...], 'neg'), (['plot', ':', 'two', 'teen', 'couples', 'go', 'to', ...], 'neg'), (['plunkett', '&', 'macleane', 'is', 'a', 'period', ...], 'neg'), (['this', 'is', 'one', 'of', 'the', 'worst', 'big', '-', ...], 'neg'), (['chill', 'factor', 'is', 'a', 'carbon', 'copy', 'of', ...], 'neg'), (['senseless', 'is', 'a', 'prime', 'example', 'of', ...], 'neg'), (['stallone', 'attempts', 'to', \"'\", 'act', \"'\", 'in', ...], 'neg'), (['any', 'remake', 'of', 'an', 'alfred', 'hitchcock', ...], 'neg'), (['for', 'those', 'interested', 'in', 'the', 'true', ...], 'neg'), (['a', 'movie', 'like', 'mortal', 'kombat', ':', ...], 'neg'), (['when', 'the', 'haunting', 'arrived', 'in', ...], 'neg'), (['ripe', 'with', 'explosions', ',', 'mass', 'death', ...], 'neg'), (['the', 'summer', 'of', '00', \"'\", 'wasn', \"'\", 't', ...], 'neg'), (['\"', 'alcohol', 'and', 'drugs', '=', 'bad', '.', ...], 'neg'), (['what', 'do', 'you', 'get', 'when', 'you', 'rip', '-', ...], 'neg'), (['has', 'hollywood', 'run', 'out', 'of', 'interesting', ...], 'neg'), (['capsule', ':', 'a', 'wild', 'jungle', 'woman', 'and', ...], 'neg'), (['the', 'happy', 'bastard', \"'\", 's', 'quick', 'movie', ...], 'neg'), (['toward', 'the', 'bottom', 'of', 'the', \"'\", '80s', ...], 'neg')]\n",
            "Testing data [(['when', 'i', 'first', 'heard', 'that', 'romeo', '&', ...], 'pos'), (['krippendorf', \"'\", 's', 'tribe', 'is', 'a', ...], 'pos'), (['not', 'since', '1996', \"'\", 's', 'shine', ',', ...], 'pos'), (['on', 'june', '30', ',', '1960', ',', 'a', 'self', ...], 'pos'), (['one', 'of', 'the', 'sweetest', 'tales', 'to', 'ever', ...], 'pos'), (['synopsis', ':', 'in', 'this', 'movie', ',', 'steven', ...], 'pos'), (['plot', ':', 'a', 'young', 'man', 'who', 'loves', ...], 'pos'), (['carry', 'on', 'matron', 'is', 'the', 'last', 'great', ...], 'pos'), (['the', 'ultimate', 'match', 'up', 'between', 'good', ...], 'pos'), (['having', 'not', 'seen', ',', '\"', 'who', 'framed', ...], 'pos'), (['capsule', ':', 'trippy', ',', 'hyperspeed', 'action', ...], 'pos'), (['it', \"'\", 's', 'a', 'curious', 'thing', '-', 'i', ...], 'pos'), (['for', 'those', 'of', 'us', 'who', 'weren', \"'\", 't', ...], 'pos'), (['seen', 'may', '31', ',', '1999', 'on', 'home', ...], 'pos'), (['capsule', ':', 'this', 'is', 'a', '1950s', 'or', ...], 'pos'), (['you', \"'\", 've', 'heard', 'all', 'the', 'hype', '.', ...], 'pos'), (['no', 'matter', 'what', 'you', 'suspect', ',', 'this', ...], 'pos'), (['imagine', 'this', 'scenario', ':', 'you', 'and', ...], 'pos'), (['at', 'first', 'glance', ',', 'daylight', 'would', ...], 'pos'), (['that', 'thing', 'you', 'do', '!', '(', 'r', ')', ...], 'pos'), (['\"', 'he', \"'\", 's', 'back', ',', 'and', 'it', \"'\", ...], 'pos'), (['will', 'hunting', '(', 'matt', 'damon', ')', 'is', ...], 'pos'), (['if', 'there', \"'\", 's', 'one', 'thing', 'in', ...], 'pos'), (['there', \"'\", 's', 'good', 'news', 'and', 'bad', ...], 'pos'), (['at', 'first', 'glance', ',', 'it', 'appears', 'that', ...], 'pos'), (['when', '_star', 'wars_', 'came', 'out', 'some', ...], 'pos'), (['synopsis', ':', 'leonard', 'shelby', '(', 'pearce', ...], 'pos'), (['susan', 'granger', \"'\", 's', 'review', 'of', '\"', ...], 'pos'), (['up', 'until', 'about', 'a', 'year', 'ago', ',', ...], 'pos'), (['the', 'computer', '-', 'animated', 'comedy', '\"', ...], 'pos'), (['after', 'watching', 'the', 'first', 'ten', 'minutes', ...], 'pos'), (['hedwig', 'and', 'the', 'angry', 'inch', '(', '2001', ...], 'pos'), (['susan', 'granger', \"'\", 's', 'review', 'of', '\"', ...], 'pos'), (['as', 'fairy', 'tales', 'go', ',', 'cinderella', ...], 'pos'), (['what', 'a', 'great', 'film', '.', 'what', 'a', ...], 'pos'), (['ingredients', ':', 'starving', 'artist', 'lusting', ...], 'pos'), (['you', \"'\", 've', 'seen', 'this', 'moment', 'before', ...], 'pos'), (['this', 'movie', 'was', 'one', 'of', 'the', 'first', ...], 'pos'), (['note', ':', 'some', 'may', 'consider', 'portions', ...], 'pos'), (['well', ',', 'i', 'know', 'that', 'stallone', 'is', ...], 'pos'), (['since', '1990', ',', 'the', 'dramatic', 'picture', ...], 'pos'), (['hollywood', 'is', 'a', 'pimp', '.', 'a', 'fat', ',', ...], 'pos'), (['\"', 'say', ',', 'any', 'of', 'you', 'know', 'how', ...], 'pos'), (['many', 'people', 'dislike', 'french', 'films', 'for', ...], 'pos'), (['the', 'keen', 'wisdom', 'of', 'an', 'elderly', ...], 'pos'), (['in', 'october', 'of', '1997', ',', 'audiences', ...], 'pos'), (['brian', 'depalma', 'needs', 'a', 'hit', '*', ...], 'pos'), (['i', \"'\", 've', 'never', 'been', 'a', 'huge', 'fan', ...], 'pos'), (['synopsis', ':', 'captain', 'picard', 'and', 'the', ...], 'pos'), (['\"', 'crazy', '/', 'beautiful', '\"', 'suffers', ...], 'pos'), (['for', 'many', 'people', ',', 'procrastination', ...], 'pos'), (['mickey', 'mouse', 'had', 'better', 'watch', 'his', ...], 'pos'), (['there', 'is', 'a', 'scene', 'early', 'in', 'soul', ...], 'pos'), (['is', 'evil', 'dead', 'ii', 'a', 'bad', 'movie', '?', ...], 'pos'), (['originally', 'launched', 'in', '1978', ',', 'this', ...], 'pos'), (['ever', 'wonder', 'what', 'happened', 'to', 'gabe', ...], 'pos'), (['i', 'feel', 'no', 'hesitation', 'in', 'saying', ...], 'pos'), (['\"', 'i', \"'\", 'd', 'rather', 'die', 'today', 'and', ...], 'pos'), (['the', 'sheer', 'horrific', 'audacity', 'of', 'the', ...], 'pos'), (['it', 'is', 'easy', 'to', 'label', 'something', ...], 'pos'), (['i', 'know', 'that', '\"', 'funnest', '\"', 'isn', \"'\", ...], 'pos'), (['tarzan', 'chad', \"'\", 'z', '=', 'good', ')', '1999', ...], 'pos'), (['i', \"'\", 've', 'always', 'been', 'told', 'that', ...], 'pos'), (['it', 'was', 'a', 'crazy', 'time', 'in', 'france', ...], 'pos'), (['casting', '\"', 'doogie', 'howser', '\"', 'star', ...], 'pos'), (['andrew', 'lloyd', 'webber', \"'\", 's', 'musicals', ...], 'pos'), (['there', \"'\", 's', 'more', 'to', 'a', 'quilt', 'than', ...], 'pos'), (['in', 'one', 'scene', 'from', '\"', 'the', 'people', ...], 'pos'), (['we', 'all', 'know', 'the', 'fate', 'of', '\"', ...], 'pos'), (['capsule', ':', 'the', 'verma', 'family', 'is', ...], 'pos'), (['the', 'love', 'for', 'family', 'is', 'one', 'of', ...], 'pos'), (['while', 'watching', 'wes', 'anderson', \"'\", 's', ...], 'pos'), (['in', '`', 'enemy', 'at', 'the', 'gates', \"'\", ',', ...], 'pos'), (['as', 'with', 'his', 'other', 'stateside', 'releases', ...], 'pos'), (['the', 'premise', 'of', 'wag', 'the', 'dog', 'is', ...], 'pos'), (['as', 'the', 'film', 'opens', 'up', ',', 'expectant', ...], 'pos'), (['the', 'second', 'jackal', '-', 'based', 'film', 'to', ...], 'pos'), (['it', 'might', 'surprise', 'some', 'to', 'know', ...], 'pos'), (['the', 'cryptic', 'teaser', 'trailer', 'has', 'been', ...], 'pos'), (['\"', 'very', 'bad', 'things', ',', '\"', 'is', 'the', ...], 'pos'), (['it', 'is', 'hard', 'to', 'imagine', 'that', 'a', ...], 'pos'), (['\"', 'a', 'man', 'is', 'not', 'a', 'man', 'without', ...], 'pos'), (['the', 'summer', 'movie', 'season', 'is', 'always', ...], 'pos'), (['this', 'remake', 'of', '\"', 'la', 'cage', 'aux', ...], 'pos'), (['seen', 'may', '19', ',', '1999', 'at', '5', 'p', '.', ...], 'pos'), (['tone', 'alone', 'cannot', 'sustain', 'a', 'film', ...], 'pos'), (['in', 'recent', 'years', ',', 'harrison', 'ford', ...], 'pos'), (['hollywood', 'has', 'a', '.', '750', 'batting', ...], 'pos'), (['if', 'you', \"'\", 've', 'ever', 'perused', 'my', ...], 'pos'), (['\"', 'i', \"'\", 've', 'been', 'told', 'by', 'several', ...], 'pos'), (['the', 'opening', 'crawl', 'tells', 'us', 'that', ...], 'pos'), (['whenever', 'studio', 'executives', 'try', 'to', ...], 'pos'), (['renown', 'surrealist', 'director', ',', 'the', '77', ...], 'pos'), (['synopsis', ':', 'in', 'this', 'cultural', ...], 'pos'), (['note', ':', 'some', 'may', 'consider', 'portions', ...], 'pos'), (['three', 'things', 'i', 'learned', 'from', '\"', ...], 'pos'), (['roberto', 'benigni', 'is', 'a', 'clown', 'in', 'the', ...], 'pos'), (['it', 'is', 'an', 'understood', 'passion', 'and', ...], 'pos'), (['i', 'don', \"'\", 't', 'know', 'what', 'movie', 'the', ...], 'pos'), (['with', 'stars', 'like', 'sigourney', 'weaver', '(', ...], 'pos'), (['capsule', ':', 'earthy', ',', 'experimental', ',', ...], 'pos'), (['\"', 'oh', 'my', 'god', ',', 'i', 'sounded', 'just', ...], 'pos'), (['it', 'seemed', 'wholly', 'appropriate', 'that', 'at', ...], 'pos'), (['i', 'saw', 'simon', 'birch', 'in', 'a', 'basically', ...], 'pos'), (['let', 'me', 'first', 'say', 'that', 'the', ...], 'pos'), (['i', 'tried', 'hard', 'not', 'like', 'this', 'movie', ...], 'pos'), (['capsule', ':', 'this', 'is', 'a', 'harrowing', ...], 'pos'), (['weir', 'is', 'well', '-', 'respected', 'in', ...], 'pos'), (['synopsis', ':', 'it', \"'\", 's', '1977', 'in', 'a', ...], 'pos'), (['part', 'one', 'of', '\"', 'the', 'strangest', ...], 'pos'), (['good', 'films', 'are', 'hard', 'to', 'find', 'these', ...], 'pos'), (['i', 'must', 'admit', 'i', \"'\", 'm', 'going', 'to', ...], 'pos'), (['very', 'few', 'people', 'would', 'be', 'unaware', ...], 'pos'), (['seen', 'september', '5', ',', '1998', 'at', '10', ...], 'pos'), (['the', 'characters', 'in', '\"', 'palmetto', '\"', ...], 'pos'), (['with', 'the', 'sudden', 'liberal', 'emergence', 'of', ...], 'pos'), (['jay', 'and', 'silent', 'bob', 'strike', 'back', ',', ...], 'pos'), (['touchstone', 'pictures', 'and', 'spyglass', ...], 'pos'), (['bob', 'the', 'happy', 'bastard', \"'\", 's', 'quickie', ...], 'pos'), (['the', 'reunion', 'film', 'is', 'not', 'an', ...], 'pos'), (['when', 'i', 'first', 'heard', 'about', 'scream', ...], 'pos'), (['whew', '.', 'this', 'film', 'oozes', 'energy', ',', ...], 'pos'), (['he', 'has', 'spent', 'his', 'entire', 'life', 'in', ...], 'pos'), (['being', 'that', 'it', 'is', 'a', 'foreign', ...], 'pos'), (['bob', 'the', 'happy', 'bastard', \"'\", 's', 'quickie', ...], 'pos'), (['you', \"'\", 've', 'got', 'to', 'love', 'disney', '.', ...], 'pos'), (['while', 'watching', '\"', 'shallow', 'grave', ',', ...], 'pos'), (['since', 'most', 'movies', 'about', 'slavery', ...], 'pos'), (['usually', 'a', 'movie', 'is', 'about', 'something', ...], 'pos'), (['with', 'the', 'opening', 'scene', 'of', 'a', 'young', ...], 'pos'), (['it', \"'\", 's', 'hard', 'not', 'to', 'recommend', '\"', ...], 'pos'), (['after', 'indecent', 'proposal', 'and', 'up', 'close', ...], 'pos'), (['sam', '(', 'matthew', 'broderick', ')', 'is', 'an', ...], 'pos'), (['playwright', 'tom', 'stoppard', 'and', ...], 'pos'), (['when', 'you', 'go', 'to', 'the', 'movies', 'as', ...], 'pos'), (['(', 'warning', 'to', 'those', 'who', 'have', 'not', ...], 'pos'), (['the', 'caveman', \"'\", 's', 'valentine', 'starring', ...], 'pos'), (['expand', 'the', 'final', 'fifteen', 'minutes', 'of', ...], 'pos'), (['because', 'the', 'press', 'screening', 'of', '\"', ...], 'pos'), (['in', '1977', ',', 'something', 'never', 'though', ...], 'pos'), (['the', 'premise', 'of', 'the', 'new', 'teen', '-', ...], 'pos'), (['we', 'share', 'the', 'descent', 'into', 'darkness', ...], 'pos'), (['today', ',', 'war', 'became', 'a', 'reality', 'to', ...], 'pos'), (['well', ',', 'i', \"'\", 'll', 'admit', 'when', 'i', ...], 'pos'), (['those', 'print', 'and', 'television', 'ads', ...], 'pos'), (['\"', 'a', 'bug', \"'\", 's', 'life', '\"', 'may', 'not', ...], 'pos'), (['a', 'movie', 'that', \"'\", 's', 'been', 'as', ...], 'pos'), (['life', 'is', 'beautiful', 'is', 'a', 'rare', 'treat', ...], 'pos'), (['there', 'was', 'a', 'lot', 'riding', 'on', 'this', ...], 'pos'), (['devotees', 'of', 'robert', 'a', '.', 'heinlein', ',', ...], 'pos'), (['perhaps', 'it', \"'\", 's', 'time', 'for', 'me', 'to', ...], 'pos'), (['note', ':', 'some', 'may', 'consider', 'portions', ...], 'pos'), (['your', 'friends', 'and', 'neighbors', 'is', 'a', ...], 'pos'), (['i', 'remember', 'seeing', 'the', 'trailer', 'of', ...], 'pos'), (['curdled', 'is', 'a', 'deliciously', 'dark', 'and', ...], 'pos'), (['quiz', 'show', ',', 'an', 'almost', 'perfectly', ...], 'pos'), (['most', 'people', 'fit', 'into', 'two', 'different', ...], 'pos'), (['jarvis', 'cocker', 'of', 'pulp', 'once', 'said', ...], 'pos'), (['in', 'october', 'of', '1962', 'the', 'united', ...], 'pos'), (['true', 'faith', 'and', 'its', 'expression', ...], 'pos'), (['titanic', 'is', 'so', 'close', 'to', 'being', 'the', ...], 'pos'), (['when', 'a', 'someone', 'journeys', 'to', 'the', ...], 'pos'), (['almost', 'a', 'full', 'decade', 'before', 'steven', ...], 'pos'), (['the', '1998', 'summer', 'movie', 'season', 'is', ...], 'pos'), (['one', 'way', 'of', 'telling', 'if', 'a', 'film', ...], 'pos'), (['note', ':', 'some', 'may', 'consider', 'portions', ...], 'pos'), (['this', 'british', 'import', 'follows', 'the', '(', ...], 'pos'), (['it', \"'\", 's', 'no', 'secret', 'in', 'the', 'motion', ...], 'pos'), (['felix', '(', 'sami', 'bouajila', ',', '\"', 'the', ...], 'pos'), (['i', 'know', 'that', '\"', 'funnest', '\"', 'isn', \"'\", ...], 'pos'), (['if', 'chris', 'farley', 'had', 'strapped', 'some', ...], 'pos'), (['written', 'by', 'john', 'grisham', 'and', 'robert', ...], 'pos'), (['this', 'three', 'hour', 'movie', 'opens', 'up', ...], 'pos'), (['ok', ',', 'let', \"'\", 's', 'get', 'one', 'thing', ...], 'pos'), (['veteran', 'actor', 'clint', 'eastwood', 'has', ...], 'pos'), (['those', 'of', 'you', 'who', 'frequently', 'read', ...], 'pos'), (['this', 'is', 'a', 'stagy', 'film', 'adapted', 'from', ...], 'pos'), (['slavery', 'is', 'bad', '.', 'after', 'hundreds', ...], 'pos'), (['the', 'coen', 'brothers', 'are', 'back', 'again', ...], 'pos'), (['lean', ',', 'mean', ',', 'escapist', 'thrillers', ...], 'pos'), (['did', 'claus', 'von', 'bulow', 'try', 'to', 'kill', ...], 'pos'), (['1992', \"'\", 's', 'alien3', 'marked', 'not', 'only', ...], 'pos'), (['when', 'people', 'are', 'talking', 'about', 'good', ...], 'pos'), (['the', 'jekyll', 'and', 'hyde', 'story', 'told', ...], 'pos'), (['when', 'i', 'was', 'asked', 'to', 'see', 'this', ...], 'pos'), (['gothic', 'murder', '-', 'mystery', 'yarns', 'are', ...], 'pos'), (['showgirls', 'is', 'the', 'second', 'major', 'outing', ...], 'pos'), (['in', 'essence', ',', 'good', 'will', 'hunting', 'is', ...], 'pos'), (['clue', 'is', 'an', 'unfairly', 'ignored', 'comedy', ...], 'pos'), (['it', 'has', 'been', 'three', 'long', 'years', ...], 'pos'), (['an', 'unhappy', 'italian', 'housewife', ',', 'a', ...], 'pos'), (['after', 'the', 'terminally', 'bleak', 'reservoir', ...], 'pos'), (['albert', 'brooks', 'saves', 'the', 'day', ',', ...], 'pos'), (['pitch', 'black', 'is', 'a', 'sheep', 'in', 'wolf', ...], 'pos'), (['this', 'is', 'the', 'best', 'british', 'gangster', ...], 'pos'), (['i', 'guess', 'there', 'are', 'those', 'who', 'have', ...], 'pos'), (['in', 'chocolat', ',', 'a', 'chocolate', 'shop', ...], 'pos'), (['do', 'film', 'critics', 'have', 'morals', '?', 'are', ...], 'pos'), (['the', 'question', 'isn', \"'\", 't', 'why', 'has', ...], 'pos'), (['if', 'beavis', 'and', 'butthead', 'had', 'a', ...], 'pos'), ([\"'\", 'contact', \"'\", 'shows', 'why', 'jodie', ...], 'pos'), (['the', 'small', '-', 'scale', 'film', ',', 'in', ...], 'pos'), (['when', 'i', 'saw', 'the', 'trailer', 'for', 'this', ...], 'pos'), (['plot', ':', 'a', 'young', 'recruit', 'gets', ...], 'pos'), (['when', '17', 'year', 'old', 'beau', 'hall', '(', ...], 'pos'), (['\"', 'it', \"'\", 's', 'not', 'good', 'to', 'know', ...], 'pos'), (['available', 'for', 'rental', '-', 'october', '12', ...], 'pos'), (['what', 'i', 'look', 'for', 'in', 'a', 'movie', 'is', ...], 'pos'), (['elmore', 'leonard', 'has', 'quickly', 'become', ...], 'pos'), (['it', 'is', 'with', 'hesitance', 'that', 'i', 'call', ...], 'pos'), (['the', 'verdict', ':', 'spine', '-', 'chilling', ...], 'pos'), (['seen', 'july', '8', ',', '1998', 'at', 'the', ...], 'pos'), (['carolco', 'pictures', 'and', 'dutch', 'director', ...], 'pos'), (['after', 'a', 'successful', 'run', 'in', 'australia', ...], 'pos'), (['\"', 'through', 'a', 'spyglass', ',', 'i', 'could', ...], 'pos'), (['wong', 'kar', '-', 'wei', \"'\", 's', '\"', 'fallen', ...], 'pos'), (['contrary', 'to', 'the', 'title', ',', '\"', 'the', ...], 'pos'), (['in', 'roger', 'michell', \"'\", 's', 'romantic', ...], 'pos'), (['elizabeth', 'is', 'a', 'potent', 'historical', ...], 'pos'), (['\"', 'i', 'know', 'what', 'you', 'did', 'last', ...], 'pos'), (['118', 'minutes', ';', 'not', 'rated', '(', 'though', ...], 'pos'), (['okay', ',', 'let', 'me', 'first', 'say', ',', 'this', ...], 'pos'), (['this', 'is', 'the', 'movie', 'not', 'the', 'perfume', ...], 'pos'), (['the', 'farrelly', 'brothers', \"'\", 'third', 'film', ...], 'pos'), (['full', 'metal', 'jacket', ',', 'very', 'much', ...], 'pos'), (['oliver', 'stone', \"'\", 's', 'latest', 'feature', ...], 'pos'), (['perhaps', 'the', 'most', 'dramatic', 'changes', 'in', ...], 'pos'), (['carla', 'gugino', 'graduates', 'from', 'high', ...], 'pos'), (['i', 'think', 'the', 'first', 'thing', 'this', ...], 'pos'), (['there', 'was', 'a', 'huge', 'crowd', '-', 'so', ...], 'pos'), (['in', '1912', ',', 'a', 'ship', 'set', 'sail', 'on', ...], 'pos'), (['defending', 'your', 'life', 'is', 'an', ...], 'pos'), (['well', 'i', \"'\", 'll', 'be', 'damned', ',', 'what', ...], 'pos'), (['i', 'actually', 'am', 'a', 'fan', 'of', 'the', ...], 'pos'), (['the', 'year', 'is', '1962', 'and', 'the', 'military', ...], 'pos'), (['_in', 'brief', ':', '_', 'this', 'film', 'needs', ...], 'pos'), (['in', 'some', 'respects', ',', 'rush', 'hour', 'is', ...], 'pos'), (['the', 'film', 'starts', 'out', 'with', 'a', 'creepy', ...], 'pos'), (['wyatt', 'earp', 'has', 'a', 'lot', 'to', 'tell', ...], 'pos'), (['it', 'was', 'a', 'rainy', 'friday', 'afternoon', ...], 'pos'), (['in', 'zoolander', ',', 'the', 'world', \"'\", 's', ...], 'pos'), (['countries', 'and', 'legal', 'systems', 'that', ...], 'pos'), (['the', 'most', 'amazing', 'thing', 'about', 'paul', ...], 'pos'), (['\"', 'psycho', 'meets', 'the', 'exorcist', 'with', ...], 'pos'), (['contact', 'is', 'a', 'film', 'that', 'tries', 'to', ...], 'pos'), (['i', 'swear', 'i', 'have', 'seen', 'the', 'edge', ...], 'pos'), (['disney', 'cements', 'their', 'place', 'in', 'the', ...], 'pos'), (['this', 'is', 'one', 'of', 'the', 'most', 'funny', ...], 'pos'), (['when', 'i', 'initially', 'set', 'out', 'to', ...], 'pos'), (['the', 'idea', 'at', 'the', 'center', 'of', 'the', ...], 'pos'), (['it', \"'\", 's', 'wednesday', ',', 'march', '27', ',', ...], 'pos'), (['on', 'april', '12th', ',', '1912', ',', 'the', ...], 'pos'), (['scream', '2', ',', 'like', 'its', 'predecessor', ',', ...], 'pos'), (['ingredients', ':', 'james', 'bond', ',', 'scuba', ...], 'pos'), (['there', 'are', 'times', 'when', 'the', 'success', ...], 'pos'), (['contact', 'is', 'a', 'nobly', 'intentioned', 'but', ...], 'pos'), (['after', 'hearing', 'reviews', 'for', 'woody', ...], 'pos'), (['an', 'astonishingly', 'difficult', 'movie', 'to', ...], 'pos'), (['how', 'many', 'of', 'us', 'would', 'become', ...], 'pos'), (['uncompromising', 'french', 'director', 'robert', ...], 'pos'), (['capsule', ':', 'the', 'best', 'place', 'to', 'start', ...], 'pos'), (['an', 'entertaining', '2', 'hours', 'awaits', 'the', ...], 'pos'), (['this', 'is', 'a', 'good', 'year', 'if', 'you', ...], 'pos'), (['scarface', ',', 'a', 'remake', 'of', 'the', '1932', ...], 'pos'), (['anastasia', 'contains', 'something', 'that', 'has', ...], 'pos'), (['i', 'can', 'hear', 'the', 'question', 'already', '.', ...], 'pos'), (['you', \"'\", 've', 'got', 'to', 'think', 'twice', ...], 'pos'), (['is', 'it', 'just', 'me', ',', 'or', 'have', 'disney', ...], 'pos'), (['it', 'shows', 'that', 'america', 'remains', ...], 'pos'), (['deep', 'rising', 'is', 'one', 'of', '\"', 'those', ...], 'pos'), (['for', 'any', 'groom', 'on', 'the', 'verge', 'of', ...], 'pos'), (['i', 'like', 'movies', 'with', 'albert', 'brooks', ...], 'pos'), (['one', 'fun', 'activity', 'for', 'parents', 'during', ...], 'pos'), (['(', 'note', ':', 'there', 'are', 'spoilers', ...], 'pos'), (['martin', 'scorsese', \"'\", 's', 'films', 'used', 'to', ...], 'pos'), (['robert', 'redford', \"'\", 's', 'a', 'river', 'runs', ...], 'pos'), (['when', 'casting', 'the', 'key', 'part', 'of', 'the', ...], 'pos'), (['in', 'this', 'good', 'natured', ',', 'pleasent', ...], 'pos'), (['rated', ':', 'r', 'for', 'strong', 'language', ',', ...], 'pos'), (['if', 'this', 'keeps', 'up', ',', 'jane', 'austen', ...], 'pos'), (['saving', 'private', 'ryan', '(', 'dreamworks', ')', ...], 'pos'), (['lisa', 'cholodenko', \"'\", 's', '\"', 'high', 'art', ...], 'pos'), (['i', 'don', \"'\", 't', 'box', 'with', 'kid', 'gloves', ...], 'pos'), (['plot', ':', 'this', 'movie', 'takes', 'place', ...], 'pos'), (['a', 'thriller', 'set', 'in', 'modern', 'day', ...], 'pos'), (['susan', 'granger', \"'\", 's', 'review', 'of', '\"', ...], 'pos'), (['glory', '--', 'starring', 'matthew', 'broderick', ...], 'pos'), (['steven', 'spielberg', \"'\", 's', 'second', 'epic', ...], 'pos'), (['it', 'has', 'happened', 'again', '.', 'a', 'movie', ...], 'pos'), (['in', 'the', 'grand', 'scheme', 'of', 'mel', 'gibson', ...], 'pos'), (['barely', 'scrapping', 'by', 'playing', 'at', 'a', ...], 'pos'), (['one', 'of', 'kyle', 'mclachlan', \"'\", 's', 'earlier', ...], 'pos'), (['of', 'the', 'major', 'horror', 'sub', '-', 'genres', ...], 'pos'), (['there', \"'\", 's', 'some', 'movies', 'i', 'enjoy', ...], 'pos'), (['losing', 'a', 'job', 'is', 'not', 'an', 'all', 'too', ...], 'pos'), (['as', 'much', 'as', 'i', 'wanted', 'to', 'like', ...], 'pos'), (['there', 'are', 'certain', 'people', 'in', 'the', ...], 'pos'), (['i', 'guess', 'it', \"'\", 's', 'a', 'credit', 'to', ...], 'pos'), (['capsule', ':', 'side', '-', 'splitting', 'comedy', ...], 'pos'), (['as', 'i', 'write', 'the', 'review', 'for', 'the', ...], 'pos'), (['i', 'didn', \"'\", 't', 'hate', 'the', 'big', 'hit', ...], 'neg'), (['when', 'the', 'film', 'features', 'richard', 'lynch', ...], 'neg'), (['what', 'are', 'the', 'warning', 'signs', 'of', 'a', ...], 'neg'), (['so', 'ask', 'yourself', 'what', '\"', '8mm', '\"', '(', ...], 'neg'), (['that', \"'\", 's', 'exactly', 'how', 'long', 'the', ...], 'neg'), (['saw', 'an', 'advanced', 'screening', 'of', 'the', ...], 'neg'), (['let', \"'\", 's', 'get', 'this', 'one', 'over', 'with', ...], 'neg'), (['i', \"'\", 'm', 'really', 'starting', 'to', 'wonder', ...], 'neg'), (['so', 'what', 'do', 'you', 'get', 'when', 'you', ...], 'neg'), (['here', \"'\", 's', 'a', 'rarity', ':', 'a', 'children', ...], 'neg'), (['there', \"'\", 's', 'no', 'reason', 'to', 'doubt', ...], 'neg'), (['\"', 'spawn', '\"', 'features', 'good', 'guys', ',', ...], 'neg'), (['\"', 'in', 'dreams', '\"', 'might', 'keep', 'you', ...], 'neg'), (['this', 'is', 'crap', ',', 'but', ',', 'honestly', ...], 'neg'), (['although', 'i', 'had', 'not', 'been', 'a', 'viewer', ...], 'neg'), (['forgive', 'the', 'fevered', 'criticism', 'but', ...], 'neg'), (['one', 'might', 'expect', 'a', 'cathartic', 'viewing', ...], 'neg'), (['*', 'this', 'review', 'contains', 'spoilers', '*', ...], 'neg'), (['reindeer', 'games', 'is', 'easily', 'the', 'worst', ...], 'neg'), (['a', 'follow', '-', 'up', 'to', 'disney', \"'\", 's', ...], 'neg'), (['one', '-', 'sided', '\"', 'doom', 'and', 'gloom', '\"', ...], 'neg'), (['play', 'it', 'to', 'the', 'bone', ',', 'the', ...], 'neg'), (['some', 'movies', 'i', 'should', 'just', 'skip', '.', ...], 'neg'), (['fantastically', 'over', 'hyped', ',', 'godzila', ...], 'neg'), (['vikings', 'v', '.', 'bears', '?', 'no', ',', 'this', ...], 'neg'), (['if', 'you', \"'\", 're', 'into', 'watching', 'near', ...], 'neg'), (['sean', 'connery', 'stars', 'as', 'a', 'harvard', ...], 'neg'), (['michael', 'richards', 'leaves', 'his', 'spot', 'as', ...], 'neg'), (['cradle', 'will', 'rock', 'is', 'the', 'latest', ...], 'neg'), (['capsule', ':', 'where', 'are', 'you', 'tonight', ',', ...], 'neg'), (['kate', '(', 'jennifer', 'aniston', ')', 'is', ...], 'neg'), (['lengthy', 'and', 'lousy', 'are', 'two', 'words', ...], 'neg'), (['a', 'pseudo', '-', 'intellectual', 'film', 'about', ...], 'neg'), (['what', 'happens', 'when', 'you', 'put', 'martin', ...], 'neg'), (['blatantly', 'borrowing', 'elements', 'from', '1993', ...], 'neg'), (['i', 'love', 'movies', '.', 'i', 'really', 'do', '.', ...], 'neg'), (['i', 'looked', 'at', 'the', '\"', 'internet', 'movie', ...], 'neg'), (['this', 'feature', 'is', 'like', 'a', 'double', ...], 'neg'), (['one', 'of', 'the', 'responses', 'those', 'that', ...], 'neg'), (['has', 'it', 'really', 'been', 'two', 'decades', ...], 'neg'), (['my', 'giant', 'begins', 'with', 'a', 'monologue', ...], 'neg'), (['unfortunately', 'it', 'doesn', \"'\", 't', 'get', ...], 'neg'), (['reading', 'the', 'cast', 'and', 'director', 'for', ...], 'neg'), (['plot', ':', 'a', 'little', 'boy', 'born', 'in', ...], 'neg'), (['the', 'characters', 'in', 'jonathan', 'lynn', \"'\", ...], 'neg'), (['mr', '.', 'nice', 'guy', 'is', 'the', 'latest', ...], 'neg'), (['its', 'a', 'stupid', 'little', 'movie', 'that', ...], 'neg'), (['note', 'to', 'screenwriters', 'and', 'self', ':', ...], 'neg'), (['the', 'recent', 'onslaught', 'of', 'film', 'noir', ...], 'neg'), (['it', 'rocks', '-', 'actually', ',', 'lots', 'of', ...], 'neg'), (['there', \"'\", 's', 'a', '1', ',', '000', '-', 'foot', ...], 'neg'), (['it', 'was', 'with', 'great', 'anticipation', 'that', ...], 'neg'), (['when', 'i', 'ponder', 'childhood', 'memories', ...], 'neg'), (['suicide', 'is', 'pointless', ',', 'everyone', ...], 'neg'), (['the', 'working', 'title', 'for', 'no', 'looking', ...], 'neg'), (['it', \"'\", 's', 'now', 'the', 'anniversary', 'of', ...], 'neg'), (['for', 'about', 'twenty', 'minutes', 'into', ...], 'neg'), (['the', 'only', 'two', 'really', 'good', 'things', ...], 'neg'), (['the', 'first', 'film', 'produced', 'by', 'adam', ...], 'neg'), (['tectonic', 'plates', 'is', 'an', 'incredibly', ...], 'neg'), (['silly', 'performances', 'and', 'some', 'huge', ...], 'neg'), (['so', 'i', 'went', 'and', 'saw', 'this', 'film', ...], 'neg'), (['\"', 'from', 'the', 'director', 'of', '\"', 'the', ...], 'neg'), (['numerous', 'comparisons', 'can', 'be', 'made', ...], 'neg'), (['a', 'documentary', 'from', 'the', 'twin', 'hughes', ...], 'neg'), (['a', 'fullyloaded', 'entertainment', 'review', ':', ...], 'neg'), (['i', 'feel', 'sorry', 'for', 'the', 'financial', ...], 'neg'), (['\"', 'you', 'can', \"'\", 't', 'have', 'any', 'of', ...], 'neg'), (['\"', 'be', 'gentle', ',', '\"', 'urges', 'natasha', ...], 'neg'), (['ever', 'since', 'wargames', ',', 'the', 'first', ...], 'neg'), (['in', 'the', 'line', 'of', 'duty', 'is', 'the', ...], 'neg'), (['gregg', 'araki', \"'\", 's', 'the', 'doom', ...], 'neg'), (['sometimes', ',', 'when', 'i', 'decide', 'to', ...], 'neg'), (['nearly', 'every', 'film', 'tim', 'burton', 'has', ...], 'neg'), (['written', 'by', 'david', 'j', '.', 'schow', 'and', ...], 'neg'), (['note', ':', 'some', 'may', 'consider', 'portions', ...], 'neg'), (['the', 'sequel', 'to', 'the', 'fugitive', '(', '1993', ...], 'neg'), (['in', 'the', 'james', 'bond', 'film', '\"', 'diamonds', ...], 'neg'), (['\"', 'tina', '!', '!', '!', 'fetch', 'me', 'the', ...], 'neg'), (['a', 'remake', 'of', 'the', '1978', 'warren', ...], 'neg'), (['the', 'swooping', 'shots', 'across', 'darkened', ...], 'neg'), (['you', 'don', \"'\", 't', 'need', 'to', 'have', 'seen', ...], 'neg'), (['plot', 'summary', ':', 'the', 'year', 'is', '2024', ...], 'neg'), (['200', 'cigarettes', 'takes', 'place', 'on', 'new', ...], 'neg'), (['plot', ':', 'a', 'separated', ',', 'glamorous', ',', ...], 'neg'), (['i', \"'\", 'll', 'bet', 'right', 'now', 'you', \"'\", ...], 'neg'), (['\"', 'i', 'seem', 'to', 'have', 'glued', 'myself', ...], 'neg'), (['plot', ':', 'based', 'on', 'the', 'wildly', ...], 'neg'), (['new', 'address', '.', 'same', 'old', 'attitude', '.', ...], 'neg'), (['\"', 'showgirls', '\"', 'is', 'the', 'first', 'big', ...], 'neg'), (['plot', ':', 'two', 'sister', 'witches', 'have', 'to', ...], 'neg'), (['\"', 'there', \"'\", 's', 'nothing', 'new', 'under', ...], 'neg'), (['plot', 'outline', '-', 'wendy', '(', 'samantha', ...], 'neg'), (['the', 'last', 'line', '(', 'or', 'near', 'to', ...], 'neg'), (['it', 'was', 'once', 'said', 'that', 'in', 'order', ...], 'neg'), (['wesley', 'snipes', 'is', 'a', 'master', 'of', ...], 'neg'), (['play', 'it', 'to', 'the', 'bone', 'is', 'a', 'punch', ...], 'neg'), (['i', 'have', 'no', 'real', 'tangible', 'proof', 'of', ...], 'neg'), (['when', 'i', 'originally', 'saw', 'the', 'trailer', ...], 'neg'), (['in', '\"', 'twilight', ',', '\"', 'a', 'ex', '-', ...], 'neg'), (['what', 'hath', 'kevin', 'williamson', 'wrought', '?', ...], 'neg'), (['tom', 'dicillo', 'directs', 'this', 'superficial', ...], 'neg'), (['\"', 'gordy', '\"', 'is', 'not', 'a', 'movie', ',', ...], 'neg'), (['senseless', '(', 'r', ')', 'marlon', 'wayans', 'is', ...], 'neg'), (['a', 'slight', 'romantic', 'comedy', 'with', 'a', ...], 'neg'), (['if', 'you', \"'\", 're', 'the', 'kind', 'of', 'person', ...], 'neg'), (['\"', 'the', 'red', 'violin', '\"', 'is', 'a', 'cold', ...], 'neg'), (['one', 'of', 'my', 'brother', \"'\", 's', 'favorite', ...], 'neg'), (['bad', '.', 'bad', '.', 'bad', '.', 'that', 'one', ...], 'neg'), (['by', '-', 'the', '-', 'numbers', ':', 'a', 'film', ...], 'neg'), (['\"', 'pokemon', '3', ':', 'the', 'movie', '\"', 'has', ...], 'neg'), (['except', 'for', 'a', 'few', 'bright', 'moments', ...], 'neg'), (['ingredients', ':', 'possessed', 'plastic', 'dolls', ...], 'neg'), (['watching', 'the', 'movie', ',', 'i', 'vowed', 'to', ...], 'neg'), (['i', 'was', 'going', 'to', 'see', 'ram', 'shrasta', ...], 'neg'), (['a', 'friend', 'invites', 'you', 'to', 'a', 'movie', ...], 'neg'), (['in', 'the', 'first', 'death', 'wish', 'movie', ',', ...], 'neg'), (['as', 'with', 'any', 'gen', '-', 'x', 'mtv', 'movie', ...], 'neg'), (['nicolas', 'cage', 'comes', 'up', 'with', 'an', ...], 'neg'), (['i', 'have', 'nothing', 'against', 'unabashedly', ...], 'neg'), (['it', \"'\", 's', 'always', 'a', 'bad', 'sign', 'when', ...], 'neg'), (['\"', 'the', 'animal', '\"', 'is', 'a', 'marginally', ...], 'neg'), (['an', 'experience', 'like', 'baby', 'geniuses', 'can', ...], 'neg'), (['\"', 'the', 'beach', '\"', 'is', 'a', 'structurally', ...], 'neg'), (['in', '1990', ',', 'the', 'surprise', 'success', 'an', ...], 'neg'), (['these', 'days', ',', 'we', 'are', 'witnessing', ...], 'neg'), (['young', 'einstein', 'is', 'embarrassingly', 'lame', ...], 'neg'), (['this', 'is', 'the', 'last', 'carry', 'on', 'film', ...], 'neg'), (['one', 'of', 'the', '90s', \"'\", 'most', 'unwelcome', ...], 'neg'), (['susan', 'granger', \"'\", 's', 'review', 'of', '\"', ...], 'neg'), (['after', 'a', 'marketing', 'windup', 'of', 'striking', ...], 'neg'), (['capsule', ':', 'the', 'much', 'anticipated', 're', ...], 'neg'), (['\"', 'america', \"'\", 's', 'sweethearts', '\"', 'has', ...], 'neg'), (['do', 'the', 'folks', 'at', 'disney', 'have', 'no', ...], 'neg'), (['synopsis', ':', 'sonny', 'koufax', '(', 'adam', ...], 'neg'), (['if', 'you', 'haven', \"'\", 't', 'plunked', 'down', ...], 'neg'), (['for', '\"', 'original', 'sin', ',', '\"', 'the', ...], 'neg'), (['one', 'would', 'think', 'that', 'david', 'duchovny', ...], 'neg'), (['the', 'rapid', '-', 'fire', 'formula', 'that', ...], 'neg'), (['tim', 'burton', 'has', 'now', 'completed', 'his', ...], 'neg'), (['\"', 'soldier', '\"', ',', 'by', 'director', 'paul', ...], 'neg'), (['the', 'first', 'scene', 'of', 'operation', 'condor', ...], 'neg'), (['libby', 'parsons', '(', 'ashley', 'judd', ')', 'has', ...], 'neg'), (['girl', '6', 'is', ',', 'in', 'a', 'word', ',', 'a', ...], 'neg'), (['last', 'summer', ',', 'a', 'feature', '-', 'length', ...], 'neg'), (['i', 'think', 'that', 'saying', 'that', 'the', 'x', ...], 'neg'), (['synopsis', ':', 'an', 'aging', 'master', 'art', ...], 'neg'), (['i', 'can', 'see', 'a', 'decent', 'sports', 'movie', ...], 'neg'), (['long', 'time', 'buddies', 'and', 'neil', 'diamond', ...], 'neg'), (['not', 'a', 'great', 'twelve', 'months', 'for', ...], 'neg'), (['first', 'and', 'foremost', 'i', 'think', 'this', ...], 'neg'), (['in', 'this', 'year', \"'\", 's', 'summer', 'movie', ...], 'neg'), (['shakespeare', 'in', 'love', 'is', 'quite', ...], 'neg'), (['at', 'times', ',', 'you', \"'\", 'd', 'think', 'edtv', ...], 'neg'), (['conventional', 'wisdom', 'among', 'collectibles', ...], 'neg'), (['synopsis', ':', 'a', 'small', 'town', 'thug', ...], 'neg'), (['the', 'following', 'review', 'encompasses', 'two', ...], 'neg'), (['there', 'is', 'a', 'scene', 'early', 'in', 'jakob', ...], 'neg'), (['first', 'troy', 'beyer', 'wrote', 'the', ...], 'neg'), (['in', '1970s', ',', 'many', 'european', ...], 'neg'), (['georges', 'polti', 'once', 'wrote', 'a', 'paper', ...], 'neg'), (['the', 'most', 'popular', 'trend', 'of', 'the', ...], 'neg'), (['\"', 'spice', 'world', '\"', 'is', 'just', 'one', ...], 'neg'), (['i', 'should', 'have', 'known', ',', 'damn', 'it', ...], 'neg'), (['as', 'bad', 'as', '\"', 'mimic', '\"', 'was', ',', ...], 'neg'), (['\"', 'an', 'intimate', ',', 'character', '-', ...], 'neg'), (['vampire', \"'\", 's', 'is', 'a', 'rude', ',', ...], 'neg'), (['if', 'you', \"'\", 're', 'going', 'to', 'make', 'a', ...], 'neg'), (['synopsis', ':', 'a', 'humorless', 'police', ...], 'neg'), (['phew', ',', 'what', 'a', 'mess', '!', 'for', 'his', ...], 'neg'), (['i', 'have', 'never', 'been', 'a', '\"', 'star', ...], 'neg'), (['while', 'the', 'summer', 'movie', 'season', ...], 'neg'), (['it', \"'\", 's', 'not', 'a', 'bad', 'thing', 'to', ...], 'neg'), (['it', 'happens', 'every', 'year', '--', 'the', 'days', ...], 'neg'), (['i', 'heard', 'actor', 'skeet', 'ulrich', ...], 'neg'), (['the', 'most', 'depressing', 'thing', 'about', 'the', ...], 'neg'), (['i', 'have', 'always', 'been', 'a', 'fan', 'of', ...], 'neg'), (['sometimes', 'i', 'wonder', 'just', 'what', 'the', ...], 'neg'), (['\"', 'varsity', 'blues', '\"', 'is', 'the', 'best', ...], 'neg'), (['for', 'a', 'film', 'touted', 'as', 'exploring', ...], 'neg'), (['porter', 'stoddard', '(', 'warren', 'beatty', ')', ...], 'neg'), (['my', 'friend', 'here', 'in', 'film', 'school', ...], 'neg'), (['it', 'would', 'be', 'hard', 'to', 'choose', 'the', ...], 'neg'), (['the', 'main', 'problem', 'with', 'martin', ...], 'neg'), (['america', \"'\", 's', 'favorite', 'homicidal', ...], 'neg'), (['a', 'movie', 'laced', 'with', 'a', 'good', 'blend', ...], 'neg'), (['wonderland', 'is', 'a', 'rather', 'sugary', ...], 'neg'), (['in', 'the', 'series', 'of', 'the', 'erotic', ...], 'neg'), (['here', 'i', 'sit', 'at', 'my', 'computer', 'about', ...], 'neg'), (['tv', \"'\", 's', 'buffy', 'finds', 'herself', 'on', ...], 'neg'), (['be', 'warned', '.', '.', 'brit', 'love', 'story', ...], 'neg'), (['i', \"'\", 've', 'heard', 'it', 'called', '\"', 'jaws', ...], 'neg'), (['there', 'were', 'four', 'movies', 'that', 'earned', ...], 'neg'), (['according', 'to', 'hitchcock', 'and', 'various', ...], 'neg'), (['capsule', ':', 'an', 'insult', '.', 'a', 'stupid', ...], 'neg'), (['note', ':', 'some', 'may', 'consider', 'portions', ...], 'neg'), (['in', 'this', 're', '-', 'make', 'of', 'the', '1954', ...], 'neg'), (['this', 'movie', 'tries', 'to', 'present', 'itself', ...], 'neg'), (['the', 'title', 'is', 'taken', 'from', 'the', ...], 'neg'), (['we', \"'\", 're', 'back', 'in', 'blade', 'runner', ...], 'neg'), (['eddie', 'murphy', 'has', 'a', 'lot', 'riding', 'on', ...], 'neg'), (['it', \"'\", 's', 'difficult', 'to', 'expect', 'much', ...], 'neg'), (['i', \"'\", 'm', 'not', 'sure', 'if', 'silvio', 'horta', ...], 'neg'), (['let', 'me', 'begin', 'by', 'saying', 'that', 'this', ...], 'neg'), (['a', 'highly', 'intelligent', 'life', 'form', 'that', ...], 'neg'), (['studio', '54', 'attracted', 'so', 'many', 'weird', ...], 'neg'), (['in', 'the', 'past', ',', 'tim', 'burton', 'has', ...], 'neg'), (['i', \"'\", 'm', 'guessing', '--', 'and', 'from', 'the', ...], 'neg'), (['under', 'any', 'other', 'circumstances', ',', 'i', ...], 'neg'), (['a', 'disappointing', 'biography', 'about', 'the', ...], 'neg'), (['a', 'movie', 'about', 'divorce', 'and', 'custody', ...], 'neg'), (['there', 'is', 'a', 'rule', 'when', 'it', 'comes', ...], 'neg'), (['synopsis', ':', 'in', '\"', 'sooner', 'than', 'you', ...], 'neg'), (['an', 'american', 'werewolf', 'in', 'paris', 'is', ...], 'neg'), (['depending', 'on', 'who', 'you', 'ask', ',', 'the', ...], 'neg'), (['wizards', 'is', 'an', 'animated', 'feature', 'that', ...], 'neg'), (['a', 'suave', ',', 'cool', ',', 'collected', ',', ...], 'neg'), (['ironically', ',', 'one', 'of', 'the', 'themes', 'of', ...], 'neg'), (['any', 'movie', 'that', 'kills', 'emilio', 'estevez', ...], 'neg'), (['in', '1989', ',', 'director', 'edward', 'zwick', ...], 'neg'), (['i', 'guess', 'that', 'if', 'a', 'very', 'wild', ...], 'neg'), (['there', \"'\", 's', 'a', 'scene', 'early', 'on', 'in', ...], 'neg'), (['one', 'of', 'these', 'days', ',', 'i', \"'\", 'll', ...], 'neg'), (['making', 'your', 'first', 'feature', 'film', 'ain', ...], 'neg'), (['wild', 'things', 'is', 'a', 'way', 'to', 'steam', ...], 'neg'), (['fact', 'that', 'charles', 'bronson', 'represents', ...], 'neg'), (['capsule', ':', 'gal', 'is', 'a', '50s', '-', 'ish', ...], 'neg'), (['\"', 'tarzan', 'and', 'the', 'lost', 'city', '\"', ...], 'neg'), (['dear', 'god', ',', 'this', 'is', 'a', ...], 'neg'), (['a', 'life', 'less', 'ordinary', '(', 'r', ')', ...], 'neg'), (['seen', 'december', '2', ',', '1997', 'at', '6', ':', ...], 'neg'), (['there', 'are', 'movies', 'that', 'pose', 'a', ...], 'neg'), (['\"', 'my', 'name', 'is', 'jack', 'carter', ',', 'and', ...], 'neg'), (['this', 'talky', ',', 'terribly', '-', 'plotted', ...], 'neg'), (['robin', 'williams', 'has', 'the', 'rarest', 'of', ...], 'neg'), (['in', 'my', 'review', 'of', '\"', 'the', 'spy', 'who', ...], 'neg'), (['possibly', 'the', 'years', 'the', 'most', ...], 'neg'), (['2', 'days', 'in', 'the', 'valley', 'is', 'more', ...], 'neg'), (['what', 'would', 'inspire', 'someone', 'who', ...], 'neg'), (['some', 'concepts', 'seem', 'patently', 'hopeless', ...], 'neg'), (['breakdown', 'is', 'an', 'moderately', 'entertaining', ...], 'neg'), (['there', \"'\", 're', 'so', 'many', 'things', 'to', ...], 'neg'), (['yeah', ',', 'yeah', ',', 'the', 'advertisements', ...], 'neg'), (['actually', ',', 'i', \"'\", 'm', 'fairly', 'sure', ...], 'neg'), (['teenagers', 'have', 'a', 'lot', 'of', 'power', 'in', ...], 'neg'), (['>', 'from', 'writer', 'and', 'director', 'darren', ...], 'neg'), (['well', 'there', 'goes', 'another', 'one', '.', ...], 'neg'), (['my', 'inner', 'flag', 'was', 'at', 'half', '-', ...], 'neg'), (['frank', 'detorri', \"'\", 's', '(', 'bill', 'murray', ...], 'neg'), (['woof', '!', 'too', 'bad', 'that', 'leap', 'of', ...], 'neg'), (['can', 'a', 'horror', 'movie', 'truly', 'be', ...], 'neg'), (['i', 'still', 'can', \"'\", 't', 'figure', 'out', 'why', ...], 'neg'), (['note', ':', 'some', 'may', 'consider', 'portions', ...], 'neg'), (['the', 'first', 'species', 'was', 'a', 'moderately', ...], 'neg'), (['there', \"'\", 's', 'a', 'scene', 'somewhere', 'in', ...], 'neg'), (['the', 'yet', '-', 'to', '-', 'be', '-', 'released', ...], 'neg'), (['star', 'wars', ':', '?', 'episode', 'i', '--', 'the', ...], 'neg'), (['birthdays', 'often', 'cause', 'individuals', 'to', ...], 'neg'), (['the', 'cartoon', 'is', 'way', 'better', '.', 'that', ...], 'neg'), (['ex', '-', 'universal', 'soldier', 'luc', 'has', 'to', ...], 'neg'), (['take', 'a', 'look', 'at', 'the', 'following', ...], 'neg'), (['the', 'above', 'is', 'dialogue', 'from', 'this', ...], 'neg'), (['set', 'in', 'harlem', 'during', 'the', 'great', ...], 'neg'), (['and', 'just', 'when', 'you', 'thought', 'joblo', ...], 'neg'), (['`', 'bats', \"'\", 'is', 'an', 'insulting', 'slap', ...], 'neg'), (['capsule', ':', 'combine', 'one', 'quart', 'of', ...], 'neg'), (['the', 'original', '_babe_', 'was', 'my', 'favorite', ...], 'neg'), (['at', 'first', 'i', 'was', 'intrigued', 'by', 'the', ...], 'neg'), (['here', 'is', 'a', 'movie', 'that', 'sadly', ...], 'neg'), (['\"', 'virus', '\"', 'is', 'a', 'monster', 'movie', ...], 'neg'), (['the', 'people', 'who', 'populate', 'the', 'movie', ...], 'neg'), (['barb', 'wire', ',', 'pamela', 'anderson', 'lee', \"'\", ...], 'neg'), (['absolute', 'power', ',', 'the', 'new', 'film', ...], 'neg'), (['there', '?', 's', 'nothing', 'quite', 'like', 'a', ...], 'neg'), (['the', '\"', 'disney', 'stick', '-', 'to', '-', 'what', ...], 'neg'), (['as', 'the', 'twin', 'surfer', 'dudes', ',', 'stew', ...], 'neg'), (['in', 'the', 'continuation', 'of', 'warner', ...], 'neg'), (['robin', 'hood', ':', 'men', 'in', 'tights', 'is', ...], 'neg'), (['with', 'his', 'successful', 'books', 'and', 'movies', ...], 'neg'), (['sandra', 'bullock', 'in', 'high', 'heels', 'and', ...], 'neg'), (['boy', ',', 'what', 'a', 'great', 'movie', '!', '!', ...], 'neg'), (['miramax', '\"', 'disinvited', '\"', 'on', '-', 'line', ...], 'neg'), (['there', 'are', 'those', 'of', 'us', 'who', 'think', ...], 'neg'), (['the', 'premise', 'of', 'the', 'new', 'james', 'wong', ...], 'neg'), (['please', 'don', \"'\", 't', 'mind', 'this', 'windbag', ...], 'neg'), (['as', 'any', 'reasonable', 'human', 'being', 'would', ...], 'neg'), (['salaries', 'of', 'hollywood', 'top', 'actors', 'are', ...], 'neg'), (['even', 'though', 'i', 'have', 'the', 'utmost', ...], 'neg'), (['movies', 'about', 'teenagers', 'and', 'teenage', ...], 'neg'), (['john', 'boorman', \"'\", 's', '\"', 'zardoz', '\"', 'is', ...], 'neg'), (['the', 'kids', 'in', 'the', 'hall', 'are', 'an', ...], 'neg'), (['two', 'party', 'guys', 'bob', 'their', 'heads', 'to', ...], 'neg'), (['at', 'one', 'point', 'in', 'this', 'movie', 'there', ...], 'neg'), (['to', 'sum', 'the', 'entire', 'film', '\"', '54', '\"', ...], 'neg'), (['the', 'best', 'thing', '--', 'in', 'fact', ',', ...], 'neg'), (['synopsis', ':', 'easily', '-', 'angered', ',', ...], 'neg'), (['well', ',', 'what', 'are', 'you', 'going', 'to', ...], 'neg'), (['midway', 'through', '\"', 'anaconda', '\"', ',', ...], 'neg'), (['if', 'the', '70', \"'\", 's', 'nostalgia', 'didn', \"'\", ...], 'neg'), (['14', 'years', 'ago', ',', 'national', 'lampoon', ...], 'neg')]\n"
          ]
        }
      ]
    },
    {
      "cell_type": "markdown",
      "metadata": {
        "id": "RbTq6eGv2XT2"
      },
      "source": [
        "1)\n",
        "a) **Generate** a list of 10 content words which are representative of the positive reviews in your training data.\n",
        "\n",
        "b) **Generate** a list of 10 content words which are representative of the negative reviews in your training data.\n",
        "\n",
        "c) **Explaination**"
      ]
    },
    {
      "cell_type": "markdown",
      "source": [
        "## **1) a)**"
      ],
      "metadata": {
        "id": "4P6hoTKOuxE6"
      }
    },
    {
      "cell_type": "code",
      "execution_count": null,
      "metadata": {
        "id": "JXHrtNCg2XT4",
        "colab": {
          "base_uri": "https://localhost:8080/"
        },
        "outputId": "482aafbf-45ba-443d-8fbb-42f6a0d3f6f0"
      },
      "outputs": [
        {
          "output_type": "stream",
          "name": "stdout",
          "text": [
            "['neg', 'pos']\n"
          ]
        }
      ],
      "source": [
        "print(movie_reviews.categories())  #Firstly getting all the categories in dataset"
      ]
    },
    {
      "cell_type": "code",
      "execution_count": null,
      "metadata": {
        "id": "gvFu36xZ2XT5",
        "colab": {
          "base_uri": "https://localhost:8080/"
        },
        "outputId": "b52059eb-88c9-40dd-b994-881c5f32b394"
      },
      "outputs": [
        {
          "output_type": "stream",
          "name": "stdout",
          "text": [
            "The number of positive reviews is 1000\n",
            "The number of negative reviews is 1000\n"
          ]
        }
      ],
      "source": [
        "pos_review_ids=movie_reviews.fileids('pos')\n",
        "neg_review_ids=movie_reviews.fileids('neg')\n",
        "\n",
        "print(f\"The number of positive reviews is {len(pos_review_ids)}\")\n",
        "print(f\"The number of negative reviews is {len(neg_review_ids)}\")  # The numbers below display that this a balanced dataset as it contains equal number of positive and negative reviews"
      ]
    },
    {
      "cell_type": "code",
      "source": [
        "import random\n",
        "wordlist_pos_reviews=[]\n",
        "wordlist_neg_reviews=[]\n",
        "\n",
        "def gen_sample_of_words(data_indices,n=10):\n",
        "  random.seed(11)                                                       #Sets the random seed for data so that it produces same data\n",
        "  unique_sample=random.sample(data_indices,n)                           #Getting the 10 indices from data_indices\n",
        "  #print(list(movie_reviews.words(pos_review_ids[0])))\n",
        "  word_list=[]\n",
        "  for index in unique_sample:\n",
        "    word_list.extend(list(movie_reviews.words(index)))                  #extend will store the data of that particular index in same list\n",
        "  unique_words=[word.lower() for word in word_list if word.isalpha()]   #Check if word is alphabetic store in unique_words\n",
        "  unique_words=list(set(unique_words))                                  #Generate list of unique words\n",
        "  # print(unique_words)\n",
        "  return unique_words[:n]                                               # Return first 10 words in a list"
      ],
      "metadata": {
        "id": "enoptyn5OvSs"
      },
      "execution_count": null,
      "outputs": []
    },
    {
      "cell_type": "code",
      "source": [
        "wordlist_pos_reviews=gen_sample_of_words(pos_review_ids)\n",
        "print(f\"The word list for positive reviews is: {wordlist_pos_reviews}\")"
      ],
      "metadata": {
        "colab": {
          "base_uri": "https://localhost:8080/"
        },
        "id": "poQtaMVWYfPs",
        "outputId": "e3b4886a-3592-4ad6-d390-550f5de0f23f"
      },
      "execution_count": null,
      "outputs": [
        {
          "output_type": "stream",
          "name": "stdout",
          "text": [
            "The word list for positive reviews is: ['protect', 'antonio', 'aliens', 'background', 'figure', 'purists', 'prostitution', 'book', 'through', 'cultural']\n"
          ]
        }
      ]
    },
    {
      "cell_type": "markdown",
      "source": [
        "## **1) b)**"
      ],
      "metadata": {
        "id": "IjQawzltu99X"
      }
    },
    {
      "cell_type": "code",
      "source": [
        "wordlist_neg_reviews=gen_sample_of_words(neg_review_ids)\n",
        "print(f\"The word list for negative reviews is: {wordlist_neg_reviews}\")"
      ],
      "metadata": {
        "colab": {
          "base_uri": "https://localhost:8080/"
        },
        "id": "6WvChzE7YhOU",
        "outputId": "d25a7a06-871c-404a-e950-509b0b5eb4d2"
      },
      "execution_count": null,
      "outputs": [
        {
          "output_type": "stream",
          "name": "stdout",
          "text": [
            "The word list for negative reviews is: ['leoni', 'coast', 'deck', 'listed', 'whitney', 'cameron', 'figure', 'factors', 'hathaway', 'arguing']\n"
          ]
        }
      ]
    },
    {
      "cell_type": "markdown",
      "source": [
        "## **1)c)**"
      ],
      "metadata": {
        "id": "EmmvUVnWvIr1"
      }
    },
    {
      "cell_type": "markdown",
      "source": [
        "**Explanation:**\n",
        "\n",
        "I have generated a word list of 10 unique words by using the function **gen_sample_of_words** by first getting the indices of categories which is postitive and negative here. Then randomly selecting the index from the given category and generating a list of unique words by filtering only alphabetic words from the list. This generates a unique sample of words from the corpus of words in that review category and will help us in getting the broader picture of what kind of words are included in that category.\n",
        "\n",
        "This list will also help us to give the sample list of positive and negative words to train our word list based classifier."
      ],
      "metadata": {
        "id": "vvB9jJCoXby5"
      }
    },
    {
      "cell_type": "markdown",
      "metadata": {
        "id": "TApOQE6vND20"
      },
      "source": [
        "2)\n",
        "a) **Use** the lists generated in Q1 to build a **word list classifier** which will classify reviews as being positive or negative.\n",
        "\n",
        "b) **Explaination**\n",
        "\n"
      ]
    },
    {
      "cell_type": "markdown",
      "source": [
        "## **2)a)**"
      ],
      "metadata": {
        "id": "4x6X4xcDxWIz"
      }
    },
    {
      "cell_type": "code",
      "source": [
        "# def most_recurring_words(posfreq,negfreq,topk):\n",
        "#     difference=posfreq-negfreq\n",
        "#     # print(difference)\n",
        "#     sorted_difference=difference.most_common() # most_common method from the FreqDist class - this returns a list of word, frequency pairs ordered by frequency.\n",
        "#     # print(sorteddiff)\n",
        "#     just_words=[word for (word,freq) in sorted_difference[:topk]]\n",
        "#     return just_words"
      ],
      "metadata": {
        "id": "aKLYHv2kar45"
      },
      "execution_count": null,
      "outputs": []
    },
    {
      "cell_type": "code",
      "execution_count": null,
      "metadata": {
        "id": "BThDMrcmODJy"
      },
      "outputs": [],
      "source": [
        "from nltk.classify.api import ClassifierI\n",
        "\n",
        "class Word_list_cf(ClassifierI):\n",
        "\n",
        "    def __init__(self, pos, neg):\n",
        "      self._pos_words = pos\n",
        "      self._neg_words = neg\n",
        "\n",
        "    def classify_document(self, doc):\n",
        "        score = 0\n",
        "\n",
        "        # For each document if word is in positive list it will increase the score and if it occurs in negative list it will decrease the score\n",
        "        for word, value in doc.items():\n",
        "          if word in self._pos_words:\n",
        "            score+=1\n",
        "          if word in self._neg_words:\n",
        "            score-=1\n",
        "\n",
        "        #If score is less than 0 return negative as a category of word, if it greater than 0 return positive if it is equals 0 return random from given choices pos, neg\n",
        "        if score < 0:\n",
        "          return \"neg\"\n",
        "        elif score>0:\n",
        "          return \"pos\"\n",
        "        else:\n",
        "          random_outcome=random.choice([\"pos\",\"neg\"])\n",
        "          return random_outcome\n",
        "\n",
        "    def train(self,training_data):\n",
        "\n",
        "      positive_freq_dist=FreqDist()\n",
        "      negative_freq_dist=FreqDist()\n",
        "\n",
        "      for review_Dist,label in training_data:\n",
        "        if label=='pos':\n",
        "          positive_freq_dist+=review_Dist\n",
        "        else:\n",
        "          negative_freq_dist+=review_Dist\n",
        "\n",
        "    def classify_many(self, docs):\n",
        "       return [self.classify_document(doc) for doc in docs]\n",
        "\n",
        "    def labels(self):\n",
        "        return (\"pos\", \"neg\")"
      ]
    },
    {
      "cell_type": "code",
      "source": [
        "movie_review_classifier= Word_list_cf(wordlist_pos_reviews,wordlist_neg_reviews)\n",
        "print(movie_review_classifier)"
      ],
      "metadata": {
        "colab": {
          "base_uri": "https://localhost:8080/"
        },
        "id": "i6oMENjhYrPZ",
        "outputId": "ae830da0-c0dc-4f2a-bbc3-f801a7fb9aee"
      },
      "execution_count": null,
      "outputs": [
        {
          "output_type": "stream",
          "name": "stdout",
          "text": [
            "<__main__.Word_list_cf object at 0x7f5f3d538c10>\n"
          ]
        }
      ]
    },
    {
      "cell_type": "markdown",
      "source": [
        "## **2)b)**"
      ],
      "metadata": {
        "id": "33f_uZcqx9M4"
      }
    },
    {
      "cell_type": "markdown",
      "source": [
        "**Explanation:**\n",
        "\n",
        "\n",
        "We must import the base model from nltk.classify.api to build our classifier then we create a classify_document method in this class called Word_List_cf. In the method classify_document we take a single document as input and if the word occurs in the positive word list which we have already created in 1) a) the score for the document will increase and negative word list which we created in 1) b) the score for that document will decrease.Now if score is less than 0, we classify that document as negative, if score is greater than 0 we classify that document as positive if in case score is 0, we will give our decision for that document based on by random choice.\n",
        "\n",
        "classify_many helps us classify each document by using method classify_document\n",
        "for each document.\n",
        "\n",
        "We take positive word_list and negative word list to initialize our classifier list and train it on the given words.\n",
        "\n"
      ],
      "metadata": {
        "id": "rK0CThoDyAwv"
      }
    },
    {
      "cell_type": "markdown",
      "metadata": {
        "id": "YZdDO_Y92XUH"
      },
      "source": [
        "3)\n",
        "a) **Calculate** the accuracy, precision, recall and F1 score of your classifier.\n",
        "\n",
        "b) Is it reasonable to evaluate the classifier in terms of its accuracy?  **Explain** your answer and give a counter-example (a scenario where it would / would not be reasonable to evaluate the classifier in terms of its accuracy)."
      ]
    },
    {
      "cell_type": "code",
      "execution_count": null,
      "metadata": {
        "id": "1LQc8bsA2XUI"
      },
      "outputs": [],
      "source": [
        "class CalculateConfusionMatrix:\n",
        "    def __init__(self,predictions,real_value,classes=(\"pos\",\"neg\")):\n",
        "\n",
        "        (self.class1,self.class2)=classes\n",
        "        self.true_positive=0\n",
        "        self.false_positive=0\n",
        "        self.false_negative=0\n",
        "        self.true_negative=0\n",
        "\n",
        "        for predicted_value,actual_value in zip(predictions,real_value):\n",
        "            if actual_value==self.class1:\n",
        "                if predicted_value==self.class1:\n",
        "                    self.true_positive+=1\n",
        "                else:\n",
        "                    self.false_negative+=1\n",
        "\n",
        "            elif predicted_value==self.class1:\n",
        "                self.false_positive+=1\n",
        "            else:\n",
        "                self.true_negative+=1\n",
        "\n",
        "        self.accuracy_of_classifier=self.calculate_accuracy()\n",
        "        self.precision_score=self.calculate_precision()\n",
        "        self.recall_score=self.calculate_recall()\n",
        "        self.f1_score=self.calculate_f1()\n",
        "\n",
        "    def calculate_accuracy(self):\n",
        "        #Accuracy=(True Positives + True Negatives) / (True Positives + True Negatives + False Positives + False Negatives)\n",
        "        a=(self.true_positive +self.true_negative)/(self.true_positive +self.true_negative +self.false_positive+self.false_negative)\n",
        "        self.a=a\n",
        "        return round(a,4)\n",
        "\n",
        "    def calculate_precision(self):\n",
        "        #Precision = True Positives /(True Positives + False Positives), Denominator in precision denotes Total Predicted Positive\n",
        "        p=self.true_positive/(self.true_positive + self.false_positive)\n",
        "        self.p=p\n",
        "        return round(p,4)\n",
        "\n",
        "    def calculate_recall(self):\n",
        "        #Recall= True Positives/(True Positives + False Negatives ), Denominator denotes Total Actual Positive\n",
        "        r=self.true_positive/(self.true_positive + self.false_negative)\n",
        "        self.r=r\n",
        "        return round(r,4)\n",
        "\n",
        "    def calculate_f1(self):\n",
        "        #F1=2*precison*recall/precision+recall\n",
        "        f1=(2*self.p*self.r)/(self.p+self.r)\n",
        "        return round(f1,4)"
      ]
    },
    {
      "cell_type": "code",
      "source": [
        "stop_words = stopwords.words('english')\n",
        "\n",
        "def normalise_and_remove_stopwords(wordlist):\n",
        "  lowered_list=[word.lower() for word in wordlist]      # case_normalization that is converting all words to lower case\n",
        "  filtered_data=[word for word in lowered_list if word.isalpha() and word not in stop_words]  #Removing stop words\n",
        "  return filtered_data"
      ],
      "metadata": {
        "id": "ecKVBoC8j_Q1"
      },
      "execution_count": null,
      "outputs": []
    },
    {
      "cell_type": "code",
      "source": [
        "\n",
        "training_normalized=[(FreqDist(normalise_and_remove_stopwords(wordlist)),label) for (wordlist,label) in training_data]\n",
        "testing_normalized=[(FreqDist(normalise_and_remove_stopwords(wordlist)),label) for (wordlist,label) in testing_data]\n",
        "print(training_normalized[0])\n",
        "print(testing_normalized[0])"
      ],
      "metadata": {
        "colab": {
          "base_uri": "https://localhost:8080/"
        },
        "id": "gduh2K6Zj6Ze",
        "outputId": "bbd4425a-6825-4b03-cec5-3e808fca37ee"
      },
      "execution_count": null,
      "outputs": [
        {
          "output_type": "stream",
          "name": "stdout",
          "text": [
            "(FreqDist({'carter': 22, 'washington': 10, 'film': 7, 'prison': 6, 'actors': 5, 'see': 5, 'denzel': 4, 'hurricane': 4, 'life': 4, 'white': 4, ...}), 'pos')\n",
            "(FreqDist({'film': 5, 'families': 4, 'first': 3, 'romeo': 3, 'juliet': 3, 'younger': 3, 'love': 3, 'another': 2, 'shakespeare': 2, 'wrong': 2, ...}), 'pos')\n"
          ]
        }
      ]
    },
    {
      "cell_type": "code",
      "execution_count": null,
      "metadata": {
        "id": "R_i80ceP2XUJ",
        "colab": {
          "base_uri": "https://localhost:8080/"
        },
        "outputId": "d996e06a-23aa-416b-9d1e-3228f4558729"
      },
      "outputs": [
        {
          "output_type": "stream",
          "name": "stdout",
          "text": [
            "(FreqDist({'film': 5, 'families': 4, 'first': 3, 'romeo': 3, 'juliet': 3, 'younger': 3, 'love': 3, 'another': 2, 'shakespeare': 2, 'wrong': 2, ...}), FreqDist({'tribe': 8, 'krippendorf': 6, 'shelmikedmu': 4, 'film': 4, 'seem': 3, 'however': 3, 'one': 3, 'professor': 3, 'kids': 3, 'humor': 3, ...}), FreqDist({'hilary': 5, 'musicians': 4, 'watson': 4, 'script': 4, 'movie': 3, 'one': 3, 'together': 3, 'jackie': 3, 'griffiths': 3, 'du': 3, ...}), FreqDist({'lumumba': 13, 'story': 7, 'patrice': 6, 'peck': 5, 'man': 4, 'belgian': 4, 'country': 4, 'life': 4, 'first': 3, 'government': 3, ...}), FreqDist({'george': 12, 'life': 10, 'film': 10, 'movie': 10, 'time': 7, 'christmas': 6, 'good': 5, 'however': 5, 'clarence': 5, 'family': 5, ...}), FreqDist({'cinque': 5, 'one': 4, 'slave': 4, 'spielberg': 3, 'slavery': 3, 'characters': 3, 'real': 3, 'life': 3, 'movie': 2, 'story': 2, ...}), FreqDist({'film': 10, 'metal': 6, 'music': 6, 'band': 6, 'heavy': 4, 'singer': 4, 'like': 4, 'one': 4, 'also': 4, 'young': 3, ...}), FreqDist({'matron': 6, 'film': 4, 'sid': 4, 'james': 4, 'pills': 3, 'hospital': 3, 'kenneth': 3, 'williams': 3, 'bernard': 3, 'jacques': 3, ...}), FreqDist({'film': 11, 'capone': 11, 'ness': 8, 'untouchables': 7, 'also': 7, 'scenes': 5, 'action': 4, 'begins': 4, 'man': 4, 'great': 4, ...}), FreqDist({'roger': 11, 'cartoon': 6, 'characters': 6, 'rabbit': 5, 'film': 4, 'p': 4, 'framed': 3, 'takes': 3, 'work': 3, 'valiant': 3, ...}), FreqDist({'van': 6, 'damme': 6, 'rodman': 4, 'movie': 4, 'action': 3, 'good': 3, 'get': 3, 'quinn': 3, 'one': 3, 'like': 3, ...}), FreqDist({'movie': 8, 'see': 4, 'osment': 3, 'one': 3, 'thing': 2, 'willis': 2, 'whole': 2, 'better': 2, 'sixth': 2, 'sense': 2, ...}), FreqDist({'music': 5, 'film': 5, 'time': 4, 'audience': 3, 'watching': 3, 'one': 3, 'band': 3, 'love': 3, 'minutes': 3, 'us': 2, ...}), FreqDist({'film': 16, 'city': 9, 'john': 7, 'dark': 6, 'also': 6, 'story': 5, 'human': 4, 'old': 4, 'man': 4, 'look': 4, ...}), FreqDist({'film': 8, 'like': 8, 'crime': 7, 'job': 7, 'nick': 7, 'heist': 6, 'one': 6, 'score': 5, 'last': 4, 'even': 4, ...}), FreqDist({'movie': 10, 'characters': 10, 'one': 9, 'film': 9, 'obi': 8, 'wan': 8, 'qui': 7, 'gon': 7, 'young': 7, 'lucas': 7, ...}), FreqDist({'mystery': 6, 'movie': 6, 'soze': 5, 'usual': 4, 'crime': 4, 'keyser': 4, 'name': 4, 'suspects': 3, 'story': 3, 'criminals': 3, ...}), FreqDist({'breakdown': 8, 'jeff': 7, 'one': 6, 'man': 6, 'car': 4, 'plot': 4, 'russell': 4, 'well': 4, 'movie': 4, 'easy': 3, ...}), FreqDist({'movie': 8, 'tunnel': 7, 'disaster': 6, 'good': 6, 'stallone': 6, 'daylight': 5, 'acting': 5, 'one': 5, 'think': 4, 'fun': 4, ...}), FreqDist({'thing': 10, 'hanks': 7, 'film': 5, 'nice': 4, 'wonders': 3, 'days': 3, 'tom': 2, 'moment': 2, 'becomes': 2, 'nostalgia': 2, ...}), FreqDist({'doctor': 11, 'would': 6, 'master': 5, 'movie': 5, 'time': 4, 'series': 4, 'daleks': 4, 'good': 4, 'role': 4, 'lot': 3, ...}), FreqDist({'lambeau': 9, 'good': 8, 'sean': 6, 'movie': 5, 'like': 5, 'time': 4, 'knows': 4, 'hunting': 3, 'quite': 3, 'get': 3, ...}), FreqDist({'fine': 5, 'movie': 5, 'pleasantville': 5, 'daniels': 4, 'walsh': 4, 'ideas': 3, 'ross': 3, 'quite': 3, 'well': 3, 'maguire': 3, ...}), FreqDist({'mulan': 12, 'movie': 7, 'disney': 6, 'good': 5, 'man': 5, 'army': 5, 'like': 4, 'best': 3, 'china': 3, 'ever': 3, ...}), FreqDist({'kevin': 11, 'alone': 9, 'home': 8, 'family': 6, 'slapstick': 4, 'true': 4, 'way': 4, 'night': 4, 'first': 3, 'going': 3, ...}), FreqDist({'image': 5, 'see': 5, 'ago': 4, 'played': 4, 'film': 4, 'one': 4, 'fail': 4, 'years': 3, 'stars': 3, 'homer': 3, ...}), FreqDist({'memento': 6, 'leonard': 5, 'time': 2, 'movie': 2, 'nolan': 2, 'film': 2, 'never': 2, 'top': 2, 'synopsis': 1, 'shelby': 1, ...}), FreqDist({'hopkins': 3, 'granger': 2, 'hearts': 2, 'atlantis': 2, 'timing': 2, 'seems': 2, 'right': 2, 'drama': 2, 'power': 2, 'bobby': 2, ...}), FreqDist({'travolta': 7, 'pulp': 4, 'fiction': 4, 'get': 4, 'shorty': 4, 'hackman': 4, 'movie': 4, 'career': 3, 'along': 3, 'contract': 3, ...}), FreqDist({'shrek': 14, 'farquaad': 7, 'characters': 4, 'lord': 4, 'disney': 4, 'offers': 3, 'big': 3, 'jokes': 3, 'found': 3, 'ogre': 3, ...}), FreqDist({'tampopo': 10, 'food': 7, 'something': 7, 'film': 6, 'family': 6, 'eat': 5, 'scene': 5, 'shop': 5, 'goro': 5, 'bowl': 4, ...}), FreqDist({'hedwig': 13, 'mitchell': 9, 'rock': 8, 'angry': 7, 'inch': 7, 'tommy': 6, 'hansel': 6, 'john': 5, 'cameron': 5, 'like': 5, ...}), FreqDist({'pignon': 5, 'job': 3, 'granger': 2, 'closet': 2, 'daniel': 2, 'condom': 2, 'factory': 2, 'belone': 2, 'man': 2, 'gay': 2, ...}), FreqDist({'story': 12, 'movie': 7, 'seems': 6, 'cinderella': 5, 'prince': 5, 'fairy': 4, 'well': 4, 'one': 3, 'almost': 3, 'least': 3, ...}), FreqDist({'film': 10, 'benigni': 8, 'great': 7, 'guido': 7, 'one': 6, 'people': 4, 'best': 4, 'perhaps': 4, 'society': 3, 'must': 3, ...}), FreqDist({'estella': 8, 'finn': 8, 'great': 7, 'expectations': 7, 'pip': 5, 'artist': 4, 'dickens': 4, 'novel': 3, 'named': 3, 'life': 3, ...}), FreqDist({'cole': 8, 'malcolm': 6, 'sixth': 3, 'sense': 3, 'willis': 3, 'us': 3, 'time': 3, 'troubled': 2, 'kind': 2, 'shot': 2, ...}), FreqDist({'robocop': 13, 'movie': 8, 'ocp': 6, 'one': 5, 'weller': 5, 'plot': 5, 'peter': 4, 'nancy': 4, 'allen': 4, 'first': 3, ...}), FreqDist({'flynt': 31, 'larry': 15, 'film': 14, 'people': 7, 'vs': 7, 'love': 6, 'althea': 6, 'freedom': 5, 'speech': 5, 'first': 4, ...}), FreqDist({'stallone': 3, 'daylight': 3, 'great': 3, 'action': 3, 'film': 3, 'well': 2, 'know': 2, 'movie': 2, 'tunnel': 2, 'new': 2, ...}), FreqDist({'homer': 9, 'october': 4, 'sky': 4, 'mine': 4, 'however': 3, 'like': 3, 'true': 3, 'well': 3, 'boys': 3, 'father': 3, ...}), FreqDist({'film': 10, 'demented': 7, 'films': 6, 'take': 4, 'next': 3, 'movie': 3, 'theater': 3, 'john': 3, 'waters': 3, 'cecil': 3, ...}), FreqDist({'film': 40, 'rocky': 13, 'also': 13, 'time': 11, 'horror': 11, 'show': 11, 'version': 11, 'disc': 10, 'dvd': 9, 'know': 8, ...}), FreqDist({'stephane': 16, 'movie': 16, 'camille': 11, 'almost': 9, 'characters': 9, 'however': 7, 'relationship': 5, 'people': 4, 'film': 4, 'violin': 4, ...}), FreqDist({'carol': 8, 'henry': 7, 'life': 5, 'wayne': 5, 'money': 4, 'hospital': 3, 'little': 3, 'newman': 3, 'begins': 3, 'self': 3, ...}), FreqDist({'film': 13, 'first': 9, 'julie': 9, 'one': 9, 'settle': 6, 'know': 5, 'much': 5, 'like': 5, 'karla': 5, 'ray': 5, ...}), FreqDist({'carlito': 14, 'depalma': 7, 'way': 7, 'story': 5, 'pacino': 4, 'penn': 4, 'life': 4, 'kleinfeld': 4, 'two': 3, 'years': 3, ...}), FreqDist({'dude': 7, 'lebowski': 5, 'funny': 4, 'never': 3, 'jeff': 3, 'bridges': 3, 'big': 3, 'bowling': 3, 'thugs': 3, 'comedy': 3, ...}), FreqDist({'trek': 36, 'star': 27, 'insurrection': 12, 'film': 11, 'picard': 10, 'enterprise': 10, 'ba': 8, 'ku': 8, 'movie': 8, 'ru': 7, ...}), FreqDist({'crazy': 5, 'beautiful': 5, 'carlos': 5, 'enough': 3, 'nicole': 3, 'damned': 2, 'story': 2, 'afterschool': 2, 'special': 2, 'young': 2, ...}), FreqDist({'grady': 6, 'first': 5, 'life': 5, 'much': 4, 'people': 3, 'time': 3, 'professor': 3, 'second': 3, 'day': 3, 'student': 3, ...}), FreqDist({'mouse': 13, 'hunt': 4, 'although': 4, 'lane': 4, 'evans': 4, 'one': 4, 'family': 3, 'two': 3, 'lars': 3, 'movie': 3, ...}), FreqDist({'mama': 8, 'jo': 8, 'family': 7, 'hall': 5, 'one': 5, 'movie': 5, 'food': 4, 'irma': 4, 'p': 4, 'sunday': 4, ...}), FreqDist({'ash': 9, 'movie': 7, 'raimi': 6, 'funny': 5, 'watch': 5, 'evil': 4, 'dead': 4, 'like': 4, 'monster': 4, 'ii': 3, ...}), FreqDist({'film': 8, 'grease': 4, 'john': 4, 'movie': 4, 'one': 3, 'high': 3, 'danny': 3, 'travolta': 3, 'newton': 3, 'dance': 3, ...}), FreqDist({'mike': 14, 'poker': 13, 'rounders': 9, 'playing': 8, 'film': 8, 'worm': 7, 'one': 7, 'law': 5, 'game': 5, 'gabe': 4, ...}), FreqDist({'film': 10, 'mary': 8, 'something': 5, 'know': 5, 'see': 4, 'could': 4, 'great': 4, 'farrelly': 4, 'ted': 4, 'one': 4, ...}), FreqDist({'sonny': 10, 'church': 6, 'film': 6, 'go': 5, 'apostle': 5, 'duvall': 5, 'god': 4, 'like': 4, 'preacher': 3, 'minister': 3, ...}), FreqDist({'last': 9, 'days': 7, 'one': 7, 'documentary': 6, 'five': 5, 'survivors': 5, 'war': 5, 'stories': 5, 'dvd': 5, 'jews': 4, ...}), FreqDist({'one': 5, 'movie': 4, 'also': 2, 'another': 2, 'wife': 2, 'ocean': 2, 'strung': 2, 'fine': 2, 'easy': 1, 'label': 1, ...}), FreqDist({'chicken': 15, 'run': 12, 'movie': 9, 'one': 8, 'seen': 7, 'chickens': 7, 'park': 7, 'like': 5, 'film': 5, 'even': 5, ...}), FreqDist({'tarzan': 14, 'story': 6, 'voiced': 5, 'children': 4, 'really': 4, 'jane': 3, 'porter': 3, 'clayton': 3, 'lot': 3, 'like': 3, ...}), FreqDist({'annie': 5, 'heaven': 5, 'chris': 4, 'well': 4, 'things': 3, 'film': 3, 'hell': 3, 'find': 3, 'two': 2, 'death': 2, ...}), FreqDist({'beaumarchais': 12, 'movie': 6, 'one': 5, 'may': 5, 'time': 3, 'would': 3, 'scoundrel': 3, 'plays': 3, 'good': 3, 'story': 3, ...}), FreqDist({'starship': 7, 'troopers': 7, 'johnny': 6, 'high': 4, 'alien': 4, 'patrick': 3, 'like': 3, 'infantry': 3, 'good': 3, 'numerous': 3, ...}), FreqDist({'like': 16, 'eva': 14, 'musical': 13, 'film': 7, 'musicals': 6, 'juan': 6, 'good': 6, 'evita': 5, 'although': 5, 'show': 5, ...}), FreqDist({'quilt': 11, 'american': 8, 'make': 6, 'hy': 4, 'story': 3, 'gladys': 3, 'emma': 3, 'husband': 3, 'anna': 3, 'finn': 3, ...}), FreqDist({'flynt': 24, 'magazine': 6, 'scene': 5, 'hustler': 5, 'photos': 4, 'film': 4, 'harrelson': 4, 'people': 3, 'vs': 3, 'larry': 3, ...}), FreqDist({'film': 9, 'chucky': 9, 'child': 8, 'horror': 8, 'doll': 8, 'play': 7, 'one': 7, 'almost': 5, 'like': 5, 'even': 4, ...}), FreqDist({'family': 13, 'indian': 7, 'wedding': 4, 'film': 4, 'films': 4, 'like': 4, 'mira': 3, 'nair': 3, 'us': 3, 'together': 3, ...}), FreqDist({'family': 6, 'life': 6, 'movie': 6, 'benigni': 5, 'love': 4, 'one': 4, 'beautiful': 4, 'son': 3, 'guido': 3, 'dora': 3, ...}), FreqDist({'rushmore': 5, 'max': 4, 'film': 4, 'schwartzman': 4, 'anderson': 3, 'plays': 3, 'blume': 3, 'murray': 3, 'role': 2, 'written': 2, ...}), FreqDist({'jude': 5, 'russian': 4, 'war': 4, 'law': 3, 'talented': 3, 'enemy': 2, 'gates': 2, 'sniper': 2, 'danilov': 2, 'german': 2, ...}), FreqDist({'chan': 9, 'jackie': 5, 'mr': 5, 'nice': 5, 'guy': 5, 'involving': 3, 'fight': 3, 'action': 3, 'film': 3, 'stateside': 2, ...}), FreqDist({'wag': 6, 'dog': 6, 'see': 6, 'movie': 6, 'deniro': 5, 'political': 4, 'hollywood': 4, 'hoffman': 4, 'comedy': 4, 'two': 4, ...}), FreqDist({'sally': 6, 'moments': 5, 'romantic': 4, 'dorian': 4, 'played': 3, 'drew': 3, 'barrymore': 3, 'father': 3, 'fast': 3, 'food': 3, ...}), FreqDist({'jackal': 8, 'film': 5, 'real': 5, 'quinn': 4, 'sutherland': 4, 'terrorist': 4, 'hour': 4, 'montreal': 3, 'known': 3, 'ramirez': 3, ...}), FreqDist({'film': 8, 'blood': 7, 'simple': 7, 'coens': 6, 'one': 6, 'movie': 4, 'murder': 4, 'would': 4, 'characters': 4, 'story': 3, ...}), FreqDist({'besson': 9, 'film': 9, 'element': 7, 'fifth': 6, 'story': 4, 'world': 4, 'vision': 4, 'still': 4, 'exciting': 3, 'one': 3, ...}), FreqDist({'film': 10, 'bad': 4, 'things': 4, 'friends': 4, 'robert': 4, 'much': 4, 'movie': 3, 'five': 3, 'wedding': 3, 'diaz': 3, ...}), FreqDist({'rules': 8, 'homer': 7, 'larch': 6, 'life': 5, 'dr': 4, 'many': 4, 'matter': 3, 'caine': 3, 'world': 3, 'go': 3, ...}), FreqDist({'slim': 11, 'taels': 7, 'eight': 6, 'gold': 6, 'man': 5, 'one': 5, 'like': 5, 'odds': 5, 'ends': 5, 'story': 4, ...}), FreqDist({'mummy': 12, 'film': 6, 'evelyn': 5, 'egypt': 5, 'like': 5, 'ancient': 5, 'one': 5, 'always': 4, 'special': 4, 'effects': 4, ...}), FreqDist({'gay': 5, 'williams': 3, 'one': 3, 'couple': 2, 'straight': 2, 'son': 2, 'lane': 2, 'drag': 2, 'star': 2, 'men': 2, ...}), FreqDist({'film': 27, 'story': 13, 'would': 10, 'know': 10, 'never': 9, 'also': 9, 'trilogy': 9, 'star': 8, 'wars': 8, 'films': 8, ...}), FreqDist({'gilbert': 12, 'life': 5, 'town': 5, 'time': 4, 'endora': 4, 'one': 4, 'story': 3, 'grape': 3, 'depp': 3, 'man': 3, ...}), FreqDist({'ford': 6, 'quinn': 4, 'robin': 4, 'one': 3, 'plane': 3, 'heche': 3, 'island': 3, 'goes': 3, 'two': 3, 'years': 2, ...}), FreqDist({'clooney': 11, 'lopez': 6, 'leonard': 4, 'crime': 4, 'rhames': 4, 'movie': 4, 'get': 3, 'shorty': 3, 'sight': 3, 'movies': 3, ...}), FreqDist({'movie': 8, 'roommates': 8, 'falk': 6, 'rocky': 5, 'grandson': 5, 'one': 4, 'college': 3, 'peter': 3, 'still': 3, 'comedy': 2, ...}), FreqDist({'morris': 10, 'one': 5, 'may': 4, 'camera': 4, 'film': 4, 'people': 3, 'hand': 3, 'errol': 3, 'fast': 3, 'cheap': 3, ...}), FreqDist({'film': 13, 'us': 6, 'federation': 6, 'like': 6, 'lucas': 6, 'star': 6, 'wars': 6, 'jar': 6, 'time': 5, 'would': 5, ...}), FreqDist({'script': 4, 'crew': 4, 'reynolds': 4, 'great': 4, 'acting': 3, 'dreyfuss': 3, 'burt': 3, 'four': 3, 'wiseguys': 3, 'hedaya': 3, ...}), FreqDist({'characters': 6, 'odile': 5, 'also': 4, 'love': 4, 'one': 4, 'way': 4, 'year': 3, 'old': 3, 'resnais': 3, 'film': 3, ...}), FreqDist({'fang': 6, 'american': 5, 'chinese': 4, 'month': 3, 'beijing': 3, 'sketch': 3, 'family': 3, 'long': 2, 'vacation': 2, 'sister': 2, ...}), FreqDist({'film': 30, 'scream': 17, 'williamson': 9, 'mr': 8, 'characters': 8, 'first': 8, 'sequel': 6, 'sidney': 6, 'films': 5, 'one': 5, ...}), FreqDist({'malkovich': 12, 'john': 9, 'craig': 9, 'things': 4, 'portal': 4, 'film': 4, 'another': 3, 'around': 3, 'kaufman': 3, 'jonze': 3, ...}), FreqDist({'guido': 14, 'benigni': 7, 'son': 7, 'holocaust': 5, 'life': 4, 'story': 4, 'camp': 4, 'beautiful': 3, 'love': 3, 'slapstick': 3, ...}), FreqDist({'movie': 9, 'like': 5, 'one': 5, 'l': 5, 'confidential': 5, 'understood': 4, 'look': 4, 'guy': 4, 'face': 4, 'know': 4, ...}), FreqDist({'movie': 6, 'penny': 3, 'must': 3, 'deal': 3, 'critics': 2, 'one': 2, 'among': 2, 'time': 2, 'wbn': 2, 'mary': 2, ...}), FreqDist({'copycat': 5, 'weaver': 4, 'hunter': 4, 'serial': 4, 'killer': 4, 'helen': 3, 'academy': 2, 'award': 2, 'raising': 2, 'arizona': 2, ...}), FreqDist({'one': 6, 'movie': 6, 'sweetback': 5, 'movies': 5, 'man': 4, 'probably': 4, 'would': 4, 'cops': 3, 'like': 3, 'white': 3, ...}), FreqDist({'jackie': 11, 'marty': 10, 'lesly': 10, 'fiancee': 5, 'like': 4, 'mother': 4, 'mrs': 4, 'pascal': 4, 'house': 4, 'tells': 3, ...}), FreqDist({'horse': 7, 'redford': 7, 'whisperer': 6, 'film': 6, 'grace': 5, 'head': 3, 'annie': 3, 'thomas': 3, 'tom': 3, 'barry': 3, ...}), FreqDist({'simon': 13, 'joe': 8, 'film': 7, 'birch': 4, 'mom': 4, 'movie': 3, 'joseph': 3, 'also': 3, 'first': 3, 'jim': 3, ...}), FreqDist({'film': 14, 'matrix': 10, 'sound': 7, 'one': 5, 'good': 5, 'times': 4, 'effects': 4, 'many': 4, 'computer': 4, 'spend': 4, ...}), FreqDist({'movie': 4, 'action': 3, 'one': 3, 'roberts': 3, 'fun': 3, 'like': 2, 'little': 2, 'bit': 2, 'pace': 2, 'julia': 2, ...}), FreqDist({'japanese': 11, 'prisoners': 11, 'war': 10, 'camp': 7, 'film': 6, 'one': 6, 'story': 5, 'prison': 4, 'goal': 4, 'life': 3, ...}), FreqDist({'truman': 11, 'christof': 6, 'well': 4, 'show': 4, 'world': 4, 'weir': 3, 'end': 3, 'film': 3, 'carrey': 2, 'actors': 2, ...}), FreqDist({'sex': 6, 'sexual': 5, 'sam': 5, 'american': 3, 'neighborhood': 3, 'new': 3, 'york': 3, 'spike': 3, 'lee': 3, 'one': 3, ...}), FreqDist({'reality': 8, 'existenz': 6, 'game': 6, 'one': 4, 'gas': 4, 'like': 4, 'things': 4, 'world': 4, 'matrix': 3, 'virtual': 3, ...}), FreqDist({'crowe': 8, 'film': 8, 'ryan': 5, 'one': 4, 'story': 4, 'character': 4, 'david': 4, 'proof': 3, 'life': 3, 'russell': 3, ...}), FreqDist({'john': 7, 'romantic': 5, 'sara': 5, 'serendipity': 4, 'thing': 4, 'funny': 3, 'film': 3, 'maybe': 3, 'time': 3, 'characters': 3, ...}), FreqDist({'television': 13, 'beavis': 9, 'butt': 8, 'head': 8, 'two': 5, 'pair': 4, 'one': 4, 'film': 3, 'big': 3, 'lives': 3, ...}), FreqDist({'characters': 13, 'film': 12, 'sex': 7, 'character': 7, 'one': 5, 'labute': 5, 'story': 5, 'two': 5, 'another': 5, 'friends': 4, ...}), FreqDist({'palmetto': 8, 'harry': 4, 'shue': 4, 'even': 3, 'harrelson': 3, 'gershon': 3, 'rhea': 3, 'right': 2, 'film': 2, 'set': 2, ...}), FreqDist({'film': 12, 'smith': 9, 'never': 8, 'government': 4, 'interesting': 4, 'character': 4, 'good': 4, 'real': 4, 'without': 4, 'great': 4, ...}), FreqDist({'movie': 11, 'jay': 9, 'silent': 8, 'bob': 8, 'strike': 5, 'back': 5, 'smith': 5, 'humor': 4, 'year': 4, 'film': 4, ...}), FreqDist({'jackie': 17, 'film': 12, 'films': 8, 'chon': 8, 'roy': 8, 'chan': 7, 'noon': 7, 'shanghai': 6, 'pei': 6, 'action': 5, ...}), FreqDist({'chan': 6, 'rush': 4, 'hour': 4, 'tucker': 4, 'chinese': 3, 'well': 3, 'problem': 2, 'hours': 2, 'clones': 2, 'another': 2, ...}), FreqDist({'friends': 18, 'like': 11, 'film': 10, 'peter': 9, 'reunion': 8, 'people': 7, 'sub': 6, 'married': 6, 'least': 6, 'together': 6, ...}), FreqDist({'scream': 10, 'movie': 10, 'film': 8, 'horror': 7, 'movies': 7, 'also': 6, 'rules': 4, 'first': 3, 'spoof': 3, 'genre': 3, ...}), FreqDist({'film': 10, 'message': 5, 'boyle': 3, 'bored': 3, 'local': 3, 'characters': 3, 'camera': 3, 'across': 3, 'energy': 2, 'kind': 2, ...}), FreqDist({'bubby': 18, 'world': 8, 'mother': 7, 'father': 5, 'boy': 4, 'de': 4, 'heer': 4, 'becomes': 4, 'life': 3, 'apartment': 3, ...}), FreqDist({'film': 8, 'dance': 7, 'movie': 5, 'shall': 3, 'lessons': 3, 'meet': 3, 'one': 3, 'funny': 2, 'laughs': 2, 'wonderful': 2, ...}), FreqDist({'movie': 4, 'good': 3, 'really': 3, 'grocery': 3, 'story': 3, 'well': 3, 'ending': 3, 'happy': 2, 'review': 2, 'new': 2, ...}), FreqDist({'disney': 14, 'mulan': 12, 'fa': 8, 'one': 7, 'father': 6, 'may': 6, 'voice': 6, 'animated': 5, 'see': 4, 'movie': 4, ...}), FreqDist({'shallow': 6, 'grave': 5, 'ending': 5, 'film': 5, 'three': 5, 'really': 4, 'minutes': 4, 'apartment': 4, 'blood': 3, 'still': 3, ...}), FreqDist({'film': 18, 'beloved': 13, 'sethe': 9, 'since': 6, 'us': 6, 'one': 6, 'like': 6, 'really': 6, 'things': 5, 'paul': 5, ...}), FreqDist({'lebowski': 5, 'big': 4, 'coen': 4, 'movie': 3, 'rug': 3, 'jeff': 3, 'dude': 3, 'bunny': 3, 'one': 3, 'fargo': 2, ...}), FreqDist({'pam': 11, 'chris': 9, 'film': 7, 'normal': 7, 'life': 6, 'takes': 4, 'mcnaughton': 4, 'crazy': 3, 'violent': 3, 'yet': 3, ...}), FreqDist({'grace': 6, 'story': 4, 'children': 4, 'others': 3, 'film': 3, 'anne': 3, 'nicholas': 3, 'supernatural': 2, 'open': 2, 'atmosphere': 2, ...}), FreqDist({'horse': 7, 'redford': 6, 'whisperer': 5, 'many': 4, 'montana': 4, 'tom': 4, 'scott': 3, 'thomas': 3, 'annie': 3, 'new': 3, ...}), FreqDist({'sam': 6, 'anton': 6, 'even': 5, 'love': 4, 'new': 3, 'watch': 3, 'movie': 3, 'makes': 3, 'viewer': 3, 'matthew': 2, ...}), FreqDist({'shakespeare': 24, 'film': 10, 'love': 9, 'play': 7, 'movie': 7, 'one': 6, 'stoppard': 5, 'also': 5, 'work': 5, 'scenes': 5, ...}), FreqDist({'frequency': 8, 'movie': 4, 'father': 4, 'three': 4, 'one': 3, 'time': 3, 'looked': 3, 'like': 3, 'john': 3, 'film': 3, ...}), FreqDist({'seven': 12, 'film': 7, 'world': 7, 'society': 5, 'fincher': 4, 'us': 4, 'murder': 4, 'characters': 4, 'killer': 4, 'doe': 4, ...}), FreqDist({'caveman': 12, 'film': 9, 'romulus': 9, 'novel': 5, 'comic': 5, 'hero': 4, 'graphic': 3, 'homeless': 3, 'cave': 3, 'one': 3, ...}), FreqDist({'baby': 8, 'day': 3, 'mantegna': 3, 'home': 2, 'crooks': 2, 'haley': 2, 'old': 2, 'money': 2, 'john': 2, 'like': 2, ...}), FreqDist({'burton': 7, 'apes': 5, 'one': 5, 'wahlberg': 5, 'ending': 5, 'movie': 4, 'tim': 4, 'great': 4, 'planet': 3, 'story': 3, ...}), FreqDist({'jedi': 9, 'film': 8, 'star': 8, 'wars': 8, 'luke': 8, 'special': 5, 'effects': 5, 'dark': 5, 'side': 5, 'vader': 5, ...}), FreqDist({'final': 10, 'destination': 9, 'alex': 7, 'death': 5, 'one': 5, 'actually': 5, 'character': 4, 'premise': 3, 'horror': 3, 'homer': 3, ...}), FreqDist({'david': 11, 'helfgott': 6, 'film': 5, 'back': 4, 'father': 4, 'see': 3, 'life': 3, 'told': 3, 'teacher': 3, 'well': 3, ...}), FreqDist({'war': 3, 'reality': 3, 'ryan': 3, 'spielberg': 3, 'tom': 3, 'movie': 3, 'forget': 3, 'today': 2, 'steve': 2, 'home': 2, ...}), FreqDist({'film': 4, 'peak': 3, 'really': 3, 'well': 2, 'first': 2, 'dante': 2, 'twister': 2, 'volcano': 2, 'movie': 2, 'see': 2, ...}), FreqDist({'grease': 7, 'still': 5, 'danny': 5, 'sandy': 5, 'one': 5, 'musical': 3, 'moments': 3, 'john': 3, 'nights': 3, 'word': 2, ...}), FreqDist({'antz': 11, 'bug': 8, 'really': 6, 'also': 6, 'still': 6, 'life': 5, 'clever': 5, 'like': 5, 'film': 5, 'story': 4, ...}), FreqDist({'truman': 7, 'show': 7, 'movie': 6, 'film': 4, 'going': 3, 'nothing': 3, 'decade': 2, 'breakthrough': 2, 'leading': 2, 'changed': 2, ...}), FreqDist({'life': 5, 'beautiful': 5, 'guido': 5, 'comedy': 4, 'without': 3, 'benigni': 3, 'worse': 2, 'romance': 2, 'farce': 2, 'enjoyable': 2, ...}), FreqDist({'scream': 13, 'movie': 7, 'sidney': 6, 'killer': 6, 'film': 6, 'films': 6, 'one': 5, 'become': 5, 'first': 5, 'time': 5, ...}), FreqDist({'verhoeven': 7, 'starship': 7, 'troopers': 7, 'way': 5, 'characters': 5, 'one': 5, 'heinlein': 4, 'film': 4, 'johnny': 4, 'become': 3, ...}), FreqDist({'film': 12, 'one': 6, 'time': 5, 'read': 5, 'soderbergh': 5, 'jack': 5, 'scene': 5, 'say': 4, 'book': 4, 'great': 4, ...}), FreqDist({'max': 9, 'pi': 7, 'film': 6, 'one': 5, 'character': 5, 'patterns': 4, 'mr': 4, 'sense': 4, 'aronofsky': 3, 'stock': 3, ...}), FreqDist({'film': 6, 'people': 4, 'jason': 4, 'patric': 4, 'aaron': 3, 'eckhart': 3, 'friends': 2, 'neighbors': 2, 'written': 2, 'labute': 2, ...}), FreqDist({'cauldron': 37, 'black': 30, 'film': 28, 'taran': 26, 'king': 14, 'hen': 13, 'wen': 13, 'disney': 12, 'horned': 12, 'would': 12, ...}), FreqDist({'film': 9, 'curdled': 8, 'gabriela': 6, 'jones': 6, 'killer': 6, 'really': 5, 'blue': 4, 'blood': 4, 'one': 4, 'scene': 4, ...}), FreqDist({'show': 8, 'stempel': 7, 'game': 6, 'van': 6, 'doren': 6, 'twenty': 5, 'one': 5, 'quiz': 4, 'enright': 4, 'true': 3, ...}), FreqDist({'film': 11, 'one': 10, 'antz': 10, 'z': 9, 'ants': 9, 'best': 8, 'kids': 8, 'bala': 8, 'may': 7, 'many': 7, ...}), FreqDist({'cynthia': 12, 'film': 7, 'hortense': 7, 'lies': 6, 'maurice': 5, 'way': 4, 'one': 4, 'leigh': 3, 'see': 3, 'secrets': 3, ...}), FreqDist({'crisis': 8, 'world': 7, 'cuba': 6, 'us': 6, 'president': 6, 'costner': 6, 'donnell': 6, 'nuclear': 5, 'soviet': 5, 'missiles': 5, ...}), FreqDist({'sonny': 18, 'duvall': 11, 'apostle': 6, 'always': 5, 'even': 4, 'fact': 4, 'film': 4, 'character': 4, 'preacher': 4, 'preachers': 4, ...}), FreqDist({'titanic': 13, 'film': 13, 'cameron': 9, 'well': 8, 'ship': 6, 'great': 5, 'story': 5, 'also': 5, 'could': 4, 'although': 4, ...}), FreqDist({'movie': 6, 'powers': 6, 'austin': 5, 'even': 5, 'like': 4, 'time': 4, 'back': 4, 'dr': 4, 'evil': 4, 'comedy': 3, ...}), FreqDist({'hill': 4, 'film': 3, 'war': 3, 'hamburger': 3, 'almost': 2, 'spielberg': 2, 'private': 2, 'ryan': 2, 'could': 2, 'anti': 2, ...}), FreqDist({'truman': 11, 'show': 8, 'film': 5, 'audience': 4, 'life': 4, 'still': 2, 'films': 2, 'would': 2, 'see': 2, 'really': 2, ...}), FreqDist({'film': 14, 'excellent': 8, 'like': 5, 'boogie': 5, 'nights': 5, 'great': 5, 'writing': 4, 'really': 4, 'minutes': 3, 'eddie': 3, ...}), FreqDist({'film': 15, 'friend': 14, 'wedding': 14, 'best': 13, 'julianne': 11, 'roberts': 10, 'michael': 10, 'comedy': 8, 'ms': 6, 'even': 6, ...}), FreqDist({'film': 5, 'gets': 3, 'follows': 2, 'heroin': 2, 'renton': 2, 'one': 2, 'obsessive': 2, 'top': 2, 'clean': 2, 'sharp': 2, ...}), FreqDist({'movie': 6, 'chan': 6, 'action': 4, 'tucker': 4, 'almost': 4, 'script': 3, 'first': 3, 'one': 3, 'detective': 3, 'fbi': 3, ...}), FreqDist({'felix': 19, 'father': 6, 'journey': 6, 'find': 6, 'family': 6, 'man': 5, 'adventures': 4, 'young': 4, 'road': 4, 'meets': 4, ...}), FreqDist({'chicken': 15, 'run': 12, 'movie': 9, 'one': 8, 'seen': 7, 'chickens': 7, 'park': 7, 'like': 5, 'film': 5, 'even': 5, ...}), FreqDist({'went': 7, 'film': 5, 'frank': 5, 'tom': 5, 'irish': 4, 'gleeson': 4, 'bunny': 4, 'one': 4, 'git': 3, 'mcdonald': 3, ...}), FreqDist({'altman': 16, 'magruder': 8, 'grisham': 7, 'robert': 6, 'shot': 6, 'director': 5, 'man': 5, 'car': 5, 'mallory': 5, 'great': 4, ...}), FreqDist({'clay': 3, 'movie': 2, 'guitar': 2, 'frank': 2, 'footage': 2, 'animation': 2, 'bruce': 2, 'bickford': 2, 'like': 2, 'three': 1, ...}), FreqDist({'movie': 7, 'film': 6, 'hollywood': 6, 'one': 5, 'hong': 5, 'kong': 5, 'action': 5, 'thing': 4, 'maximum': 4, 'risk': 4, ...}), FreqDist({'eastwood': 7, 'everett': 6, 'true': 4, 'crime': 4, 'brow': 4, 'could': 4, 'beacham': 4, 'furrows': 3, 'wife': 3, 'film': 3, ...}), FreqDist({'film': 7, 'javert': 5, 'les': 4, 'miserables': 4, 'valjean': 4, 'well': 4, 'novel': 3, 'though': 3, 'many': 3, 'story': 3, ...}), FreqDist({'bob': 10, 'salesmen': 8, 'larry': 8, 'big': 7, 'fuller': 6, 'phil': 6, 'life': 6, 'film': 5, 'suite': 5, 'three': 5, ...}), FreqDist({'film': 4, 'ship': 4, 'case': 4, 'slavery': 3, 'one': 3, 'spielberg': 3, 'slave': 3, 'spanish': 3, 'africans': 3, 'free': 3, ...}), FreqDist({'coen': 6, 'brother': 6, 'delmar': 6, 'three': 5, 'ulysses': 5, 'pete': 5, 'nelson': 4, 'one': 4, 'brothers': 3, 'odyssey': 3, ...}), FreqDist({'movie': 4, 'reynolds': 4, 'smith': 4, 'enemy': 3, 'top': 3, 'well': 3, 'senator': 3, 'voight': 3, 'hackman': 3, 'escapist': 2, ...}), FreqDist({'von': 13, 'bulow': 13, 'sunny': 8, 'film': 6, 'schroeder': 6, 'fortune': 5, 'moral': 5, 'case': 5, 'dershowitz': 5, 'reversal': 4, ...}), FreqDist({'alien': 14, 'ripley': 8, 'resurrection': 5, 'series': 5, 'aliens': 4, 'jeunet': 4, 'new': 4, 'film': 4, 'popular': 3, 'first': 3, ...}), FreqDist({'travis': 10, 'taxi': 7, 'driver': 6, 'times': 5, 'new': 5, 'many': 5, 'movie': 5, 'life': 5, 'like': 5, 'even': 5, ...}), FreqDist({'jekyll': 4, 'hyde': 4, 'film': 3, 'story': 2, 'expect': 2, 'surprisingly': 2, 'dreary': 2, 'malkovich': 2, 'roberts': 2, 'leave': 2, ...}), FreqDist({'movie': 5, 'love': 4, 'hugh': 3, 'almost': 3, 'harsh': 2, 'romantic': 2, 'stars': 2, 'julia': 2, 'writer': 2, 'four': 2, ...}), FreqDist({'annie': 10, 'jessica': 7, 'film': 5, 'gift': 5, 'many': 4, 'blanchett': 4, 'makes': 4, 'donnie': 4, 'best': 4, 'one': 4, ...}), FreqDist({'movie': 26, 'nomi': 12, 'one': 9, 'well': 7, 'character': 7, 'showgirls': 6, 'sex': 6, 'life': 6, 'without': 6, 'vegas': 6, ...}), FreqDist({'good': 8, 'hunting': 8, 'sean': 6, 'damon': 5, 'one': 5, 'matt': 4, 'affleck': 4, 'like': 3, 'friendship': 3, 'young': 3, ...}), FreqDist({'film': 11, 'endings': 9, 'three': 8, 'dvd': 6, 'clue': 5, 'well': 5, 'video': 5, 'ending': 5, 'one': 4, 'home': 4, ...}), FreqDist({'jackie': 12, 'tarantino': 10, 'brown': 9, 'jackson': 6, 'ordell': 6, 'pulp': 5, 'fiction': 5, 'robert': 5, 'grier': 5, 'three': 4, ...}), FreqDist({'rosalba': 6, 'movie': 6, 'bread': 5, 'tulips': 5, 'fernando': 5, 'maglietta': 4, 'like': 4, 'ganz': 4, 'waiter': 3, 'scenery': 3, ...}), FreqDist({'jackie': 11, 'brown': 7, 'tarantino': 7, 'ordell': 5, 'story': 3, 'named': 3, 'one': 3, 'small': 3, 'bail': 3, 'robert': 3, ...}), FreqDist({'brooks': 11, 'film': 7, 'muse': 6, 'stone': 4, 'albert': 3, 'still': 3, 'comedy': 3, 'screenwriter': 3, 'real': 3, 'directors': 3, ...}), FreqDist({'planet': 6, 'film': 5, 'diesel': 4, 'group': 4, 'one': 4, 'character': 4, 'pitch': 3, 'black': 3, 'imam': 3, 'faith': 3, ...}), FreqDist({'film': 5, 'kingpin': 4, 'world': 4, 'evil': 3, 'seen': 3, 'creates': 3, 'like': 3, 'best': 2, 'good': 2, 'bennet': 2, ...}), FreqDist({'never': 5, 'kissed': 5, 'still': 4, 'believe': 3, 'waiting': 3, 'drew': 2, 'barrymore': 2, 'hard': 2, 'truly': 2, 'right': 2, ...}), FreqDist({'chocolat': 13, 'vianne': 7, 'chocolate': 6, 'film': 6, 'shop': 5, 'one': 5, 'hallstrom': 5, 'rules': 4, 'look': 3, 'fable': 3, ...}), FreqDist({'film': 16, 'jackie': 13, 'ordell': 12, 'pulp': 10, 'fiction': 10, 'tarantino': 10, 'movie': 6, 'good': 6, 'grier': 6, 'jackson': 6, ...}), FreqDist({'grease': 10, 'movie': 9, 'one': 5, 'travolta': 4, 'musical': 4, 'musicals': 4, 'easy': 3, 'become': 3, 'let': 3, 'audiences': 3, ...}), FreqDist({'movie': 11, 'tarantino': 11, 'dusk': 6, 'till': 6, 'dawn': 6, 'clooney': 6, 'lewis': 5, 'keitel': 4, 'half': 3, 'get': 3, ...}), FreqDist({'foster': 14, 'movie': 11, 'scene': 8, 'one': 6, 'contact': 5, 'science': 5, 'good': 4, 'audience': 4, 'sense': 4, 'jodie': 3, ...}), FreqDist({'film': 5, 'small': 3, 'characters': 3, 'music': 3, 'one': 3, 'place': 2, 'town': 2, 'movie': 2, 'story': 2, 'several': 2, ...}), FreqDist({'film': 13, 'mary': 12, 'ted': 10, 'something': 6, 'stiller': 5, 'trailer': 4, 'time': 4, 'even': 4, 'good': 4, 'one': 4, ...}), FreqDist({'one': 16, 'film': 11, 'gangster': 9, 'time': 6, 'movie': 5, 'bettany': 5, 'number': 4, 'guy': 4, 'also': 4, 'still': 4, ...}), FreqDist({'beau': 8, 'reese': 8, 'mom': 4, 'margaret': 4, 'becomes': 4, 'swinton': 3, 'lake': 3, 'body': 3, 'visnjic': 3, 'deep': 3, ...}), FreqDist({'charles': 8, 'charlie': 6, 'uncle': 5, 'know': 3, 'scene': 3, 'family': 3, 'niece': 2, 'welsh': 2, 'harmon': 2, 'widow': 2, ...}), FreqDist({'bianca': 8, 'katarina': 6, 'shrew': 4, 'high': 4, 'cameron': 4, 'joey': 4, 'shakespeare': 3, 'like': 3, 'school': 3, 'reminder': 3, ...}), FreqDist({'war': 8, 'thin': 7, 'red': 7, 'line': 7, 'malick': 6, 'sometimes': 3, 'film': 3, 'saving': 3, 'private': 3, 'ryan': 3, ...}), FreqDist({'film': 7, 'jack': 6, 'karen': 6, 'foley': 5, 'sight': 4, 'clooney': 4, 'gives': 3, 'best': 3, 'love': 3, 'crime': 3, ...}), FreqDist({'film': 14, 'kurtz': 11, 'one': 7, 'sheen': 6, 'scenes': 5, 'could': 5, 'willard': 4, 'brando': 4, 'scene': 4, 'man': 4, ...}), FreqDist({'bates': 8, 'film': 6, 'annie': 5, 'work': 4, 'scene': 4, 'sheldon': 4, 'one': 4, 'performance': 3, 'kathy': 3, 'french': 3, ...}), FreqDist({'scarlett': 14, 'film': 12, 'one': 7, 'time': 7, 'love': 7, 'butler': 7, 'characters': 6, 'story': 6, 'way': 6, 'rhett': 6, ...}), FreqDist({'film': 6, 'action': 5, 'effects': 5, 'quaid': 4, 'science': 3, 'fiction': 3, 'best': 3, 'memory': 3, 'robocop': 2, 'create': 2, ...}), FreqDist({'muriel': 13, 'wedding': 5, 'collette': 5, 'hogan': 4, 'marriage': 3, 'performance': 3, 'film': 3, 'bill': 3, 'australia': 2, 'heslop': 2, ...}), FreqDist({'duke': 10, 'rohmer': 8, 'grace': 6, 'lady': 5, 'french': 5, 'king': 4, 'may': 4, 'one': 4, 'elliott': 3, 'revolution': 3, ...}), FreqDist({'wong': 6, 'fallen': 5, 'angels': 5, 'movie': 4, 'really': 4, 'films': 3, 'camera': 3, 'audience': 3, 'character': 3, 'kar': 2, ...}), FreqDist({'story': 11, 'film': 7, 'great': 7, 'love': 6, 'danny': 6, 'boxing': 5, 'one': 4, 'eachother': 4, 'good': 4, 'characters': 4, ...}), FreqDist({'william': 12, 'film': 12, 'anna': 8, 'us': 8, 'movie': 5, 'get': 5, 'time': 5, 'grant': 4, 'one': 4, 'scene': 4, ...}), FreqDist({'elizabeth': 15, 'queen': 5, 'blanchett': 4, 'england': 3, 'struggle': 3, 'little': 3, 'one': 3, 'sir': 3, 'time': 2, 'power': 2, ...}), FreqDist({'film': 8, 'last': 7, 'know': 6, 'summer': 6, 'julie': 6, 'horror': 5, 'scream': 4, 'one': 4, 'slasher': 3, 'town': 3, ...}), FreqDist({'patlabor': 10, 'labors': 8, 'film': 7, 'series': 7, 'movie': 6, 'story': 5, 'labor': 5, 'new': 5, 'though': 4, 'known': 4, ...}), FreqDist({'movie': 7, 'beavis': 4, 'butthead': 4, 'show': 4, 'tv': 3, 'wants': 3, 'keep': 3, 'first': 2, 'like': 2, 'go': 2, ...}), FreqDist({'wife': 5, 'new': 3, 'genevi': 3, 'bujold': 3, 'bob': 3, 'goes': 3, 'de': 2, 'palma': 2, 'schrader': 2, 'orleans': 2, ...}), FreqDist({'film': 8, 'also': 8, 'one': 7, 'dillon': 5, 'really': 5, 'farrelly': 4, 'found': 4, 'funny': 4, 'scenes': 4, 'like': 4, ...}), FreqDist({'film': 6, 'war': 6, 'joker': 6, 'full': 5, 'metal': 5, 'jacket': 5, 'private': 5, 'pyle': 5, 'vietnam': 4, 'extremely': 4, ...}), FreqDist({'nixon': 8, 'stone': 4, 'one': 3, 'white': 3, 'long': 2, 'american': 2, 'saga': 2, 'politics': 2, 'legal': 2, 'maneuvers': 2, ...}), FreqDist({'matrix': 11, 'effects': 6, 'special': 4, 'computer': 4, 'movie': 4, 'picture': 3, 'movies': 3, 'noise': 3, 'like': 3, 'story': 3, ...}), FreqDist({'film': 8, 'gugino': 7, 'shore': 6, 'great': 5, 'job': 5, 'still': 4, 'screen': 4, 'good': 4, 'time': 4, 'pauly': 3, ...}), FreqDist({'movie': 23, 'summer': 9, 'x': 8, 'files': 8, 'mulder': 8, 'movies': 7, 'time': 7, 'series': 5, 'several': 5, 'know': 5, ...}), FreqDist({'nephew': 5, 'movie': 5, 'premiere': 3, 'scenes': 3, 'irish': 3, 'brady': 3, 'many': 2, 'screening': 2, 'first': 2, 'pierce': 2, ...}), FreqDist({'movie': 22, 'ship': 11, 'story': 7, 'titanic': 6, 'something': 5, 'character': 5, 'simple': 4, 'good': 4, 'acting': 4, 'effects': 4, ...}), FreqDist({'brooks': 6, 'also': 3, 'torn': 3, 'life': 2, 'days': 2, 'judgement': 2, 'city': 2, 'higher': 2, 'movie': 2, 'away': 2, ...}), FreqDist({'earth': 4, 'film': 4, 'johnson': 4, 'york': 4, 'blood': 4, 'far': 3, 'sci': 3, 'fi': 3, 'michael': 3, 'one': 3, ...}), FreqDist({'original': 22, 'film': 12, 'disney': 9, 'one': 9, 'live': 7, 'parents': 7, 'remember': 7, 'way': 7, 'actually': 6, 'films': 6, ...}), FreqDist({'hank': 12, 'carly': 9, 'co': 7, 'family': 6, 'tests': 4, 'one': 4, 'two': 4, 'deal': 4, 'wife': 4, 'film': 4, ...}), FreqDist({'film': 12, 'well': 9, 'hour': 9, 'rose': 9, 'would': 9, 'jack': 7, 'cameron': 6, 'story': 6, 'though': 6, 'first': 5, ...}), FreqDist({'chan': 12, 'jackie': 11, 'film': 6, 'hour': 5, 'films': 5, 'character': 5, 'rush': 4, 'still': 4, 'lee': 4, 'carter': 4, ...}), FreqDist({'film': 13, 'halloween': 10, 'edition': 4, 'dvd': 4, 'michael': 4, 'creepy': 3, 'made': 3, 'years': 3, 'time': 3, 'new': 3, ...}), FreqDist({'wyatt': 5, 'story': 5, 'like': 5, 'earp': 4, 'scene': 4, 'little': 3, 'three': 3, 'law': 3, 'looking': 3, 'legendary': 2, ...}), FreqDist({'movie': 6, 'nelson': 6, 'see': 3, 'film': 3, 'movies': 3, 'making': 3, 'big': 3, 'films': 3, 'effects': 3, 'tm': 2, ...}), FreqDist({'zoolander': 7, 'derek': 7, 'really': 6, 'stiller': 5, 'fashion': 5, 'ben': 4, 'mugatu': 4, 'model': 3, 'film': 3, 'life': 2, ...}), FreqDist({'star': 16, 'wars': 14, 'movie': 10, 'movies': 10, 'lucas': 9, 'science': 8, 'fiction': 8, 'hollywood': 8, 'film': 7, 'time': 7, ...}), FreqDist({'claire': 12, 'andreas': 9, 'cox': 6, 'love': 5, 'john': 5, 'movie': 3, 'would': 3, 'past': 3, 'affair': 3, 'train': 3, ...}), FreqDist({'argento': 9, 'suspiria': 8, 'film': 7, 'one': 4, 'italian': 3, 'always': 3, 'well': 3, 'ballet': 3, 'school': 3, 'harper': 3, ...}), FreqDist({'film': 11, 'contact': 7, 'like': 5, 'arroway': 5, 'two': 5, 'alien': 4, 'would': 4, 'romance': 4, 'joss': 4, 'aliens': 4, ...}), FreqDist({'film': 14, 'films': 9, 'action': 9, 'charles': 9, 'edge': 8, 'bear': 7, 'bob': 7, 'characters': 6, 'plot': 5, 'many': 5, ...}), FreqDist({'mulan': 9, 'disney': 7, 'film': 7, 'nothing': 3, 'family': 3, 'time': 3, 'humor': 3, 'place': 2, 'animation': 2, 'fa': 2, ...}), FreqDist({'toy': 12, 'voice': 10, 'woody': 9, 'story': 7, 'film': 7, 'disney': 5, 'buzz': 5, 'one': 4, 'animation': 4, 'toys': 4, ...}), FreqDist({'segment': 20, 'film': 13, 'one': 11, 'set': 10, 'going': 7, 'whales': 7, 'fantasia': 7, 'fly': 6, 'segments': 6, 'imax': 6, ...}), FreqDist({'idea': 2, 'devil': 2, 'far': 2, 'made': 2, 'god': 2, 'humanist': 2, 'many': 2, 'vanity': 2, 'back': 2, 'something': 2, ...}), FreqDist({'deceiver': 9, 'wayland': 8, 'film': 5, 'like': 5, 'one': 4, 'police': 4, 'kennesaw': 4, 'elizabeth': 3, 'braxton': 3, 'penn': 3, ...}), FreqDist({'film': 5, 'jack': 4, 'emotion': 3, 'rose': 3, 'titanic': 2, 'made': 2, 'movie': 2, 'paxton': 2, 'ship': 2, 'comes': 2, ...}), FreqDist({'scream': 12, 'movie': 7, 'horror': 6, 'sidney': 4, 'weathers': 4, 'press': 4, 'watching': 4, 'film': 3, 'self': 3, 'college': 3, ...}), FreqDist({'bond': 9, 'michelle': 8, 'wai': 6, 'lin': 6, 'agent': 5, 'yeoh': 4, 'scene': 3, 'top': 3, 'tomorrow': 3, 'never': 3, ...}), FreqDist({'carter': 21, 'film': 15, 'hurricane': 13, 'washington': 12, 'good': 9, 'one': 8, 'jewison': 7, 'work': 6, 'scene': 6, 'actor': 5, ...}), FreqDist({'ellie': 15, 'film': 12, 'first': 9, 'science': 8, 'machine': 8, 'religious': 8, 'faith': 6, 'even': 6, 'real': 6, 'drumlin': 5, ...}), FreqDist({'film': 24, 'allen': 19, 'woody': 12, 'one': 10, 'really': 10, 'great': 9, 'like': 6, 'celebrities': 6, 'character': 6, 'lee': 6, ...}), FreqDist({'jesus': 14, 'christ': 12, 'film': 11, 'life': 8, 'scorsese': 5, 'also': 5, 'message': 5, 'moments': 5, 'truly': 5, 'judas': 4, ...}), FreqDist({'full': 5, 'monty': 5, 'us': 4, 'night': 4, 'movie': 3, 'might': 3, 'would': 2, 'strippers': 2, 'confidence': 2, 'lot': 2, ...}), FreqDist({'bresson': 11, 'lancelot': 11, 'knights': 8, 'film': 7, 'lake': 6, 'arthur': 4, 'opening': 4, 'camelot': 4, 'never': 4, 'sir': 3, ...}), FreqDist({'jackie': 6, 'one': 4, 'also': 4, 'way': 4, 'movies': 4, 'kevin': 4, 'action': 4, 'chan': 3, 'making': 3, 'movie': 3, ...}), FreqDist({'characters': 6, 'film': 5, 'disco': 5, 'also': 5, 'movie': 4, 'set': 3, 'play': 3, 'alice': 3, 'charlotte': 3, 'written': 3, ...}), FreqDist({'event': 6, 'horizon': 6, 'good': 5, 'ship': 5, 'film': 5, 'search': 4, 'team': 3, 'events': 3, 'becomes': 3, 'year': 2, ...}), FreqDist({'one': 8, 'tony': 7, 'film': 6, 'scarface': 3, 'also': 3, 'performance': 3, 'miami': 3, 'crime': 3, 'although': 3, 'true': 2, ...}), FreqDist({'anastasia': 7, 'animated': 6, 'film': 6, 'characters': 4, 'voiced': 4, 'anya': 4, 'disney': 3, 'rasputin': 3, 'grandmother': 3, 'paris': 3, ...}), FreqDist({'allen': 6, 'feeling': 5, 'lot': 4, 'films': 4, 'everyone': 4, 'campion': 4, 'love': 4, 'even': 4, 'one': 4, 'story': 4, ...}), FreqDist({'action': 9, 'movie': 8, 'van': 8, 'damme': 8, 'woo': 8, 'lam': 6, 'hollywood': 6, 'maximum': 5, 'risk': 5, 'alain': 5, ...}), FreqDist({'kiki': 21, 'movie': 14, 'beauty': 12, 'disney': 11, 'delivery': 6, 'service': 6, 'however': 5, 'seen': 4, 'movies': 4, 'witch': 4, ...}), FreqDist({'love': 5, 'american': 4, 'americans': 3, 'right': 3, 'larry': 3, 'flynt': 3, 'great': 3, 'hell': 3, 'america': 2, 'political': 2, ...}), FreqDist({'movie': 9, 'know': 8, 'deep': 7, 'rising': 7, 'b': 7, 'good': 6, 'movies': 4, 'us': 4, 'guy': 4, 'let': 3, ...}), FreqDist({'greg': 9, 'things': 4, 'jack': 4, 'deniro': 4, 'get': 3, 'make': 3, 'go': 3, 'groom': 2, 'find': 2, 'one': 2, ...}), FreqDist({'john': 17, 'brooks': 14, 'mother': 13, 'beatrice': 13, 'life': 6, 'albert': 5, 'way': 5, 'like': 4, 'kind': 4, 'film': 4, ...}), FreqDist({'robin': 10, 'film': 5, 'picture': 5, 'hood': 4, 'old': 3, 'even': 3, 'high': 3, 'story': 3, 'best': 3, 'acting': 3, ...}), FreqDist({'payne': 5, 'tracy': 4, 'real': 3, 'satire': 3, 'film': 2, 'election': 2, 'broderick': 2, 'students': 2, 'desperate': 2, 'matter': 2, ...}), FreqDist({'lama': 12, 'dalai': 9, 'tibet': 8, 'movie': 6, 'film': 5, 'boy': 5, 'scorsese': 4, 'great': 4, 'uses': 4, 'story': 4, ...}), FreqDist({'river': 2, 'runs': 2, 'film': 2, 'often': 2, 'one': 2, 'films': 2, 'movies': 2, 'shots': 2, 'help': 2, 'scorsese': 2, ...}), FreqDist({'moses': 8, 'prince': 6, 'egypt': 6, 'movie': 5, 'first': 4, 'dreamworks': 4, 'animated': 4, 'casting': 3, 'voice': 3, 'would': 3, ...}), FreqDist({'day': 9, 'groundhog': 8, 'film': 8, 'also': 6, 'funny': 5, 'good': 4, 'comedy': 4, 'phil': 4, 'rita': 4, 'although': 4, ...}), FreqDist({'kevin': 13, 'movie': 13, 'little': 6, 'great': 6, 'smith': 5, 'jason': 5, 'best': 5, 'god': 5, 'one': 5, 'angels': 5, ...}), FreqDist({'fanny': 11, 'love': 5, 'ms': 5, 'austen': 4, 'well': 4, 'one': 4, 'marriage': 4, 'sense': 3, 'novel': 3, 'mansfield': 3, ...}), FreqDist({'film': 8, 'private': 7, 'ryan': 7, 'movie': 7, 'tom': 5, 'war': 5, 'one': 5, 'saving': 4, 'action': 4, 'excellent': 4, ...}), FreqDist({'syd': 12, 'lucy': 12, 'film': 7, 'high': 5, 'art': 4, 'characters': 4, 'one': 4, 'woman': 4, 'sheedy': 4, 'love': 4, ...}), FreqDist({'film': 7, 'america': 6, 'films': 5, 'time': 4, 'go': 3, 'rigormortis': 3, 'previous': 3, 'agent': 3, 'nice': 2, 'easy': 2, ...}), FreqDist({'really': 6, 'film': 6, 'see': 6, 'day': 5, 'movie': 4, 'one': 3, 'rookie': 3, 'cop': 3, 'things': 3, 'like': 3, ...}), FreqDist({'boy': 8, 'girl': 8, 'mark': 5, 'wahlberg': 5, 'good': 4, 'movie': 4, 'one': 3, 'film': 3, 'performance': 3, 'marky': 2, ...}), FreqDist({'storm': 3, 'life': 3, 'granger': 2, 'perfect': 2, 'people': 2, 'fishing': 2, 'boat': 2, 'terrifying': 2, 'fish': 2, 'skipper': 2, ...}), FreqDist({'black': 15, 'shaw': 14, 'soldiers': 13, 'glory': 8, 'war': 8, 'film': 8, 'white': 7, 'broderick': 6, 'washington': 6, 'regiment': 5, ...}), FreqDist({'film': 15, 'spielberg': 7, 'sequences': 6, 'hanks': 5, 'ryan': 5, 'war': 4, 'one': 4, 'greatest': 4, 'battle': 4, 'masterpiece': 3, ...}), FreqDist({'crowe': 9, 'sees': 5, 'boy': 5, 'well': 4, 'one': 4, 'lie': 4, 'willis': 4, 'cole': 4, 'dead': 4, 'time': 4, ...}), FreqDist({'mel': 9, 'gibson': 8, 'film': 5, 'payback': 4, 'good': 4, 'would': 4, 'one': 4, 'partner': 3, 'pay': 3, 'get': 3, ...}), FreqDist({'like': 4, 'hutton': 3, 'old': 3, 'barely': 2, 'high': 2, 'school': 2, 'movie': 2, 'film': 2, 'uma': 2, 'thurman': 2, ...}), FreqDist({'movie': 4, 'alien': 4, 'first': 3, 'one': 2, 'kyle': 2, 'mclachlan': 2, 'films': 2, 'plot': 2, 'picture': 2, 'likes': 2, ...}), FreqDist({'vampire': 13, 'blade': 10, 'movie': 9, 'movies': 6, 'vampires': 6, 'action': 4, 'play': 3, 'frankenstein': 2, 'much': 2, 'still': 2, ...}), FreqDist({'characters': 6, 'russ': 4, 'like': 4, 'funny': 4, 'time': 3, 'fargo': 3, 'movie': 3, 'somehow': 3, 'film': 3, 'travolta': 3, ...}), FreqDist({'sam': 9, 'max': 9, 'like': 5, 'museum': 5, 'one': 4, 'job': 3, 'children': 3, 'hostage': 3, 'travolta': 3, 'banks': 3, ...}), FreqDist({'film': 27, 'one': 16, 'see': 14, 'wild': 9, 'things': 9, 'plot': 9, 'may': 8, 'campbell': 7, 'way': 7, 'r': 7, ...}), FreqDist({'film': 16, 'one': 9, 'sean': 9, 'relationship': 9, 'lambeau': 8, 'like': 7, 'two': 6, 'scene': 5, 'people': 4, 'damon': 4, ...}), FreqDist({'chan': 9, 'jackie': 5, 'tucker': 5, 'movie': 5, 'rush': 4, 'hour': 4, 'chris': 4, 'man': 4, 'like': 3, 'jokes': 3, ...}), FreqDist({'movie': 7, 'one': 5, 'funny': 5, 'like': 5, 'carrey': 5, 'end': 4, 'liar': 4, 'even': 4, 'scene': 4, 'almost': 3, ...}), FreqDist({'hanks': 16, 'ryan': 12, 'well': 9, 'really': 9, 'movie': 8, 'tom': 7, 'meg': 7, 'films': 5, 'going': 5, 'one': 5, ...}), FreqDist({'film': 15, 'hit': 7, 'action': 7, 'comedy': 6, 'melvin': 6, 'big': 5, 'paris': 5, 'one': 5, 'though': 4, 'cisco': 4, ...}), FreqDist({'film': 6, 'however': 4, 'lynch': 3, 'b': 3, 'grade': 3, 'action': 3, 'madsen': 3, 'gio': 3, 'richard': 2, 'role': 2, ...}), FreqDist({'chairman': 5, 'board': 5, 'carrot': 5, 'top': 5, 'edison': 5, 'predictably': 4, 'movie': 3, 'plot': 3, 'say': 3, 'job': 3, ...}), FreqDist({'like': 4, 'schumacher': 4, 'film': 4, 'welles': 4, 'sick': 3, 'people': 3, 'films': 3, 'see': 3, 'snuff': 3, 'rather': 3, ...}), FreqDist({'grant': 12, 'movie': 7, 'annoying': 6, 'nine': 5, 'hugh': 5, 'months': 4, 'nervous': 4, 'laughs': 3, 'since': 3, 'smiles': 3, ...}), FreqDist({'pretty': 4, 'many': 4, 'much': 4, 'nice': 4, 'berenger': 3, 'panama': 3, 'beginning': 3, 'hero': 3, 'action': 3, 'real': 3, ...}), FreqDist({'film': 20, 'godzilla': 18, 'new': 15, 'york': 12, 'one': 9, 'beast': 7, 'dr': 7, 'would': 6, 'tatopoulos': 6, 'eggs': 5, ...}), FreqDist({'movie': 15, 'alicia': 11, 'zero': 9, 'one': 5, 'babysitter': 5, 'ever': 4, 'star': 4, 'guy': 3, 'would': 3, 'could': 3, ...}), FreqDist({'movie': 9, 'film': 6, 'get': 5, 'much': 5, 'space': 4, 'contact': 4, 'well': 4, 'like': 4, 'sci': 3, 'fi': 3, ...}), FreqDist({'film': 4, 'wide': 4, 'awake': 4, 'joshua': 4, 'best': 4, 'children': 3, 'audience': 3, 'better': 3, 'first': 3, 'might': 3, ...}), FreqDist({'brasco': 10, 'donnie': 9, 'gangster': 7, 'pistone': 6, 'pacino': 5, 'family': 5, 'movie': 4, 'depp': 4, 'lefty': 4, 'wiseguy': 4, ...}), FreqDist({'spawn': 11, 'movie': 5, 'simmons': 5, 'like': 4, 'clown': 4, 'even': 4, 'wynn': 3, 'leguizamo': 3, 'would': 3, 'one': 3, ...}), FreqDist({'dreams': 5, 'claire': 5, 'creepy': 2, 'clairvoyant': 2, 'potential': 2, 'movie': 2, 'least': 2, 'nifty': 2, 'even': 2, 'comes': 2, ...}), FreqDist({'men': 3, 'lemmon': 2, 'garner': 2, 'dan': 2, 'first': 2, 'us': 2, 'movie': 2, 'crap': 1, 'honestly': 1, 'older': 1, ...}), FreqDist({'rugrats': 10, 'movie': 10, 'film': 6, 'children': 6, 'worst': 3, 'year': 3, 'dill': 3, 'things': 3, 'animated': 2, 'looked': 2, ...}), FreqDist({'abigail': 7, 'girls': 6, 'crucible': 5, 'scene': 5, 'john': 4, 'one': 3, 'proctor': 3, 'day': 3, 'lewis': 3, 'ryder': 3, ...}), FreqDist({'film': 9, 'scene': 5, 'something': 5, 'one': 3, 'godard': 3, 'hold': 3, 'half': 3, 'like': 3, 'makes': 3, 'expect': 2, ...}), FreqDist({'dora': 10, 'heckerling': 9, 'paul': 9, 'loser': 4, 'girl': 3, 'goth': 3, 'become': 3, 'alcott': 3, 'big': 2, 'fast': 2, ...}), FreqDist({'one': 8, 'character': 7, 'affleck': 7, 'reindeer': 6, 'guy': 6, 'movie': 6, 'rudy': 6, 'action': 6, 'games': 5, 'kruger': 5, ...}), FreqDist({'dalmatians': 6, 'dogs': 4, 'close': 4, 'puppies': 3, 'evans': 3, 'since': 3, 'disney': 2, 'going': 2, 'time': 2, 'lots': 2, ...}), FreqDist({'film': 6, 'like': 5, 'video': 4, 'supposed': 3, 'home': 3, 'menu': 3, 'screens': 3, 'race': 2, 'bible': 2, 'orson': 2, ...}), FreqDist({'two': 8, 'shelton': 5, 'films': 4, 'characters': 4, 'different': 4, 'film': 4, 'cesar': 4, 'vince': 4, 'trip': 4, 'sports': 3, ...}), FreqDist({'gadget': 8, 'film': 8, 'really': 7, 'zany': 6, 'bad': 4, 'time': 3, 'favorite': 3, 'martian': 3, 'another': 3, 'disney': 3, ...}), FreqDist({'broderick': 5, 'new': 4, 'york': 4, 'godzilla': 4, 'movie': 4, 'acting': 4, 'also': 4, 'ha': 4, 'film': 3, 'french': 3, ...}), FreqDist({'warriors': 6, 'viking': 5, 'vikings': 4, 'battle': 4, 'film': 4, 'ahmed': 4, 'battles': 3, 'would': 3, 'place': 3, 'greatest': 3, ...}), FreqDist({'bully': 8, 'sex': 4, 'one': 4, 'life': 3, 'clark': 3, 'matter': 3, 'bobby': 3, 'marty': 3, 'lisa': 3, 'bored': 2, ...}), FreqDist({'film': 7, 'george': 4, 'finney': 4, 'bus': 4, 'heads': 3, 'black': 3, 'man': 3, 'plot': 3, 'never': 3, 'madness': 3, ...}), FreqDist({'movie': 8, 'perhaps': 5, 'richards': 3, 'charlize': 3, 'seinfeld': 2, 'tv': 2, 'daniels': 2, 'lawyer': 2, 'actor': 2, 'charles': 2, ...}), FreqDist({'film': 6, 'cradle': 5, 'play': 5, 'rock': 4, 'theater': 4, 'tim': 3, 'story': 3, 'like': 3, 'robbin': 3, 'nice': 3, ...}), FreqDist({'movie': 10, 'one': 7, 'even': 5, 'like': 5, 'pornography': 4, 'bugs': 4, 'bad': 3, 'anything': 3, 'thing': 3, 'soldiers': 3, ...}), FreqDist({'kate': 16, 'nick': 13, 'movie': 8, 'would': 5, 'wedding': 5, 'enough': 5, 'jennifer': 4, 'aniston': 4, 'company': 4, 'kevin': 4, ...}), FreqDist({'film': 4, 'may': 3, 'boring': 2, 'english': 2, 'patient': 2, 'acting': 2, 'cinematography': 2, 'sub': 2, 'made': 2, 'fiennes': 2, ...}), FreqDist({'lucy': 10, 'syd': 5, 'art': 4, 'scene': 4, 'world': 3, 'high': 3, 'drug': 3, 'movie': 3, 'picture': 3, 'frame': 3, ...}), FreqDist({'lawrence': 8, 'fat': 8, 'big': 6, 'martin': 5, 'momma': 5, 'woman': 5, 'coma': 4, 'put': 3, 'plays': 3, 'naughty': 3, ...}), FreqDist({'food': 5, 'simply': 4, 'irresistible': 4, 'gellar': 4, 'film': 4, 'amanda': 4, 'got': 4, 'like': 3, 'sarah': 3, 'michelle': 3, ...}), FreqDist({'martian': 7, 'favourite': 5, 'movie': 5, 'even': 4, 'character': 4, 'every': 3, 'like': 3, 'entertainment': 3, 'films': 3, 'one': 3, ...}), FreqDist({'film': 10, 'earthquake': 5, 'big': 5, 'little': 5, 'bujold': 5, 'cares': 5, 'disaster': 4, 'one': 4, 'gardner': 4, 'theatre': 3, ...}), FreqDist({'ryan': 4, 'story': 3, 'falls': 3, 'summer': 3, 'catch': 3, 'cape': 3, 'cod': 3, 'baseball': 3, 'one': 2, 'rich': 2, ...}), FreqDist({'movie': 13, 'rock': 12, 'like': 10, 'see': 10, 'kiss': 9, 'detroit': 8, 'city': 7, 'film': 7, 'funny': 7, 'got': 6, ...}), FreqDist({'director': 5, 'every': 4, 'bad': 3, 'supporting': 3, 'big': 3, 'comedy': 3, 'brothers': 3, 'scene': 3, 'two': 2, 'walter': 2, ...}), FreqDist({'max': 13, 'film': 13, 'sammy': 11, 'giant': 6, 'scenes': 5, 'muresan': 4, 'would': 4, 'could': 4, 'point': 3, 'scene': 3, ...}), FreqDist({'cop': 10, 'film': 9, 'one': 7, 'tough': 7, 'good': 4, 'partner': 3, 'nothing': 3, 'case': 3, 'saw': 3, 'get': 2, ...}), FreqDist({'ben': 9, 'crystal': 7, 'analyze': 6, 'kudrow': 6, 'de': 5, 'niro': 5, 'film': 5, 'paul': 5, 'one': 5, 'first': 4, ...}), FreqDist({'film': 9, 'movie': 9, 'hedwig': 6, 'get': 5, 'whole': 5, 'also': 4, 'musical': 4, 'much': 4, 'boy': 3, 'sex': 3, ...}), FreqDist({'whole': 6, 'nine': 6, 'yards': 6, 'one': 6, 'comedy': 6, 'oz': 6, 'jimmy': 5, 'time': 4, 'perry': 4, 'sophie': 4, ...}), FreqDist({'jackie': 21, 'chan': 7, 'film': 5, 'action': 5, 'mr': 4, 'nice': 4, 'guy': 4, 'scenes': 4, 'english': 4, 'films': 4, ...}), FreqDist({'allen': 3, 'stone': 3, 'life': 3, 'trys': 2, 'story': 2, 'one': 2, 'z': 2, 'colony': 2, 'film': 2, 'antz': 2, ...}), FreqDist({'without': 6, 'home': 4, 'fries': 4, 'mother': 4, 'movie': 4, 'sally': 3, 'dorian': 3, 'angus': 3, 'woman': 3, 'hit': 2, ...}), FreqDist({'wild': 8, 'things': 7, 'film': 5, 'one': 4, 'noir': 3, 'twists': 3, 'kevin': 3, 'bacon': 3, 'character': 3, 'mcnaughton': 3, ...}), FreqDist({'film': 7, 'one': 7, 'movie': 6, 'like': 5, 'space': 5, 'deep': 4, 'harry': 4, 'oil': 4, 'nasa': 4, 'almost': 4, ...}), FreqDist({'comet': 9, 'deep': 6, 'impact': 6, 'disaster': 6, 'freeman': 6, 'two': 5, 'tv': 5, 'earth': 5, 'know': 5, 'people': 5, ...}), FreqDist({'film': 8, 'wallace': 6, 'braveheart': 3, 'one': 3, 'horner': 3, 'score': 3, 'freedom': 3, 'emotional': 3, 'spartacus': 3, 'award': 2, ...}), FreqDist({'gadget': 5, 'something': 4, 'film': 4, 'movie': 4, 'one': 3, 'inspector': 3, 'would': 3, 'memories': 2, 'mind': 2, 'watching': 2, ...}), FreqDist({'virgin': 5, 'suicides': 5, 'suicide': 4, 'film': 4, 'well': 4, 'pointless': 3, 'movie': 3, 'lisbon': 3, 'know': 2, 'lives': 2, ...}), FreqDist({'burns': 11, 'back': 7, 'film': 6, 'claudia': 6, 'looking': 5, 'one': 5, 'two': 4, 'characters': 4, 'would': 4, 'charlie': 4, ...}), FreqDist({'julie': 7, 'friends': 5, 'movie': 5, 'man': 3, 'get': 3, 'even': 3, 'island': 3, 'love': 2, 'still': 2, 'good': 2, ...}), FreqDist({'cruise': 19, 'woo': 13, 'one': 9, 'plot': 7, 'film': 7, 'way': 6, 'gun': 6, 'action': 5, 'see': 5, 'john': 4, ...}), FreqDist({'tarzan': 7, 'jane': 7, 'city': 5, 'africa': 5, 'lost': 4, 'movie': 4, 'like': 4, 'bad': 4, 'film': 4, 'special': 4, ...}), FreqDist({'film': 7, 'one': 5, 'joke': 3, 'movie': 3, 'deuce': 3, 'trailer': 3, 'scenes': 3, 'storyboards': 3, 'sandler': 2, 'happy': 2, ...}), FreqDist({'tectonic': 7, 'plates': 7, 'although': 4, 'movie': 3, 'play': 3, 'lapage': 3, 'art': 3, 'madeleine': 3, 'jacques': 3, 'motion': 2, ...}), FreqDist({'film': 4, 'dvd': 3, 'sterling': 3, 'group': 2, 'stranded': 2, 'last': 2, 'stop': 2, 'one': 2, 'adam': 2, 'beach': 2, ...}), FreqDist({'film': 9, 'earth': 5, 'effects': 4, 'bad': 3, 'say': 3, 'looks': 3, 'fact': 3, 'quite': 3, 'terrible': 3, 'make': 3, ...}), FreqDist({'monkey': 12, 'bone': 12, 'stu': 9, 'really': 6, 'get': 4, 'movie': 4, 'well': 4, 'seems': 4, 'go': 3, 'however': 3, ...}), FreqDist({'made': 3, 'movie': 3, 'action': 3, 'besides': 2, 'flicks': 2, 'russell': 2, 'unusually': 2, 'character': 2, 'sergeant': 2, 'like': 2, ...}), FreqDist({'pimp': 12, 'pimps': 11, 'film': 7, 'ho': 4, 'get': 4, 'make': 4, 'money': 4, 'also': 4, 'need': 4, 'way': 3, ...}), FreqDist({'book': 7, 'hunter': 4, 'thompson': 4, 'written': 4, 'duke': 4, 'movie': 4, 'one': 4, 'characters': 4, 'fear': 3, 'loathing': 3, ...}), FreqDist({'story': 5, 'film': 4, 'get': 4, 'mariner': 4, 'make': 4, 'enola': 4, 'also': 3, 'plot': 3, 'completely': 3, 'good': 3, ...}), FreqDist({'film': 10, 'presence': 9, 'like': 8, 'one': 7, 'abraham': 7, 'realm': 6, 'new': 5, 'ice': 5, 'would': 5, 'see': 5, ...}), FreqDist({'perry': 9, 'willis': 4, 'funny': 4, 'career': 4, 'henstridge': 3, 'matthew': 3, 'whole': 3, 'nine': 3, 'yards': 3, 'bruce': 3, ...}), FreqDist({'computer': 12, 'computers': 8, 'film': 8, 'hacking': 6, 'hackers': 6, 'movie': 5, 'dade': 5, 'little': 4, 'real': 3, 'usually': 3, ...}), FreqDist({'kahl': 4, 'television': 3, 'movies': 3, 'pay': 3, 'still': 3, 'many': 3, 'film': 3, 'series': 2, 'dealing': 2, 'real': 2, ...}), FreqDist({'arraki': 7, 'doom': 4, 'generation': 4, 'film': 4, 'tv': 4, 'maybe': 4, 'make': 3, 'lassez': 3, 'ever': 2, 'see': 2, ...}), FreqDist({'film': 12, 'one': 9, 'school': 7, 'even': 6, 'behavior': 5, 'good': 5, 'like': 5, 'steve': 5, 'make': 5, 'high': 5, ...}), FreqDist({'ichabod': 6, 'sleepy': 5, 'hollow': 5, 'series': 4, 'burton': 3, 'town': 3, 'horror': 2, 'films': 2, 'leading': 2, 'kevin': 2, ...}), FreqDist({'lee': 8, 'crow': 6, 'film': 5, 'good': 4, 'better': 4, 'comic': 3, 'book': 3, 'brandon': 3, 'ernie': 3, 'hudson': 3, ...}), FreqDist({'film': 16, 'winner': 12, 'would': 9, 'philip': 7, 'mr': 5, 'cox': 3, 'entirely': 3, 'upon': 3, 'one': 3, 'casino': 3, ...}), FreqDist({'fugitive': 12, 'film': 8, 'movie': 7, 'u': 6, 'marshals': 6, 'snipes': 6, 'time': 5, 'average': 4, 'gerard': 4, 'plane': 4, ...}), FreqDist({'plays': 8, 'uninteresting': 7, 'blonde': 6, 'film': 5, 'real': 5, 'really': 4, 'soap': 4, 'dicillo': 4, 'joe': 3, 'bob': 3, ...}), FreqDist({'film': 7, 'mommie': 6, 'crawford': 6, 'dearest': 5, 'daughter': 5, 'joan': 4, 'christina': 4, 'office': 3, 'performance': 3, 'see': 3, ...}), FreqDist({'rock': 7, 'wellington': 7, 'lance': 5, 'chris': 5, 'heaven': 4, 'show': 4, 'beatty': 3, 'vehicle': 3, 'earth': 3, 'body': 3, ...}), FreqDist({'story': 4, 'roberts': 3, 'mr': 3, 'frears': 3, 'gets': 3, 'movie': 2, 'film': 2, 'julia': 2, 'ms': 2, 'also': 2, ...}), FreqDist({'species': 7, 'one': 5, 'eve': 5, 'ii': 4, 'alien': 3, 'back': 3, 'first': 3, 'film': 3, 'peter': 3, 'worse': 2, ...}), FreqDist({'connor': 15, 'film': 7, 'like': 6, 'highlander': 6, 'plot': 5, 'one': 5, 'assassins': 5, 'zeist': 5, 'shield': 4, 'sent': 4, ...}), FreqDist({'film': 8, 'played': 7, 'party': 7, 'subplot': 7, 'movie': 7, 'good': 6, 'performance': 5, 'lucy': 4, 'kevin': 4, 'two': 4, ...}), FreqDist({'movie': 7, 'film': 6, 'julia': 4, 'character': 4, 'well': 4, 'like': 4, 'plot': 3, 'everyone': 3, 'beyond': 3, 'roberts': 3, ...}), FreqDist({'movie': 7, 'postman': 7, 'earp': 5, 'film': 5, 'wyatt': 4, 'like': 4, 'brown': 4, 'love': 3, 'could': 3, 'world': 3, ...}), FreqDist({'american': 7, 'pie': 7, 'jim': 5, 'still': 5, 'sex': 4, 'one': 4, 'thomas': 3, 'levy': 3, 'stifler': 3, 'much': 3, ...}), FreqDist({'film': 6, 'jerry': 5, 'springer': 5, 'would': 4, 'show': 3, 'one': 3, 'real': 3, 'complete': 3, 'us': 3, 'plot': 2, ...}), FreqDist({'film': 8, 'one': 7, 'movie': 6, 'affleck': 5, 'like': 5, 'space': 5, 'willis': 4, 'deep': 4, 'harry': 4, 'oil': 4, ...}), FreqDist({'showgirls': 4, 'film': 4, 'verhoeven': 3, 'big': 2, 'entertainment': 2, 'make': 2, 'first': 1, 'budget': 1, 'studio': 1, 'receive': 1, ...}), FreqDist({'film': 7, 'romance': 4, 'plot': 3, 'one': 3, 'life': 2, 'witch': 2, 'movie': 2, 'cause': 2, 'magic': 2, 'matter': 2, ...}), FreqDist({'film': 6, 'school': 6, 'original': 5, 'time': 5, 'rachel': 5, 'carrie': 5, 'one': 5, 'sue': 5, 'high': 4, 'even': 3, ...}), FreqDist({'wendy': 4, 'mack': 4, 'one': 4, 'jazz': 3, 'race': 3, 'john': 3, 'may': 3, 'story': 3, 'two': 3, 'script': 3, ...}), FreqDist({'one': 18, 'batman': 13, 'good': 9, 'like': 9, 'joel': 8, 'last': 7, 'film': 7, 'much': 7, 'time': 7, 'big': 6, ...}), FreqDist({'hard': 6, 'rain': 6, 'film': 5, 'slater': 5, 'freeman': 4, 'films': 4, 'enough': 4, 'would': 4, 'john': 4, 'even': 3, ...}), FreqDist({'chinese': 7, 'snipes': 6, 'action': 6, 'film': 5, 'wesley': 3, 'conspiracy': 3, 'also': 3, 'stone': 3, 'bad': 2, 'roles': 2, ...}), FreqDist({'fight': 7, 'play': 5, 'bone': 5, 'vince': 5, 'well': 5, 'rocky': 4, 'one': 4, 'two': 4, 'film': 4, 'mr': 4, ...}), FreqDist({'film': 7, 'zeta': 6, 'jones': 6, 'bad': 4, 'movie': 4, 'time': 4, 'macdougal': 4, 'entrapment': 4, 'hollywood': 3, 'budget': 3, ...}), FreqDist({'analyze': 5, 'think': 5, 'movie': 5, 'deniro': 4, 'character': 4, 'funny': 4, 'ago': 3, 'parody': 3, 'mob': 3, 'know': 3, ...}), FreqDist({'harry': 9, 'catherine': 6, 'twilight': 5, 'ex': 5, 'jack': 5, 'script': 4, 'cop': 3, 'newman': 3, 'actors': 3, 'hero': 3, ...}), FreqDist({'williamson': 7, 'genre': 4, 'horta': 4, 'also': 4, 'killer': 4, 'way': 4, 'pendleton': 3, 'witt': 3, 'film': 3, 'kevin': 2, ...}), FreqDist({'real': 4, 'enough': 4, 'humor': 4, 'superficial': 3, 'meaning': 3, 'blonde': 3, 'modine': 3, 'keener': 3, 'sahara': 3, 'little': 3, ...}), FreqDist({'gordy': 8, 'movie': 5, 'one': 4, 'stupid': 4, 'jinnie': 4, 'hank': 4, 'actually': 3, 'story': 3, 'named': 3, 'course': 3, ...}), FreqDist({'senseless': 7, 'wayans': 7, 'darryl': 7, 'moments': 4, 'comedy': 4, 'senses': 4, 'simply': 3, 'film': 3, 'marlon': 2, 'physical': 2, ...}), FreqDist({'kate': 4, 'publisher': 4, 'vanni': 4, 'film': 3, 'set': 3, 'husband': 3, 'alec': 3, 'self': 3, 'man': 3, 'story': 3, ...}), FreqDist({'film': 5, 'ship': 4, 'kind': 3, 'movie': 3, 'action': 3, 'ocean': 3, 'boat': 3, 'monster': 3, 'see': 2, 'movies': 2, ...}), FreqDist({'violin': 10, 'story': 4, 'red': 3, 'instrument': 3, 'morritz': 3, 'girard': 3, 'movie': 2, 'maker': 2, 'tragedy': 2, 'strikes': 2, ...}), FreqDist({'gone': 7, 'kip': 6, 'memphis': 5, 'cage': 4, 'calitri': 4, 'enough': 4, 'one': 3, 'seconds': 3, 'car': 3, 'chase': 3, ...}), FreqDist({'movie': 17, 'bad': 8, 'one': 7, 'meyer': 6, 'writing': 6, 'scene': 5, 'big': 5, 'much': 4, 'even': 4, 'film': 4, ...}), FreqDist({'film': 11, 'john': 6, 'travolta': 6, 'woods': 5, 'one': 4, 'see': 4, 'man': 4, 'two': 4, 'much': 4, 'director': 4, ...}), FreqDist({'pokemon': 11, 'movie': 8, 'bad': 6, 'first': 3, 'little': 3, 'animation': 2, 'film': 2, 'end': 2, 'almost': 2, 'million': 2, ...}), FreqDist({'dan': 6, 'comedy': 4, 'lilly': 4, 'molly': 4, 'movie': 4, 'love': 3, 'husband': 3, 'wife': 3, 'write': 3, 'good': 2, ...}), FreqDist({'chucky': 10, 'plastic': 4, 'dolls': 4, 'bride': 4, 'tiffany': 4, 'jennifer': 3, 'tilly': 3, 'married': 3, 'possessed': 2, 'doll': 2, ...}), FreqDist({'movie': 17, 'bad': 8, 'robinson': 6, 'lost': 5, 'star': 4, 'space': 4, 'made': 4, 'good': 4, 'movies': 4, 'one': 4, ...}), FreqDist({'bad': 6, 'movie': 5, 'jackie': 4, 'shroff': 4, 'going': 3, 'ram': 2, 'shrasta': 2, 'video': 2, 'print': 2, 'watching': 2, ...}), FreqDist({'film': 6, 'birdy': 6, 'costume': 5, 'movie': 4, 'daughter': 4, 'played': 4, 'scenes': 4, 'would': 3, 'father': 3, 'one': 3, ...}), FreqDist({'kersey': 10, 'death': 7, 'movie': 6, 'wish': 5, 'bronson': 3, 'daughter': 3, 'war': 3, 'however': 3, 'drug': 3, 'even': 3, ...}), FreqDist({'football': 4, 'two': 4, 'movie': 3, 'kilmer': 3, 'mtv': 2, 'like': 2, 'last': 2, 'year': 2, 'campus': 2, 'audience': 2, ...}), FreqDist({'cage': 11, 'con': 9, 'air': 8, 'bruckheimer': 8, 'rock': 5, 'poe': 4, 'prison': 4, 'one': 4, 'many': 4, 'something': 3, ...}), FreqDist({'seattle': 5, 'annie': 5, 'ephron': 4, 'sleepless': 4, 'life': 4, 'sam': 4, 'show': 4, 'ryan': 3, 'seems': 3, 'five': 3, ...}), FreqDist({'film': 5, 'dalmatians': 5, 'close': 4, 'dalmatian': 4, 'glenn': 3, 'original': 3, 'cruella': 3, 'dog': 3, 'point': 3, 'bad': 2, ...}), FreqDist({'marvin': 6, 'like': 4, 'animal': 3, 'time': 3, 'bad': 3, 'trying': 2, 'actually': 2, 'seen': 2, 'little': 2, 'however': 2, ...}), FreqDist({'film': 6, 'babies': 6, 'baby': 4, 'geniuses': 4, 'sylvester': 4, 'would': 4, 'like': 3, 'may': 3, 'monkeys': 3, 'plot': 3, ...}), FreqDist({'film': 8, 'richard': 7, 'beach': 4, 'mood': 4, 'time': 4, 'becomes': 3, 'island': 3, 'paradise': 3, 'looking': 3, 'etienne': 3, ...}), FreqDist({'swayze': 4, 'jack': 4, 'black': 3, 'dog': 3, 'red': 3, 'little': 2, 'careers': 2, 'moore': 2, 'goldberg': 2, 'forget': 2, ...}), FreqDist({'fred': 5, 'fans': 4, 'plot': 4, 'film': 4, 'flintstones': 3, 'animated': 3, 'stone': 3, 'one': 3, 'barney': 3, 'elizabeth': 3, ...}), FreqDist({'einstein': 8, 'young': 7, 'yahoo': 7, 'movie': 6, 'film': 3, 'box': 2, 'office': 2, 'time': 2, 'hoping': 2, 'takes': 2, ...}), FreqDist({'turpin': 7, 'carry': 5, 'sid': 5, 'james': 5, 'performance': 4, 'last': 3, 'dick': 3, 'harriett': 3, 'robberies': 3, 'kenneth': 3, ...}), FreqDist({'hell': 8, 'martha': 6, 'film': 5, 'even': 4, 'character': 4, 'much': 4, 'law': 3, 'helen': 3, 'characters': 3, 'one': 2, ...}), FreqDist({'crystal': 4, 'movie': 3, 'zeta': 3, 'jones': 3, 'granger': 2, 'america': 2, 'sweethearts': 2, 'sony': 2, 'billy': 2, 'concocted': 2, ...}), FreqDist({'film': 8, 'mars': 7, 'mission': 5, 'crew': 5, 'movie': 4, 'mcconnell': 4, 'astronauts': 3, 'time': 3, 'explain': 3, 'visuals': 2, ...}), FreqDist({'film': 24, 'apes': 20, 'planet': 11, 'ape': 8, 'language': 7, 'much': 6, 'little': 6, 'like': 6, 'humans': 6, 'human': 6, ...}), FreqDist({'film': 7, 'gwen': 7, 'studio': 7, 'eddie': 6, 'crystal': 5, 'movie': 5, 'lee': 5, 'america': 4, 'sweethearts': 4, 'cast': 4, ...}), FreqDist({'claw': 6, 'gadget': 5, 'action': 4, 'dr': 4, 'everett': 4, 'cartoon': 3, 'live': 3, 'movie': 3, 'first': 3, 'one': 3, ...}), FreqDist({'sonny': 5, 'julian': 5, 'year': 3, 'get': 3, 'adam': 2, 'sandler': 2, 'vanessa': 2, 'kevin': 2, 'boy': 2, 'named': 2, ...}), FreqDist({'smith': 9, 'wild': 6, 'film': 6, 'west': 5, 'scene': 4, 'thing': 4, 'summer': 3, 'gordon': 3, 'action': 3, 'money': 2, ...}), FreqDist({'luis': 10, 'julia': 7, 'jolie': 6, 'banderas': 5, 'original': 4, 'sin': 4, 'film': 4, 'movie': 4, 'woman': 4, 'bad': 3, ...}), FreqDist({'film': 7, 'would': 6, 'one': 5, 'blossom': 5, 'work': 4, 'duchovny': 3, 'doctor': 3, 'hutton': 3, 'big': 3, 'time': 3, ...}), FreqDist({'movie': 5, 'spy': 3, 'nielsen': 3, 'airplane': 2, 'secret': 2, 'naked': 2, 'gun': 2, 'shots': 2, 'hard': 2, 'even': 2, ...}), FreqDist({'leo': 10, 'film': 8, 'burton': 6, 'tim': 5, 'apes': 5, 'planet': 4, 'like': 4, 'monkey': 3, 'could': 3, 'original': 3, ...}), FreqDist({'film': 16, 'action': 6, 'scenes': 4, 'character': 3, 'something': 3, 'potential': 3, 'one': 3, 'type': 3, 'plot': 3, 'soldier': 2, ...}), FreqDist({'chan': 9, 'condor': 7, 'movie': 7, 'jackie': 4, 'gold': 4, 'key': 4, 'way': 4, 'scene': 3, 'mission': 3, 'hidden': 3, ...}), FreqDist({'libby': 8, 'judd': 4, 'husband': 4, 'nick': 4, 'matty': 4, 'double': 4, 'jeopardy': 4, 'travis': 4, 'script': 3, 'ashley': 2, ...}), FreqDist({'film': 10, 'girl': 6, 'spike': 4, 'lee': 4, 'phone': 4, 'sex': 4, 'ex': 3, 'prince': 3, 'music': 3, 'one': 3, ...}), FreqDist({'wild': 14, 'west': 10, 'smith': 7, 'one': 6, 'film': 5, 'summer': 4, 'effects': 4, 'box': 3, 'office': 3, 'kline': 3, ...}), FreqDist({'nbsp': 58, 'series': 28, 'movie': 23, 'television': 22, 'x': 20, 'files': 20, 'carter': 14, 'show': 12, 'fans': 8, 'much': 8, ...}), FreqDist({'entrapment': 5, 'movie': 4, 'millennium': 3, 'sean': 3, 'connery': 3, 'film': 3, 'feel': 3, 'first': 2, 'appear': 2, 'convoluted': 2, ...}), FreqDist({'stone': 8, 'football': 5, 'game': 5, 'given': 4, 'sunday': 4, 'film': 4, 'amato': 4, 'see': 3, 'unfortunately': 3, 'director': 3, ...}), FreqDist({'darren': 5, 'silverman': 4, 'judith': 3, 'one': 3, 'saving': 3, 'neil': 2, 'diamond': 2, 'wayne': 2, 'zahn': 2, 'j': 2, ...}), FreqDist({'film': 9, 'movie': 8, 'one': 5, 'travolta': 5, 'lisa': 4, 'kudrow': 4, 'played': 4, 'character': 4, 'year': 3, 'time': 3, ...}), FreqDist({'butterfly': 5, 'robicheaux': 5, 'movie': 4, 'alec': 4, 'baldwin': 4, 'well': 4, 'want': 4, 'see': 4, 'hatcher': 4, 'wife': 4, ...}), FreqDist({'jadzia': 6, 'hala': 5, 'one': 4, 'bolek': 4, 'connelly': 3, 'child': 3, 'film': 3, 'family': 3, 'affair': 3, 'russell': 3, ...}), FreqDist({'film': 8, 'shakespeare': 6, 'love': 6, 'however': 5, 'quality': 4, 'little': 4, 'may': 4, 'queen': 4, 'elizabeth': 4, 'well': 4, ...}), FreqDist({'ed': 5, 'every': 4, 'girlfriend': 4, 'role': 3, 'brother': 3, 'slut': 3, 'truman': 3, 'show': 3, 'movie': 3, 'like': 3, ...}), FreqDist({'film': 6, 'even': 5, 'good': 5, 'peel': 5, 'reason': 5, 'scenes': 5, 'one': 5, 'times': 4, 'around': 4, 'first': 4, ...}), FreqDist({'babysitter': 10, 'film': 7, 'movie': 6, 'boyfriend': 5, 'fails': 5, 'thug': 4, 'characters': 4, 'goal': 4, 'one': 4, 'parents': 3, ...}), FreqDist({'lynch': 17, 'dune': 16, 'version': 14, 'film': 11, 'paul': 7, 'two': 6, 'cut': 6, 'one': 6, 'theatrical': 5, 'minutes': 5, ...}), FreqDist({'jakob': 13, 'liar': 5, 'scene': 4, 'much': 4, 'williams': 4, 'set': 3, 'ghetto': 3, 'one': 3, 'character': 3, 'radio': 3, ...}), FreqDist({'film': 9, 'women': 6, 'bad': 4, 'characters': 4, 'one': 4, 'first': 3, 'beyer': 3, 'talk': 3, 'interviews': 3, 'miami': 3, ...}), FreqDist({'kitty': 6, 'nazi': 5, 'brothel': 5, 'many': 3, 'could': 3, 'depravity': 3, 'made': 3, 'brass': 3, 'salon': 3, 'wallenberg': 3, ...}), FreqDist({'williamson': 5, 'faculty': 4, 'scream': 3, 'characters': 3, 'thirty': 2, 'six': 2, 'situations': 2, 'movie': 2, 'rodriguez': 2, 'typical': 2, ...}), FreqDist({'one': 4, 'film': 4, 'screwed': 4, 'willard': 4, 'movies': 3, 'everything': 3, 'make': 3, 'bad': 3, 'talking': 3, 'macdonald': 3, ...}), FreqDist({'spice': 10, 'girls': 8, 'film': 6, 'one': 5, 'world': 4, 'girl': 4, 'power': 4, 'like': 4, 'really': 4, 'things': 3, ...}), FreqDist({'eye': 11, 'movie': 6, 'judd': 5, 'time': 5, 'one': 5, 'ewan': 4, 'mcgregor': 4, 'rifle': 4, 'little': 4, 'explanation': 4, ...}), FreqDist({'movie': 9, 'mimic': 6, 'director': 6, 'make': 5, 'made': 5, 'movies': 5, 'hollywood': 4, 'america': 4, 'del': 4, 'toro': 4, ...}), FreqDist({'robin': 3, 'quinn': 3, 'long': 3, 'hughes': 3, 'troubled': 2, 'youth': 2, 'life': 2, 'film': 2, 'william': 2, 'series': 2, ...}), FreqDist({'vampires': 4, 'vampire': 3, 'movie': 3, 'rude': 2, 'women': 2, 'one': 2, 'make': 2, 'much': 2, 'suggestion': 2, 'chauvinistic': 1, ...}), FreqDist({'allen': 14, 'celebrity': 8, 'character': 7, 'people': 6, 'like': 6, 'film': 5, 'rest': 4, 'self': 4, 'characters': 4, 'movie': 4, ...}), FreqDist({'movie': 15, 'watchers': 15, 'reborn': 11, 'film': 11, 'koontz': 9, 'creature': 6, 'many': 5, 'einstein': 4, 'dog': 4, 'even': 4, ...}), FreqDist({'jerry': 7, 'alice': 4, 'roberts': 4, 'another': 3, 'donner': 2, 'mel': 2, 'new': 2, 'cabbie': 2, 'conspiracy': 2, 'theories': 2, ...}), FreqDist({'star': 9, 'trek': 9, 'one': 7, 'insurrection': 6, 'series': 5, 'film': 5, 'always': 4, 'ba': 4, 'ku': 4, 'films': 3, ...}), FreqDist({'spawn': 16, 'movie': 9, 'film': 9, 'al': 6, 'man': 5, 'superhero': 4, 'one': 4, 'life': 4, 'character': 4, 'like': 4, ...}), FreqDist({'danielle': 4, 'film': 3, 'old': 2, 'prince': 2, 'woman': 2, 'century': 2, 'huston': 2, 'movie': 2, 'like': 2, 'theater': 2, ...}), FreqDist({'godzilla': 17, 'broderick': 11, 'new': 5, 'lizard': 4, 'like': 4, 'lightning': 4, 'york': 4, 'patillo': 4, 'get': 3, 'big': 3, ...}), FreqDist({'film': 11, 'skeet': 5, 'one': 5, 'movie': 5, 'bad': 5, 'cuba': 4, 'guys': 4, 'black': 4, 'actor': 3, 'ulrich': 3, ...}), FreqDist({'bond': 9, 'enough': 6, 'got': 5, 'world': 4, 'series': 4, 'james': 3, 'brosnan': 3, 'chases': 3, 'since': 3, 'guy': 3, ...}), FreqDist({'boy': 7, 'francis': 7, 'film': 4, 'butcher': 4, 'little': 4, 'one': 4, 'always': 3, 'director': 3, 'well': 3, 'could': 3, ...}), FreqDist({'get': 5, 'kitty': 4, 'killer': 3, 'else': 3, 'movie': 3, 'cindy': 3, 'action': 3, 'like': 3, 'something': 3, 'censors': 2, ...}), FreqDist({'one': 9, 'john': 9, 'film': 7, 'town': 7, 'varsity': 5, 'coach': 5, 'team': 5, 'football': 5, 'since': 5, 'blues': 4, ...}), FreqDist({'jermaine': 9, 'jasmine': 8, 'trois': 4, 'wife': 4, 'jade': 4, 'fatal': 3, 'attraction': 3, 'sexually': 3, 'point': 3, 'film': 2, ...}), FreqDist({'porter': 8, 'mona': 6, 'griffin': 6, 'ellie': 5, 'film': 5, 'beatty': 4, 'town': 4, 'country': 4, 'stoddard': 3, 'friends': 3, ...}), FreqDist({'film': 32, 'caligula': 8, 'could': 8, 'one': 7, 'guccione': 7, 'also': 6, 'good': 6, 'historical': 5, 'accuracy': 5, 'emporer': 5, ...}), FreqDist({'ronin': 9, 'film': 8, 'characters': 5, 'one': 5, 'would': 4, 'films': 4, 'two': 4, 'sam': 4, 'seems': 4, 'good': 4, ...}), FreqDist({'like': 8, 'darnell': 8, 'think': 5, 'brandi': 5, 'woman': 4, 'one': 4, 'get': 4, 'lawrence': 3, 'enough': 3, 'sense': 3, ...}), FreqDist({'chucky': 6, 'one': 5, 'bride': 3, 'nothing': 3, 'new': 3, 'even': 3, 'child': 2, 'play': 2, 'silly': 2, 'rest': 2, ...}), FreqDist({'blues': 10, 'elwood': 9, 'brothers': 6, 'film': 5, 'years': 4, 'brother': 4, 'music': 4, 'much': 4, 'movie': 3, 'musical': 3, ...}), FreqDist({'film': 6, 'story': 5, 'erin': 5, 'wonderland': 3, 'see': 3, 'plot': 3, 'boston': 3, 'ad': 3, 'alan': 3, 'one': 3, ...}), FreqDist({'erotic': 4, 'film': 4, 'mirkine': 3, 'time': 3, 'laurence': 3, 'treill': 3, 'would': 3, 'scenes': 3, 'series': 2, 'set': 2, ...}), FreqDist({'review': 7, 'want': 3, 'audience': 3, 'reviews': 3, 'film': 3, 'write': 2, 'action': 2, 'bait': 2, 'something': 2, 'half': 2, ...}), FreqDist({'like': 7, 'simply': 6, 'irresistible': 6, 'gellar': 4, 'much': 4, 'never': 3, 'amanda': 3, 'tom': 3, 'water': 3, 'go': 3, ...}), FreqDist({'kim': 10, 'prentice': 8, 'love': 4, 'story': 4, 'karl': 3, 'see': 3, 'film': 3, 'either': 3, 'come': 3, 'school': 2, ...}), FreqDist({'though': 2, 'epic': 2, 'michael': 2, 'douglas': 2, 'lion': 2, 'movie': 2, 'even': 2, 'heard': 1, 'called': 1, 'jaws': 1, ...}), FreqDist({'train': 11, 'jamie': 6, 'lee': 6, 'terror': 6, 'one': 5, 'two': 3, 'halloween': 3, 'guy': 3, 'mask': 3, 'conductor': 3, ...}), FreqDist({'played': 4, 'eye': 3, 'storm': 3, 'film': 3, 'hitchcock': 2, 'filmmakers': 2, 'american': 2, 'beginning': 2, 'yuri': 2, 'zeltser': 2, ...}), FreqDist({'movie': 10, 'woody': 6, 'wesley': 5, 'money': 4, 'train': 4, 'seen': 4, 'interesting': 4, 'kid': 4, 'even': 3, 'police': 3, ...}), FreqDist({'terry': 14, 'film': 13, 'nick': 13, 'dream': 8, 'fishes': 8, 'characters': 8, 'character': 5, 'taylor': 4, 'upon': 4, 'two': 4, ...}), FreqDist({'film': 3, 'godzilla': 2, 'would': 2, 'make': 1, 'japanese': 1, 'monster': 1, 'transformed': 1, 'jurassic': 1, 'park': 1, 'copy': 1, ...}), FreqDist({'movie': 10, 'time': 5, 'ship': 5, 'speed': 4, 'funny': 4, 'tries': 3, 'sandra': 3, 'bullock': 3, 'wrong': 3, 'going': 3, ...}), FreqDist({'mother': 12, 'daughter': 10, 'beverly': 7, 'hills': 7, 'one': 5, 'mom': 5, 'life': 4, 'film': 3, 'script': 3, 'even': 3, ...}), FreqDist({'johnny': 3, 'back': 2, 'one': 2, 'future': 2, 'keanu': 2, 'reeves': 2, 'wet': 2, 'wired': 2, 'long': 2, 'mnemonic': 2, ...}), FreqDist({'murphy': 24, 'movie': 9, 'harlem': 8, 'nights': 7, 'get': 5, 'character': 5, 'gonna': 4, 'hall': 4, 'eddie': 3, 'time': 3, ...}), FreqDist({'bubble': 8, 'jimmy': 7, 'boy': 6, 'film': 5, 'director': 3, 'chloe': 3, 'love': 3, 'tv': 2, 'case': 2, 'hayes': 2, ...}), FreqDist({'urban': 8, 'legend': 7, 'scream': 5, 'one': 5, 'great': 4, 'silvio': 3, 'slasher': 3, 'makes': 3, 'movie': 3, 'another': 3, ...}), FreqDist({'movie': 9, 'bond': 5, 'james': 4, 'one': 4, 'even': 3, 'series': 3, 'sequence': 3, 'scaramanga': 3, 'character': 3, 'car': 3, ...}), FreqDist({'movie': 10, 'highly': 5, 'form': 5, 'story': 5, 'life': 4, 'russian': 3, 'vessel': 3, 'simply': 3, 'predictable': 3, 'advanced': 3, ...}), FreqDist({'film': 16, 'studio': 10, 'people': 5, 'much': 5, 'one': 4, 'character': 4, 'like': 4, 'never': 4, 'protagonist': 3, 'become': 3, ...}), FreqDist({'headless': 6, 'horseman': 6, 'burton': 5, 'sleepy': 4, 'hollow': 4, 'film': 4, 'depp': 4, 'could': 4, 'even': 4, 'like': 4, ...}), FreqDist({'film': 13, 'burn': 12, 'hollywood': 9, 'eszterhas': 7, 'alan': 5, 'smithee': 5, 'satire': 4, 'bad': 4, 'even': 4, 'references': 4, ...}), FreqDist({'film': 8, 'movie': 8, 'sense': 7, 'ending': 6, 'sixth': 6, 'one': 5, 'even': 4, 'malcolm': 4, 'say': 4, 'would': 3, ...}), FreqDist({'rimbaud': 13, 'film': 10, 'verlaine': 10, 'poets': 7, 'two': 6, 'poetry': 6, 'poet': 4, 'relationship': 3, 'like': 3, 'looked': 3, ...}), FreqDist({'bye': 18, 'love': 9, 'movie': 6, 'three': 5, 'one': 4, 'modine': 4, 'still': 3, 'weekend': 3, 'children': 3, 'father': 3, ...}), FreqDist({'movie': 6, 'film': 5, 'chainsaw': 4, 'bad': 4, 'mcconaughey': 4, 'never': 3, 'even': 3, 'zellweger': 3, 'would': 3, 'rule': 2, ...}), FreqDist({'blade': 16, 'squad': 16, 'movie': 9, 'tv': 6, 'one': 4, 'series': 4, 'foul': 4, 'language': 4, 'future': 3, 'turned': 3, ...}), FreqDist({'werewolf': 12, 'american': 7, 'delpy': 6, 'paris': 5, 'andy': 4, 'serafine': 3, 'julie': 3, 'would': 3, 'movie': 3, 'horror': 2, ...}), FreqDist({'original': 7, 'sin': 7, 'girl': 6, 'film': 4, 'boy': 4, 'jolie': 3, 'actually': 3, 'since': 3, 'either': 2, 'act': 2, ...}), FreqDist({'evil': 6, 'one': 6, 'good': 5, 'bad': 5, 'battle': 5, 'film': 5, 'say': 4, 'however': 4, 'get': 4, 'nazis': 4, ...}), FreqDist({'mccoy': 7, 'cliche': 6, 'character': 4, 'one': 4, 'film': 4, 'movie': 4, 'bank': 4, 'six': 4, 'bad': 3, 'guy': 3, ...}), FreqDist({'one': 11, 'film': 10, 'bad': 4, 'plot': 4, 'acting': 4, 'monica': 4, 'two': 4, 'quality': 4, 'shot': 4, 'cigarettes': 3, ...}), FreqDist({'film': 4, 'best': 4, 'movie': 3, 'depalma': 3, 'jim': 3, 'phelps': 3, 'computer': 3, 'first': 2, 'going': 2, 'music': 2, ...}), FreqDist({'siege': 7, 'zwick': 4, 'made': 4, 'washington': 4, 'even': 4, 'film': 3, 'shalhoub': 3, 'bening': 3, 'willis': 3, 'character': 3, ...}), FreqDist({'bad': 5, 'friends': 5, 'movie': 4, 'gone': 3, 'one': 3, 'could': 3, 'body': 3, 'guilt': 3, 'film': 3, 'guess': 2, ...}), FreqDist({'jawbreaker': 7, 'scene': 3, 'even': 3, 'one': 3, 'film': 3, 'anything': 3, 'role': 3, 'funny': 2, 'content': 2, 'rest': 2, ...}), FreqDist({'ferrara': 8, 'matty': 6, 'movie': 5, 'modine': 5, 'annie': 5, 'scene': 4, 'blackout': 4, 'one': 3, 'beautiful': 3, 'walken': 3, ...}), FreqDist({'moresco': 5, 'film': 4, 'one': 4, 'get': 4, 'us': 4, 'first': 3, 'feature': 3, 'movies': 3, 'might': 3, 'kids': 3, ...}), FreqDist({'things': 10, 'wild': 9, 'film': 7, 'one': 6, 'movie': 5, 'picture': 4, 'kevin': 4, 'bacon': 4, 'much': 3, 'thriller': 3, ...}), FreqDist({'bronson': 10, 'movie': 9, 'kersey': 7, 'movies': 5, 'could': 5, 'played': 5, 'death': 4, 'fact': 3, 'one': 3, 'cannon': 3, ...}), FreqDist({'gal': 9, 'old': 7, 'plot': 7, 'kingsley': 6, 'sexy': 5, 'beast': 5, 'film': 5, 'crime': 5, 'london': 4, 'one': 4, ...}), FreqDist({'tarzan': 19, 'lost': 10, 'movie': 8, 'city': 7, 'jungle': 7, 'one': 6, 'bad': 6, 'even': 6, 'jane': 6, 'like': 5, ...}), FreqDist({'knock': 12, 'bad': 9, 'film': 9, 'action': 6, 'running': 4, 'rochon': 4, 'van': 4, 'damme': 4, 'boring': 4, 'scenes': 4, ...}), FreqDist({'robert': 7, 'celine': 7, 'ordinary': 6, 'film': 6, 'life': 5, 'less': 4, 'boyle': 4, 'two': 4, 'romance': 4, 'something': 4, ...}), FreqDist({'flubber': 10, 'film': 9, 'phillip': 6, 'like': 4, 'comedy': 3, 'actually': 3, 'first': 3, 'seems': 3, 'one': 3, 'sara': 3, ...}), FreqDist({'five': 4, 'minutes': 4, 'time': 3, 'answer': 3, 'last': 3, 'director': 3, 'herzfeld': 3, 'characters': 3, 'movies': 2, 'spend': 2, ...}), FreqDist({'carter': 7, 'tough': 6, 'jack': 5, 'know': 5, 'stallone': 4, 'film': 4, 'sylvester': 3, 'guy': 3, 'get': 3, 'vegas': 3, ...}), FreqDist({'dave': 3, 'plotted': 2, 'wife': 2, 'annie': 2, 'drug': 2, 'everyone': 2, 'heaven': 2, 'prisoners': 2, 'like': 2, 'talky': 1, ...}), FreqDist({'jakob': 14, 'ghetto': 6, 'williams': 5, 'liar': 5, 'hope': 5, 'one': 4, 'movie': 4, 'false': 4, 'robin': 3, 'film': 3, ...}), FreqDist({'scream': 11, 'series': 7, 'killer': 7, 'even': 7, 'sidney': 6, 'movie': 5, 'stab': 5, 'set': 4, 'one': 4, 'film': 3, ...}), FreqDist({'dinosaurs': 5, 'two': 3, 'one': 3, 'jurrasic': 3, 'park': 3, 'office': 2, 'good': 2, 'dinos': 2, 'attraction': 2, 'island': 2, ...}), FreqDist({'characters': 6, 'movie': 4, 'days': 3, 'valley': 3, 'much': 3, 'would': 3, 'even': 3, 'half': 3, 'pulp': 2, 'fiction': 2, ...}), FreqDist({'foolish': 8, 'movie': 5, 'would': 4, 'comedy': 4, 'eddie': 4, 'griffin': 4, 'act': 3, 'star': 3, 'master': 3, 'p': 3, ...}), FreqDist({'movie': 10, 'mr': 8, 'magoo': 8, 'cartoon': 4, 'said': 4, 'version': 3, 'one': 3, 'good': 3, 'picture': 3, 'age': 3, ...}), FreqDist({'jeff': 5, 'warren': 5, 'although': 4, 'film': 4, 'also': 4, 'amy': 3, 'plot': 3, 'k': 3, 'enough': 3, 'story': 3, ...}), FreqDist({'film': 7, 'caves': 5, 'e': 4, 'president': 4, 'good': 4, 'plot': 4, 'holes': 4, 'think': 3, 'story': 3, 'two': 3, ...}), FreqDist({'time': 7, 'movie': 6, 'every': 6, 'film': 5, 'could': 5, 'fact': 4, 'minutes': 4, 'high': 4, 'sam': 4, 'yeah': 3, ...}), FreqDist({'movie': 9, 'pamela': 8, 'wire': 7, 'barb': 6, 'scenes': 4, 'even': 4, 'woman': 4, 'like': 4, 'one': 4, 'year': 4, ...}), FreqDist({'film': 10, 'one': 10, 'high': 8, 'school': 8, 'never': 5, 'josie': 5, 'teenage': 4, 'two': 4, 'character': 4, 'movie': 4, ...}), FreqDist({'jawbreaker': 6, 'julie': 5, 'film': 5, 'character': 5, 'get': 5, 'courtney': 4, 'played': 4, 'mcgowan': 4, 'like': 4, 'one': 4, ...}), FreqDist({'good': 12, 'bad': 11, 'movie': 10, 'even': 7, 'one': 6, 'really': 6, 'performance': 5, 'chris': 5, 'get': 5, 'movies': 4, ...}), FreqDist({'webb': 28, 'movie': 10, 'one': 10, 'owens': 9, 'scene': 5, 'year': 4, 'jack': 4, 'would': 4, 'gives': 4, 'girl': 4, ...}), FreqDist({'frank': 5, 'voice': 4, 'osmosis': 4, 'jones': 4, 'one': 3, 'bill': 2, 'murray': 2, 'shane': 2, 'city': 2, 'farrelly': 2, ...}), FreqDist({'willis': 6, 'group': 3, 'leap': 2, 'starring': 2, 'bruce': 2, 'since': 2, 'acting': 2, 'take': 2, 'goes': 2, 'film': 2, ...}), FreqDist({'film': 8, 'children': 6, 'corn': 6, 'horrible': 6, 'horror': 5, 'issac': 4, 'return': 3, 'worst': 3, 'hannah': 3, 'looking': 3, ...}), FreqDist({'sandler': 9, 'movie': 8, 'film': 8, 'waterboy': 6, 'really': 5, 'great': 5, 'material': 5, 'humor': 4, 'funny': 4, 'even': 4, ...}), FreqDist({'film': 8, 'avengers': 6, 'august': 4, 'lack': 4, 'picture': 4, 'peel': 4, 'steed': 4, 'may': 3, 'early': 3, 'plot': 3, ...}), FreqDist({'species': 12, 'patrick': 5, 'film': 4, 'special': 3, 'effects': 3, 'natasha': 3, 'henstridge': 3, 'movie': 3, 'movies': 3, 'blood': 3, ...}), FreqDist({'film': 9, 'one': 7, 'cool': 6, 'stupid': 5, 'get': 5, 'part': 5, 'characters': 4, 'time': 4, 'disaster': 4, 'watching': 4, ...}), FreqDist({'krippendorf': 9, 'tribe': 9, 'comedy': 5, 'new': 5, 'family': 4, 'effort': 4, 'professor': 4, 'film': 4, 'make': 3, 'way': 3, ...}), FreqDist({'effects': 12, 'film': 12, 'lucas': 11, 'phantom': 9, 'menace': 9, 'special': 9, 'characters': 8, 'first': 7, 'one': 7, 'george': 6, ...}), FreqDist({'new': 3, 'g': 3, 'murphy': 3, 'film': 3, 'want': 2, 'old': 2, 'years': 2, 'ricky': 2, 'goldblum': 2, 'career': 2, ...}), FreqDist({'cartoon': 5, 'film': 5, 'slapstick': 4, 'hughes': 4, 'puppies': 4, 'dalmatians': 4, 'daniels': 4, 'close': 4, 'disney': 3, 'animated': 3, ...}), FreqDist({'film': 13, 'soldier': 11, 'luc': 11, 'universal': 7, 'action': 7, 'van': 6, 'damme': 6, 'battle': 4, 'group': 4, 'model': 4, ...}), FreqDist({'christmas': 6, 'cross': 6, 'minutes': 5, 'film': 5, 'scrooged': 4, 'effects': 4, 'also': 4, 'make': 4, 'look': 3, 'funny': 3, ...}), FreqDist({'film': 24, 'show': 10, 'world': 9, 'really': 9, 'one': 9, 'scene': 8, 'teen': 8, 'everything': 8, 'kind': 8, 'bad': 8, ...}), FreqDist({'queen': 8, 'leader': 7, 'dutch': 6, 'movie': 6, 'lucky': 5, 'harlem': 4, 'families': 4, 'bumpy': 4, 'war': 3, 'lottery': 3, ...}), FreqDist({'movie': 7, 'even': 5, 'anything': 4, 'time': 4, 'highlander': 4, 'present': 4, 'film': 4, 'series': 4, 'one': 4, 'know': 3, ...}), FreqDist({'bats': 18, 'movie': 7, 'could': 5, 'something': 4, 'like': 4, 'film': 4, 'fun': 3, 'big': 3, 'scientist': 3, 'even': 3, ...}), FreqDist({'movie': 7, 'even': 4, 'one': 3, 'good': 3, 'scene': 3, 'raiders': 2, 'lost': 2, 'ark': 2, 'jackie': 2, 'phantom': 2, ...}), FreqDist({'pig': 15, 'babe': 9, 'original': 6, 'story': 5, 'even': 4, 'film': 4, 'must': 4, 'scenes': 4, 'money': 3, 'fairy': 3, ...}), FreqDist({'film': 5, 'like': 5, 'cast': 3, 'galaxy': 3, 'quest': 3, 'bad': 3, 'least': 3, 'creatures': 2, 'story': 2, 'begins': 2, ...}), FreqDist({'buster': 10, 'cisco': 9, 'melvin': 7, 'partner': 4, 'trace': 4, 'hong': 3, 'kong': 3, 'movies': 3, 'sequence': 3, 'characters': 3, ...}), FreqDist({'movie': 11, 'virus': 7, 'monster': 6, 'big': 4, 'boat': 3, 'one': 3, 'blah': 3, 'would': 3, 'better': 2, 'russian': 2, ...}), FreqDist({'movie': 4, 'part': 4, 'shane': 4, 'new': 3, 'enough': 3, 'self': 2, 'era': 2, 'well': 2, 'story': 2, 'york': 2, ...}), FreqDist({'wire': 6, 'barb': 5, 'anderson': 5, 'babe': 3, 'movie': 3, 'breasts': 3, 'one': 3, 'pamela': 2, 'lee': 2, 'call': 2, ...}), FreqDist({'eastwood': 11, 'clint': 7, 'power': 6, 'film': 6, 'one': 6, 'two': 5, 'men': 5, 'absolute': 4, 'like': 4, 'story': 4, ...}), FreqDist({'vampire': 9, 'like': 6, 'anime': 6, 'really': 6, 'hunter': 6, 'see': 5, 'blood': 5, 'gory': 4, 'vampires': 4, 'film': 3, ...}), FreqDist({'gadget': 8, 'movie': 6, 'inspector': 5, 'go': 4, 'john': 4, 'one': 4, 'slug': 4, 'features': 3, 'action': 3, 'make': 3, ...}), FreqDist({'movie': 7, 'phil': 5, 'like': 5, 'meet': 5, 'deedles': 4, 'film': 4, 'stunts': 4, 'deedle': 3, 'bad': 3, 'boyum': 3, ...}), FreqDist({'film': 15, 'one': 7, 'freeze': 7, 'batman': 7, 'robin': 7, 'series': 6, 'set': 6, 'mr': 5, 'scenes': 5, 'schumacher': 4, ...}), FreqDist({'movie': 8, 'robin': 5, 'mel': 5, 'brooks': 5, 'dialogue': 5, 'none': 4, 'could': 4, 'scenes': 4, 'man': 4, 'richard': 4, ...}), FreqDist({'sphere': 9, 'film': 7, 'crichton': 5, 'movie': 5, 'hoffman': 4, 'squid': 4, 'seems': 3, 'levison': 3, 'dull': 3, 'budget': 3, ...}), FreqDist({'bullock': 5, 'summer': 3, 'way': 3, 'time': 3, 'first': 3, 'computer': 3, 'less': 3, 'boat': 3, 'patric': 3, 'high': 2, ...}), FreqDist({'project': 7, 'movie': 6, 'keanu': 6, 'reeves': 5, 'really': 5, 'morgan': 4, 'fugitive': 4, 'much': 4, 'get': 4, 'time': 4, ...}), FreqDist({'scream': 19, 'ghostface': 7, 'craven': 5, 'film': 4, 'sidney': 4, 'cotton': 3, 'weary': 3, 'next': 3, 'movie': 3, 'stab': 3, ...}), FreqDist({'nielsen': 5, 'wrongfully': 5, 'accused': 5, 'movie': 4, 'one': 4, 'proft': 4, 'gun': 3, 'however': 3, 'harrison': 3, 'like': 3, ...}), FreqDist({'film': 4, 'premise': 2, 'final': 2, 'destination': 2, 'alex': 2, 'friends': 2, 'fate': 2, 'clever': 2, 'slasher': 2, 'flick': 2, ...}), FreqDist({'anaconda': 6, 'movie': 6, 'guy': 6, 'one': 5, 'snakes': 5, 'even': 4, 'worth': 4, 'friend': 4, 'snake': 4, 'would': 4, ...}), FreqDist({'fight': 7, 'club': 7, 'film': 6, 'films': 4, 'world': 4, 'much': 3, 'truly': 3, 'make': 3, 'game': 3, 'tyler': 3, ...}), FreqDist({'tonya': 5, 'harding': 5, 'film': 5, 'salaries': 2, 'actors': 2, 'many': 2, 'main': 2, 'movie': 2, 'quite': 2, 'films': 2, ...}), FreqDist({'krippendorf': 10, 'tribe': 8, 'dreyfuss': 4, 'like': 4, 'level': 3, 'professor': 3, 'college': 3, 'much': 3, 'quality': 2, 'everyone': 2, ...}), FreqDist({'elfont': 5, 'kaplan': 5, 'hardly': 4, 'wait': 4, 'teenagers': 3, 'characters': 3, 'funny': 3, 'movies': 2, 'teenage': 2, 'one': 2, ...}), FreqDist({'boorman': 12, 'zardoz': 10, 'movie': 8, 'one': 7, 'like': 7, 'film': 6, 'made': 5, 'connery': 4, 'people': 4, 'immortals': 4, ...}), FreqDist({'kids': 6, 'show': 3, 'big': 3, 'film': 3, 'comedy': 3, 'tv': 3, 'make': 3, 'drug': 3, 'one': 3, 'hall': 2, ...}), FreqDist({'one': 6, 'guys': 5, 'roxbury': 5, 'film': 5, 'characters': 4, 'bob': 3, 'heads': 3, 'love': 3, 'sketch': 3, 'would': 3, ...}), FreqDist({'movie': 10, 'macdonald': 7, 'one': 6, 'characters': 6, 'norm': 6, 'jokes': 6, 'like': 5, 'mitch': 5, 'sam': 4, 'critic': 3, ...}), FreqDist({'like': 7, 'film': 5, 'studio': 4, 'rubell': 4, 'seems': 3, 'phillippe': 3, 'new': 3, 'performance': 3, 'half': 3, 'would': 2, ...}), FreqDist({'movie': 9, 'given': 8, 'city': 7, 'noir': 6, 'plot': 6, 'dark': 5, 'go': 4, 'get': 4, 'sewell': 4, 'man': 4, ...}), FreqDist({'diedre': 12, 'david': 10, 'movie': 10, 'ex': 9, 'time': 7, 'molly': 6, 'like': 6, 'wife': 5, 'though': 5, 'son': 4, ...}), FreqDist({'snake': 16, 'film': 7, 'anaconda': 7, 'characters': 6, 'movie': 5, 'crew': 4, 'cale': 4, 'sarone': 4, 'get': 4, 'everyone': 4, ...}), FreqDist({'film': 7, 'anaconda': 6, 'movie': 5, 'stoltz': 5, 'crew': 5, 'snake': 4, 'one': 4, 'voight': 4, 'documentary': 3, 'lopez': 3, ...}), FreqDist({'robbie': 5, 'wedding': 3, 'singer': 3, 'julia': 3, 'idol': 3, 'nostalgia': 2, 'make': 2, 'seems': 2, 'funny': 2, 'adam': 2, ...}), FreqDist({'movie': 17, 'vacation': 15, 'vegas': 10, 'first': 7, 'would': 7, 'like': 7, 'series': 7, 'two': 6, 'national': 5, 'lampoon': 5, ...}))\n",
            "('pos', 'pos', 'pos', 'pos', 'pos', 'pos', 'pos', 'pos', 'pos', 'pos', 'pos', 'pos', 'pos', 'pos', 'pos', 'pos', 'pos', 'pos', 'pos', 'pos', 'pos', 'pos', 'pos', 'pos', 'pos', 'pos', 'pos', 'pos', 'pos', 'pos', 'pos', 'pos', 'pos', 'pos', 'pos', 'pos', 'pos', 'pos', 'pos', 'pos', 'pos', 'pos', 'pos', 'pos', 'pos', 'pos', 'pos', 'pos', 'pos', 'pos', 'pos', 'pos', 'pos', 'pos', 'pos', 'pos', 'pos', 'pos', 'pos', 'pos', 'pos', 'pos', 'pos', 'pos', 'pos', 'pos', 'pos', 'pos', 'pos', 'pos', 'pos', 'pos', 'pos', 'pos', 'pos', 'pos', 'pos', 'pos', 'pos', 'pos', 'pos', 'pos', 'pos', 'pos', 'pos', 'pos', 'pos', 'pos', 'pos', 'pos', 'pos', 'pos', 'pos', 'pos', 'pos', 'pos', 'pos', 'pos', 'pos', 'pos', 'pos', 'pos', 'pos', 'pos', 'pos', 'pos', 'pos', 'pos', 'pos', 'pos', 'pos', 'pos', 'pos', 'pos', 'pos', 'pos', 'pos', 'pos', 'pos', 'pos', 'pos', 'pos', 'pos', 'pos', 'pos', 'pos', 'pos', 'pos', 'pos', 'pos', 'pos', 'pos', 'pos', 'pos', 'pos', 'pos', 'pos', 'pos', 'pos', 'pos', 'pos', 'pos', 'pos', 'pos', 'pos', 'pos', 'pos', 'pos', 'pos', 'pos', 'pos', 'pos', 'pos', 'pos', 'pos', 'pos', 'pos', 'pos', 'pos', 'pos', 'pos', 'pos', 'pos', 'pos', 'pos', 'pos', 'pos', 'pos', 'pos', 'pos', 'pos', 'pos', 'pos', 'pos', 'pos', 'pos', 'pos', 'pos', 'pos', 'pos', 'pos', 'pos', 'pos', 'pos', 'pos', 'pos', 'pos', 'pos', 'pos', 'pos', 'pos', 'pos', 'pos', 'pos', 'pos', 'pos', 'pos', 'pos', 'pos', 'pos', 'pos', 'pos', 'pos', 'pos', 'pos', 'pos', 'pos', 'pos', 'pos', 'pos', 'pos', 'pos', 'pos', 'pos', 'pos', 'pos', 'pos', 'pos', 'pos', 'pos', 'pos', 'pos', 'pos', 'pos', 'pos', 'pos', 'pos', 'pos', 'pos', 'pos', 'pos', 'pos', 'pos', 'pos', 'pos', 'pos', 'pos', 'pos', 'pos', 'pos', 'pos', 'pos', 'pos', 'pos', 'pos', 'pos', 'pos', 'pos', 'pos', 'pos', 'pos', 'pos', 'pos', 'pos', 'pos', 'pos', 'pos', 'pos', 'pos', 'pos', 'pos', 'pos', 'pos', 'pos', 'pos', 'pos', 'pos', 'pos', 'pos', 'pos', 'pos', 'pos', 'pos', 'pos', 'pos', 'pos', 'pos', 'pos', 'pos', 'pos', 'pos', 'pos', 'pos', 'pos', 'pos', 'pos', 'pos', 'pos', 'pos', 'pos', 'pos', 'pos', 'pos', 'pos', 'pos', 'pos', 'pos', 'pos', 'pos', 'pos', 'neg', 'neg', 'neg', 'neg', 'neg', 'neg', 'neg', 'neg', 'neg', 'neg', 'neg', 'neg', 'neg', 'neg', 'neg', 'neg', 'neg', 'neg', 'neg', 'neg', 'neg', 'neg', 'neg', 'neg', 'neg', 'neg', 'neg', 'neg', 'neg', 'neg', 'neg', 'neg', 'neg', 'neg', 'neg', 'neg', 'neg', 'neg', 'neg', 'neg', 'neg', 'neg', 'neg', 'neg', 'neg', 'neg', 'neg', 'neg', 'neg', 'neg', 'neg', 'neg', 'neg', 'neg', 'neg', 'neg', 'neg', 'neg', 'neg', 'neg', 'neg', 'neg', 'neg', 'neg', 'neg', 'neg', 'neg', 'neg', 'neg', 'neg', 'neg', 'neg', 'neg', 'neg', 'neg', 'neg', 'neg', 'neg', 'neg', 'neg', 'neg', 'neg', 'neg', 'neg', 'neg', 'neg', 'neg', 'neg', 'neg', 'neg', 'neg', 'neg', 'neg', 'neg', 'neg', 'neg', 'neg', 'neg', 'neg', 'neg', 'neg', 'neg', 'neg', 'neg', 'neg', 'neg', 'neg', 'neg', 'neg', 'neg', 'neg', 'neg', 'neg', 'neg', 'neg', 'neg', 'neg', 'neg', 'neg', 'neg', 'neg', 'neg', 'neg', 'neg', 'neg', 'neg', 'neg', 'neg', 'neg', 'neg', 'neg', 'neg', 'neg', 'neg', 'neg', 'neg', 'neg', 'neg', 'neg', 'neg', 'neg', 'neg', 'neg', 'neg', 'neg', 'neg', 'neg', 'neg', 'neg', 'neg', 'neg', 'neg', 'neg', 'neg', 'neg', 'neg', 'neg', 'neg', 'neg', 'neg', 'neg', 'neg', 'neg', 'neg', 'neg', 'neg', 'neg', 'neg', 'neg', 'neg', 'neg', 'neg', 'neg', 'neg', 'neg', 'neg', 'neg', 'neg', 'neg', 'neg', 'neg', 'neg', 'neg', 'neg', 'neg', 'neg', 'neg', 'neg', 'neg', 'neg', 'neg', 'neg', 'neg', 'neg', 'neg', 'neg', 'neg', 'neg', 'neg', 'neg', 'neg', 'neg', 'neg', 'neg', 'neg', 'neg', 'neg', 'neg', 'neg', 'neg', 'neg', 'neg', 'neg', 'neg', 'neg', 'neg', 'neg', 'neg', 'neg', 'neg', 'neg', 'neg', 'neg', 'neg', 'neg', 'neg', 'neg', 'neg', 'neg', 'neg', 'neg', 'neg', 'neg', 'neg', 'neg', 'neg', 'neg', 'neg', 'neg', 'neg', 'neg', 'neg', 'neg', 'neg', 'neg', 'neg', 'neg', 'neg', 'neg', 'neg', 'neg', 'neg', 'neg', 'neg', 'neg', 'neg', 'neg', 'neg', 'neg', 'neg', 'neg', 'neg', 'neg', 'neg', 'neg', 'neg', 'neg', 'neg', 'neg', 'neg', 'neg', 'neg', 'neg', 'neg', 'neg', 'neg', 'neg', 'neg', 'neg', 'neg', 'neg', 'neg', 'neg', 'neg', 'neg', 'neg', 'neg', 'neg', 'neg', 'neg', 'neg', 'neg', 'neg', 'neg', 'neg', 'neg', 'neg', 'neg', 'neg', 'neg')\n"
          ]
        }
      ],
      "source": [
        "docs,actual_labels=zip(*testing_normalized)\n",
        "print(docs)\n",
        "print(actual_labels)"
      ]
    },
    {
      "cell_type": "code",
      "execution_count": null,
      "metadata": {
        "id": "VbYwwhcs2XUL",
        "colab": {
          "base_uri": "https://localhost:8080/"
        },
        "outputId": "cc46a9f0-a45f-4321-813e-9f080ad31850"
      },
      "outputs": [
        {
          "output_type": "stream",
          "name": "stdout",
          "text": [
            "<__main__.Word_list_cf object at 0x7f5f3d59ced0>\n",
            "True Positive are:  176\n",
            "False Positive are:  185\n",
            "True Negative are:  115\n",
            "False Negative are:  124\n",
            "Accuracy of classifier is  0.485\n",
            "Precision of classifier is  0.4875\n",
            "Recall of classifier is  0.5867\n",
            "F1 Score of classifier is  0.5325\n"
          ]
        }
      ],
      "source": [
        "movie_review_classifier= Word_list_cf(wordlist_pos_reviews,wordlist_neg_reviews)\n",
        "print(movie_review_classifier)\n",
        "movie_review_classifier.train(training_normalized)\n",
        "\n",
        "confusion_matrix=CalculateConfusionMatrix(movie_review_classifier.classify_many(docs),actual_labels)\n",
        "\n",
        "print(\"True Positive are: \",confusion_matrix.true_positive)\n",
        "print(\"False Positive are: \",confusion_matrix.false_positive)\n",
        "print(\"True Negative are: \",confusion_matrix.true_negative)\n",
        "print(\"False Negative are: \",confusion_matrix.false_negative)\n",
        "\n",
        "print(\"Accuracy of classifier is \",confusion_matrix.calculate_accuracy())\n",
        "print(\"Precision of classifier is \",confusion_matrix.calculate_precision())\n",
        "print(\"Recall of classifier is \",confusion_matrix.calculate_recall())\n",
        "print(\"F1 Score of classifier is \",confusion_matrix.calculate_f1())"
      ]
    },
    {
      "cell_type": "markdown",
      "source": [
        "## **3)b)**"
      ],
      "metadata": {
        "id": "LS_U3rdGAs_l"
      }
    },
    {
      "cell_type": "markdown",
      "source": [
        "**Explanation:**\n",
        "\n",
        "We first normalise the data by using case normalization and removing stopwords by using function normalise_and_remove_stopwords. We might not always need to distinguish words in uper and lower case. Also, this will unnecessarily increase the size of our word list in each document and frequency for that will be distributed in uper and lower case words, although it is a same word.\n",
        "\n",
        "We have stored normalized training data in training_normalized and normalized test data in testing_normalized which has all the documents in word, frequency from with the tagged label. With the help of zip(*iterable) we assign testing documents in docs and labels in actual_labels.\n",
        "\n",
        "In the Class CalculateConfusionMatrix we pass predictions from our movie_review_classifier in the CalculateConfusionMatrix along with the actual_labels we then create different methods for Accuracy, Precision, Recall, F1 Score which we calculate on the basis of the below given formulas.\n",
        "\n",
        "\n",
        "We want to always maximize True Positives and True Negatives and minimize False Positives and False Negatives.\n",
        "\n",
        "---\n",
        "**True Positives (TP)** - These are the correctly predicted positive values which means that the value of actual class is true and the value of predicted class is also true.\n",
        "\n",
        "E.g. if actual class value indicates that this passenger survived and predicted class tells you the same thing.\n",
        "\n",
        "**True Negatives (TN)** - These are the correctly predicted negative values which means that the value of actual class is false and value of predicted class is also false.\n",
        "\n",
        "E.g. if actual class says this passenger did not survive and predicted class tells you the same thing.\n",
        "\n",
        "False positives and false negatives, these values occur when your actual class contradicts with the predicted class.\n",
        "\n",
        "**False Positives (FP)** – When actual class is false and predicted class is true.\n",
        "\n",
        "E.g. if actual class says this passenger did not survive but predicted class tells you that this passenger will survive.\n",
        "\n",
        "**False Negatives (FN) ** – When actual class is true but predicted class is false.\n",
        "\n",
        " E.g. if actual class value indicates that this passenger survived and predicted class tells you that passenger will die.\n",
        "\n",
        "---\n",
        "\n",
        "### **Accuracy**\n",
        "\n",
        "1.    Accuracy is a  ratio of correctly predicted observation to the total observations.\n",
        "2.    Formula for accuracy is as follows:\n",
        "\n",
        "              Accuracy=(True Positives + True Negatives) / (True Positives + True Negatives + False Positives + False Negatives)\n",
        "3.   It is great measure but only when we have symmetric datasets where values of false positive and false negatives are almost equal in size.\n",
        "4. Example: in case we get accuracy=0.95 . It means that our model has 95% accuracy approximately.\n",
        "Example: If there are 50 % girls and 50% boys in the class and we want to classify the pass and fail for whole class. In this case, we can use accuracy.\n",
        "5. Accuracy is useful when the target class is well balanced but is not a good choice with unbalanced classes.\n",
        "\n",
        "---\n",
        "### **Precision**\n",
        "\n",
        "1. Precision is the ratio of correctly predicted positive observations to the total predicted positive observations.\n",
        "2. Formula for precision is as follows: True Positive/Actual Results\n",
        "\n",
        "        Precision = True Positives /(True Positives + False Positives)\n",
        "\n",
        "(Denominator in precision denotes Total Predicted Positive)\n",
        "3. By using precision, we can measure the model's ability to classify the positive samples.In Precision, all positive samples that are classified as positive should be considered either correctly or incorrectly.\n",
        "4. The question precision answers is that take the question that this metric answer is of all passengers that labeled as survived, how many actually survived? High precision relates to the low false positive rate. We have got 0.788 precision which is pretty good.\n",
        "5. Another example could be If we want to classify good and bad content videos for childrens, We'll be fine if the model rejects some of the good videos, but it will be not okay for us if model shows bad videos.\n",
        "So, in this case we need high precision.That means accuracy is not the correct metrics to be chosen for this scenario.\n",
        "---\n",
        "\n",
        "### **Recall**\n",
        "\n",
        "1. Recall is the ratio of correctly predicted positive observations to the all observations in actual class . It is also called as **Sensitivity**.\n",
        "2. Formula for Recall  is as follows: True Positive/Predicted Results\n",
        "\n",
        "        Recall= True Positives/(True Positives + False Negatives )\n",
        "\n",
        "(Denominator denotes Total Actual Positive)\n",
        "3. This metric helps us to determine how many positive samples has been correctly classified.It cares about accurately classifying all positive samples. It doesn't care if any negative samples are classified as positive.\n",
        "4. The question recall answers is that Of all the passengers that truly survived, how many did we label? We have got recall of 0.631 which is good for this model as it’s above 0.5.\n",
        "\n",
        "---\n",
        "### **F1 Score**\n",
        "\n",
        "1. It is a harmonic mean between precision and recall. It tries out to balance these two performance metrics.\n",
        "2. Formula for F1 Score is as follows:\n",
        "\n",
        "            F1=(2*precison*recall)/(precision+recall)\n",
        "3. F1 Score is the weighted average of Precision and Recall. Therefore, this score takes both false positives and false negatives into account. Intuitively it is not as easy to understand as accuracy, but F1 is usually more useful than accuracy, especially if you have an uneven class distribution.\n",
        "\n",
        "\n",
        "\n",
        "\n",
        "Note: There is always a trade-off between precision and recall.\n",
        "\n",
        "\n",
        "**Or performance metrics should be chosen according to what problem we are trying to solve or what is our use case.**"
      ],
      "metadata": {
        "id": "24OWARN8Awli"
      }
    },
    {
      "cell_type": "markdown",
      "metadata": {
        "id": "LIS9UpmJNEAp"
      },
      "source": [
        "4)\n",
        "a)  **Construct** a Naive Bayes classifier (e.g., from NLTK).\n",
        "\n",
        "b)  **Compare** the performance of your word list classifier with the Naive Bayes classifier.  **Discuss** your results."
      ]
    },
    {
      "cell_type": "markdown",
      "source": [
        "# **4)a)**"
      ],
      "metadata": {
        "id": "wSTldJCroYzY"
      }
    },
    {
      "cell_type": "code",
      "execution_count": null,
      "metadata": {
        "id": "Gwjig-Y12XUN"
      },
      "outputs": [],
      "source": [
        "from nltk.classify import NaiveBayesClassifier\n",
        "\n",
        "nltk_naivebayes_cf=NaiveBayesClassifier.train(training_normalized)"
      ]
    },
    {
      "cell_type": "code",
      "execution_count": null,
      "metadata": {
        "id": "3AUsYRMa2XUN",
        "colab": {
          "base_uri": "https://localhost:8080/"
        },
        "outputId": "577ae123-d192-4f6f-a6df-d1305426a813"
      },
      "outputs": [
        {
          "output_type": "execute_result",
          "data": {
            "text/plain": [
              "['pos',\n",
              " 'pos',\n",
              " 'pos',\n",
              " 'pos',\n",
              " 'pos',\n",
              " 'pos',\n",
              " 'pos',\n",
              " 'pos',\n",
              " 'pos',\n",
              " 'pos',\n",
              " 'pos',\n",
              " 'pos',\n",
              " 'pos',\n",
              " 'pos',\n",
              " 'pos',\n",
              " 'pos',\n",
              " 'pos',\n",
              " 'pos',\n",
              " 'neg',\n",
              " 'pos',\n",
              " 'pos',\n",
              " 'pos',\n",
              " 'pos',\n",
              " 'pos',\n",
              " 'pos',\n",
              " 'pos',\n",
              " 'pos',\n",
              " 'pos',\n",
              " 'pos',\n",
              " 'pos',\n",
              " 'pos',\n",
              " 'pos',\n",
              " 'pos',\n",
              " 'pos',\n",
              " 'pos',\n",
              " 'pos',\n",
              " 'pos',\n",
              " 'pos',\n",
              " 'pos',\n",
              " 'pos',\n",
              " 'pos',\n",
              " 'pos',\n",
              " 'pos',\n",
              " 'pos',\n",
              " 'pos',\n",
              " 'pos',\n",
              " 'pos',\n",
              " 'pos',\n",
              " 'pos',\n",
              " 'pos',\n",
              " 'pos',\n",
              " 'pos',\n",
              " 'pos',\n",
              " 'pos',\n",
              " 'pos',\n",
              " 'pos',\n",
              " 'pos',\n",
              " 'pos',\n",
              " 'pos',\n",
              " 'pos',\n",
              " 'pos',\n",
              " 'pos',\n",
              " 'pos',\n",
              " 'pos',\n",
              " 'pos',\n",
              " 'pos',\n",
              " 'pos',\n",
              " 'pos',\n",
              " 'pos',\n",
              " 'pos',\n",
              " 'pos',\n",
              " 'pos',\n",
              " 'pos',\n",
              " 'pos',\n",
              " 'pos',\n",
              " 'pos',\n",
              " 'pos',\n",
              " 'pos',\n",
              " 'pos',\n",
              " 'pos',\n",
              " 'pos',\n",
              " 'pos',\n",
              " 'pos',\n",
              " 'pos',\n",
              " 'pos',\n",
              " 'pos',\n",
              " 'pos',\n",
              " 'pos',\n",
              " 'pos',\n",
              " 'pos',\n",
              " 'pos',\n",
              " 'pos',\n",
              " 'pos',\n",
              " 'pos',\n",
              " 'pos',\n",
              " 'pos',\n",
              " 'pos',\n",
              " 'pos',\n",
              " 'pos',\n",
              " 'pos',\n",
              " 'pos',\n",
              " 'pos',\n",
              " 'pos',\n",
              " 'pos',\n",
              " 'pos',\n",
              " 'pos',\n",
              " 'pos',\n",
              " 'pos',\n",
              " 'pos',\n",
              " 'pos',\n",
              " 'pos',\n",
              " 'pos',\n",
              " 'pos',\n",
              " 'pos',\n",
              " 'pos',\n",
              " 'pos',\n",
              " 'pos',\n",
              " 'pos',\n",
              " 'pos',\n",
              " 'pos',\n",
              " 'pos',\n",
              " 'pos',\n",
              " 'pos',\n",
              " 'pos',\n",
              " 'pos',\n",
              " 'pos',\n",
              " 'pos',\n",
              " 'pos',\n",
              " 'pos',\n",
              " 'pos',\n",
              " 'pos',\n",
              " 'pos',\n",
              " 'pos',\n",
              " 'pos',\n",
              " 'pos',\n",
              " 'pos',\n",
              " 'pos',\n",
              " 'pos',\n",
              " 'pos',\n",
              " 'pos',\n",
              " 'pos',\n",
              " 'pos',\n",
              " 'pos',\n",
              " 'pos',\n",
              " 'pos',\n",
              " 'pos',\n",
              " 'pos',\n",
              " 'pos',\n",
              " 'pos',\n",
              " 'pos',\n",
              " 'pos',\n",
              " 'pos',\n",
              " 'pos',\n",
              " 'pos',\n",
              " 'pos',\n",
              " 'pos',\n",
              " 'pos',\n",
              " 'pos',\n",
              " 'pos',\n",
              " 'pos',\n",
              " 'pos',\n",
              " 'pos',\n",
              " 'pos',\n",
              " 'pos',\n",
              " 'pos',\n",
              " 'pos',\n",
              " 'pos',\n",
              " 'pos',\n",
              " 'pos',\n",
              " 'pos',\n",
              " 'pos',\n",
              " 'pos',\n",
              " 'pos',\n",
              " 'pos',\n",
              " 'pos',\n",
              " 'pos',\n",
              " 'pos',\n",
              " 'pos',\n",
              " 'pos',\n",
              " 'pos',\n",
              " 'pos',\n",
              " 'pos',\n",
              " 'pos',\n",
              " 'pos',\n",
              " 'pos',\n",
              " 'pos',\n",
              " 'pos',\n",
              " 'pos',\n",
              " 'pos',\n",
              " 'pos',\n",
              " 'pos',\n",
              " 'pos',\n",
              " 'pos',\n",
              " 'pos',\n",
              " 'pos',\n",
              " 'pos',\n",
              " 'pos',\n",
              " 'pos',\n",
              " 'pos',\n",
              " 'pos',\n",
              " 'pos',\n",
              " 'pos',\n",
              " 'pos',\n",
              " 'pos',\n",
              " 'pos',\n",
              " 'pos',\n",
              " 'pos',\n",
              " 'pos',\n",
              " 'pos',\n",
              " 'pos',\n",
              " 'pos',\n",
              " 'pos',\n",
              " 'pos',\n",
              " 'pos',\n",
              " 'pos',\n",
              " 'pos',\n",
              " 'pos',\n",
              " 'pos',\n",
              " 'pos',\n",
              " 'pos',\n",
              " 'pos',\n",
              " 'pos',\n",
              " 'pos',\n",
              " 'pos',\n",
              " 'pos',\n",
              " 'pos',\n",
              " 'pos',\n",
              " 'pos',\n",
              " 'pos',\n",
              " 'pos',\n",
              " 'pos',\n",
              " 'pos',\n",
              " 'pos',\n",
              " 'pos',\n",
              " 'pos',\n",
              " 'pos',\n",
              " 'pos',\n",
              " 'pos',\n",
              " 'pos',\n",
              " 'pos',\n",
              " 'pos',\n",
              " 'pos',\n",
              " 'pos',\n",
              " 'pos',\n",
              " 'pos',\n",
              " 'pos',\n",
              " 'pos',\n",
              " 'pos',\n",
              " 'pos',\n",
              " 'pos',\n",
              " 'pos',\n",
              " 'pos',\n",
              " 'pos',\n",
              " 'pos',\n",
              " 'pos',\n",
              " 'pos',\n",
              " 'pos',\n",
              " 'pos',\n",
              " 'pos',\n",
              " 'pos',\n",
              " 'pos',\n",
              " 'pos',\n",
              " 'pos',\n",
              " 'pos',\n",
              " 'pos',\n",
              " 'pos',\n",
              " 'pos',\n",
              " 'pos',\n",
              " 'pos',\n",
              " 'neg',\n",
              " 'pos',\n",
              " 'pos',\n",
              " 'pos',\n",
              " 'pos',\n",
              " 'pos',\n",
              " 'pos',\n",
              " 'pos',\n",
              " 'pos',\n",
              " 'pos',\n",
              " 'pos',\n",
              " 'pos',\n",
              " 'pos',\n",
              " 'pos',\n",
              " 'pos',\n",
              " 'pos',\n",
              " 'pos',\n",
              " 'pos',\n",
              " 'pos',\n",
              " 'pos',\n",
              " 'pos',\n",
              " 'pos',\n",
              " 'pos',\n",
              " 'pos',\n",
              " 'pos',\n",
              " 'pos',\n",
              " 'pos',\n",
              " 'pos',\n",
              " 'pos',\n",
              " 'pos',\n",
              " 'pos',\n",
              " 'pos',\n",
              " 'neg',\n",
              " 'pos',\n",
              " 'pos',\n",
              " 'neg',\n",
              " 'pos',\n",
              " 'neg',\n",
              " 'neg',\n",
              " 'neg',\n",
              " 'pos',\n",
              " 'pos',\n",
              " 'neg',\n",
              " 'pos',\n",
              " 'pos',\n",
              " 'neg',\n",
              " 'pos',\n",
              " 'pos',\n",
              " 'pos',\n",
              " 'neg',\n",
              " 'pos',\n",
              " 'pos',\n",
              " 'pos',\n",
              " 'neg',\n",
              " 'neg',\n",
              " 'pos',\n",
              " 'pos',\n",
              " 'pos',\n",
              " 'pos',\n",
              " 'pos',\n",
              " 'neg',\n",
              " 'pos',\n",
              " 'pos',\n",
              " 'pos',\n",
              " 'neg',\n",
              " 'pos',\n",
              " 'neg',\n",
              " 'pos',\n",
              " 'neg',\n",
              " 'neg',\n",
              " 'pos',\n",
              " 'pos',\n",
              " 'neg',\n",
              " 'pos',\n",
              " 'pos',\n",
              " 'neg',\n",
              " 'pos',\n",
              " 'neg',\n",
              " 'pos',\n",
              " 'pos',\n",
              " 'pos',\n",
              " 'pos',\n",
              " 'pos',\n",
              " 'neg',\n",
              " 'pos',\n",
              " 'pos',\n",
              " 'neg',\n",
              " 'pos',\n",
              " 'neg',\n",
              " 'neg',\n",
              " 'pos',\n",
              " 'pos',\n",
              " 'neg',\n",
              " 'pos',\n",
              " 'neg',\n",
              " 'pos',\n",
              " 'pos',\n",
              " 'pos',\n",
              " 'pos',\n",
              " 'neg',\n",
              " 'pos',\n",
              " 'pos',\n",
              " 'neg',\n",
              " 'neg',\n",
              " 'pos',\n",
              " 'pos',\n",
              " 'pos',\n",
              " 'pos',\n",
              " 'pos',\n",
              " 'pos',\n",
              " 'pos',\n",
              " 'pos',\n",
              " 'neg',\n",
              " 'pos',\n",
              " 'neg',\n",
              " 'neg',\n",
              " 'pos',\n",
              " 'pos',\n",
              " 'neg',\n",
              " 'pos',\n",
              " 'neg',\n",
              " 'neg',\n",
              " 'pos',\n",
              " 'pos',\n",
              " 'neg',\n",
              " 'pos',\n",
              " 'neg',\n",
              " 'neg',\n",
              " 'pos',\n",
              " 'neg',\n",
              " 'pos',\n",
              " 'pos',\n",
              " 'neg',\n",
              " 'neg',\n",
              " 'pos',\n",
              " 'pos',\n",
              " 'pos',\n",
              " 'pos',\n",
              " 'neg',\n",
              " 'neg',\n",
              " 'pos',\n",
              " 'pos',\n",
              " 'pos',\n",
              " 'pos',\n",
              " 'pos',\n",
              " 'neg',\n",
              " 'pos',\n",
              " 'pos',\n",
              " 'pos',\n",
              " 'pos',\n",
              " 'pos',\n",
              " 'neg',\n",
              " 'pos',\n",
              " 'pos',\n",
              " 'pos',\n",
              " 'pos',\n",
              " 'pos',\n",
              " 'pos',\n",
              " 'pos',\n",
              " 'pos',\n",
              " 'neg',\n",
              " 'pos',\n",
              " 'pos',\n",
              " 'pos',\n",
              " 'neg',\n",
              " 'pos',\n",
              " 'pos',\n",
              " 'pos',\n",
              " 'neg',\n",
              " 'pos',\n",
              " 'pos',\n",
              " 'pos',\n",
              " 'pos',\n",
              " 'pos',\n",
              " 'pos',\n",
              " 'neg',\n",
              " 'pos',\n",
              " 'neg',\n",
              " 'pos',\n",
              " 'neg',\n",
              " 'neg',\n",
              " 'pos',\n",
              " 'pos',\n",
              " 'pos',\n",
              " 'pos',\n",
              " 'pos',\n",
              " 'neg',\n",
              " 'pos',\n",
              " 'pos',\n",
              " 'pos',\n",
              " 'pos',\n",
              " 'pos',\n",
              " 'neg',\n",
              " 'pos',\n",
              " 'pos',\n",
              " 'neg',\n",
              " 'neg',\n",
              " 'neg',\n",
              " 'neg',\n",
              " 'neg',\n",
              " 'pos',\n",
              " 'pos',\n",
              " 'pos',\n",
              " 'pos',\n",
              " 'neg',\n",
              " 'neg',\n",
              " 'pos',\n",
              " 'pos',\n",
              " 'pos',\n",
              " 'pos',\n",
              " 'pos',\n",
              " 'pos',\n",
              " 'pos',\n",
              " 'pos',\n",
              " 'pos',\n",
              " 'neg',\n",
              " 'pos',\n",
              " 'pos',\n",
              " 'neg',\n",
              " 'neg',\n",
              " 'neg',\n",
              " 'pos',\n",
              " 'neg',\n",
              " 'neg',\n",
              " 'pos',\n",
              " 'neg',\n",
              " 'pos',\n",
              " 'neg',\n",
              " 'pos',\n",
              " 'pos',\n",
              " 'neg',\n",
              " 'pos',\n",
              " 'pos',\n",
              " 'neg',\n",
              " 'neg',\n",
              " 'pos',\n",
              " 'pos',\n",
              " 'neg',\n",
              " 'neg',\n",
              " 'pos',\n",
              " 'pos',\n",
              " 'pos',\n",
              " 'neg',\n",
              " 'neg',\n",
              " 'pos',\n",
              " 'neg',\n",
              " 'pos',\n",
              " 'neg',\n",
              " 'pos',\n",
              " 'neg',\n",
              " 'pos',\n",
              " 'pos',\n",
              " 'neg',\n",
              " 'pos',\n",
              " 'pos',\n",
              " 'pos',\n",
              " 'pos',\n",
              " 'neg',\n",
              " 'neg',\n",
              " 'neg',\n",
              " 'pos',\n",
              " 'neg',\n",
              " 'pos',\n",
              " 'pos',\n",
              " 'neg',\n",
              " 'pos',\n",
              " 'pos',\n",
              " 'neg',\n",
              " 'neg',\n",
              " 'neg',\n",
              " 'neg',\n",
              " 'pos',\n",
              " 'pos',\n",
              " 'pos',\n",
              " 'neg',\n",
              " 'pos',\n",
              " 'pos',\n",
              " 'neg',\n",
              " 'pos',\n",
              " 'pos',\n",
              " 'neg',\n",
              " 'pos',\n",
              " 'neg',\n",
              " 'pos',\n",
              " 'neg',\n",
              " 'neg',\n",
              " 'pos',\n",
              " 'pos',\n",
              " 'neg',\n",
              " 'pos',\n",
              " 'neg',\n",
              " 'pos',\n",
              " 'pos',\n",
              " 'pos',\n",
              " 'neg',\n",
              " 'neg',\n",
              " 'neg',\n",
              " 'pos',\n",
              " 'pos',\n",
              " 'pos',\n",
              " 'neg',\n",
              " 'pos',\n",
              " 'pos',\n",
              " 'pos',\n",
              " 'pos',\n",
              " 'pos',\n",
              " 'pos',\n",
              " 'neg',\n",
              " 'neg',\n",
              " 'neg',\n",
              " 'pos',\n",
              " 'pos',\n",
              " 'pos',\n",
              " 'pos',\n",
              " 'pos',\n",
              " 'neg',\n",
              " 'pos',\n",
              " 'neg',\n",
              " 'pos',\n",
              " 'pos',\n",
              " 'pos',\n",
              " 'pos',\n",
              " 'neg',\n",
              " 'pos',\n",
              " 'neg',\n",
              " 'pos',\n",
              " 'pos',\n",
              " 'neg',\n",
              " 'neg',\n",
              " 'neg',\n",
              " 'pos']"
            ]
          },
          "metadata": {},
          "execution_count": 20
        }
      ],
      "source": [
        "nltk_naivebayes_cf.classify_many(docs)"
      ]
    },
    {
      "cell_type": "markdown",
      "source": [
        "Analyzing the performance of Naive Bayes Classifier with the help of CalculateConfusionMatrix class."
      ],
      "metadata": {
        "id": "cobfaJ4bp1Da"
      }
    },
    {
      "cell_type": "code",
      "source": [
        "confusion_matrix_nb=CalculateConfusionMatrix(nltk_naivebayes_cf.classify_many(docs),actual_labels,classes=('pos','neg'))\n",
        "\n",
        "print(\"True Positive in Naive Bayes are: \",confusion_matrix_nb.true_positive)\n",
        "print(\"False Positive in Naive Bayes are: \",confusion_matrix_nb.false_positive)\n",
        "print(\"True Negative in Naive Bayes are: \",confusion_matrix_nb.true_negative)\n",
        "print(\"False Negative in Naive Bayes are: \",confusion_matrix_nb.false_negative)\n",
        "\n",
        "print(\"Accuracy for Naive Bayes classifier is \",confusion_matrix_nb.calculate_accuracy())\n",
        "print(\"Precision for Naive Bayes classifier is \",confusion_matrix_nb.calculate_precision())\n",
        "print(\"Recall for Naive Bayes classifier is \",confusion_matrix_nb.calculate_recall())\n",
        "print(\"F1 Score for Naive Bayes classifier is \",confusion_matrix_nb.calculate_f1())"
      ],
      "metadata": {
        "colab": {
          "base_uri": "https://localhost:8080/"
        },
        "id": "K2UPXKY9mWMW",
        "outputId": "36ec59a0-9faf-4c85-a204-31bf6ea983d1"
      },
      "execution_count": null,
      "outputs": [
        {
          "output_type": "stream",
          "name": "stdout",
          "text": [
            "True Positive in Naive Bayes are:  298\n",
            "False Positive in Naive Bayes are:  191\n",
            "True Negative in Naive Bayes are:  109\n",
            "False Negative in Naive Bayes are:  2\n",
            "Accuracy for Naive Bayes classifier is  0.6783\n",
            "Precision for Naive Bayes classifier is  0.6094\n",
            "Recall for Naive Bayes classifier is  0.9933\n",
            "F1 Score for Naive Bayes classifier is  0.7554\n"
          ]
        }
      ]
    },
    {
      "cell_type": "markdown",
      "source": [
        "# **4)b)**"
      ],
      "metadata": {
        "id": "ZkjqrMw4ovBU"
      }
    },
    {
      "cell_type": "code",
      "source": [
        "wl_movie_review_classifier= Word_list_cf(wordlist_pos_reviews,wordlist_neg_reviews)\n",
        "wl_movie_review_classifier.train(training_normalized)\n",
        "\n",
        "confusion_matrix_wordlist=CalculateConfusionMatrix(wl_movie_review_classifier.classify_many(docs),actual_labels)\n",
        "\n",
        "print(\"True Positive in Word List Classifier are: \",confusion_matrix_wordlist.true_positive)\n",
        "print(\"False Positive in Word List Classifier are: \",confusion_matrix_wordlist.false_positive)\n",
        "print(\"True Negative in Word List Classifier are: \",confusion_matrix_wordlist.true_negative)\n",
        "print(\"False Negative in Word List Classifier are: \",confusion_matrix_wordlist.false_negative)\n",
        "\n",
        "print(\"Accuracy for Word List classifier is \",confusion_matrix_wordlist.calculate_accuracy())\n",
        "print(\"Precision for Word List classifier is \",confusion_matrix_wordlist.calculate_precision())\n",
        "print(\"Recall for Word List classifier is \",confusion_matrix_wordlist.calculate_recall())\n",
        "print(\"F1 Score for Word List classifier is \",confusion_matrix_wordlist.calculate_f1())"
      ],
      "metadata": {
        "colab": {
          "base_uri": "https://localhost:8080/"
        },
        "id": "i6vMEqpEoiTf",
        "outputId": "2e950c70-b2af-47ac-f55f-5886a9f800ba"
      },
      "execution_count": null,
      "outputs": [
        {
          "output_type": "stream",
          "name": "stdout",
          "text": [
            "True Positive in Word List Classifier are:  153\n",
            "False Positive in Word List Classifier are:  176\n",
            "True Negative in Word List Classifier are:  124\n",
            "False Negative in Word List Classifier are:  147\n",
            "Accuracy for Word List classifier is  0.4617\n",
            "Precision for Word List classifier is  0.465\n",
            "Recall for Word List classifier is  0.51\n",
            "F1 Score for Word List classifier is  0.4865\n"
          ]
        }
      ]
    },
    {
      "cell_type": "code",
      "source": [
        "nltk_naivebayes_cf.classify_many(docs)\n",
        "nltk_naivebayes_cf=NaiveBayesClassifier.train(training_normalized)"
      ],
      "metadata": {
        "id": "KMZaWc5Foq_m"
      },
      "execution_count": null,
      "outputs": []
    },
    {
      "cell_type": "code",
      "source": [
        "wl_movie_review_classifier= Word_list_cf(wordlist_pos_reviews,wordlist_neg_reviews)\n",
        "wl_movie_review_classifier.train(training_normalized)\n",
        "\n",
        "confusion_matrix_wordlist=CalculateConfusionMatrix(wl_movie_review_classifier.classify_many(docs),actual_labels)\n",
        "\n",
        "print(\"True Positive in Word List Classifier are: \",confusion_matrix_wordlist.true_positive)\n",
        "print(\"False Positive in Word List Classifier are: \",confusion_matrix_wordlist.false_positive)\n",
        "print(\"True Negative in Word List Classifier are: \",confusion_matrix_wordlist.true_negative)\n",
        "print(\"False Negative in Word List Classifier are: \",confusion_matrix_wordlist.false_negative)\n",
        "\n",
        "print(\"Accuracy for Word List classifier is \",confusion_matrix_wordlist.calculate_accuracy())\n",
        "print(\"Precision for Word List classifier is \",confusion_matrix_wordlist.calculate_precision())\n",
        "print(\"Recall for Word List classifier is \",confusion_matrix_wordlist.calculate_recall())\n",
        "print(\"F1 Score for Word List classifier is \",confusion_matrix_wordlist.calculate_f1())"
      ],
      "metadata": {
        "colab": {
          "base_uri": "https://localhost:8080/"
        },
        "id": "whYssTZsv35r",
        "outputId": "7eaaf042-89cb-45f9-9136-1ad4cad6415e"
      },
      "execution_count": null,
      "outputs": [
        {
          "output_type": "stream",
          "name": "stdout",
          "text": [
            "True Positive in Word List Classifier are:  167\n",
            "False Positive in Word List Classifier are:  170\n",
            "True Negative in Word List Classifier are:  130\n",
            "False Negative in Word List Classifier are:  133\n",
            "Accuracy for Word List classifier is  0.495\n",
            "Precision for Word List classifier is  0.4955\n",
            "Recall for Word List classifier is  0.5567\n",
            "F1 Score for Word List classifier is  0.5243\n"
          ]
        }
      ]
    },
    {
      "cell_type": "code",
      "source": [
        "word_list_size = 100\n",
        "\n",
        "classifiers={\"Word_List_Classifier\":Word_list_cf(wordlist_pos_reviews,wordlist_neg_reviews),\n",
        "             \"Naive_Bayes_Classifier\":NaiveBayesClassifier.train(training_normalized)}\n",
        "\n",
        "number_of_runs=5\n",
        "results_accuracy={}\n",
        "results_precision={}\n",
        "results_recall={}\n",
        "results_f1={}\n",
        "\n",
        "for key in classifiers.keys():\n",
        "    results_accuracy[key]=0\n",
        "    results_precision[key]=0\n",
        "    results_recall[key]=0\n",
        "    results_f1[key]=0\n",
        "\n",
        "for i in range(number_of_runs):\n",
        "    training,testing=get_train_test_data()\n",
        "    training_norm_data=[(FreqDist(normalise_and_remove_stopwords(wordlist)),label) for (wordlist,label) in training]\n",
        "    testing_norm_data=[(FreqDist(normalise_and_remove_stopwords(wordlist)),label) for (wordlist,label) in testing]\n",
        "    docs,labels=zip(*testing_norm_data)\n",
        "\n",
        "    for name,classifier in classifiers.items():\n",
        "        classifier.train(training_norm_data)\n",
        "\n",
        "        senti_confusionmatrix=CalculateConfusionMatrix(classifier.classify_many(docs),labels)\n",
        "\n",
        "        #Accuracy\n",
        "        print(\"The accuracy of {} classifier is {}\".format(name,senti_confusionmatrix.calculate_accuracy()))\n",
        "        results_accuracy[name]=results_accuracy[name]+(senti_confusionmatrix.calculate_accuracy()/number_of_runs)\n",
        "\n",
        "        #Precision\n",
        "        print(\"The precision of {} classifier is {}\".format(name,senti_confusionmatrix.calculate_precision()))\n",
        "        results_precision[name]=results_precision[name]+(senti_confusionmatrix.calculate_precision()/number_of_runs)\n",
        "\n",
        "        #Recall\n",
        "        print(\"The recall of {} classifier is {}\".format(name,senti_confusionmatrix.calculate_recall()))\n",
        "        results_recall[name]=results_recall[name]+(senti_confusionmatrix.calculate_recall()/number_of_runs)\n",
        "\n",
        "        #F1 Score\n",
        "        print(\"The F1 Score of {} classifier is {}\".format(name,senti_confusionmatrix.calculate_f1()))\n",
        "        results_f1[name]=results_f1[name]+(senti_confusionmatrix.calculate_f1()/number_of_runs)\n",
        "\n",
        "df_accuracy= pd.DataFrame(list(results_accuracy.items()))\n",
        "display(df_accuracy)\n",
        "print(\"Accuracy\")\n",
        "set_ax_1 = df_accuracy.plot.bar(title=\"Experimental Results\",legend=False,x=0)\n",
        "set_ax_1.set_ylabel(\"Classifier Accuracy\")\n",
        "set_ax_1.set_xlabel(\"Classifier\")\n",
        "set_ax_1.set_ylim(0,1.0)\n",
        "\n",
        "df_precision= pd.DataFrame(list(results_precision.items()))\n",
        "display(df_precision)\n",
        "print(\"Precision\")\n",
        "set_ax_2 = df_precision.plot.bar(title=\"Experimental Results\",legend=False,x=0)\n",
        "set_ax_2.set_ylabel(\"Classifier Precision\")\n",
        "set_ax_2.set_xlabel(\"Classifier\")\n",
        "set_ax_2.set_ylim(0,1.0)\n",
        "\n",
        "df_recall = pd.DataFrame(list(results_recall.items()))\n",
        "display(df_recall)\n",
        "print(\"Recall\")\n",
        "set_ax_3 = df_recall.plot.bar(title=\"Experimental Results\",legend=False,x=0)\n",
        "set_ax_3.set_ylabel(\"Classifier Recall\")\n",
        "set_ax_3.set_xlabel(\"Classifier\")\n",
        "set_ax_3.set_ylim(0,1.0)\n",
        "\n",
        "df_f1 = pd.DataFrame(list(results_f1.items()))\n",
        "display(df_f1)\n",
        "print(\"F1 Score\")\n",
        "set_ax_4 = df_f1.plot.bar(title=\"Experimental Results\",legend=False,x=0)\n",
        "set_ax_4.set_ylabel(\"Classifier F1\")\n",
        "set_ax_4.set_xlabel(\"Classifier\")\n",
        "set_ax_4.set_ylim(0,1.0)"
      ],
      "metadata": {
        "colab": {
          "base_uri": "https://localhost:8080/",
          "height": 1000
        },
        "id": "Fn2xjma-ncLZ",
        "outputId": "0c78948c-604c-403e-f6b0-84593936e0c0"
      },
      "execution_count": null,
      "outputs": [
        {
          "output_type": "stream",
          "name": "stdout",
          "text": [
            "The accuracy of Word_List_Classifier classifier is 0.4917\n",
            "The precision of Word_List_Classifier classifier is 0.4924\n",
            "The recall of Word_List_Classifier classifier is 0.5433\n",
            "The F1 Score of Word_List_Classifier classifier is 0.5166\n",
            "The accuracy of Naive_Bayes_Classifier classifier is 0.915\n",
            "The precision of Naive_Bayes_Classifier classifier is 0.8547\n",
            "The recall of Naive_Bayes_Classifier classifier is 1.0\n",
            "The F1 Score of Naive_Bayes_Classifier classifier is 0.9217\n",
            "The accuracy of Word_List_Classifier classifier is 0.5333\n",
            "The precision of Word_List_Classifier classifier is 0.5278\n",
            "The recall of Word_List_Classifier classifier is 0.6333\n",
            "The F1 Score of Word_List_Classifier classifier is 0.5758\n",
            "The accuracy of Naive_Bayes_Classifier classifier is 0.9017\n",
            "The precision of Naive_Bayes_Classifier classifier is 0.8394\n",
            "The recall of Naive_Bayes_Classifier classifier is 0.9933\n",
            "The F1 Score of Naive_Bayes_Classifier classifier is 0.9099\n",
            "The accuracy of Word_List_Classifier classifier is 0.52\n",
            "The precision of Word_List_Classifier classifier is 0.5179\n",
            "The recall of Word_List_Classifier classifier is 0.58\n",
            "The F1 Score of Word_List_Classifier classifier is 0.5472\n",
            "The accuracy of Naive_Bayes_Classifier classifier is 0.8817\n",
            "The precision of Naive_Bayes_Classifier classifier is 0.8103\n",
            "The recall of Naive_Bayes_Classifier classifier is 0.9967\n",
            "The F1 Score of Naive_Bayes_Classifier classifier is 0.8939\n",
            "The accuracy of Word_List_Classifier classifier is 0.4983\n",
            "The precision of Word_List_Classifier classifier is 0.4986\n",
            "The recall of Word_List_Classifier classifier is 0.5867\n",
            "The F1 Score of Word_List_Classifier classifier is 0.5391\n",
            "The accuracy of Naive_Bayes_Classifier classifier is 0.8967\n",
            "The precision of Naive_Bayes_Classifier classifier is 0.8324\n",
            "The recall of Naive_Bayes_Classifier classifier is 0.9933\n",
            "The F1 Score of Naive_Bayes_Classifier classifier is 0.9058\n",
            "The accuracy of Word_List_Classifier classifier is 0.4833\n",
            "The precision of Word_List_Classifier classifier is 0.486\n",
            "The recall of Word_List_Classifier classifier is 0.58\n",
            "The F1 Score of Word_List_Classifier classifier is 0.5289\n",
            "The accuracy of Naive_Bayes_Classifier classifier is 0.8983\n",
            "The precision of Naive_Bayes_Classifier classifier is 0.831\n",
            "The recall of Naive_Bayes_Classifier classifier is 1.0\n",
            "The F1 Score of Naive_Bayes_Classifier classifier is 0.9077\n"
          ]
        },
        {
          "output_type": "display_data",
          "data": {
            "text/plain": [
              "                        0        1\n",
              "0    Word_List_Classifier  0.50532\n",
              "1  Naive_Bayes_Classifier  0.89868"
            ],
            "text/html": [
              "\n",
              "  <div id=\"df-8dc484d7-8d4e-4912-9a74-8e6de8965ec6\">\n",
              "    <div class=\"colab-df-container\">\n",
              "      <div>\n",
              "<style scoped>\n",
              "    .dataframe tbody tr th:only-of-type {\n",
              "        vertical-align: middle;\n",
              "    }\n",
              "\n",
              "    .dataframe tbody tr th {\n",
              "        vertical-align: top;\n",
              "    }\n",
              "\n",
              "    .dataframe thead th {\n",
              "        text-align: right;\n",
              "    }\n",
              "</style>\n",
              "<table border=\"1\" class=\"dataframe\">\n",
              "  <thead>\n",
              "    <tr style=\"text-align: right;\">\n",
              "      <th></th>\n",
              "      <th>0</th>\n",
              "      <th>1</th>\n",
              "    </tr>\n",
              "  </thead>\n",
              "  <tbody>\n",
              "    <tr>\n",
              "      <th>0</th>\n",
              "      <td>Word_List_Classifier</td>\n",
              "      <td>0.50532</td>\n",
              "    </tr>\n",
              "    <tr>\n",
              "      <th>1</th>\n",
              "      <td>Naive_Bayes_Classifier</td>\n",
              "      <td>0.89868</td>\n",
              "    </tr>\n",
              "  </tbody>\n",
              "</table>\n",
              "</div>\n",
              "      <button class=\"colab-df-convert\" onclick=\"convertToInteractive('df-8dc484d7-8d4e-4912-9a74-8e6de8965ec6')\"\n",
              "              title=\"Convert this dataframe to an interactive table.\"\n",
              "              style=\"display:none;\">\n",
              "        \n",
              "  <svg xmlns=\"http://www.w3.org/2000/svg\" height=\"24px\"viewBox=\"0 0 24 24\"\n",
              "       width=\"24px\">\n",
              "    <path d=\"M0 0h24v24H0V0z\" fill=\"none\"/>\n",
              "    <path d=\"M18.56 5.44l.94 2.06.94-2.06 2.06-.94-2.06-.94-.94-2.06-.94 2.06-2.06.94zm-11 1L8.5 8.5l.94-2.06 2.06-.94-2.06-.94L8.5 2.5l-.94 2.06-2.06.94zm10 10l.94 2.06.94-2.06 2.06-.94-2.06-.94-.94-2.06-.94 2.06-2.06.94z\"/><path d=\"M17.41 7.96l-1.37-1.37c-.4-.4-.92-.59-1.43-.59-.52 0-1.04.2-1.43.59L10.3 9.45l-7.72 7.72c-.78.78-.78 2.05 0 2.83L4 21.41c.39.39.9.59 1.41.59.51 0 1.02-.2 1.41-.59l7.78-7.78 2.81-2.81c.8-.78.8-2.07 0-2.86zM5.41 20L4 18.59l7.72-7.72 1.47 1.35L5.41 20z\"/>\n",
              "  </svg>\n",
              "      </button>\n",
              "      \n",
              "  <style>\n",
              "    .colab-df-container {\n",
              "      display:flex;\n",
              "      flex-wrap:wrap;\n",
              "      gap: 12px;\n",
              "    }\n",
              "\n",
              "    .colab-df-convert {\n",
              "      background-color: #E8F0FE;\n",
              "      border: none;\n",
              "      border-radius: 50%;\n",
              "      cursor: pointer;\n",
              "      display: none;\n",
              "      fill: #1967D2;\n",
              "      height: 32px;\n",
              "      padding: 0 0 0 0;\n",
              "      width: 32px;\n",
              "    }\n",
              "\n",
              "    .colab-df-convert:hover {\n",
              "      background-color: #E2EBFA;\n",
              "      box-shadow: 0px 1px 2px rgba(60, 64, 67, 0.3), 0px 1px 3px 1px rgba(60, 64, 67, 0.15);\n",
              "      fill: #174EA6;\n",
              "    }\n",
              "\n",
              "    [theme=dark] .colab-df-convert {\n",
              "      background-color: #3B4455;\n",
              "      fill: #D2E3FC;\n",
              "    }\n",
              "\n",
              "    [theme=dark] .colab-df-convert:hover {\n",
              "      background-color: #434B5C;\n",
              "      box-shadow: 0px 1px 3px 1px rgba(0, 0, 0, 0.15);\n",
              "      filter: drop-shadow(0px 1px 2px rgba(0, 0, 0, 0.3));\n",
              "      fill: #FFFFFF;\n",
              "    }\n",
              "  </style>\n",
              "\n",
              "      <script>\n",
              "        const buttonEl =\n",
              "          document.querySelector('#df-8dc484d7-8d4e-4912-9a74-8e6de8965ec6 button.colab-df-convert');\n",
              "        buttonEl.style.display =\n",
              "          google.colab.kernel.accessAllowed ? 'block' : 'none';\n",
              "\n",
              "        async function convertToInteractive(key) {\n",
              "          const element = document.querySelector('#df-8dc484d7-8d4e-4912-9a74-8e6de8965ec6');\n",
              "          const dataTable =\n",
              "            await google.colab.kernel.invokeFunction('convertToInteractive',\n",
              "                                                     [key], {});\n",
              "          if (!dataTable) return;\n",
              "\n",
              "          const docLinkHtml = 'Like what you see? Visit the ' +\n",
              "            '<a target=\"_blank\" href=https://colab.research.google.com/notebooks/data_table.ipynb>data table notebook</a>'\n",
              "            + ' to learn more about interactive tables.';\n",
              "          element.innerHTML = '';\n",
              "          dataTable['output_type'] = 'display_data';\n",
              "          await google.colab.output.renderOutput(dataTable, element);\n",
              "          const docLink = document.createElement('div');\n",
              "          docLink.innerHTML = docLinkHtml;\n",
              "          element.appendChild(docLink);\n",
              "        }\n",
              "      </script>\n",
              "    </div>\n",
              "  </div>\n",
              "  "
            ]
          },
          "metadata": {}
        },
        {
          "output_type": "stream",
          "name": "stdout",
          "text": [
            "Accuracy\n"
          ]
        },
        {
          "output_type": "display_data",
          "data": {
            "text/plain": [
              "                        0        1\n",
              "0    Word_List_Classifier  0.50454\n",
              "1  Naive_Bayes_Classifier  0.83356"
            ],
            "text/html": [
              "\n",
              "  <div id=\"df-ae7b5163-afdc-4abc-9af7-224d770a0e71\">\n",
              "    <div class=\"colab-df-container\">\n",
              "      <div>\n",
              "<style scoped>\n",
              "    .dataframe tbody tr th:only-of-type {\n",
              "        vertical-align: middle;\n",
              "    }\n",
              "\n",
              "    .dataframe tbody tr th {\n",
              "        vertical-align: top;\n",
              "    }\n",
              "\n",
              "    .dataframe thead th {\n",
              "        text-align: right;\n",
              "    }\n",
              "</style>\n",
              "<table border=\"1\" class=\"dataframe\">\n",
              "  <thead>\n",
              "    <tr style=\"text-align: right;\">\n",
              "      <th></th>\n",
              "      <th>0</th>\n",
              "      <th>1</th>\n",
              "    </tr>\n",
              "  </thead>\n",
              "  <tbody>\n",
              "    <tr>\n",
              "      <th>0</th>\n",
              "      <td>Word_List_Classifier</td>\n",
              "      <td>0.50454</td>\n",
              "    </tr>\n",
              "    <tr>\n",
              "      <th>1</th>\n",
              "      <td>Naive_Bayes_Classifier</td>\n",
              "      <td>0.83356</td>\n",
              "    </tr>\n",
              "  </tbody>\n",
              "</table>\n",
              "</div>\n",
              "      <button class=\"colab-df-convert\" onclick=\"convertToInteractive('df-ae7b5163-afdc-4abc-9af7-224d770a0e71')\"\n",
              "              title=\"Convert this dataframe to an interactive table.\"\n",
              "              style=\"display:none;\">\n",
              "        \n",
              "  <svg xmlns=\"http://www.w3.org/2000/svg\" height=\"24px\"viewBox=\"0 0 24 24\"\n",
              "       width=\"24px\">\n",
              "    <path d=\"M0 0h24v24H0V0z\" fill=\"none\"/>\n",
              "    <path d=\"M18.56 5.44l.94 2.06.94-2.06 2.06-.94-2.06-.94-.94-2.06-.94 2.06-2.06.94zm-11 1L8.5 8.5l.94-2.06 2.06-.94-2.06-.94L8.5 2.5l-.94 2.06-2.06.94zm10 10l.94 2.06.94-2.06 2.06-.94-2.06-.94-.94-2.06-.94 2.06-2.06.94z\"/><path d=\"M17.41 7.96l-1.37-1.37c-.4-.4-.92-.59-1.43-.59-.52 0-1.04.2-1.43.59L10.3 9.45l-7.72 7.72c-.78.78-.78 2.05 0 2.83L4 21.41c.39.39.9.59 1.41.59.51 0 1.02-.2 1.41-.59l7.78-7.78 2.81-2.81c.8-.78.8-2.07 0-2.86zM5.41 20L4 18.59l7.72-7.72 1.47 1.35L5.41 20z\"/>\n",
              "  </svg>\n",
              "      </button>\n",
              "      \n",
              "  <style>\n",
              "    .colab-df-container {\n",
              "      display:flex;\n",
              "      flex-wrap:wrap;\n",
              "      gap: 12px;\n",
              "    }\n",
              "\n",
              "    .colab-df-convert {\n",
              "      background-color: #E8F0FE;\n",
              "      border: none;\n",
              "      border-radius: 50%;\n",
              "      cursor: pointer;\n",
              "      display: none;\n",
              "      fill: #1967D2;\n",
              "      height: 32px;\n",
              "      padding: 0 0 0 0;\n",
              "      width: 32px;\n",
              "    }\n",
              "\n",
              "    .colab-df-convert:hover {\n",
              "      background-color: #E2EBFA;\n",
              "      box-shadow: 0px 1px 2px rgba(60, 64, 67, 0.3), 0px 1px 3px 1px rgba(60, 64, 67, 0.15);\n",
              "      fill: #174EA6;\n",
              "    }\n",
              "\n",
              "    [theme=dark] .colab-df-convert {\n",
              "      background-color: #3B4455;\n",
              "      fill: #D2E3FC;\n",
              "    }\n",
              "\n",
              "    [theme=dark] .colab-df-convert:hover {\n",
              "      background-color: #434B5C;\n",
              "      box-shadow: 0px 1px 3px 1px rgba(0, 0, 0, 0.15);\n",
              "      filter: drop-shadow(0px 1px 2px rgba(0, 0, 0, 0.3));\n",
              "      fill: #FFFFFF;\n",
              "    }\n",
              "  </style>\n",
              "\n",
              "      <script>\n",
              "        const buttonEl =\n",
              "          document.querySelector('#df-ae7b5163-afdc-4abc-9af7-224d770a0e71 button.colab-df-convert');\n",
              "        buttonEl.style.display =\n",
              "          google.colab.kernel.accessAllowed ? 'block' : 'none';\n",
              "\n",
              "        async function convertToInteractive(key) {\n",
              "          const element = document.querySelector('#df-ae7b5163-afdc-4abc-9af7-224d770a0e71');\n",
              "          const dataTable =\n",
              "            await google.colab.kernel.invokeFunction('convertToInteractive',\n",
              "                                                     [key], {});\n",
              "          if (!dataTable) return;\n",
              "\n",
              "          const docLinkHtml = 'Like what you see? Visit the ' +\n",
              "            '<a target=\"_blank\" href=https://colab.research.google.com/notebooks/data_table.ipynb>data table notebook</a>'\n",
              "            + ' to learn more about interactive tables.';\n",
              "          element.innerHTML = '';\n",
              "          dataTable['output_type'] = 'display_data';\n",
              "          await google.colab.output.renderOutput(dataTable, element);\n",
              "          const docLink = document.createElement('div');\n",
              "          docLink.innerHTML = docLinkHtml;\n",
              "          element.appendChild(docLink);\n",
              "        }\n",
              "      </script>\n",
              "    </div>\n",
              "  </div>\n",
              "  "
            ]
          },
          "metadata": {}
        },
        {
          "output_type": "stream",
          "name": "stdout",
          "text": [
            "Precision\n"
          ]
        },
        {
          "output_type": "display_data",
          "data": {
            "text/plain": [
              "                        0        1\n",
              "0    Word_List_Classifier  0.58466\n",
              "1  Naive_Bayes_Classifier  0.99666"
            ],
            "text/html": [
              "\n",
              "  <div id=\"df-953e4443-985c-4179-ad6b-eab1e195ef44\">\n",
              "    <div class=\"colab-df-container\">\n",
              "      <div>\n",
              "<style scoped>\n",
              "    .dataframe tbody tr th:only-of-type {\n",
              "        vertical-align: middle;\n",
              "    }\n",
              "\n",
              "    .dataframe tbody tr th {\n",
              "        vertical-align: top;\n",
              "    }\n",
              "\n",
              "    .dataframe thead th {\n",
              "        text-align: right;\n",
              "    }\n",
              "</style>\n",
              "<table border=\"1\" class=\"dataframe\">\n",
              "  <thead>\n",
              "    <tr style=\"text-align: right;\">\n",
              "      <th></th>\n",
              "      <th>0</th>\n",
              "      <th>1</th>\n",
              "    </tr>\n",
              "  </thead>\n",
              "  <tbody>\n",
              "    <tr>\n",
              "      <th>0</th>\n",
              "      <td>Word_List_Classifier</td>\n",
              "      <td>0.58466</td>\n",
              "    </tr>\n",
              "    <tr>\n",
              "      <th>1</th>\n",
              "      <td>Naive_Bayes_Classifier</td>\n",
              "      <td>0.99666</td>\n",
              "    </tr>\n",
              "  </tbody>\n",
              "</table>\n",
              "</div>\n",
              "      <button class=\"colab-df-convert\" onclick=\"convertToInteractive('df-953e4443-985c-4179-ad6b-eab1e195ef44')\"\n",
              "              title=\"Convert this dataframe to an interactive table.\"\n",
              "              style=\"display:none;\">\n",
              "        \n",
              "  <svg xmlns=\"http://www.w3.org/2000/svg\" height=\"24px\"viewBox=\"0 0 24 24\"\n",
              "       width=\"24px\">\n",
              "    <path d=\"M0 0h24v24H0V0z\" fill=\"none\"/>\n",
              "    <path d=\"M18.56 5.44l.94 2.06.94-2.06 2.06-.94-2.06-.94-.94-2.06-.94 2.06-2.06.94zm-11 1L8.5 8.5l.94-2.06 2.06-.94-2.06-.94L8.5 2.5l-.94 2.06-2.06.94zm10 10l.94 2.06.94-2.06 2.06-.94-2.06-.94-.94-2.06-.94 2.06-2.06.94z\"/><path d=\"M17.41 7.96l-1.37-1.37c-.4-.4-.92-.59-1.43-.59-.52 0-1.04.2-1.43.59L10.3 9.45l-7.72 7.72c-.78.78-.78 2.05 0 2.83L4 21.41c.39.39.9.59 1.41.59.51 0 1.02-.2 1.41-.59l7.78-7.78 2.81-2.81c.8-.78.8-2.07 0-2.86zM5.41 20L4 18.59l7.72-7.72 1.47 1.35L5.41 20z\"/>\n",
              "  </svg>\n",
              "      </button>\n",
              "      \n",
              "  <style>\n",
              "    .colab-df-container {\n",
              "      display:flex;\n",
              "      flex-wrap:wrap;\n",
              "      gap: 12px;\n",
              "    }\n",
              "\n",
              "    .colab-df-convert {\n",
              "      background-color: #E8F0FE;\n",
              "      border: none;\n",
              "      border-radius: 50%;\n",
              "      cursor: pointer;\n",
              "      display: none;\n",
              "      fill: #1967D2;\n",
              "      height: 32px;\n",
              "      padding: 0 0 0 0;\n",
              "      width: 32px;\n",
              "    }\n",
              "\n",
              "    .colab-df-convert:hover {\n",
              "      background-color: #E2EBFA;\n",
              "      box-shadow: 0px 1px 2px rgba(60, 64, 67, 0.3), 0px 1px 3px 1px rgba(60, 64, 67, 0.15);\n",
              "      fill: #174EA6;\n",
              "    }\n",
              "\n",
              "    [theme=dark] .colab-df-convert {\n",
              "      background-color: #3B4455;\n",
              "      fill: #D2E3FC;\n",
              "    }\n",
              "\n",
              "    [theme=dark] .colab-df-convert:hover {\n",
              "      background-color: #434B5C;\n",
              "      box-shadow: 0px 1px 3px 1px rgba(0, 0, 0, 0.15);\n",
              "      filter: drop-shadow(0px 1px 2px rgba(0, 0, 0, 0.3));\n",
              "      fill: #FFFFFF;\n",
              "    }\n",
              "  </style>\n",
              "\n",
              "      <script>\n",
              "        const buttonEl =\n",
              "          document.querySelector('#df-953e4443-985c-4179-ad6b-eab1e195ef44 button.colab-df-convert');\n",
              "        buttonEl.style.display =\n",
              "          google.colab.kernel.accessAllowed ? 'block' : 'none';\n",
              "\n",
              "        async function convertToInteractive(key) {\n",
              "          const element = document.querySelector('#df-953e4443-985c-4179-ad6b-eab1e195ef44');\n",
              "          const dataTable =\n",
              "            await google.colab.kernel.invokeFunction('convertToInteractive',\n",
              "                                                     [key], {});\n",
              "          if (!dataTable) return;\n",
              "\n",
              "          const docLinkHtml = 'Like what you see? Visit the ' +\n",
              "            '<a target=\"_blank\" href=https://colab.research.google.com/notebooks/data_table.ipynb>data table notebook</a>'\n",
              "            + ' to learn more about interactive tables.';\n",
              "          element.innerHTML = '';\n",
              "          dataTable['output_type'] = 'display_data';\n",
              "          await google.colab.output.renderOutput(dataTable, element);\n",
              "          const docLink = document.createElement('div');\n",
              "          docLink.innerHTML = docLinkHtml;\n",
              "          element.appendChild(docLink);\n",
              "        }\n",
              "      </script>\n",
              "    </div>\n",
              "  </div>\n",
              "  "
            ]
          },
          "metadata": {}
        },
        {
          "output_type": "stream",
          "name": "stdout",
          "text": [
            "Recall\n"
          ]
        },
        {
          "output_type": "display_data",
          "data": {
            "text/plain": [
              "                        0        1\n",
              "0    Word_List_Classifier  0.54152\n",
              "1  Naive_Bayes_Classifier  0.90780"
            ],
            "text/html": [
              "\n",
              "  <div id=\"df-3e7d4bf1-004d-4fd2-82e5-529cc74d3737\">\n",
              "    <div class=\"colab-df-container\">\n",
              "      <div>\n",
              "<style scoped>\n",
              "    .dataframe tbody tr th:only-of-type {\n",
              "        vertical-align: middle;\n",
              "    }\n",
              "\n",
              "    .dataframe tbody tr th {\n",
              "        vertical-align: top;\n",
              "    }\n",
              "\n",
              "    .dataframe thead th {\n",
              "        text-align: right;\n",
              "    }\n",
              "</style>\n",
              "<table border=\"1\" class=\"dataframe\">\n",
              "  <thead>\n",
              "    <tr style=\"text-align: right;\">\n",
              "      <th></th>\n",
              "      <th>0</th>\n",
              "      <th>1</th>\n",
              "    </tr>\n",
              "  </thead>\n",
              "  <tbody>\n",
              "    <tr>\n",
              "      <th>0</th>\n",
              "      <td>Word_List_Classifier</td>\n",
              "      <td>0.54152</td>\n",
              "    </tr>\n",
              "    <tr>\n",
              "      <th>1</th>\n",
              "      <td>Naive_Bayes_Classifier</td>\n",
              "      <td>0.90780</td>\n",
              "    </tr>\n",
              "  </tbody>\n",
              "</table>\n",
              "</div>\n",
              "      <button class=\"colab-df-convert\" onclick=\"convertToInteractive('df-3e7d4bf1-004d-4fd2-82e5-529cc74d3737')\"\n",
              "              title=\"Convert this dataframe to an interactive table.\"\n",
              "              style=\"display:none;\">\n",
              "        \n",
              "  <svg xmlns=\"http://www.w3.org/2000/svg\" height=\"24px\"viewBox=\"0 0 24 24\"\n",
              "       width=\"24px\">\n",
              "    <path d=\"M0 0h24v24H0V0z\" fill=\"none\"/>\n",
              "    <path d=\"M18.56 5.44l.94 2.06.94-2.06 2.06-.94-2.06-.94-.94-2.06-.94 2.06-2.06.94zm-11 1L8.5 8.5l.94-2.06 2.06-.94-2.06-.94L8.5 2.5l-.94 2.06-2.06.94zm10 10l.94 2.06.94-2.06 2.06-.94-2.06-.94-.94-2.06-.94 2.06-2.06.94z\"/><path d=\"M17.41 7.96l-1.37-1.37c-.4-.4-.92-.59-1.43-.59-.52 0-1.04.2-1.43.59L10.3 9.45l-7.72 7.72c-.78.78-.78 2.05 0 2.83L4 21.41c.39.39.9.59 1.41.59.51 0 1.02-.2 1.41-.59l7.78-7.78 2.81-2.81c.8-.78.8-2.07 0-2.86zM5.41 20L4 18.59l7.72-7.72 1.47 1.35L5.41 20z\"/>\n",
              "  </svg>\n",
              "      </button>\n",
              "      \n",
              "  <style>\n",
              "    .colab-df-container {\n",
              "      display:flex;\n",
              "      flex-wrap:wrap;\n",
              "      gap: 12px;\n",
              "    }\n",
              "\n",
              "    .colab-df-convert {\n",
              "      background-color: #E8F0FE;\n",
              "      border: none;\n",
              "      border-radius: 50%;\n",
              "      cursor: pointer;\n",
              "      display: none;\n",
              "      fill: #1967D2;\n",
              "      height: 32px;\n",
              "      padding: 0 0 0 0;\n",
              "      width: 32px;\n",
              "    }\n",
              "\n",
              "    .colab-df-convert:hover {\n",
              "      background-color: #E2EBFA;\n",
              "      box-shadow: 0px 1px 2px rgba(60, 64, 67, 0.3), 0px 1px 3px 1px rgba(60, 64, 67, 0.15);\n",
              "      fill: #174EA6;\n",
              "    }\n",
              "\n",
              "    [theme=dark] .colab-df-convert {\n",
              "      background-color: #3B4455;\n",
              "      fill: #D2E3FC;\n",
              "    }\n",
              "\n",
              "    [theme=dark] .colab-df-convert:hover {\n",
              "      background-color: #434B5C;\n",
              "      box-shadow: 0px 1px 3px 1px rgba(0, 0, 0, 0.15);\n",
              "      filter: drop-shadow(0px 1px 2px rgba(0, 0, 0, 0.3));\n",
              "      fill: #FFFFFF;\n",
              "    }\n",
              "  </style>\n",
              "\n",
              "      <script>\n",
              "        const buttonEl =\n",
              "          document.querySelector('#df-3e7d4bf1-004d-4fd2-82e5-529cc74d3737 button.colab-df-convert');\n",
              "        buttonEl.style.display =\n",
              "          google.colab.kernel.accessAllowed ? 'block' : 'none';\n",
              "\n",
              "        async function convertToInteractive(key) {\n",
              "          const element = document.querySelector('#df-3e7d4bf1-004d-4fd2-82e5-529cc74d3737');\n",
              "          const dataTable =\n",
              "            await google.colab.kernel.invokeFunction('convertToInteractive',\n",
              "                                                     [key], {});\n",
              "          if (!dataTable) return;\n",
              "\n",
              "          const docLinkHtml = 'Like what you see? Visit the ' +\n",
              "            '<a target=\"_blank\" href=https://colab.research.google.com/notebooks/data_table.ipynb>data table notebook</a>'\n",
              "            + ' to learn more about interactive tables.';\n",
              "          element.innerHTML = '';\n",
              "          dataTable['output_type'] = 'display_data';\n",
              "          await google.colab.output.renderOutput(dataTable, element);\n",
              "          const docLink = document.createElement('div');\n",
              "          docLink.innerHTML = docLinkHtml;\n",
              "          element.appendChild(docLink);\n",
              "        }\n",
              "      </script>\n",
              "    </div>\n",
              "  </div>\n",
              "  "
            ]
          },
          "metadata": {}
        },
        {
          "output_type": "stream",
          "name": "stdout",
          "text": [
            "F1 Score\n"
          ]
        },
        {
          "output_type": "execute_result",
          "data": {
            "text/plain": [
              "(0.0, 1.0)"
            ]
          },
          "metadata": {},
          "execution_count": 25
        },
        {
          "output_type": "display_data",
          "data": {
            "text/plain": [
              "<Figure size 432x288 with 1 Axes>"
            ],
            "image/png": "[encoded data removed]"
          },
          "metadata": {
            "needs_background": "light"
          }
        },
        {
          "output_type": "display_data",
          "data": {
            "text/plain": [
              "<Figure size 432x288 with 1 Axes>"
            ],
            "image/png": "[encoded data removed]"
          },
          "metadata": {
            "needs_background": "light"
          }
        },
        {
          "output_type": "display_data",
          "data": {
            "text/plain": [
              "<Figure size 432x288 with 1 Axes>"
            ],
            "image/png": "[encoded data removed]"
          },
          "metadata": {
            "needs_background": "light"
          }
        },
        {
          "output_type": "display_data",
          "data": {
            "text/plain": [
              "<Figure size 432x288 with 1 Axes>"
            ],
            "image/png": "[encoded data removed]"
          },
          "metadata": {
            "needs_background": "light"
          }
        }
      ]
    },
    {
      "cell_type": "markdown",
      "metadata": {
        "id": "bytPkuHf2XUO"
      },
      "source": [
        "**Explanation:**\n",
        "\n",
        "We have first constructed naive bayes classifier with the help of NLTK and calculated its performance metrics.\n",
        "\n",
        "To compare our word list classifier and Naive Bayes Classifier we take the average of all the performance metrics for both the classifier where number_of_runs is taken as 5.So that in case if machine is busy in some other task it will not impact the average performance of classifier and its metric score. We then pass the normalized data to the classifiers and then train and test the results for Word Based Classifier and Naive Bayes Classifier.\n",
        "\n",
        "For both the classifier we calculate the performance metrics and store in the results ditionary related to that performance metrics.\n",
        "\n",
        "With the help of pandas.df.plot.bar function we plot the average of performance metrics for both the classifiers.\n",
        "\n",
        "We can clearly see that Naive Bayes Classifier is better than our Word_List_Classifier in all the performance metrics (Accuracy, Precision, Recall, F1 Score)."
      ]
    },
    {
      "cell_type": "markdown",
      "metadata": {
        "id": "LGDXaVDqOSfY"
      },
      "source": [
        "5)\n",
        "a) Design and **carry out an experiment** into the impact of the **length of the wordlists** on the wordlist classifier.  Make sure you **describe** design decisions in your experiment, include a **graph** of your results and **discuss** your conclusions.\n",
        "\n",
        "b) Would you **recommend** a wordlist classifier or a Naive Bayes classifier for future work in this area?  **Justify** your answer.\n"
      ]
    },
    {
      "cell_type": "markdown",
      "metadata": {
        "id": "Ym-TGvYS2XUR"
      },
      "source": [
        "# **5)a)**"
      ]
    },
    {
      "cell_type": "code",
      "execution_count": null,
      "metadata": {
        "id": "PtqCcG6wPsmf",
        "colab": {
          "base_uri": "https://localhost:8080/"
        },
        "outputId": "0bb222f9-2e1e-4c04-c708-1710fdb8dccd"
      },
      "outputs": [
        {
          "output_type": "stream",
          "name": "stdout",
          "text": [
            "results {5: {'Word_List_MF': 0.49134}, 100: {'Word_List_MF': 0.49402}, 200: {'Word_List_MF': 0.48597999999999997}, 300: {'Word_List_MF': 0.49363999999999997}, 500: {'Word_List_MF': 0.49634}, 600: {'Word_List_MF': 0.50002}}\n"
          ]
        }
      ],
      "source": [
        "from random import sample\n",
        "\n",
        "sample_sizes_for_classifier=[5,100,200,300,500,600]\n",
        "results={}\n",
        "\n",
        "classifier_name={\"Word_List_MF\":Word_list_cf(wordlist_pos_reviews,wordlist_neg_reviews)}\n",
        "\n",
        "for size in sample_sizes_for_classifier:\n",
        "    short_result={}\n",
        "\n",
        "    for i in range(number_of_runs):\n",
        "        training,testing=get_train_test_data()\n",
        "        training_norm_data=[(FreqDist(normalise_and_remove_stopwords(wordlist)),label) for (wordlist,label) in training]\n",
        "        testing_norm_data=[(FreqDist(normalise_and_remove_stopwords(wordlist)),label) for (wordlist,label) in testing]\n",
        "        docs,labels=zip(*testing_norm_data)\n",
        "        positive_training=[(doc,label) for (doc,label) in training_norm_data if label==\"pos\"]\n",
        "        negative_training=[(doc,label) for (doc,label) in training_norm_data if label==\"neg\"]\n",
        "\n",
        "        training_sample=sample(positive_training,size)+sample(negative_training,size)\n",
        "        for name,classifier in classifier_name.items():\n",
        "            cm=CalculateConfusionMatrix(classifier.classify_many(docs),labels)\n",
        "            accuracy=cm.calculate_accuracy()\n",
        "            short_result[name]=short_result.get(name,0)+accuracy/number_of_runs\n",
        "    results[size]=short_result\n",
        "\n",
        "\n",
        "print(\"results\",results)"
      ]
    },
    {
      "cell_type": "code",
      "source": [
        "Word_List_MF_results=pd.DataFrame(results)\n",
        "Word_List_MF_results=Word_List_MF_results.transpose()\n",
        "Word_List_MF_results"
      ],
      "metadata": {
        "colab": {
          "base_uri": "https://localhost:8080/",
          "height": 237
        },
        "id": "tknQsktX1ZUN",
        "outputId": "3466f5a2-a160-4afe-e7fa-9f977fa8f21e"
      },
      "execution_count": null,
      "outputs": [
        {
          "output_type": "execute_result",
          "data": {
            "text/plain": [
              "     Word_List_MF\n",
              "5         0.49134\n",
              "100       0.49402\n",
              "200       0.48598\n",
              "300       0.49364\n",
              "500       0.49634\n",
              "600       0.50002"
            ],
            "text/html": [
              "\n",
              "  <div id=\"df-93aa1af8-d72d-4ba1-958b-ed0e53ba74ba\">\n",
              "    <div class=\"colab-df-container\">\n",
              "      <div>\n",
              "<style scoped>\n",
              "    .dataframe tbody tr th:only-of-type {\n",
              "        vertical-align: middle;\n",
              "    }\n",
              "\n",
              "    .dataframe tbody tr th {\n",
              "        vertical-align: top;\n",
              "    }\n",
              "\n",
              "    .dataframe thead th {\n",
              "        text-align: right;\n",
              "    }\n",
              "</style>\n",
              "<table border=\"1\" class=\"dataframe\">\n",
              "  <thead>\n",
              "    <tr style=\"text-align: right;\">\n",
              "      <th></th>\n",
              "      <th>Word_List_MF</th>\n",
              "    </tr>\n",
              "  </thead>\n",
              "  <tbody>\n",
              "    <tr>\n",
              "      <th>5</th>\n",
              "      <td>0.49134</td>\n",
              "    </tr>\n",
              "    <tr>\n",
              "      <th>100</th>\n",
              "      <td>0.49402</td>\n",
              "    </tr>\n",
              "    <tr>\n",
              "      <th>200</th>\n",
              "      <td>0.48598</td>\n",
              "    </tr>\n",
              "    <tr>\n",
              "      <th>300</th>\n",
              "      <td>0.49364</td>\n",
              "    </tr>\n",
              "    <tr>\n",
              "      <th>500</th>\n",
              "      <td>0.49634</td>\n",
              "    </tr>\n",
              "    <tr>\n",
              "      <th>600</th>\n",
              "      <td>0.50002</td>\n",
              "    </tr>\n",
              "  </tbody>\n",
              "</table>\n",
              "</div>\n",
              "      <button class=\"colab-df-convert\" onclick=\"convertToInteractive('df-93aa1af8-d72d-4ba1-958b-ed0e53ba74ba')\"\n",
              "              title=\"Convert this dataframe to an interactive table.\"\n",
              "              style=\"display:none;\">\n",
              "        \n",
              "  <svg xmlns=\"http://www.w3.org/2000/svg\" height=\"24px\"viewBox=\"0 0 24 24\"\n",
              "       width=\"24px\">\n",
              "    <path d=\"M0 0h24v24H0V0z\" fill=\"none\"/>\n",
              "    <path d=\"M18.56 5.44l.94 2.06.94-2.06 2.06-.94-2.06-.94-.94-2.06-.94 2.06-2.06.94zm-11 1L8.5 8.5l.94-2.06 2.06-.94-2.06-.94L8.5 2.5l-.94 2.06-2.06.94zm10 10l.94 2.06.94-2.06 2.06-.94-2.06-.94-.94-2.06-.94 2.06-2.06.94z\"/><path d=\"M17.41 7.96l-1.37-1.37c-.4-.4-.92-.59-1.43-.59-.52 0-1.04.2-1.43.59L10.3 9.45l-7.72 7.72c-.78.78-.78 2.05 0 2.83L4 21.41c.39.39.9.59 1.41.59.51 0 1.02-.2 1.41-.59l7.78-7.78 2.81-2.81c.8-.78.8-2.07 0-2.86zM5.41 20L4 18.59l7.72-7.72 1.47 1.35L5.41 20z\"/>\n",
              "  </svg>\n",
              "      </button>\n",
              "      \n",
              "  <style>\n",
              "    .colab-df-container {\n",
              "      display:flex;\n",
              "      flex-wrap:wrap;\n",
              "      gap: 12px;\n",
              "    }\n",
              "\n",
              "    .colab-df-convert {\n",
              "      background-color: #E8F0FE;\n",
              "      border: none;\n",
              "      border-radius: 50%;\n",
              "      cursor: pointer;\n",
              "      display: none;\n",
              "      fill: #1967D2;\n",
              "      height: 32px;\n",
              "      padding: 0 0 0 0;\n",
              "      width: 32px;\n",
              "    }\n",
              "\n",
              "    .colab-df-convert:hover {\n",
              "      background-color: #E2EBFA;\n",
              "      box-shadow: 0px 1px 2px rgba(60, 64, 67, 0.3), 0px 1px 3px 1px rgba(60, 64, 67, 0.15);\n",
              "      fill: #174EA6;\n",
              "    }\n",
              "\n",
              "    [theme=dark] .colab-df-convert {\n",
              "      background-color: #3B4455;\n",
              "      fill: #D2E3FC;\n",
              "    }\n",
              "\n",
              "    [theme=dark] .colab-df-convert:hover {\n",
              "      background-color: #434B5C;\n",
              "      box-shadow: 0px 1px 3px 1px rgba(0, 0, 0, 0.15);\n",
              "      filter: drop-shadow(0px 1px 2px rgba(0, 0, 0, 0.3));\n",
              "      fill: #FFFFFF;\n",
              "    }\n",
              "  </style>\n",
              "\n",
              "      <script>\n",
              "        const buttonEl =\n",
              "          document.querySelector('#df-93aa1af8-d72d-4ba1-958b-ed0e53ba74ba button.colab-df-convert');\n",
              "        buttonEl.style.display =\n",
              "          google.colab.kernel.accessAllowed ? 'block' : 'none';\n",
              "\n",
              "        async function convertToInteractive(key) {\n",
              "          const element = document.querySelector('#df-93aa1af8-d72d-4ba1-958b-ed0e53ba74ba');\n",
              "          const dataTable =\n",
              "            await google.colab.kernel.invokeFunction('convertToInteractive',\n",
              "                                                     [key], {});\n",
              "          if (!dataTable) return;\n",
              "\n",
              "          const docLinkHtml = 'Like what you see? Visit the ' +\n",
              "            '<a target=\"_blank\" href=https://colab.research.google.com/notebooks/data_table.ipynb>data table notebook</a>'\n",
              "            + ' to learn more about interactive tables.';\n",
              "          element.innerHTML = '';\n",
              "          dataTable['output_type'] = 'display_data';\n",
              "          await google.colab.output.renderOutput(dataTable, element);\n",
              "          const docLink = document.createElement('div');\n",
              "          docLink.innerHTML = docLinkHtml;\n",
              "          element.appendChild(docLink);\n",
              "        }\n",
              "      </script>\n",
              "    </div>\n",
              "  </div>\n",
              "  "
            ]
          },
          "metadata": {},
          "execution_count": 27
        }
      ]
    },
    {
      "cell_type": "code",
      "source": [
        "set_ax1 = Word_List_MF_results.plot(kind=\"line\",title=\"Experimental Results\")\n",
        "set_ax1.set_ylabel(\"Accuracy\")\n",
        "set_ax1.set_xlabel(\"Sample Size\")"
      ],
      "metadata": {
        "colab": {
          "base_uri": "https://localhost:8080/",
          "height": 312
        },
        "id": "c-kxpyOj2ebv",
        "outputId": "758738bf-497a-463f-85d1-088d4f0ee02e"
      },
      "execution_count": null,
      "outputs": [
        {
          "output_type": "execute_result",
          "data": {
            "text/plain": [
              "Text(0.5, 0, 'Sample Size')"
            ]
          },
          "metadata": {},
          "execution_count": 28
        },
        {
          "output_type": "display_data",
          "data": {
            "text/plain": [
              "<Figure size 432x288 with 1 Axes>"
            ],
            "image/png": "[encoded data removed]"
          },
          "metadata": {
            "needs_background": "light"
          }
        }
      ]
    },
    {
      "cell_type": "markdown",
      "source": [
        "**Explanation:**\n",
        "We run our word list based classifier on different sample sizes as 5,100,200,300,500,600 and use the get_train_test_data function to split tarining and testing data. Before passing the data to classifier we normalize our data that is convert all words to lowercase, remove stop words and consider only aplphabetic words and finally apply FreqDist too get the count of each document. After this we split testing documents and labell and train our classifier on training_normalized data and calculate the accuracy of our classifier for each size and store the result in results dictionary.\n",
        "\n",
        "We plot the graph for accuracy of our classifier versus different sample sizes."
      ],
      "metadata": {
        "id": "lI7qSs9e74Jj"
      }
    },
    {
      "cell_type": "markdown",
      "source": [
        "**Conclusion from Graph:**\n",
        "The graph shows that increasing training data generally help up until a certain point 200.Performance even seems to decrease after this point.There is a drop in the word list classifier results around 500, possibly because we are over-fitting the test set because certain words are introduced or removed.\n",
        "\n",
        ""
      ],
      "metadata": {
        "id": "FjsbNFCevfB3"
      }
    },
    {
      "cell_type": "code",
      "source": [],
      "metadata": {
        "id": "MbNh_dPmGmRo"
      },
      "execution_count": null,
      "outputs": []
    },
    {
      "cell_type": "markdown",
      "source": [
        "# **5)b)**"
      ],
      "metadata": {
        "id": "fu3lpIPEvbr3"
      }
    },
    {
      "cell_type": "markdown",
      "source": [
        "**Explanation:**\n",
        "\n",
        "I will recommend the Naive Bayes Classifier instead of Word List based classifier because it far better than the word list based classifier. we have created Word List Based classifier on a very simple logic whereas in case of Naive Bayes it is based on conditional probability model of classification.\n",
        "\n",
        "Formula for Bayes optimal rule is:\n",
        "It involves calculating the conditional probability of one outcome given another outcome, using the inverse of this relationship, stated as follows:\n",
        "\n",
        "             P(A | B) = (P(B | A) * P(A)) / P(B)\n",
        "\n",
        "Naive Bayes handles both continuous and discrete data.In terms of predictors and data points it is highly scalable. Also, it is really fast and can be used to make predictions in real-time .\n",
        "\n",
        "\n"
      ],
      "metadata": {
        "id": "tl3pTMD-41nW"
      }
    },
    {
      "cell_type": "markdown",
      "source": [
        "# **References:**"
      ],
      "metadata": {
        "id": "BusX4mJVYWgZ"
      }
    },
    {
      "cell_type": "markdown",
      "source": [
        "1)Exsilio Blog. (2016). Accuracy, Precision, Recall & F1 Score: Interpretation of Performance Measures. [online] Available at: https://blog.exsilio.com/all/accuracy-precision-recall-f1-score-interpretation-of-performance-measures/#:~:text=F1%20score%20%2D%20F1%20Score%20is.\n",
        "\n",
        "2) www.turing.com. (n.d.). Precision Recall Method - Outcome for your ML Model. [online] Available at: https://www.turing.com/kb/precision-recall-method [Accessed 10 Nov. 2022].\n",
        "\n",
        "‌3)Simplilearn.com. (n.d.). Naive Bayes Classifier - Machine Learning [Updated] | Simplilearn. [online] Available at: https://www.simplilearn.com/tutorials/machine-learning-tutorial/naive-bayes-classifier#:~:text=Advantages%20of%20Naive%20Bayes%20Classifier&text=It%20doesn.\n",
        "\n"
      ],
      "metadata": {
        "id": "OfrCRLzzYS0B"
      }
    }
  ],
  "metadata": {
    "colab": {
      "provenance": []
    },
    "kernelspec": {
      "display_name": "Python 3",
      "language": "python",
      "name": "python3"
    },
    "language_info": {
      "codemirror_mode": {
        "name": "ipython",
        "version": 3
      },
      "file_extension": ".py",
      "mimetype": "text/x-python",
      "name": "python",
      "nbconvert_exporter": "python",
      "pygments_lexer": "ipython3",
      "version": "3.7.4"
    }
  },
  "nbformat": 4,
  "nbformat_minor": 0
}